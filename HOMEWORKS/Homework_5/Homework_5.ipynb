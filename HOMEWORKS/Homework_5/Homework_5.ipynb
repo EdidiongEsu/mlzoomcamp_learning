{
 "cells": [
  {
   "cell_type": "markdown",
   "id": "395e96e7",
   "metadata": {},
   "source": [
    "# Question 1\n",
    "Install Pipenv\n",
    "What's the version of pipenv you installed?\n",
    "Use --version to find out"
   ]
  },
  {
   "cell_type": "code",
   "execution_count": 2,
   "id": "755aec0e",
   "metadata": {},
   "outputs": [
    {
     "name": "stdout",
     "output_type": "stream",
     "text": [
      "pipenv, version 2022.10.12\n",
      "\n"
     ]
    }
   ],
   "source": [
    "!pipenv --version"
   ]
  },
  {
   "cell_type": "code",
   "execution_count": null,
   "id": "ec820b26",
   "metadata": {},
   "outputs": [],
   "source": []
  }
 ],
 "metadata": {
  "kernelspec": {
   "display_name": "Python [conda env:root] *",
   "language": "python",
   "name": "conda-root-py"
  },
  "language_info": {
   "codemirror_mode": {
    "name": "ipython",
    "version": 3
   },
   "file_extension": ".py",
   "mimetype": "text/x-python",
   "name": "python",
   "nbconvert_exporter": "python",
   "pygments_lexer": "ipython3",
   "version": "3.8.12"
  }
 },
 "nbformat": 4,
 "nbformat_minor": 5
}
