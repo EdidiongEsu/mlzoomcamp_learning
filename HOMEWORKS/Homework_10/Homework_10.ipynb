{
 "cells": [
  {
   "cell_type": "code",
   "execution_count": null,
   "metadata": {},
   "outputs": [],
   "source": []
  }
 ],
 "metadata": {
  "kernelspec": {
   "display_name": "Python 3.9.13 ('mlzoomcamp')",
   "language": "python",
   "name": "python3"
  },
  "language_info": {
   "name": "python",
   "version": "3.9.13 (main, Oct 13 2022, 21:23:06) [MSC v.1916 64 bit (AMD64)]"
  },
  "orig_nbformat": 4,
  "vscode": {
   "interpreter": {
    "hash": "04991a59b3f49cf77dca564ecbfd30f134a61577276cacfa744b948dcd52f91f"
   }
  }
 },
 "nbformat": 4,
 "nbformat_minor": 2
}
