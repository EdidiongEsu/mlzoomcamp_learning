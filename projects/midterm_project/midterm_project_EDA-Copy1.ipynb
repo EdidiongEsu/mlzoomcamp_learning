{
 "cells": [
  {
   "cell_type": "markdown",
   "id": "8ce2efad",
   "metadata": {},
   "source": [
    "# Predicting Job change of data scientists"
   ]
  },
  {
   "cell_type": "markdown",
   "id": "9f7fcb70",
   "metadata": {},
   "source": [
    "## Loading the dataset and Packages"
   ]
  },
  {
   "cell_type": "code",
   "execution_count": 1,
   "id": "1d6fc839",
   "metadata": {
    "ExecuteTime": {
     "end_time": "2022-11-08T16:01:28.366140Z",
     "start_time": "2022-11-08T16:01:23.286188Z"
    }
   },
   "outputs": [],
   "source": [
    "import pandas as pd\n",
    "import numpy as np\n",
    "import matplotlib.pyplot as plt\n",
    "import seaborn as sns\n",
    "\n",
    "%matplotlib inline\n",
    "\n",
    "from sklearn.model_selection import train_test_split\n",
    "from sklearn.feature_extraction import DictVectorizer\n",
    "from sklearn.metrics import auc\n",
    "from sklearn.metrics import roc_auc_score\n",
    "from sklearn.tree import DecisionTreeClassifier\n",
    "\n",
    "import bentoml"
   ]
  },
  {
   "cell_type": "code",
   "execution_count": 2,
   "id": "47a06888",
   "metadata": {
    "ExecuteTime": {
     "end_time": "2022-11-08T16:01:28.648398Z",
     "start_time": "2022-11-08T16:01:28.371142Z"
    }
   },
   "outputs": [],
   "source": [
    "df = pd.read_csv(\"Data/churn.csv\")"
   ]
  },
  {
   "cell_type": "code",
   "execution_count": 3,
   "id": "28da9e29",
   "metadata": {
    "ExecuteTime": {
     "end_time": "2022-11-08T16:01:28.806163Z",
     "start_time": "2022-11-08T16:01:28.650400Z"
    }
   },
   "outputs": [
    {
     "name": "stdout",
     "output_type": "stream",
     "text": [
      "<class 'pandas.core.frame.DataFrame'>\n",
      "RangeIndex: 36992 entries, 0 to 36991\n",
      "Data columns (total 20 columns):\n",
      " #   Column                        Non-Null Count  Dtype  \n",
      "---  ------                        --------------  -----  \n",
      " 0   age                           36992 non-null  int64  \n",
      " 1   gender                        36992 non-null  object \n",
      " 2   region_category               31564 non-null  object \n",
      " 3   membership_category           36992 non-null  object \n",
      " 4   joined_through_referral       36992 non-null  object \n",
      " 5   preferred_offer_types         36704 non-null  object \n",
      " 6   medium_of_operation           36992 non-null  object \n",
      " 7   internet_option               36992 non-null  object \n",
      " 8   last_visit_time               36992 non-null  object \n",
      " 9   days_since_last_login         36992 non-null  int64  \n",
      " 10  avg_time_spent                36992 non-null  float64\n",
      " 11  avg_transaction_value         36992 non-null  float64\n",
      " 12  avg_frequency_login_days      36992 non-null  object \n",
      " 13  points_in_wallet              33549 non-null  float64\n",
      " 14  used_special_discount         36992 non-null  object \n",
      " 15  offer_application_preference  36992 non-null  object \n",
      " 16  past_complaint                36992 non-null  object \n",
      " 17  complaint_status              36992 non-null  object \n",
      " 18  feedback                      36992 non-null  object \n",
      " 19  churn_risk_score              36992 non-null  int64  \n",
      "dtypes: float64(3), int64(3), object(14)\n",
      "memory usage: 5.6+ MB\n"
     ]
    }
   ],
   "source": [
    "## Unnamed:0 has to be dropped, security_number (unique values), joining date (we don't know the date\n",
    "## data was published.),  \n",
    "df = df.drop(columns=[\"Unnamed: 0\", \"referral_id\", \"security_no\", \"joining_date\"])\n"
   ]
  },
  {
   "cell_type": "markdown",
   "id": "804b6f91",
   "metadata": {},
   "source": [
    "### Categorical and Numerical Columns"
   ]
  },
  {
   "cell_type": "code",
   "execution_count": 4,
   "id": "07efa443",
   "metadata": {
    "ExecuteTime": {
     "end_time": "2022-11-08T16:01:28.822214Z",
     "start_time": "2022-11-08T16:01:28.811164Z"
    }
   },
   "outputs": [],
   "source": [
    "categorical_columns = list(df.dtypes[df.dtypes == \"object\"].index)\n",
    "numerical_columns = [col for col in df.columns if col not in categorical_columns and col != 'churn_risk_score']"
   ]
  },
  {
   "cell_type": "code",
   "execution_count": 5,
   "id": "08932c72",
   "metadata": {
    "ExecuteTime": {
     "end_time": "2022-11-08T16:01:29.356522Z",
     "start_time": "2022-11-08T16:01:28.825751Z"
    }
   },
   "outputs": [],
   "source": [
    "###cleaning up spaces in categorical varibles\n",
    "for col in categorical_columns:\n",
    "    df[col] = df[col].str.lower().str.replace(\" \", \"_\")"
   ]
  },
  {
   "cell_type": "markdown",
   "id": "8888bd6f",
   "metadata": {},
   "source": [
    "### Missing and Unknown Values"
   ]
  },
  {
   "cell_type": "markdown",
   "id": "6b2d627a",
   "metadata": {},
   "source": [
    "#### Cleaning up `Unknown` datapoints"
   ]
  },
  {
   "cell_type": "code",
   "execution_count": 6,
   "id": "1d457460",
   "metadata": {
    "ExecuteTime": {
     "end_time": "2022-11-08T16:01:29.465442Z",
     "start_time": "2022-11-08T16:01:29.359523Z"
    }
   },
   "outputs": [],
   "source": [
    "low_cat = []\n",
    "for col in categorical_columns :\n",
    "    if df[col].nunique() < 20:\n",
    "        low_cat.append(col)"
   ]
  },
  {
   "cell_type": "markdown",
   "id": "da3a144d",
   "metadata": {},
   "source": [
    "*joined_through_referral and medium_of_operation have ? in their values*"
   ]
  },
  {
   "cell_type": "markdown",
   "id": "6ccd4d05",
   "metadata": {},
   "source": [
    "The question mark will be changed to Null Values"
   ]
  },
  {
   "cell_type": "code",
   "execution_count": 7,
   "id": "2e028493",
   "metadata": {
    "ExecuteTime": {
     "end_time": "2022-11-08T16:01:29.497082Z",
     "start_time": "2022-11-08T16:01:29.470441Z"
    }
   },
   "outputs": [],
   "source": [
    "for col in ['medium_of_operation', 'joined_through_referral']:\n",
    "    df[col] = df[col].replace('?', np.NaN)"
   ]
  },
  {
   "cell_type": "markdown",
   "id": "d971c588",
   "metadata": {
    "ExecuteTime": {
     "end_time": "2022-11-02T03:11:23.037792Z",
     "start_time": "2022-11-02T03:11:23.025845Z"
    }
   },
   "source": [
    "<b>`Gender`<b>"
   ]
  },
  {
   "cell_type": "markdown",
   "id": "3621f2d9",
   "metadata": {},
   "source": [
    "Unknown will bereplaced with Null values"
   ]
  },
  {
   "cell_type": "code",
   "execution_count": 8,
   "id": "41aba07c",
   "metadata": {
    "ExecuteTime": {
     "end_time": "2022-11-08T16:01:29.527911Z",
     "start_time": "2022-11-08T16:01:29.504412Z"
    }
   },
   "outputs": [],
   "source": [
    "df[\"gender\"]=df[\"gender\"].replace(\"unknown\", np.NaN)"
   ]
  },
  {
   "cell_type": "markdown",
   "id": "f9a8acd1",
   "metadata": {},
   "source": [
    "<b>`days_since_last_login`<b>"
   ]
  },
  {
   "cell_type": "markdown",
   "id": "91df746a",
   "metadata": {},
   "source": [
    "-999 looks weird so that will be changed to a null value"
   ]
  },
  {
   "cell_type": "code",
   "execution_count": 9,
   "id": "5b8708f5",
   "metadata": {
    "ExecuteTime": {
     "end_time": "2022-11-08T16:01:29.543961Z",
     "start_time": "2022-11-08T16:01:29.533447Z"
    }
   },
   "outputs": [],
   "source": [
    "df[\"days_since_last_login\"]=df[\"days_since_last_login\"].replace(-999, np.NaN)"
   ]
  },
  {
   "cell_type": "markdown",
   "id": "08c84cfa",
   "metadata": {},
   "source": [
    "<b>`Average time spent` and `Points in Wallet`<b>"
   ]
  },
  {
   "cell_type": "markdown",
   "id": "cc891e5a",
   "metadata": {},
   "source": [
    "There are values lower than 0 in the both columns which does not make sense based on data context"
   ]
  },
  {
   "cell_type": "code",
   "execution_count": 12,
   "id": "0df0a1fa",
   "metadata": {
    "ExecuteTime": {
     "end_time": "2022-11-08T16:01:31.818589Z",
     "start_time": "2022-11-08T16:01:31.783698Z"
    }
   },
   "outputs": [],
   "source": [
    "for col in ['avg_time_spent', 'points_in_wallet']:\n",
    "    df[col]=df[col].apply(lambda x:x if x>=0 else np.nan)"
   ]
  },
  {
   "cell_type": "markdown",
   "id": "ff9b7c5f",
   "metadata": {},
   "source": [
    "<b>`Average Frequency Login days`<b>"
   ]
  },
  {
   "cell_type": "code",
   "execution_count": 13,
   "id": "02c1c8c3",
   "metadata": {
    "ExecuteTime": {
     "end_time": "2022-11-08T16:01:32.255262Z",
     "start_time": "2022-11-08T16:01:32.213734Z"
    }
   },
   "outputs": [],
   "source": [
    "df['avg_frequency_login_days']=df['avg_frequency_login_days'].apply(lambda x:x if x!='error' else -1)\n",
    "df['avg_frequency_login_days']=df['avg_frequency_login_days'].astype('float')\n",
    "df['avg_frequency_login_days']=df['avg_frequency_login_days'].apply(lambda x:x if x>=0 else np.nan)"
   ]
  },
  {
   "cell_type": "code",
   "execution_count": 14,
   "id": "22f73b0a",
   "metadata": {
    "ExecuteTime": {
     "end_time": "2022-11-08T16:01:32.660960Z",
     "start_time": "2022-11-08T16:01:32.644405Z"
    }
   },
   "outputs": [],
   "source": [
    "df[\"avg_frequency_login_days\"]= pd.to_numeric(df[\"avg_frequency_login_days\"], \n",
    "                                             errors='coerce')\n",
    "\n"
   ]
  },
  {
   "cell_type": "code",
   "execution_count": 15,
   "id": "01502801",
   "metadata": {
    "ExecuteTime": {
     "end_time": "2022-11-08T16:01:34.226506Z",
     "start_time": "2022-11-08T16:01:34.206574Z"
    }
   },
   "outputs": [],
   "source": [
    "categorical_columns = list(df.dtypes[df.dtypes == \"object\"].index)\n",
    "numerical_columns = [col for col in df.columns if col not in categorical_columns and col != 'churn_risk_score']"
   ]
  },
  {
   "cell_type": "code",
   "execution_count": 16,
   "id": "3ab39dd2",
   "metadata": {
    "ExecuteTime": {
     "end_time": "2022-11-08T16:01:35.782519Z",
     "start_time": "2022-11-08T16:01:35.762813Z"
    }
   },
   "outputs": [],
   "source": [
    "for feature in numerical_columns:\n",
    "    df[feature]= pd.to_numeric(df[feature], errors='coerce')"
   ]
  },
  {
   "cell_type": "markdown",
   "id": "097ec6a6",
   "metadata": {},
   "source": [
    "## Separate dataset into train and test"
   ]
  },
  {
   "cell_type": "markdown",
   "id": "7dc234c0",
   "metadata": {},
   "source": [
    "Best on practice, We have to split our dataset to Separate dataset into train and test. It is important to separate our data intro training and testing set.\n",
    "\n",
    "Before we engineer features, some techniques learn parameters from data. It is important to learn these parameters only from the train set. This is to avoid over-fitting."
   ]
  },
  {
   "cell_type": "code",
   "execution_count": 17,
   "id": "962e19d5",
   "metadata": {
    "ExecuteTime": {
     "end_time": "2022-11-08T16:01:36.407800Z",
     "start_time": "2022-11-08T16:01:36.326782Z"
    }
   },
   "outputs": [],
   "source": [
    "df_full_train, df_test = train_test_split(df, test_size=0.2, random_state=1)\n",
    "df_train, df_val = train_test_split(df_full_train, test_size=0.25, random_state=1)"
   ]
  },
  {
   "cell_type": "code",
   "execution_count": 18,
   "id": "32c8bec4",
   "metadata": {
    "ExecuteTime": {
     "end_time": "2022-11-08T16:01:36.549001Z",
     "start_time": "2022-11-08T16:01:36.517751Z"
    }
   },
   "outputs": [],
   "source": [
    "df_train = df_train.reset_index(drop=True)\n",
    "df_val = df_val.reset_index(drop=True)\n",
    "df_test = df_test.reset_index(drop=True)\n"
   ]
  },
  {
   "cell_type": "code",
   "execution_count": 19,
   "id": "99615beb",
   "metadata": {
    "ExecuteTime": {
     "end_time": "2022-11-08T16:01:36.704374Z",
     "start_time": "2022-11-08T16:01:36.686317Z"
    }
   },
   "outputs": [],
   "source": [
    "y_train = df_train.churn_risk_score\n",
    "y_val = df_val.churn_risk_score\n",
    "y_test = df_test.churn_risk_score"
   ]
  },
  {
   "cell_type": "code",
   "execution_count": 20,
   "id": "80c846ce",
   "metadata": {
    "ExecuteTime": {
     "end_time": "2022-11-08T16:01:37.063490Z",
     "start_time": "2022-11-08T16:01:37.052152Z"
    }
   },
   "outputs": [],
   "source": [
    "del df_train [\"churn_risk_score\"]\n",
    "del df_val [\"churn_risk_score\"]\n",
    "del df_test[\"churn_risk_score\"]"
   ]
  },
  {
   "cell_type": "code",
   "execution_count": null,
   "id": "341d3139",
   "metadata": {},
   "outputs": [],
   "source": []
  },
  {
   "cell_type": "code",
   "execution_count": null,
   "id": "47899885",
   "metadata": {},
   "outputs": [],
   "source": []
  },
  {
   "cell_type": "markdown",
   "id": "b169ae9d",
   "metadata": {},
   "source": [
    "## Feature Engineering"
   ]
  },
  {
   "cell_type": "markdown",
   "id": "0b4a5416",
   "metadata": {},
   "source": [
    "Feature engineering involves changing or manipulating data in columns of data. Splitting before engineering in avoids over fitting."
   ]
  },
  {
   "cell_type": "markdown",
   "id": "0ea1973b",
   "metadata": {},
   "source": [
    "### Replacing Null Values"
   ]
  },
  {
   "cell_type": "markdown",
   "id": "c098fb9a",
   "metadata": {},
   "source": [
    "<b>`Categorical columns with missing data`<b>"
   ]
  },
  {
   "cell_type": "code",
   "execution_count": 21,
   "id": "72c2885a",
   "metadata": {
    "ExecuteTime": {
     "end_time": "2022-11-08T16:01:40.118549Z",
     "start_time": "2022-11-08T16:01:40.065428Z"
    }
   },
   "outputs": [],
   "source": [
    "cat_col_na = [col for col in categorical_columns\n",
    "             if df[col].isnull().sum() > 0]"
   ]
  },
  {
   "cell_type": "code",
   "execution_count": 22,
   "id": "7a2f0333",
   "metadata": {
    "ExecuteTime": {
     "end_time": "2022-11-08T16:01:40.275711Z",
     "start_time": "2022-11-08T16:01:40.246447Z"
    }
   },
   "outputs": [],
   "source": [
    "# variables to impute with the string missing\n",
    "with_string_missing = [\n",
    "    col for col in cat_col_na if df[col].isnull().mean() > 0.1]\n",
    "\n",
    "# variables to impute with the most frequent category\n",
    "with_frequent_category = [\n",
    "    col for col in cat_col_na if df[col].isnull().mean() < 0.1]"
   ]
  },
  {
   "cell_type": "code",
   "execution_count": 23,
   "id": "410c5736",
   "metadata": {
    "ExecuteTime": {
     "end_time": "2022-11-08T16:01:40.633589Z",
     "start_time": "2022-11-08T16:01:40.448196Z"
    }
   },
   "outputs": [],
   "source": [
    "# replace missing values with new label: \"Missing\"\n",
    "\n",
    "df_full_train[with_string_missing] = df_full_train[with_string_missing].fillna('missing')\n",
    "df_train[with_string_missing] = df_train[with_string_missing].fillna('missing')\n",
    "df_val[with_string_missing] = df_val[with_string_missing].fillna('missing')\n",
    "df_test[with_string_missing] = df_test[with_string_missing].fillna('missing')\n"
   ]
  },
  {
   "cell_type": "code",
   "execution_count": 24,
   "id": "efdf9e5d",
   "metadata": {
    "ExecuteTime": {
     "end_time": "2022-11-08T16:01:40.712490Z",
     "start_time": "2022-11-08T16:01:40.661318Z"
    }
   },
   "outputs": [],
   "source": [
    "## Mode is only gotten from training dataset. Replace with the mode (first value) if there are multiple modes\n",
    "\n",
    "for col in with_frequent_category:\n",
    "    \n",
    "    mode = df_train[col].mode()[0]\n",
    "    \n",
    "    df_full_train[col].fillna(mode, inplace=True)\n",
    "    df_train[col].fillna(mode, inplace=True)\n",
    "    df_val[col].fillna(mode, inplace=True)\n",
    "    df_test[col].fillna(mode, inplace=True)\n"
   ]
  },
  {
   "cell_type": "markdown",
   "id": "49cfbf6d",
   "metadata": {},
   "source": [
    "<b>`Numerical columns with missing data`<b>"
   ]
  },
  {
   "cell_type": "code",
   "execution_count": 25,
   "id": "93ef10e3",
   "metadata": {
    "ExecuteTime": {
     "end_time": "2022-11-08T16:01:41.615220Z",
     "start_time": "2022-11-08T16:01:41.595149Z"
    }
   },
   "outputs": [],
   "source": [
    "num_with_na = [col for col in numerical_columns \n",
    "               if df[col].isnull().sum() > 0]"
   ]
  },
  {
   "cell_type": "code",
   "execution_count": 26,
   "id": "75f0b72f",
   "metadata": {
    "ExecuteTime": {
     "end_time": "2022-11-08T16:01:41.817509Z",
     "start_time": "2022-11-08T16:01:41.783933Z"
    }
   },
   "outputs": [],
   "source": [
    "for col in numerical_columns:\n",
    "    \n",
    "    median = df_train[col].median()\n",
    "    \n",
    "    df_full_train[col].fillna(median, inplace=True)\n",
    "    df_train[col].fillna(median, inplace=True)\n",
    "    df_val[col].fillna(median, inplace=True)\n",
    "    df_test[col].fillna(median, inplace=True)"
   ]
  },
  {
   "cell_type": "markdown",
   "id": "553594c8",
   "metadata": {},
   "source": [
    "## Using the best model - Decision Tree"
   ]
  },
  {
   "cell_type": "markdown",
   "id": "17884a36",
   "metadata": {},
   "source": [
    "The project_EDA file contains comparing the different models that can be used. The best was picked and is used here as the model."
   ]
  },
  {
   "cell_type": "markdown",
   "id": "4dcb7c8d",
   "metadata": {},
   "source": [
    "### Training the model"
   ]
  },
  {
   "cell_type": "code",
   "execution_count": 30,
   "id": "c517f249",
   "metadata": {
    "ExecuteTime": {
     "end_time": "2022-11-08T16:03:19.632590Z",
     "start_time": "2022-11-08T16:02:07.257461Z"
    }
   },
   "outputs": [
    {
     "data": {
      "text/html": [
       "<style>#sk-container-id-2 {color: black;background-color: white;}#sk-container-id-2 pre{padding: 0;}#sk-container-id-2 div.sk-toggleable {background-color: white;}#sk-container-id-2 label.sk-toggleable__label {cursor: pointer;display: block;width: 100%;margin-bottom: 0;padding: 0.3em;box-sizing: border-box;text-align: center;}#sk-container-id-2 label.sk-toggleable__label-arrow:before {content: \"▸\";float: left;margin-right: 0.25em;color: #696969;}#sk-container-id-2 label.sk-toggleable__label-arrow:hover:before {color: black;}#sk-container-id-2 div.sk-estimator:hover label.sk-toggleable__label-arrow:before {color: black;}#sk-container-id-2 div.sk-toggleable__content {max-height: 0;max-width: 0;overflow: hidden;text-align: left;background-color: #f0f8ff;}#sk-container-id-2 div.sk-toggleable__content pre {margin: 0.2em;color: black;border-radius: 0.25em;background-color: #f0f8ff;}#sk-container-id-2 input.sk-toggleable__control:checked~div.sk-toggleable__content {max-height: 200px;max-width: 100%;overflow: auto;}#sk-container-id-2 input.sk-toggleable__control:checked~label.sk-toggleable__label-arrow:before {content: \"▾\";}#sk-container-id-2 div.sk-estimator input.sk-toggleable__control:checked~label.sk-toggleable__label {background-color: #d4ebff;}#sk-container-id-2 div.sk-label input.sk-toggleable__control:checked~label.sk-toggleable__label {background-color: #d4ebff;}#sk-container-id-2 input.sk-hidden--visually {border: 0;clip: rect(1px 1px 1px 1px);clip: rect(1px, 1px, 1px, 1px);height: 1px;margin: -1px;overflow: hidden;padding: 0;position: absolute;width: 1px;}#sk-container-id-2 div.sk-estimator {font-family: monospace;background-color: #f0f8ff;border: 1px dotted black;border-radius: 0.25em;box-sizing: border-box;margin-bottom: 0.5em;}#sk-container-id-2 div.sk-estimator:hover {background-color: #d4ebff;}#sk-container-id-2 div.sk-parallel-item::after {content: \"\";width: 100%;border-bottom: 1px solid gray;flex-grow: 1;}#sk-container-id-2 div.sk-label:hover label.sk-toggleable__label {background-color: #d4ebff;}#sk-container-id-2 div.sk-serial::before {content: \"\";position: absolute;border-left: 1px solid gray;box-sizing: border-box;top: 0;bottom: 0;left: 50%;z-index: 0;}#sk-container-id-2 div.sk-serial {display: flex;flex-direction: column;align-items: center;background-color: white;padding-right: 0.2em;padding-left: 0.2em;position: relative;}#sk-container-id-2 div.sk-item {position: relative;z-index: 1;}#sk-container-id-2 div.sk-parallel {display: flex;align-items: stretch;justify-content: center;background-color: white;position: relative;}#sk-container-id-2 div.sk-item::before, #sk-container-id-2 div.sk-parallel-item::before {content: \"\";position: absolute;border-left: 1px solid gray;box-sizing: border-box;top: 0;bottom: 0;left: 50%;z-index: -1;}#sk-container-id-2 div.sk-parallel-item {display: flex;flex-direction: column;z-index: 1;position: relative;background-color: white;}#sk-container-id-2 div.sk-parallel-item:first-child::after {align-self: flex-end;width: 50%;}#sk-container-id-2 div.sk-parallel-item:last-child::after {align-self: flex-start;width: 50%;}#sk-container-id-2 div.sk-parallel-item:only-child::after {width: 0;}#sk-container-id-2 div.sk-dashed-wrapped {border: 1px dashed gray;margin: 0 0.4em 0.5em 0.4em;box-sizing: border-box;padding-bottom: 0.4em;background-color: white;}#sk-container-id-2 div.sk-label label {font-family: monospace;font-weight: bold;display: inline-block;line-height: 1.2em;}#sk-container-id-2 div.sk-label-container {text-align: center;}#sk-container-id-2 div.sk-container {/* jupyter's `normalize.less` sets `[hidden] { display: none; }` but bootstrap.min.css set `[hidden] { display: none !important; }` so we also need the `!important` here to be able to override the default hidden behavior on the sphinx rendered scikit-learn.org. See: https://github.com/scikit-learn/scikit-learn/issues/21755 */display: inline-block !important;position: relative;}#sk-container-id-2 div.sk-text-repr-fallback {display: none;}</style><div id=\"sk-container-id-2\" class=\"sk-top-container\"><div class=\"sk-text-repr-fallback\"><pre>DecisionTreeClassifier(max_depth=5)</pre><b>In a Jupyter environment, please rerun this cell to show the HTML representation or trust the notebook. <br />On GitHub, the HTML representation is unable to render, please try loading this page with nbviewer.org.</b></div><div class=\"sk-container\" hidden><div class=\"sk-item\"><div class=\"sk-estimator sk-toggleable\"><input class=\"sk-toggleable__control sk-hidden--visually\" id=\"sk-estimator-id-2\" type=\"checkbox\" checked><label for=\"sk-estimator-id-2\" class=\"sk-toggleable__label sk-toggleable__label-arrow\">DecisionTreeClassifier</label><div class=\"sk-toggleable__content\"><pre>DecisionTreeClassifier(max_depth=5)</pre></div></div></div></div></div>"
      ],
      "text/plain": [
       "DecisionTreeClassifier(max_depth=5)"
      ]
     },
     "execution_count": 30,
     "metadata": {},
     "output_type": "execute_result"
    }
   ],
   "source": [
    "dt = DecisionTreeClassifier(max_depth=5)\n",
    "dt.fit(X_train, y_train)"
   ]
  },
  {
   "cell_type": "markdown",
   "id": "c14386b7",
   "metadata": {},
   "source": [
    "## BENTOML"
   ]
  },
  {
   "cell_type": "code",
   "execution_count": 140,
   "id": "61acff77",
   "metadata": {
    "ExecuteTime": {
     "end_time": "2022-11-06T09:43:10.247564Z",
     "start_time": "2022-11-06T09:43:08.626695Z"
    }
   },
   "outputs": [],
   "source": [
    "# `save` a given classifier and retrieve coresponding tag:\n",
    "tag = bentoml.sklearn.save_model('decision_tree', dt, \n",
    "                                 custom_objects = {\n",
    "                                     \"dictVectorizer\":dv\n",
    "                                 }, signatures={\n",
    "                                    \"predict_proba\":{\n",
    "                                        \"batchable\": True,\n",
    "                                        \"batch_dim\": 0\n",
    "                                    }})"
   ]
  },
  {
   "cell_type": "code",
   "execution_count": 141,
   "id": "b6fc27c7",
   "metadata": {
    "ExecuteTime": {
     "end_time": "2022-11-06T09:43:11.243114Z",
     "start_time": "2022-11-06T09:43:11.220372Z"
    }
   },
   "outputs": [
    {
     "data": {
      "text/plain": [
       "Model(tag=\"decision_tree:no7cy7s5w6cpvshc\", path=\"C:\\Users\\eddye\\bentoml\\models\\decision_tree\\no7cy7s5w6cpvshc\\\")"
      ]
     },
     "execution_count": 141,
     "metadata": {},
     "output_type": "execute_result"
    }
   ],
   "source": [
    "print(tag)"
   ]
  },
  {
   "cell_type": "code",
   "execution_count": null,
   "id": "c585d1c9",
   "metadata": {},
   "outputs": [],
   "source": []
  }
 ],
 "metadata": {
  "kernelspec": {
   "display_name": "Python 3 (ipykernel)",
   "language": "python",
   "name": "python3"
  },
  "language_info": {
   "codemirror_mode": {
    "name": "ipython",
    "version": 3
   },
   "file_extension": ".py",
   "mimetype": "text/x-python",
   "name": "python",
   "nbconvert_exporter": "python",
   "pygments_lexer": "ipython3",
   "version": "3.9.13"
  },
  "toc": {
   "base_numbering": 1,
   "nav_menu": {
    "height": "17px",
    "width": "244px"
   },
   "number_sections": true,
   "sideBar": true,
   "skip_h1_title": false,
   "title_cell": "Table of Contents",
   "title_sidebar": "Contents",
   "toc_cell": false,
   "toc_position": {
    "height": "calc(100% - 180px)",
    "left": "10px",
    "top": "150px",
    "width": "359px"
   },
   "toc_section_display": true,
   "toc_window_display": true
  }
 },
 "nbformat": 4,
 "nbformat_minor": 5
}
