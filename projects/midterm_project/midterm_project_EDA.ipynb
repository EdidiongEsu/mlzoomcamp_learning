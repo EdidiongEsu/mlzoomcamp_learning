{
 "cells": [
  {
   "cell_type": "markdown",
   "id": "8ce2efad",
   "metadata": {},
   "source": [
    "# Predicting churn in marketing"
   ]
  },
  {
   "cell_type": "markdown",
   "id": "21ec0233",
   "metadata": {},
   "source": [
    "Source of data: https://www.kaggle.com/datasets/undersc0re/predict-the-churn-risk-rate"
   ]
  },
  {
   "cell_type": "code",
   "execution_count": null,
   "id": "2effa997",
   "metadata": {},
   "outputs": [],
   "source": [
    "                                                                                                                                                                                                          "
   ]
  },
  {
   "cell_type": "markdown",
   "id": "9f7fcb70",
   "metadata": {},
   "source": [
    "## Loading the dataset and Packages"
   ]
  },
  {
   "cell_type": "code",
   "execution_count": 1,
   "id": "1d6fc839",
   "metadata": {
    "ExecuteTime": {
     "end_time": "2022-11-10T11:50:39.332459Z",
     "start_time": "2022-11-10T11:50:35.920169Z"
    }
   },
   "outputs": [],
   "source": [
    "import pandas as pd\n",
    "import numpy as np\n",
    "import matplotlib.pyplot as plt\n",
    "import seaborn as sns\n",
    "\n",
    "%matplotlib inline\n",
    "\n",
    "from sklearn.impute import KNNImputer\n",
    "from sklearn.model_selection import train_test_split\n",
    "from sklearn.feature_extraction import DictVectorizer\n",
    "from sklearn.linear_model import LogisticRegression\n",
    "from sklearn.metrics import auc\n",
    "from sklearn.metrics import roc_auc_score\n",
    "from sklearn.tree import DecisionTreeClassifier\n",
    "from sklearn.tree import export_text\n",
    "from sklearn.ensemble import RandomForestClassifier\n",
    "import xgboost as xgb\n",
    "\n",
    "from sklearn.metrics import mutual_info_score"
   ]
  },
  {
   "cell_type": "code",
   "execution_count": 2,
   "id": "47a06888",
   "metadata": {
    "ExecuteTime": {
     "end_time": "2022-11-10T11:50:39.523770Z",
     "start_time": "2022-11-10T11:50:39.334459Z"
    }
   },
   "outputs": [],
   "source": [
    "df = pd.read_csv(\"Data/churn.csv\")"
   ]
  },
  {
   "cell_type": "markdown",
   "id": "91feebd4",
   "metadata": {},
   "source": [
    "## Experimental Data Analysis"
   ]
  },
  {
   "cell_type": "code",
   "execution_count": 3,
   "id": "ff13af14",
   "metadata": {
    "ExecuteTime": {
     "end_time": "2022-11-10T11:50:39.539791Z",
     "start_time": "2022-11-10T11:50:39.528754Z"
    }
   },
   "outputs": [
    {
     "name": "stdout",
     "output_type": "stream",
     "text": [
      "(36992, 24)\n"
     ]
    }
   ],
   "source": [
    "print(df.shape)"
   ]
  },
  {
   "cell_type": "code",
   "execution_count": 4,
   "id": "abdd07bc",
   "metadata": {
    "ExecuteTime": {
     "end_time": "2022-11-10T11:50:39.587338Z",
     "start_time": "2022-11-10T11:50:39.542278Z"
    }
   },
   "outputs": [
    {
     "data": {
      "text/html": [
       "<div>\n",
       "<style scoped>\n",
       "    .dataframe tbody tr th:only-of-type {\n",
       "        vertical-align: middle;\n",
       "    }\n",
       "\n",
       "    .dataframe tbody tr th {\n",
       "        vertical-align: top;\n",
       "    }\n",
       "\n",
       "    .dataframe thead th {\n",
       "        text-align: right;\n",
       "    }\n",
       "</style>\n",
       "<table border=\"1\" class=\"dataframe\">\n",
       "  <thead>\n",
       "    <tr style=\"text-align: right;\">\n",
       "      <th></th>\n",
       "      <th>Unnamed: 0</th>\n",
       "      <th>age</th>\n",
       "      <th>gender</th>\n",
       "      <th>security_no</th>\n",
       "      <th>region_category</th>\n",
       "      <th>membership_category</th>\n",
       "      <th>joining_date</th>\n",
       "      <th>joined_through_referral</th>\n",
       "      <th>referral_id</th>\n",
       "      <th>preferred_offer_types</th>\n",
       "      <th>...</th>\n",
       "      <th>avg_time_spent</th>\n",
       "      <th>avg_transaction_value</th>\n",
       "      <th>avg_frequency_login_days</th>\n",
       "      <th>points_in_wallet</th>\n",
       "      <th>used_special_discount</th>\n",
       "      <th>offer_application_preference</th>\n",
       "      <th>past_complaint</th>\n",
       "      <th>complaint_status</th>\n",
       "      <th>feedback</th>\n",
       "      <th>churn_risk_score</th>\n",
       "    </tr>\n",
       "  </thead>\n",
       "  <tbody>\n",
       "    <tr>\n",
       "      <th>0</th>\n",
       "      <td>0</td>\n",
       "      <td>18</td>\n",
       "      <td>F</td>\n",
       "      <td>XW0DQ7H</td>\n",
       "      <td>Village</td>\n",
       "      <td>Platinum Membership</td>\n",
       "      <td>2017-08-17</td>\n",
       "      <td>No</td>\n",
       "      <td>xxxxxxxx</td>\n",
       "      <td>Gift Vouchers/Coupons</td>\n",
       "      <td>...</td>\n",
       "      <td>300.63</td>\n",
       "      <td>53005.25</td>\n",
       "      <td>17.0</td>\n",
       "      <td>781.75</td>\n",
       "      <td>Yes</td>\n",
       "      <td>Yes</td>\n",
       "      <td>No</td>\n",
       "      <td>Not Applicable</td>\n",
       "      <td>Products always in Stock</td>\n",
       "      <td>0</td>\n",
       "    </tr>\n",
       "    <tr>\n",
       "      <th>1</th>\n",
       "      <td>1</td>\n",
       "      <td>32</td>\n",
       "      <td>F</td>\n",
       "      <td>5K0N3X1</td>\n",
       "      <td>City</td>\n",
       "      <td>Premium Membership</td>\n",
       "      <td>2017-08-28</td>\n",
       "      <td>?</td>\n",
       "      <td>CID21329</td>\n",
       "      <td>Gift Vouchers/Coupons</td>\n",
       "      <td>...</td>\n",
       "      <td>306.34</td>\n",
       "      <td>12838.38</td>\n",
       "      <td>10.0</td>\n",
       "      <td>NaN</td>\n",
       "      <td>Yes</td>\n",
       "      <td>No</td>\n",
       "      <td>Yes</td>\n",
       "      <td>Solved</td>\n",
       "      <td>Quality Customer Care</td>\n",
       "      <td>0</td>\n",
       "    </tr>\n",
       "    <tr>\n",
       "      <th>2</th>\n",
       "      <td>2</td>\n",
       "      <td>44</td>\n",
       "      <td>F</td>\n",
       "      <td>1F2TCL3</td>\n",
       "      <td>Town</td>\n",
       "      <td>No Membership</td>\n",
       "      <td>2016-11-11</td>\n",
       "      <td>Yes</td>\n",
       "      <td>CID12313</td>\n",
       "      <td>Gift Vouchers/Coupons</td>\n",
       "      <td>...</td>\n",
       "      <td>516.16</td>\n",
       "      <td>21027.00</td>\n",
       "      <td>22.0</td>\n",
       "      <td>500.69</td>\n",
       "      <td>No</td>\n",
       "      <td>Yes</td>\n",
       "      <td>Yes</td>\n",
       "      <td>Solved in Follow-up</td>\n",
       "      <td>Poor Website</td>\n",
       "      <td>1</td>\n",
       "    </tr>\n",
       "    <tr>\n",
       "      <th>3</th>\n",
       "      <td>3</td>\n",
       "      <td>37</td>\n",
       "      <td>M</td>\n",
       "      <td>VJGJ33N</td>\n",
       "      <td>City</td>\n",
       "      <td>No Membership</td>\n",
       "      <td>2016-10-29</td>\n",
       "      <td>Yes</td>\n",
       "      <td>CID3793</td>\n",
       "      <td>Gift Vouchers/Coupons</td>\n",
       "      <td>...</td>\n",
       "      <td>53.27</td>\n",
       "      <td>25239.56</td>\n",
       "      <td>6.0</td>\n",
       "      <td>567.66</td>\n",
       "      <td>No</td>\n",
       "      <td>Yes</td>\n",
       "      <td>Yes</td>\n",
       "      <td>Unsolved</td>\n",
       "      <td>Poor Website</td>\n",
       "      <td>1</td>\n",
       "    </tr>\n",
       "    <tr>\n",
       "      <th>4</th>\n",
       "      <td>4</td>\n",
       "      <td>31</td>\n",
       "      <td>F</td>\n",
       "      <td>SVZXCWB</td>\n",
       "      <td>City</td>\n",
       "      <td>No Membership</td>\n",
       "      <td>2017-09-12</td>\n",
       "      <td>No</td>\n",
       "      <td>xxxxxxxx</td>\n",
       "      <td>Credit/Debit Card Offers</td>\n",
       "      <td>...</td>\n",
       "      <td>113.13</td>\n",
       "      <td>24483.66</td>\n",
       "      <td>16.0</td>\n",
       "      <td>663.06</td>\n",
       "      <td>No</td>\n",
       "      <td>Yes</td>\n",
       "      <td>Yes</td>\n",
       "      <td>Solved</td>\n",
       "      <td>Poor Website</td>\n",
       "      <td>1</td>\n",
       "    </tr>\n",
       "  </tbody>\n",
       "</table>\n",
       "<p>5 rows × 24 columns</p>\n",
       "</div>"
      ],
      "text/plain": [
       "   Unnamed: 0  age gender security_no region_category  membership_category  \\\n",
       "0           0   18      F     XW0DQ7H         Village  Platinum Membership   \n",
       "1           1   32      F     5K0N3X1            City   Premium Membership   \n",
       "2           2   44      F     1F2TCL3            Town        No Membership   \n",
       "3           3   37      M     VJGJ33N            City        No Membership   \n",
       "4           4   31      F     SVZXCWB            City        No Membership   \n",
       "\n",
       "  joining_date joined_through_referral referral_id     preferred_offer_types  \\\n",
       "0   2017-08-17                      No    xxxxxxxx     Gift Vouchers/Coupons   \n",
       "1   2017-08-28                       ?    CID21329     Gift Vouchers/Coupons   \n",
       "2   2016-11-11                     Yes    CID12313     Gift Vouchers/Coupons   \n",
       "3   2016-10-29                     Yes     CID3793     Gift Vouchers/Coupons   \n",
       "4   2017-09-12                      No    xxxxxxxx  Credit/Debit Card Offers   \n",
       "\n",
       "   ... avg_time_spent avg_transaction_value avg_frequency_login_days  \\\n",
       "0  ...         300.63              53005.25                     17.0   \n",
       "1  ...         306.34              12838.38                     10.0   \n",
       "2  ...         516.16              21027.00                     22.0   \n",
       "3  ...          53.27              25239.56                      6.0   \n",
       "4  ...         113.13              24483.66                     16.0   \n",
       "\n",
       "   points_in_wallet  used_special_discount  offer_application_preference  \\\n",
       "0            781.75                    Yes                           Yes   \n",
       "1               NaN                    Yes                            No   \n",
       "2            500.69                     No                           Yes   \n",
       "3            567.66                     No                           Yes   \n",
       "4            663.06                     No                           Yes   \n",
       "\n",
       "  past_complaint     complaint_status                  feedback  \\\n",
       "0             No       Not Applicable  Products always in Stock   \n",
       "1            Yes               Solved     Quality Customer Care   \n",
       "2            Yes  Solved in Follow-up              Poor Website   \n",
       "3            Yes             Unsolved              Poor Website   \n",
       "4            Yes               Solved              Poor Website   \n",
       "\n",
       "  churn_risk_score  \n",
       "0                0  \n",
       "1                0  \n",
       "2                1  \n",
       "3                1  \n",
       "4                1  \n",
       "\n",
       "[5 rows x 24 columns]"
      ]
     },
     "execution_count": 4,
     "metadata": {},
     "output_type": "execute_result"
    }
   ],
   "source": [
    "df.head()"
   ]
  },
  {
   "cell_type": "code",
   "execution_count": 5,
   "id": "28da9e29",
   "metadata": {
    "ExecuteTime": {
     "end_time": "2022-11-10T11:50:39.680925Z",
     "start_time": "2022-11-10T11:50:39.589317Z"
    }
   },
   "outputs": [
    {
     "name": "stdout",
     "output_type": "stream",
     "text": [
      "<class 'pandas.core.frame.DataFrame'>\n",
      "RangeIndex: 36992 entries, 0 to 36991\n",
      "Data columns (total 20 columns):\n",
      " #   Column                        Non-Null Count  Dtype  \n",
      "---  ------                        --------------  -----  \n",
      " 0   age                           36992 non-null  int64  \n",
      " 1   gender                        36992 non-null  object \n",
      " 2   region_category               31564 non-null  object \n",
      " 3   membership_category           36992 non-null  object \n",
      " 4   joined_through_referral       36992 non-null  object \n",
      " 5   preferred_offer_types         36704 non-null  object \n",
      " 6   medium_of_operation           36992 non-null  object \n",
      " 7   internet_option               36992 non-null  object \n",
      " 8   last_visit_time               36992 non-null  object \n",
      " 9   days_since_last_login         36992 non-null  int64  \n",
      " 10  avg_time_spent                36992 non-null  float64\n",
      " 11  avg_transaction_value         36992 non-null  float64\n",
      " 12  avg_frequency_login_days      36992 non-null  object \n",
      " 13  points_in_wallet              33549 non-null  float64\n",
      " 14  used_special_discount         36992 non-null  object \n",
      " 15  offer_application_preference  36992 non-null  object \n",
      " 16  past_complaint                36992 non-null  object \n",
      " 17  complaint_status              36992 non-null  object \n",
      " 18  feedback                      36992 non-null  object \n",
      " 19  churn_risk_score              36992 non-null  int64  \n",
      "dtypes: float64(3), int64(3), object(14)\n",
      "memory usage: 5.6+ MB\n"
     ]
    }
   ],
   "source": [
    "## Unnamed:0 has to be dropped, security_number (unique values), joining date (we don't know the date\n",
    "## data was published.),  \n",
    "df = df.drop(columns=[\"Unnamed: 0\", \"referral_id\", \"security_no\", \"joining_date\"])\n",
    "df.info()"
   ]
  },
  {
   "cell_type": "markdown",
   "id": "804b6f91",
   "metadata": {},
   "source": [
    "### Categorical and Numerical Columns"
   ]
  },
  {
   "cell_type": "code",
   "execution_count": 6,
   "id": "d6bd9527",
   "metadata": {
    "ExecuteTime": {
     "end_time": "2022-11-10T11:50:39.776513Z",
     "start_time": "2022-11-10T11:50:39.684936Z"
    }
   },
   "outputs": [
    {
     "name": "stdout",
     "output_type": "stream",
     "text": [
      "<class 'pandas.core.frame.DataFrame'>\n",
      "RangeIndex: 36992 entries, 0 to 36991\n",
      "Data columns (total 20 columns):\n",
      " #   Column                        Non-Null Count  Dtype  \n",
      "---  ------                        --------------  -----  \n",
      " 0   age                           36992 non-null  int64  \n",
      " 1   gender                        36992 non-null  object \n",
      " 2   region_category               31564 non-null  object \n",
      " 3   membership_category           36992 non-null  object \n",
      " 4   joined_through_referral       36992 non-null  object \n",
      " 5   preferred_offer_types         36704 non-null  object \n",
      " 6   medium_of_operation           36992 non-null  object \n",
      " 7   internet_option               36992 non-null  object \n",
      " 8   last_visit_time               36992 non-null  object \n",
      " 9   days_since_last_login         36992 non-null  int64  \n",
      " 10  avg_time_spent                36992 non-null  float64\n",
      " 11  avg_transaction_value         36992 non-null  float64\n",
      " 12  avg_frequency_login_days      36992 non-null  object \n",
      " 13  points_in_wallet              33549 non-null  float64\n",
      " 14  used_special_discount         36992 non-null  object \n",
      " 15  offer_application_preference  36992 non-null  object \n",
      " 16  past_complaint                36992 non-null  object \n",
      " 17  complaint_status              36992 non-null  object \n",
      " 18  feedback                      36992 non-null  object \n",
      " 19  churn_risk_score              36992 non-null  int64  \n",
      "dtypes: float64(3), int64(3), object(14)\n",
      "memory usage: 5.6+ MB\n"
     ]
    }
   ],
   "source": [
    "df.info()"
   ]
  },
  {
   "cell_type": "code",
   "execution_count": 7,
   "id": "07efa443",
   "metadata": {
    "ExecuteTime": {
     "end_time": "2022-11-10T11:50:39.792517Z",
     "start_time": "2022-11-10T11:50:39.779485Z"
    }
   },
   "outputs": [
    {
     "data": {
      "text/plain": [
       "['gender',\n",
       " 'region_category',\n",
       " 'membership_category',\n",
       " 'joined_through_referral',\n",
       " 'preferred_offer_types',\n",
       " 'medium_of_operation',\n",
       " 'internet_option',\n",
       " 'last_visit_time',\n",
       " 'avg_frequency_login_days',\n",
       " 'used_special_discount',\n",
       " 'offer_application_preference',\n",
       " 'past_complaint',\n",
       " 'complaint_status',\n",
       " 'feedback']"
      ]
     },
     "execution_count": 7,
     "metadata": {},
     "output_type": "execute_result"
    }
   ],
   "source": [
    "categorical_columns = list(df.dtypes[df.dtypes == \"object\"].index)\n",
    "categorical_columns"
   ]
  },
  {
   "cell_type": "code",
   "execution_count": 8,
   "id": "a0751f1d",
   "metadata": {
    "ExecuteTime": {
     "end_time": "2022-11-10T11:50:39.807730Z",
     "start_time": "2022-11-10T11:50:39.794498Z"
    }
   },
   "outputs": [
    {
     "data": {
      "text/plain": [
       "['age',\n",
       " 'days_since_last_login',\n",
       " 'avg_time_spent',\n",
       " 'avg_transaction_value',\n",
       " 'points_in_wallet']"
      ]
     },
     "execution_count": 8,
     "metadata": {},
     "output_type": "execute_result"
    }
   ],
   "source": [
    "numerical_columns = [col for col in df.columns if col not in categorical_columns and col != 'churn_risk_score']\n",
    "numerical_columns"
   ]
  },
  {
   "cell_type": "code",
   "execution_count": 9,
   "id": "08932c72",
   "metadata": {
    "ExecuteTime": {
     "end_time": "2022-11-10T11:50:40.136473Z",
     "start_time": "2022-11-10T11:50:39.809700Z"
    }
   },
   "outputs": [],
   "source": [
    "###cleaning up spaces in categorical varibles\n",
    "for col in categorical_columns:\n",
    "    df[col] = df[col].str.lower().str.replace(\" \", \"_\")"
   ]
  },
  {
   "cell_type": "code",
   "execution_count": 10,
   "id": "d29bf823",
   "metadata": {
    "ExecuteTime": {
     "end_time": "2022-11-10T11:50:40.244988Z",
     "start_time": "2022-11-10T11:50:40.139495Z"
    }
   },
   "outputs": [
    {
     "name": "stdout",
     "output_type": "stream",
     "text": [
      "age\n",
      "[18 32 44 37 31]\n",
      "55\n",
      "\n",
      "gender\n",
      "['f' 'm' 'unknown']\n",
      "3\n",
      "\n",
      "region_category\n",
      "['village' 'city' 'town' nan]\n",
      "3\n",
      "\n",
      "membership_category\n",
      "['platinum_membership' 'premium_membership' 'no_membership'\n",
      " 'gold_membership' 'silver_membership']\n",
      "6\n",
      "\n",
      "joined_through_referral\n",
      "['no' '?' 'yes']\n",
      "3\n",
      "\n",
      "preferred_offer_types\n",
      "['gift_vouchers/coupons' 'credit/debit_card_offers' 'without_offers' nan]\n",
      "3\n",
      "\n",
      "medium_of_operation\n",
      "['?' 'desktop' 'smartphone' 'both']\n",
      "4\n",
      "\n",
      "internet_option\n",
      "['wi-fi' 'mobile_data' 'fiber_optic']\n",
      "3\n",
      "\n",
      "last_visit_time\n",
      "['16:08:02' '12:38:13' '22:53:21' '15:57:50' '15:46:44']\n",
      "30101\n",
      "\n",
      "days_since_last_login\n",
      "[17 16 14 11 20]\n",
      "27\n",
      "\n",
      "avg_time_spent\n",
      "[300.63 306.34 516.16  53.27 113.13]\n",
      "25961\n",
      "\n",
      "avg_transaction_value\n",
      "[53005.25 12838.38 21027.   25239.56 24483.66]\n",
      "36894\n",
      "\n",
      "avg_frequency_login_days\n",
      "['17.0' '10.0' '22.0' '6.0' '16.0']\n",
      "1654\n",
      "\n",
      "points_in_wallet\n",
      "[781.75    nan 500.69 567.66 663.06]\n",
      "23699\n",
      "\n",
      "used_special_discount\n",
      "['yes' 'no']\n",
      "2\n",
      "\n",
      "offer_application_preference\n",
      "['yes' 'no']\n",
      "2\n",
      "\n",
      "past_complaint\n",
      "['no' 'yes']\n",
      "2\n",
      "\n",
      "complaint_status\n",
      "['not_applicable' 'solved' 'solved_in_follow-up' 'unsolved'\n",
      " 'no_information_available']\n",
      "5\n",
      "\n",
      "feedback\n",
      "['products_always_in_stock' 'quality_customer_care' 'poor_website'\n",
      " 'no_reason_specified' 'poor_product_quality']\n",
      "9\n",
      "\n",
      "churn_risk_score\n",
      "[0 1]\n",
      "2\n",
      "\n"
     ]
    }
   ],
   "source": [
    "## Number of unique values \n",
    "for col in df.columns:\n",
    "    print(col)\n",
    "    print(df[col].unique()[:5])\n",
    "    print(df[col].nunique())\n",
    "    print()"
   ]
  },
  {
   "cell_type": "markdown",
   "id": "42f2aed0",
   "metadata": {},
   "source": [
    "### Target spread"
   ]
  },
  {
   "cell_type": "markdown",
   "id": "d0a6aa50",
   "metadata": {},
   "source": [
    "The target variable here is churn"
   ]
  },
  {
   "cell_type": "code",
   "execution_count": 11,
   "id": "f15dda7f",
   "metadata": {
    "ExecuteTime": {
     "end_time": "2022-11-10T11:50:40.261018Z",
     "start_time": "2022-11-10T11:50:40.247995Z"
    }
   },
   "outputs": [
    {
     "data": {
      "text/plain": [
       "1    20012\n",
       "0    16980\n",
       "Name: churn_risk_score, dtype: int64"
      ]
     },
     "execution_count": 11,
     "metadata": {},
     "output_type": "execute_result"
    }
   ],
   "source": [
    "churn_spread = df.churn_risk_score.value_counts()\n",
    "churn_spread"
   ]
  },
  {
   "cell_type": "code",
   "execution_count": 12,
   "id": "c1912602",
   "metadata": {
    "ExecuteTime": {
     "end_time": "2022-11-10T11:50:40.276993Z",
     "start_time": "2022-11-10T11:50:40.262990Z"
    }
   },
   "outputs": [
    {
     "data": {
      "text/plain": [
       "1    0.540982\n",
       "0    0.459018\n",
       "Name: churn_risk_score, dtype: float64"
      ]
     },
     "execution_count": 12,
     "metadata": {},
     "output_type": "execute_result"
    }
   ],
   "source": [
    "df.churn_risk_score.value_counts(normalize = True)"
   ]
  },
  {
   "cell_type": "markdown",
   "id": "5ce5c901",
   "metadata": {},
   "source": [
    "The target variable is kind of balanced."
   ]
  },
  {
   "cell_type": "code",
   "execution_count": 13,
   "id": "37ce1887",
   "metadata": {
    "ExecuteTime": {
     "end_time": "2022-11-10T11:50:40.482079Z",
     "start_time": "2022-11-10T11:50:40.279988Z"
    }
   },
   "outputs": [
    {
     "data": {
      "image/png": "[encoded data removed]",
      "text/plain": [
       "<Figure size 1000x600 with 1 Axes>"
      ]
     },
     "metadata": {},
     "output_type": "display_data"
    }
   ],
   "source": [
    "#Using matplotlib\n",
    "pie, ax = plt.subplots(figsize=[10,6])\n",
    "labels = churn_spread.keys()\n",
    "plt.pie(x=churn_spread.values, autopct=\"%.1f%%\", explode=[0.05]*2, labels=labels, pctdistance=0.5)\n",
    "plt.title(\"Churn Spread\", fontsize=14);"
   ]
  },
  {
   "cell_type": "code",
   "execution_count": null,
   "id": "1b29fec1",
   "metadata": {},
   "outputs": [],
   "source": []
  },
  {
   "cell_type": "markdown",
   "id": "8888bd6f",
   "metadata": {},
   "source": [
    "### Missing and Unknown Values"
   ]
  },
  {
   "cell_type": "markdown",
   "id": "6b2d627a",
   "metadata": {},
   "source": [
    "#### Cleaning up `Unknown` datapoints"
   ]
  },
  {
   "cell_type": "code",
   "execution_count": 14,
   "id": "1d457460",
   "metadata": {
    "ExecuteTime": {
     "end_time": "2022-11-10T11:50:40.966001Z",
     "start_time": "2022-11-10T11:50:40.911977Z"
    }
   },
   "outputs": [],
   "source": [
    "low_cat = []\n",
    "for col in categorical_columns :\n",
    "    if df[col].nunique() < 20:\n",
    "        low_cat.append(col)"
   ]
  },
  {
   "cell_type": "code",
   "execution_count": 15,
   "id": "ae55e3af",
   "metadata": {
    "ExecuteTime": {
     "end_time": "2022-11-10T11:50:41.122162Z",
     "start_time": "2022-11-10T11:50:41.104109Z"
    }
   },
   "outputs": [
    {
     "data": {
      "text/plain": [
       "['gender',\n",
       " 'region_category',\n",
       " 'membership_category',\n",
       " 'joined_through_referral',\n",
       " 'preferred_offer_types',\n",
       " 'medium_of_operation',\n",
       " 'internet_option',\n",
       " 'used_special_discount',\n",
       " 'offer_application_preference',\n",
       " 'past_complaint',\n",
       " 'complaint_status',\n",
       " 'feedback']"
      ]
     },
     "execution_count": 15,
     "metadata": {},
     "output_type": "execute_result"
    }
   ],
   "source": [
    "low_cat"
   ]
  },
  {
   "cell_type": "code",
   "execution_count": 16,
   "id": "8a546d74",
   "metadata": {
    "ExecuteTime": {
     "end_time": "2022-11-10T11:50:43.404928Z",
     "start_time": "2022-11-10T11:50:41.305314Z"
    }
   },
   "outputs": [
    {
     "data": {
      "image/png": "[encoded data removed]",
      "text/plain": [
       "<Figure size 640x480 with 1 Axes>"
      ]
     },
     "metadata": {},
     "output_type": "display_data"
    },
    {
     "data": {
      "image/png": "[encoded data removed]",
      "text/plain": [
       "<Figure size 640x480 with 1 Axes>"
      ]
     },
     "metadata": {},
     "output_type": "display_data"
    },
    {
     "data": {
      "image/png": "[encoded data removed]",
      "text/plain": [
       "<Figure size 640x480 with 1 Axes>"
      ]
     },
     "metadata": {},
     "output_type": "display_data"
    },
    {
     "data": {
      "image/png": "[encoded data removed]",
      "text/plain": [
       "<Figure size 640x480 with 1 Axes>"
      ]
     },
     "metadata": {},
     "output_type": "display_data"
    },
    {
     "data": {
      "image/png": "[encoded data removed]",
      "text/plain": [
       "<Figure size 640x480 with 1 Axes>"
      ]
     },
     "metadata": {},
     "output_type": "display_data"
    },
    {
     "data": {
      "image/png": "[encoded data removed]",
      "text/plain": [
       "<Figure size 640x480 with 1 Axes>"
      ]
     },
     "metadata": {},
     "output_type": "display_data"
    },
    {
     "data": {
      "image/png": "[encoded data removed]",
      "text/plain": [
       "<Figure size 640x480 with 1 Axes>"
      ]
     },
     "metadata": {},
     "output_type": "display_data"
    },
    {
     "data": {
      "image/png": "[encoded data removed]",
      "text/plain": [
       "<Figure size 640x480 with 1 Axes>"
      ]
     },
     "metadata": {},
     "output_type": "display_data"
    },
    {
     "data": {
      "image/png": "[encoded data removed]",
      "text/plain": [
       "<Figure size 640x480 with 1 Axes>"
      ]
     },
     "metadata": {},
     "output_type": "display_data"
    },
    {
     "data": {
      "image/png": "[encoded data removed]",
      "text/plain": [
       "<Figure size 640x480 with 1 Axes>"
      ]
     },
     "metadata": {},
     "output_type": "display_data"
    },
    {
     "data": {
      "image/png": "[encoded data removed]",
      "text/plain": [
       "<Figure size 640x480 with 1 Axes>"
      ]
     },
     "metadata": {},
     "output_type": "display_data"
    },
    {
     "data": {
      "image/png": "[encoded data removed]",
      "text/plain": [
       "<Figure size 640x480 with 1 Axes>"
      ]
     },
     "metadata": {},
     "output_type": "display_data"
    }
   ],
   "source": [
    "for col in low_cat:\n",
    "    sns.countplot(x=col,data=df, palette='rainbow')\n",
    "    plt.xticks(rotation = 45, ha=\"right\")\n",
    "    plt.show()"
   ]
  },
  {
   "cell_type": "markdown",
   "id": "1e797e06",
   "metadata": {},
   "source": [
    "There are values that are 'unknown' in some of the columns in the dataset"
   ]
  },
  {
   "cell_type": "markdown",
   "id": "c00ed0bd",
   "metadata": {},
   "source": [
    "<b>`Refferal Value count` and `Medium of operation`<b>"
   ]
  },
  {
   "cell_type": "code",
   "execution_count": 17,
   "id": "0ad3ad5e",
   "metadata": {
    "ExecuteTime": {
     "end_time": "2022-11-10T11:50:43.436333Z",
     "start_time": "2022-11-10T11:50:43.408755Z"
    }
   },
   "outputs": [
    {
     "data": {
      "text/plain": [
       "no     15839\n",
       "yes    15715\n",
       "?       5438\n",
       "Name: joined_through_referral, dtype: int64"
      ]
     },
     "execution_count": 17,
     "metadata": {},
     "output_type": "execute_result"
    }
   ],
   "source": [
    "df.joined_through_referral.value_counts()"
   ]
  },
  {
   "cell_type": "code",
   "execution_count": 18,
   "id": "edf25075",
   "metadata": {
    "ExecuteTime": {
     "end_time": "2022-11-10T11:50:43.468343Z",
     "start_time": "2022-11-10T11:50:43.439336Z"
    }
   },
   "outputs": [
    {
     "data": {
      "text/plain": [
       "desktop       13913\n",
       "smartphone    13876\n",
       "?              5393\n",
       "both           3810\n",
       "Name: medium_of_operation, dtype: int64"
      ]
     },
     "execution_count": 18,
     "metadata": {},
     "output_type": "execute_result"
    }
   ],
   "source": [
    "df.medium_of_operation.value_counts()"
   ]
  },
  {
   "cell_type": "markdown",
   "id": "da3a144d",
   "metadata": {},
   "source": [
    "*joined_through_referral and medium_of_operation have ? in their values*"
   ]
  },
  {
   "cell_type": "markdown",
   "id": "6ccd4d05",
   "metadata": {},
   "source": [
    "The question mark will be changed to Null Values"
   ]
  },
  {
   "cell_type": "code",
   "execution_count": 19,
   "id": "2e028493",
   "metadata": {
    "ExecuteTime": {
     "end_time": "2022-11-10T11:50:43.500636Z",
     "start_time": "2022-11-10T11:50:43.472339Z"
    }
   },
   "outputs": [],
   "source": [
    "for col in ['medium_of_operation', 'joined_through_referral']:\n",
    "    df[col] = df[col].replace('?', np.NaN)"
   ]
  },
  {
   "cell_type": "markdown",
   "id": "d971c588",
   "metadata": {
    "ExecuteTime": {
     "end_time": "2022-11-02T03:11:23.037792Z",
     "start_time": "2022-11-02T03:11:23.025845Z"
    }
   },
   "source": [
    "<b>`Gender`<b>"
   ]
  },
  {
   "cell_type": "code",
   "execution_count": 20,
   "id": "092b96c1",
   "metadata": {
    "ExecuteTime": {
     "end_time": "2022-11-10T11:50:43.531634Z",
     "start_time": "2022-11-10T11:50:43.503609Z"
    }
   },
   "outputs": [
    {
     "data": {
      "text/plain": [
       "f          18490\n",
       "m          18443\n",
       "unknown       59\n",
       "Name: gender, dtype: int64"
      ]
     },
     "execution_count": 20,
     "metadata": {},
     "output_type": "execute_result"
    }
   ],
   "source": [
    "df.gender.value_counts()"
   ]
  },
  {
   "cell_type": "markdown",
   "id": "3621f2d9",
   "metadata": {},
   "source": [
    "Unknown will bereplaced with Null values"
   ]
  },
  {
   "cell_type": "code",
   "execution_count": 21,
   "id": "41aba07c",
   "metadata": {
    "ExecuteTime": {
     "end_time": "2022-11-10T11:50:43.623751Z",
     "start_time": "2022-11-10T11:50:43.608762Z"
    }
   },
   "outputs": [],
   "source": [
    "df[\"gender\"]=df[\"gender\"].replace(\"unknown\", np.NaN)"
   ]
  },
  {
   "cell_type": "markdown",
   "id": "f9a8acd1",
   "metadata": {},
   "source": [
    "<b>`days_since_last_login`<b>"
   ]
  },
  {
   "cell_type": "code",
   "execution_count": 22,
   "id": "53252b85",
   "metadata": {
    "ExecuteTime": {
     "end_time": "2022-11-10T11:50:43.994807Z",
     "start_time": "2022-11-10T11:50:43.972805Z"
    }
   },
   "outputs": [
    {
     "data": {
      "text/plain": [
       " 12     2380\n",
       " 13     2373\n",
       " 14     2307\n",
       " 15     2278\n",
       " 11     2262\n",
       " 10     2091\n",
       " 16     2068\n",
       "-999    1999\n",
       " 9      1863\n",
       " 17     1747\n",
       " 8      1571\n",
       " 18     1444\n",
       " 7      1442\n",
       " 19     1308\n",
       " 6      1257\n",
       " 5      1234\n",
       " 20     1184\n",
       " 21     1015\n",
       " 4       998\n",
       " 22      895\n",
       " 3       852\n",
       " 23      727\n",
       " 2       613\n",
       " 24      471\n",
       " 1       328\n",
       " 25      203\n",
       " 26       82\n",
       "Name: days_since_last_login, dtype: int64"
      ]
     },
     "execution_count": 22,
     "metadata": {},
     "output_type": "execute_result"
    }
   ],
   "source": [
    "df.days_since_last_login.value_counts()"
   ]
  },
  {
   "cell_type": "markdown",
   "id": "91df746a",
   "metadata": {},
   "source": [
    "-999 looks weird so that will be changed to a null value"
   ]
  },
  {
   "cell_type": "code",
   "execution_count": 23,
   "id": "5b8708f5",
   "metadata": {
    "ExecuteTime": {
     "end_time": "2022-11-10T11:50:44.401347Z",
     "start_time": "2022-11-10T11:50:44.395828Z"
    }
   },
   "outputs": [],
   "source": [
    "df[\"days_since_last_login\"]=df[\"days_since_last_login\"].replace(-999, np.NaN)"
   ]
  },
  {
   "cell_type": "markdown",
   "id": "08c84cfa",
   "metadata": {},
   "source": [
    "<b>`Average time spent` and `Points in Wallet`<b>"
   ]
  },
  {
   "cell_type": "code",
   "execution_count": 24,
   "id": "cc79693a",
   "metadata": {
    "ExecuteTime": {
     "end_time": "2022-11-10T11:50:44.884656Z",
     "start_time": "2022-11-10T11:50:44.862880Z"
    }
   },
   "outputs": [
    {
     "data": {
      "text/plain": [
       "28      -936.744818\n",
       "41      -930.207844\n",
       "60      -615.344319\n",
       "79      -687.629574\n",
       "116     -494.083877\n",
       "            ...    \n",
       "36794   -977.809108\n",
       "36819   -910.568433\n",
       "36956   -746.034591\n",
       "36987   -650.682759\n",
       "36988   -638.123421\n",
       "Name: avg_time_spent, Length: 1719, dtype: float64"
      ]
     },
     "execution_count": 24,
     "metadata": {},
     "output_type": "execute_result"
    }
   ],
   "source": [
    "df.avg_time_spent[df.avg_time_spent < 0]"
   ]
  },
  {
   "cell_type": "code",
   "execution_count": 25,
   "id": "b3d8fe05",
   "metadata": {
    "ExecuteTime": {
     "end_time": "2022-11-10T11:50:45.087156Z",
     "start_time": "2022-11-10T11:50:45.068160Z"
    }
   },
   "outputs": [
    {
     "data": {
      "text/plain": [
       "67      -549.357498\n",
       "70       -44.597633\n",
       "213      -38.084314\n",
       "340     -288.247333\n",
       "625     -301.998780\n",
       "            ...    \n",
       "35411   -108.057352\n",
       "35883    -99.476870\n",
       "35943    -43.109270\n",
       "36414   -170.497210\n",
       "36790   -317.024955\n",
       "Name: points_in_wallet, Length: 136, dtype: float64"
      ]
     },
     "execution_count": 25,
     "metadata": {},
     "output_type": "execute_result"
    }
   ],
   "source": [
    "df.points_in_wallet[df.points_in_wallet < 0]"
   ]
  },
  {
   "cell_type": "markdown",
   "id": "cc891e5a",
   "metadata": {},
   "source": [
    "There are values lower than 0 in the both columns which does not make sense based on data context"
   ]
  },
  {
   "cell_type": "code",
   "execution_count": 26,
   "id": "3e2415cc",
   "metadata": {
    "ExecuteTime": {
     "end_time": "2022-11-10T11:50:45.473744Z",
     "start_time": "2022-11-10T11:50:45.455432Z"
    }
   },
   "outputs": [
    {
     "data": {
      "text/plain": [
       "1719"
      ]
     },
     "execution_count": 26,
     "metadata": {},
     "output_type": "execute_result"
    }
   ],
   "source": [
    "len(df.avg_time_spent[df.avg_time_spent < 0])"
   ]
  },
  {
   "cell_type": "code",
   "execution_count": 27,
   "id": "58b2823f",
   "metadata": {
    "ExecuteTime": {
     "end_time": "2022-11-10T11:50:45.678648Z",
     "start_time": "2022-11-10T11:50:45.666648Z"
    }
   },
   "outputs": [
    {
     "data": {
      "text/plain": [
       "136"
      ]
     },
     "execution_count": 27,
     "metadata": {},
     "output_type": "execute_result"
    }
   ],
   "source": [
    "len(df.points_in_wallet[df.points_in_wallet < 0])"
   ]
  },
  {
   "cell_type": "code",
   "execution_count": 28,
   "id": "0df0a1fa",
   "metadata": {
    "ExecuteTime": {
     "end_time": "2022-11-10T11:50:45.897237Z",
     "start_time": "2022-11-10T11:50:45.869218Z"
    }
   },
   "outputs": [],
   "source": [
    "for col in ['avg_time_spent', 'points_in_wallet']:\n",
    "    df[col]=df[col].apply(lambda x:x if x>=0 else np.nan)"
   ]
  },
  {
   "cell_type": "markdown",
   "id": "ff9b7c5f",
   "metadata": {},
   "source": [
    "<b>`Average Frequency Login days`<b>"
   ]
  },
  {
   "cell_type": "code",
   "execution_count": 29,
   "id": "286d8263",
   "metadata": {
    "ExecuteTime": {
     "end_time": "2022-11-10T11:50:46.270452Z",
     "start_time": "2022-11-10T11:50:46.253892Z"
    }
   },
   "outputs": [
    {
     "data": {
      "text/plain": [
       "error                  3522\n",
       "13.0                   1394\n",
       "19.0                   1365\n",
       "8.0                    1361\n",
       "14.0                   1355\n",
       "                       ... \n",
       "28.191570401129514        1\n",
       "41.73357294995208         1\n",
       "-11.515939810499656       1\n",
       "45.71683637272365         1\n",
       "27.8399274405269          1\n",
       "Name: avg_frequency_login_days, Length: 1654, dtype: int64"
      ]
     },
     "execution_count": 29,
     "metadata": {},
     "output_type": "execute_result"
    }
   ],
   "source": [
    "df.avg_frequency_login_days.value_counts()"
   ]
  },
  {
   "cell_type": "code",
   "execution_count": 30,
   "id": "02c1c8c3",
   "metadata": {
    "ExecuteTime": {
     "end_time": "2022-11-10T11:50:46.503505Z",
     "start_time": "2022-11-10T11:50:46.471788Z"
    }
   },
   "outputs": [],
   "source": [
    "df['avg_frequency_login_days']=df['avg_frequency_login_days'].apply(lambda x:x if x!='error' else -1)\n",
    "df['avg_frequency_login_days']=df['avg_frequency_login_days'].astype('float')\n",
    "df['avg_frequency_login_days']=df['avg_frequency_login_days'].apply(lambda x:x if x>=0 else np.nan)"
   ]
  },
  {
   "cell_type": "code",
   "execution_count": 31,
   "id": "9a04adab",
   "metadata": {
    "ExecuteTime": {
     "end_time": "2022-11-10T11:50:46.705600Z",
     "start_time": "2022-11-10T11:50:46.681079Z"
    }
   },
   "outputs": [
    {
     "data": {
      "text/plain": [
       "13.000000    1394\n",
       "19.000000    1365\n",
       "8.000000     1361\n",
       "14.000000    1355\n",
       "17.000000    1349\n",
       "             ... \n",
       "46.065501       1\n",
       "47.095617       1\n",
       "3.342993        1\n",
       "29.165844       1\n",
       "27.839927       1\n",
       "Name: avg_frequency_login_days, Length: 970, dtype: int64"
      ]
     },
     "execution_count": 31,
     "metadata": {},
     "output_type": "execute_result"
    }
   ],
   "source": [
    "df.avg_frequency_login_days.value_counts()"
   ]
  },
  {
   "cell_type": "code",
   "execution_count": 32,
   "id": "22f73b0a",
   "metadata": {
    "ExecuteTime": {
     "end_time": "2022-11-10T11:50:46.910444Z",
     "start_time": "2022-11-10T11:50:46.902363Z"
    }
   },
   "outputs": [],
   "source": [
    "df[\"avg_frequency_login_days\"]= pd.to_numeric(df[\"avg_frequency_login_days\"], \n",
    "                                             errors='coerce')\n",
    "\n"
   ]
  },
  {
   "cell_type": "code",
   "execution_count": 33,
   "id": "01502801",
   "metadata": {
    "ExecuteTime": {
     "end_time": "2022-11-10T11:50:47.130774Z",
     "start_time": "2022-11-10T11:50:47.112769Z"
    }
   },
   "outputs": [
    {
     "data": {
      "text/plain": [
       "['gender',\n",
       " 'region_category',\n",
       " 'membership_category',\n",
       " 'joined_through_referral',\n",
       " 'preferred_offer_types',\n",
       " 'medium_of_operation',\n",
       " 'internet_option',\n",
       " 'last_visit_time',\n",
       " 'used_special_discount',\n",
       " 'offer_application_preference',\n",
       " 'past_complaint',\n",
       " 'complaint_status',\n",
       " 'feedback']"
      ]
     },
     "execution_count": 33,
     "metadata": {},
     "output_type": "execute_result"
    }
   ],
   "source": [
    "categorical_columns = list(df.dtypes[df.dtypes == \"object\"].index)\n",
    "categorical_columns"
   ]
  },
  {
   "cell_type": "code",
   "execution_count": 34,
   "id": "daff9d2a",
   "metadata": {
    "ExecuteTime": {
     "end_time": "2022-11-10T11:50:47.349260Z",
     "start_time": "2022-11-10T11:50:47.331285Z"
    }
   },
   "outputs": [
    {
     "data": {
      "text/plain": [
       "['age',\n",
       " 'days_since_last_login',\n",
       " 'avg_time_spent',\n",
       " 'avg_transaction_value',\n",
       " 'avg_frequency_login_days',\n",
       " 'points_in_wallet']"
      ]
     },
     "execution_count": 34,
     "metadata": {},
     "output_type": "execute_result"
    }
   ],
   "source": [
    "numerical_columns = [col for col in df.columns if col not in categorical_columns and col != 'churn_risk_score']\n",
    "numerical_columns"
   ]
  },
  {
   "cell_type": "code",
   "execution_count": 35,
   "id": "3ab39dd2",
   "metadata": {
    "ExecuteTime": {
     "end_time": "2022-11-10T11:50:47.554254Z",
     "start_time": "2022-11-10T11:50:47.543256Z"
    }
   },
   "outputs": [],
   "source": [
    "for feature in numerical_columns:\n",
    "    df[feature]= pd.to_numeric(df[feature], errors='coerce')"
   ]
  },
  {
   "cell_type": "code",
   "execution_count": 36,
   "id": "e1d1379f",
   "metadata": {
    "ExecuteTime": {
     "end_time": "2022-11-10T11:50:47.833256Z",
     "start_time": "2022-11-10T11:50:47.747650Z"
    }
   },
   "outputs": [
    {
     "data": {
      "text/plain": [
       "joined_through_referral         0.147005\n",
       "region_category                 0.146734\n",
       "medium_of_operation             0.145788\n",
       "avg_frequency_login_days        0.113673\n",
       "points_in_wallet                0.096751\n",
       "days_since_last_login           0.054039\n",
       "avg_time_spent                  0.046470\n",
       "preferred_offer_types           0.007785\n",
       "gender                          0.001595\n",
       "used_special_discount           0.000000\n",
       "feedback                        0.000000\n",
       "complaint_status                0.000000\n",
       "past_complaint                  0.000000\n",
       "offer_application_preference    0.000000\n",
       "age                             0.000000\n",
       "avg_transaction_value           0.000000\n",
       "last_visit_time                 0.000000\n",
       "internet_option                 0.000000\n",
       "membership_category             0.000000\n",
       "churn_risk_score                0.000000\n",
       "dtype: float64"
      ]
     },
     "execution_count": 36,
     "metadata": {},
     "output_type": "execute_result"
    }
   ],
   "source": [
    "df.isnull().mean().sort_values(ascending=False)"
   ]
  },
  {
   "cell_type": "markdown",
   "id": "6fd1e875",
   "metadata": {},
   "source": [
    "#### Null Values"
   ]
  },
  {
   "cell_type": "code",
   "execution_count": 37,
   "id": "5fd973fc",
   "metadata": {
    "ExecuteTime": {
     "end_time": "2022-11-10T11:50:48.266863Z",
     "start_time": "2022-11-10T11:50:48.191807Z"
    },
    "scrolled": true
   },
   "outputs": [
    {
     "data": {
      "text/plain": [
       "joined_through_referral         0.147005\n",
       "region_category                 0.146734\n",
       "medium_of_operation             0.145788\n",
       "avg_frequency_login_days        0.113673\n",
       "points_in_wallet                0.096751\n",
       "days_since_last_login           0.054039\n",
       "avg_time_spent                  0.046470\n",
       "preferred_offer_types           0.007785\n",
       "gender                          0.001595\n",
       "used_special_discount           0.000000\n",
       "feedback                        0.000000\n",
       "complaint_status                0.000000\n",
       "past_complaint                  0.000000\n",
       "offer_application_preference    0.000000\n",
       "age                             0.000000\n",
       "avg_transaction_value           0.000000\n",
       "last_visit_time                 0.000000\n",
       "internet_option                 0.000000\n",
       "membership_category             0.000000\n",
       "churn_risk_score                0.000000\n",
       "dtype: float64"
      ]
     },
     "execution_count": 37,
     "metadata": {},
     "output_type": "execute_result"
    }
   ],
   "source": [
    "df.isnull().mean().sort_values(ascending=False)"
   ]
  },
  {
   "cell_type": "markdown",
   "id": "85996752",
   "metadata": {},
   "source": [
    "The column with the highest number of missing values has 14.7 of it's data missing. We will fill in with mode."
   ]
  },
  {
   "cell_type": "code",
   "execution_count": 38,
   "id": "bbcb53a8",
   "metadata": {
    "ExecuteTime": {
     "end_time": "2022-11-10T11:50:48.686414Z",
     "start_time": "2022-11-10T11:50:48.655462Z"
    }
   },
   "outputs": [],
   "source": [
    "missing_cols = [col for col in df.columns if df[col].isnull().sum() > 0]"
   ]
  },
  {
   "cell_type": "code",
   "execution_count": null,
   "id": "bbf9402a",
   "metadata": {},
   "outputs": [],
   "source": []
  },
  {
   "cell_type": "markdown",
   "id": "097ec6a6",
   "metadata": {},
   "source": [
    "## Separate dataset into train and test"
   ]
  },
  {
   "cell_type": "markdown",
   "id": "7dc234c0",
   "metadata": {},
   "source": [
    "Best on practice, We have to split our dataset to Separate dataset into train and test. It is important to separate our data intro training and testing set.\n",
    "\n",
    "Before we engineer features, some techniques learn parameters from data. It is important to learn these parameters only from the train set. This is to avoid over-fitting."
   ]
  },
  {
   "cell_type": "code",
   "execution_count": 39,
   "id": "962e19d5",
   "metadata": {
    "ExecuteTime": {
     "end_time": "2022-11-10T11:50:49.621097Z",
     "start_time": "2022-11-10T11:50:49.562895Z"
    }
   },
   "outputs": [],
   "source": [
    "df_full_train, df_test = train_test_split(df, test_size=0.2, random_state=1)\n",
    "df_train, df_val = train_test_split(df_full_train, test_size=0.25, random_state=1)"
   ]
  },
  {
   "cell_type": "code",
   "execution_count": 40,
   "id": "32c8bec4",
   "metadata": {
    "ExecuteTime": {
     "end_time": "2022-11-10T11:50:49.871824Z",
     "start_time": "2022-11-10T11:50:49.841364Z"
    }
   },
   "outputs": [],
   "source": [
    "df_train = df_train.reset_index(drop=True)\n",
    "df_val = df_val.reset_index(drop=True)\n",
    "df_test = df_test.reset_index(drop=True)\n"
   ]
  },
  {
   "cell_type": "code",
   "execution_count": 41,
   "id": "99615beb",
   "metadata": {
    "ExecuteTime": {
     "end_time": "2022-11-10T11:50:50.074628Z",
     "start_time": "2022-11-10T11:50:50.057652Z"
    }
   },
   "outputs": [],
   "source": [
    "y_train = df_train.churn_risk_score\n",
    "y_val = df_val.churn_risk_score\n",
    "y_test = df_test.churn_risk_score"
   ]
  },
  {
   "cell_type": "code",
   "execution_count": 42,
   "id": "80c846ce",
   "metadata": {
    "ExecuteTime": {
     "end_time": "2022-11-10T11:50:50.263016Z",
     "start_time": "2022-11-10T11:50:50.257020Z"
    }
   },
   "outputs": [],
   "source": [
    "del df_train [\"churn_risk_score\"]\n",
    "del df_val [\"churn_risk_score\"]\n",
    "del df_test[\"churn_risk_score\"]"
   ]
  },
  {
   "cell_type": "code",
   "execution_count": 43,
   "id": "67a03b2e",
   "metadata": {
    "ExecuteTime": {
     "end_time": "2022-11-10T11:50:50.529901Z",
     "start_time": "2022-11-10T11:50:50.512449Z"
    },
    "scrolled": true
   },
   "outputs": [
    {
     "data": {
      "text/plain": [
       "((22194, 19), (7399, 19))"
      ]
     },
     "execution_count": 43,
     "metadata": {},
     "output_type": "execute_result"
    }
   ],
   "source": [
    "df_train.shape, df_test.shape"
   ]
  },
  {
   "cell_type": "code",
   "execution_count": null,
   "id": "27ced86f",
   "metadata": {},
   "outputs": [],
   "source": []
  },
  {
   "cell_type": "code",
   "execution_count": null,
   "id": "341d3139",
   "metadata": {},
   "outputs": [],
   "source": []
  },
  {
   "cell_type": "code",
   "execution_count": null,
   "id": "47899885",
   "metadata": {},
   "outputs": [],
   "source": []
  },
  {
   "cell_type": "markdown",
   "id": "b169ae9d",
   "metadata": {},
   "source": [
    "## Feature Engineering"
   ]
  },
  {
   "cell_type": "markdown",
   "id": "0b4a5416",
   "metadata": {},
   "source": [
    "Feature engineering involves changing or manipulating data in columns of data. Splitting before engineering in avoids over fitting."
   ]
  },
  {
   "cell_type": "markdown",
   "id": "0ea1973b",
   "metadata": {},
   "source": [
    "### Replacing Null Values"
   ]
  },
  {
   "cell_type": "code",
   "execution_count": 44,
   "id": "17ceb79e",
   "metadata": {
    "ExecuteTime": {
     "end_time": "2022-11-10T11:50:52.073208Z",
     "start_time": "2022-11-10T11:50:52.060651Z"
    }
   },
   "outputs": [
    {
     "data": {
      "text/plain": [
       "13"
      ]
     },
     "execution_count": 44,
     "metadata": {},
     "output_type": "execute_result"
    }
   ],
   "source": [
    "len(categorical_columns)"
   ]
  },
  {
   "cell_type": "markdown",
   "id": "c098fb9a",
   "metadata": {},
   "source": [
    "<b>`Categorical columns with missing data`<b>"
   ]
  },
  {
   "cell_type": "code",
   "execution_count": 45,
   "id": "ae920303",
   "metadata": {
    "ExecuteTime": {
     "end_time": "2022-11-10T11:50:52.495267Z",
     "start_time": "2022-11-10T11:50:52.486893Z"
    }
   },
   "outputs": [
    {
     "data": {
      "text/plain": [
       "['gender',\n",
       " 'region_category',\n",
       " 'membership_category',\n",
       " 'joined_through_referral',\n",
       " 'preferred_offer_types',\n",
       " 'medium_of_operation',\n",
       " 'internet_option',\n",
       " 'last_visit_time',\n",
       " 'used_special_discount',\n",
       " 'offer_application_preference',\n",
       " 'past_complaint',\n",
       " 'complaint_status',\n",
       " 'feedback']"
      ]
     },
     "execution_count": 45,
     "metadata": {},
     "output_type": "execute_result"
    }
   ],
   "source": [
    "categorical_columns"
   ]
  },
  {
   "cell_type": "code",
   "execution_count": 46,
   "id": "72c2885a",
   "metadata": {
    "ExecuteTime": {
     "end_time": "2022-11-10T11:50:52.748877Z",
     "start_time": "2022-11-10T11:50:52.719850Z"
    }
   },
   "outputs": [],
   "source": [
    "cat_col_na = [col for col in categorical_columns\n",
    "             if df[col].isnull().sum() > 0]"
   ]
  },
  {
   "cell_type": "code",
   "execution_count": 47,
   "id": "84f1d8b1",
   "metadata": {
    "ExecuteTime": {
     "end_time": "2022-11-10T11:50:53.186315Z",
     "start_time": "2022-11-10T11:50:53.166317Z"
    }
   },
   "outputs": [
    {
     "data": {
      "text/plain": [
       "['gender',\n",
       " 'region_category',\n",
       " 'joined_through_referral',\n",
       " 'preferred_offer_types',\n",
       " 'medium_of_operation']"
      ]
     },
     "execution_count": 47,
     "metadata": {},
     "output_type": "execute_result"
    }
   ],
   "source": [
    "cat_col_na"
   ]
  },
  {
   "cell_type": "code",
   "execution_count": 48,
   "id": "99b6523d",
   "metadata": {
    "ExecuteTime": {
     "end_time": "2022-11-10T11:50:53.432485Z",
     "start_time": "2022-11-10T11:50:53.384474Z"
    }
   },
   "outputs": [
    {
     "data": {
      "text/plain": [
       "joined_through_referral    0.147005\n",
       "region_category            0.146734\n",
       "medium_of_operation        0.145788\n",
       "preferred_offer_types      0.007785\n",
       "gender                     0.001595\n",
       "dtype: float64"
      ]
     },
     "execution_count": 48,
     "metadata": {},
     "output_type": "execute_result"
    }
   ],
   "source": [
    "df[cat_col_na].isnull().mean().sort_values(ascending=False)"
   ]
  },
  {
   "cell_type": "code",
   "execution_count": 49,
   "id": "7a2f0333",
   "metadata": {
    "ExecuteTime": {
     "end_time": "2022-11-10T11:50:53.635244Z",
     "start_time": "2022-11-10T11:50:53.609309Z"
    }
   },
   "outputs": [],
   "source": [
    "# variables to impute with the string missing\n",
    "with_string_missing = [\n",
    "    col for col in cat_col_na if df[col].isnull().mean() > 0.1]\n",
    "\n",
    "# variables to impute with the most frequent category\n",
    "with_frequent_category = [\n",
    "    col for col in cat_col_na if df[col].isnull().mean() < 0.1]"
   ]
  },
  {
   "cell_type": "code",
   "execution_count": 50,
   "id": "54a6cdcb",
   "metadata": {
    "ExecuteTime": {
     "end_time": "2022-11-10T11:50:53.838608Z",
     "start_time": "2022-11-10T11:50:53.821573Z"
    }
   },
   "outputs": [
    {
     "data": {
      "text/plain": [
       "['region_category', 'joined_through_referral', 'medium_of_operation']"
      ]
     },
     "execution_count": 50,
     "metadata": {},
     "output_type": "execute_result"
    }
   ],
   "source": [
    "with_string_missing"
   ]
  },
  {
   "cell_type": "code",
   "execution_count": 51,
   "id": "410c5736",
   "metadata": {
    "ExecuteTime": {
     "end_time": "2022-11-10T11:50:54.213809Z",
     "start_time": "2022-11-10T11:50:54.071104Z"
    }
   },
   "outputs": [],
   "source": [
    "# replace missing values with new label: \"Missing\"\n",
    "\n",
    "df_full_train[with_string_missing] = df_full_train[with_string_missing].fillna('missing')\n",
    "df_train[with_string_missing] = df_train[with_string_missing].fillna('missing')\n",
    "df_val[with_string_missing] = df_val[with_string_missing].fillna('missing')\n",
    "df_test[with_string_missing] = df_test[with_string_missing].fillna('missing')\n"
   ]
  },
  {
   "cell_type": "code",
   "execution_count": 52,
   "id": "efdf9e5d",
   "metadata": {
    "ExecuteTime": {
     "end_time": "2022-11-10T11:50:54.322595Z",
     "start_time": "2022-11-10T11:50:54.290533Z"
    }
   },
   "outputs": [],
   "source": [
    "## Mode is only gotten from training dataset. Replace with the mode (first value) if there are multiple modes\n",
    "\n",
    "for col in with_frequent_category:\n",
    "    \n",
    "    mode = df_train[col].mode()[0]\n",
    "    \n",
    "    df_full_train[col].fillna(mode, inplace=True)\n",
    "    df_train[col].fillna(mode, inplace=True)\n",
    "    df_val[col].fillna(mode, inplace=True)\n",
    "    df_test[col].fillna(mode, inplace=True)\n"
   ]
  },
  {
   "cell_type": "code",
   "execution_count": 53,
   "id": "ae6e4a73",
   "metadata": {
    "ExecuteTime": {
     "end_time": "2022-11-10T11:50:54.572807Z",
     "start_time": "2022-11-10T11:50:54.522643Z"
    }
   },
   "outputs": [
    {
     "data": {
      "text/plain": [
       "gender                       59\n",
       "region_category            5428\n",
       "joined_through_referral    5438\n",
       "preferred_offer_types       288\n",
       "medium_of_operation        5393\n",
       "dtype: int64"
      ]
     },
     "execution_count": 53,
     "metadata": {},
     "output_type": "execute_result"
    }
   ],
   "source": [
    "df[cat_col_na].isnull().sum()"
   ]
  },
  {
   "cell_type": "markdown",
   "id": "49cfbf6d",
   "metadata": {},
   "source": [
    "<b>`Numerical columns with missing data`<b>"
   ]
  },
  {
   "cell_type": "code",
   "execution_count": 54,
   "id": "93ef10e3",
   "metadata": {
    "ExecuteTime": {
     "end_time": "2022-11-10T11:50:55.022030Z",
     "start_time": "2022-11-10T11:50:54.999604Z"
    }
   },
   "outputs": [],
   "source": [
    "num_with_na = [col for col in numerical_columns \n",
    "               if df[col].isnull().sum() > 0]"
   ]
  },
  {
   "cell_type": "code",
   "execution_count": 55,
   "id": "304d7481",
   "metadata": {
    "ExecuteTime": {
     "end_time": "2022-11-10T11:50:55.285493Z",
     "start_time": "2022-11-10T11:50:55.262710Z"
    }
   },
   "outputs": [
    {
     "data": {
      "text/plain": [
       "days_since_last_login       0.054039\n",
       "avg_time_spent              0.046470\n",
       "avg_frequency_login_days    0.113673\n",
       "points_in_wallet            0.096751\n",
       "dtype: float64"
      ]
     },
     "execution_count": 55,
     "metadata": {},
     "output_type": "execute_result"
    }
   ],
   "source": [
    "df[num_with_na].isnull().mean()"
   ]
  },
  {
   "cell_type": "code",
   "execution_count": 56,
   "id": "75f0b72f",
   "metadata": {
    "ExecuteTime": {
     "end_time": "2022-11-10T11:50:55.506162Z",
     "start_time": "2022-11-10T11:50:55.482066Z"
    }
   },
   "outputs": [],
   "source": [
    "for col in numerical_columns:\n",
    "    \n",
    "    median = df_train[col].median()\n",
    "    \n",
    "    df_full_train[col].fillna(median, inplace=True)\n",
    "    df_train[col].fillna(median, inplace=True)\n",
    "    df_val[col].fillna(median, inplace=True)\n",
    "    df_test[col].fillna(median, inplace=True)"
   ]
  },
  {
   "cell_type": "code",
   "execution_count": 57,
   "id": "7bc6c121",
   "metadata": {
    "ExecuteTime": {
     "end_time": "2022-11-10T11:50:55.724865Z",
     "start_time": "2022-11-10T11:50:55.705971Z"
    }
   },
   "outputs": [
    {
     "data": {
      "text/plain": [
       "'\\nimputer = KNNImputer(n_neighbors=3)\\n\\nimputer.fit(df_train[numerical_columns])\\n\\n\\ndf_train[numerical_columns] = pd.DataFrame(imputer.transform(df_train[numerical_columns]))\\ndf_val[numerical_columns] = pd.DataFrame(imputer.transform(df_train[numerical_columns]))\\ndf_test[numerical_columns] = pd.DataFrame(imputer.transform(df_train[numerical_columns]))\\n\\n'"
      ]
     },
     "execution_count": 57,
     "metadata": {},
     "output_type": "execute_result"
    }
   ],
   "source": [
    "'''\n",
    "imputer = KNNImputer(n_neighbors=3)\n",
    "\n",
    "imputer.fit(df_train[numerical_columns])\n",
    "\n",
    "\n",
    "df_train[numerical_columns] = pd.DataFrame(imputer.transform(df_train[numerical_columns]))\n",
    "df_val[numerical_columns] = pd.DataFrame(imputer.transform(df_train[numerical_columns]))\n",
    "df_test[numerical_columns] = pd.DataFrame(imputer.transform(df_train[numerical_columns]))\n",
    "\n",
    "'''"
   ]
  },
  {
   "cell_type": "code",
   "execution_count": 58,
   "id": "162fa831",
   "metadata": {
    "ExecuteTime": {
     "end_time": "2022-11-10T11:50:56.179098Z",
     "start_time": "2022-11-10T11:50:55.993898Z"
    }
   },
   "outputs": [
    {
     "data": {
      "text/plain": [
       "(0, 0, 0, 0)"
      ]
     },
     "execution_count": 58,
     "metadata": {},
     "output_type": "execute_result"
    }
   ],
   "source": [
    "(df_full_train.isnull().sum().sum(), df_train.isnull().sum().sum(), df_val.isnull().sum().sum(), \n",
    "     df_test.isnull().sum().sum())"
   ]
  },
  {
   "cell_type": "markdown",
   "id": "8011ec80",
   "metadata": {},
   "source": [
    "## Feature Selection"
   ]
  },
  {
   "cell_type": "markdown",
   "id": "434c87db",
   "metadata": {},
   "source": [
    "### Feature importance: Churn Rate"
   ]
  },
  {
   "cell_type": "code",
   "execution_count": 59,
   "id": "00af7ca0",
   "metadata": {
    "ExecuteTime": {
     "end_time": "2022-11-10T11:50:56.882944Z",
     "start_time": "2022-11-10T11:50:56.853947Z"
    }
   },
   "outputs": [
    {
     "data": {
      "text/html": [
       "<div>\n",
       "<style scoped>\n",
       "    .dataframe tbody tr th:only-of-type {\n",
       "        vertical-align: middle;\n",
       "    }\n",
       "\n",
       "    .dataframe tbody tr th {\n",
       "        vertical-align: top;\n",
       "    }\n",
       "\n",
       "    .dataframe thead th {\n",
       "        text-align: right;\n",
       "    }\n",
       "</style>\n",
       "<table border=\"1\" class=\"dataframe\">\n",
       "  <thead>\n",
       "    <tr style=\"text-align: right;\">\n",
       "      <th></th>\n",
       "      <th>age</th>\n",
       "      <th>gender</th>\n",
       "      <th>region_category</th>\n",
       "      <th>membership_category</th>\n",
       "      <th>joined_through_referral</th>\n",
       "      <th>preferred_offer_types</th>\n",
       "      <th>medium_of_operation</th>\n",
       "      <th>internet_option</th>\n",
       "      <th>last_visit_time</th>\n",
       "      <th>days_since_last_login</th>\n",
       "      <th>avg_time_spent</th>\n",
       "      <th>avg_transaction_value</th>\n",
       "      <th>avg_frequency_login_days</th>\n",
       "      <th>points_in_wallet</th>\n",
       "      <th>used_special_discount</th>\n",
       "      <th>offer_application_preference</th>\n",
       "      <th>past_complaint</th>\n",
       "      <th>complaint_status</th>\n",
       "      <th>feedback</th>\n",
       "      <th>churn_risk_score</th>\n",
       "    </tr>\n",
       "  </thead>\n",
       "  <tbody>\n",
       "    <tr>\n",
       "      <th>4218</th>\n",
       "      <td>12</td>\n",
       "      <td>f</td>\n",
       "      <td>city</td>\n",
       "      <td>premium_membership</td>\n",
       "      <td>yes</td>\n",
       "      <td>gift_vouchers/coupons</td>\n",
       "      <td>missing</td>\n",
       "      <td>wi-fi</td>\n",
       "      <td>06:30:06</td>\n",
       "      <td>11.0</td>\n",
       "      <td>48.95</td>\n",
       "      <td>61130.83</td>\n",
       "      <td>1.0</td>\n",
       "      <td>841.04</td>\n",
       "      <td>yes</td>\n",
       "      <td>no</td>\n",
       "      <td>yes</td>\n",
       "      <td>unsolved</td>\n",
       "      <td>products_always_in_stock</td>\n",
       "      <td>0</td>\n",
       "    </tr>\n",
       "    <tr>\n",
       "      <th>25030</th>\n",
       "      <td>11</td>\n",
       "      <td>m</td>\n",
       "      <td>town</td>\n",
       "      <td>no_membership</td>\n",
       "      <td>yes</td>\n",
       "      <td>gift_vouchers/coupons</td>\n",
       "      <td>smartphone</td>\n",
       "      <td>fiber_optic</td>\n",
       "      <td>19:10:06</td>\n",
       "      <td>7.0</td>\n",
       "      <td>221.32</td>\n",
       "      <td>6079.76</td>\n",
       "      <td>6.0</td>\n",
       "      <td>545.75</td>\n",
       "      <td>yes</td>\n",
       "      <td>no</td>\n",
       "      <td>no</td>\n",
       "      <td>not_applicable</td>\n",
       "      <td>too_many_ads</td>\n",
       "      <td>1</td>\n",
       "    </tr>\n",
       "    <tr>\n",
       "      <th>3665</th>\n",
       "      <td>26</td>\n",
       "      <td>f</td>\n",
       "      <td>city</td>\n",
       "      <td>basic_membership</td>\n",
       "      <td>no</td>\n",
       "      <td>without_offers</td>\n",
       "      <td>desktop</td>\n",
       "      <td>mobile_data</td>\n",
       "      <td>18:07:24</td>\n",
       "      <td>22.0</td>\n",
       "      <td>40.04</td>\n",
       "      <td>15875.07</td>\n",
       "      <td>18.0</td>\n",
       "      <td>618.33</td>\n",
       "      <td>yes</td>\n",
       "      <td>no</td>\n",
       "      <td>no</td>\n",
       "      <td>not_applicable</td>\n",
       "      <td>too_many_ads</td>\n",
       "      <td>1</td>\n",
       "    </tr>\n",
       "    <tr>\n",
       "      <th>17256</th>\n",
       "      <td>38</td>\n",
       "      <td>f</td>\n",
       "      <td>village</td>\n",
       "      <td>basic_membership</td>\n",
       "      <td>no</td>\n",
       "      <td>gift_vouchers/coupons</td>\n",
       "      <td>smartphone</td>\n",
       "      <td>wi-fi</td>\n",
       "      <td>04:26:07</td>\n",
       "      <td>21.0</td>\n",
       "      <td>122.12</td>\n",
       "      <td>21442.17</td>\n",
       "      <td>16.0</td>\n",
       "      <td>698.62</td>\n",
       "      <td>yes</td>\n",
       "      <td>no</td>\n",
       "      <td>no</td>\n",
       "      <td>not_applicable</td>\n",
       "      <td>poor_website</td>\n",
       "      <td>1</td>\n",
       "    </tr>\n",
       "    <tr>\n",
       "      <th>27908</th>\n",
       "      <td>53</td>\n",
       "      <td>m</td>\n",
       "      <td>town</td>\n",
       "      <td>premium_membership</td>\n",
       "      <td>yes</td>\n",
       "      <td>without_offers</td>\n",
       "      <td>missing</td>\n",
       "      <td>fiber_optic</td>\n",
       "      <td>03:19:22</td>\n",
       "      <td>13.0</td>\n",
       "      <td>1014.73</td>\n",
       "      <td>83142.29</td>\n",
       "      <td>7.0</td>\n",
       "      <td>702.83</td>\n",
       "      <td>yes</td>\n",
       "      <td>yes</td>\n",
       "      <td>yes</td>\n",
       "      <td>unsolved</td>\n",
       "      <td>reasonable_price</td>\n",
       "      <td>0</td>\n",
       "    </tr>\n",
       "  </tbody>\n",
       "</table>\n",
       "</div>"
      ],
      "text/plain": [
       "       age gender region_category membership_category joined_through_referral  \\\n",
       "4218    12      f            city  premium_membership                     yes   \n",
       "25030   11      m            town       no_membership                     yes   \n",
       "3665    26      f            city    basic_membership                      no   \n",
       "17256   38      f         village    basic_membership                      no   \n",
       "27908   53      m            town  premium_membership                     yes   \n",
       "\n",
       "       preferred_offer_types medium_of_operation internet_option  \\\n",
       "4218   gift_vouchers/coupons             missing           wi-fi   \n",
       "25030  gift_vouchers/coupons          smartphone     fiber_optic   \n",
       "3665          without_offers             desktop     mobile_data   \n",
       "17256  gift_vouchers/coupons          smartphone           wi-fi   \n",
       "27908         without_offers             missing     fiber_optic   \n",
       "\n",
       "      last_visit_time  days_since_last_login  avg_time_spent  \\\n",
       "4218         06:30:06                   11.0           48.95   \n",
       "25030        19:10:06                    7.0          221.32   \n",
       "3665         18:07:24                   22.0           40.04   \n",
       "17256        04:26:07                   21.0          122.12   \n",
       "27908        03:19:22                   13.0         1014.73   \n",
       "\n",
       "       avg_transaction_value  avg_frequency_login_days  points_in_wallet  \\\n",
       "4218                61130.83                       1.0            841.04   \n",
       "25030                6079.76                       6.0            545.75   \n",
       "3665                15875.07                      18.0            618.33   \n",
       "17256               21442.17                      16.0            698.62   \n",
       "27908               83142.29                       7.0            702.83   \n",
       "\n",
       "      used_special_discount offer_application_preference past_complaint  \\\n",
       "4218                    yes                           no            yes   \n",
       "25030                   yes                           no             no   \n",
       "3665                    yes                           no             no   \n",
       "17256                   yes                           no             no   \n",
       "27908                   yes                          yes            yes   \n",
       "\n",
       "      complaint_status                  feedback  churn_risk_score  \n",
       "4218          unsolved  products_always_in_stock                 0  \n",
       "25030   not_applicable              too_many_ads                 1  \n",
       "3665    not_applicable              too_many_ads                 1  \n",
       "17256   not_applicable              poor_website                 1  \n",
       "27908         unsolved          reasonable_price                 0  "
      ]
     },
     "execution_count": 59,
     "metadata": {},
     "output_type": "execute_result"
    }
   ],
   "source": [
    "df_full_train.head()"
   ]
  },
  {
   "cell_type": "code",
   "execution_count": 60,
   "id": "6f911936",
   "metadata": {
    "ExecuteTime": {
     "end_time": "2022-11-10T11:50:57.145739Z",
     "start_time": "2022-11-10T11:50:57.102580Z"
    }
   },
   "outputs": [
    {
     "data": {
      "text/plain": [
       "(0.5394856891832528, 0.5348821411588887, 0.5440424959655729)"
      ]
     },
     "execution_count": 60,
     "metadata": {},
     "output_type": "execute_result"
    }
   ],
   "source": [
    "churn_male = df_full_train[df_full_train.gender == \"m\"].churn_risk_score.mean()\n",
    "churn_female = df_full_train[df_full_train.gender == \"f\"].churn_risk_score.mean()\n",
    "global_churn = df_full_train.churn_risk_score.mean()\n",
    "\n",
    "global_churn ,churn_male, churn_female"
   ]
  },
  {
   "cell_type": "code",
   "execution_count": 61,
   "id": "5a464033",
   "metadata": {
    "ExecuteTime": {
     "end_time": "2022-11-10T11:50:57.334879Z",
     "start_time": "2022-11-10T11:50:57.308948Z"
    }
   },
   "outputs": [
    {
     "data": {
      "text/plain": [
       "basic_membership       6162\n",
       "no_membership          6109\n",
       "gold_membership        5419\n",
       "silver_membership      4844\n",
       "premium_membership     3590\n",
       "platinum_membership    3469\n",
       "Name: membership_category, dtype: int64"
      ]
     },
     "execution_count": 61,
     "metadata": {},
     "output_type": "execute_result"
    }
   ],
   "source": [
    "df_full_train.membership_category.value_counts()"
   ]
  },
  {
   "cell_type": "code",
   "execution_count": null,
   "id": "895dd5fb",
   "metadata": {},
   "outputs": [],
   "source": []
  },
  {
   "cell_type": "code",
   "execution_count": null,
   "id": "c6982475",
   "metadata": {},
   "outputs": [],
   "source": []
  },
  {
   "cell_type": "markdown",
   "id": "f14f047f",
   "metadata": {},
   "source": [
    "### Feature importance: Risk Ratio"
   ]
  },
  {
   "cell_type": "code",
   "execution_count": 62,
   "id": "a3e75b19",
   "metadata": {
    "ExecuteTime": {
     "end_time": "2022-11-10T11:50:58.486327Z",
     "start_time": "2022-11-10T11:50:58.242709Z"
    }
   },
   "outputs": [
    {
     "name": "stdout",
     "output_type": "stream",
     "text": [
      "gender\n"
     ]
    },
    {
     "data": {
      "text/html": [
       "<div>\n",
       "<style scoped>\n",
       "    .dataframe tbody tr th:only-of-type {\n",
       "        vertical-align: middle;\n",
       "    }\n",
       "\n",
       "    .dataframe tbody tr th {\n",
       "        vertical-align: top;\n",
       "    }\n",
       "\n",
       "    .dataframe thead th {\n",
       "        text-align: right;\n",
       "    }\n",
       "</style>\n",
       "<table border=\"1\" class=\"dataframe\">\n",
       "  <thead>\n",
       "    <tr style=\"text-align: right;\">\n",
       "      <th></th>\n",
       "      <th>mean</th>\n",
       "      <th>count</th>\n",
       "      <th>dif</th>\n",
       "      <th>risk</th>\n",
       "    </tr>\n",
       "    <tr>\n",
       "      <th>gender</th>\n",
       "      <th></th>\n",
       "      <th></th>\n",
       "      <th></th>\n",
       "      <th></th>\n",
       "    </tr>\n",
       "  </thead>\n",
       "  <tbody>\n",
       "    <tr>\n",
       "      <th>f</th>\n",
       "      <td>0.544042</td>\n",
       "      <td>14872</td>\n",
       "      <td>0.004557</td>\n",
       "      <td>1.008447</td>\n",
       "    </tr>\n",
       "    <tr>\n",
       "      <th>m</th>\n",
       "      <td>0.534882</td>\n",
       "      <td>14721</td>\n",
       "      <td>-0.004604</td>\n",
       "      <td>0.991467</td>\n",
       "    </tr>\n",
       "  </tbody>\n",
       "</table>\n",
       "</div>"
      ],
      "text/plain": [
       "            mean  count       dif      risk\n",
       "gender                                     \n",
       "f       0.544042  14872  0.004557  1.008447\n",
       "m       0.534882  14721 -0.004604  0.991467"
      ]
     },
     "metadata": {},
     "output_type": "display_data"
    },
    {
     "name": "stdout",
     "output_type": "stream",
     "text": [
      "\n",
      "region_category\n"
     ]
    },
    {
     "data": {
      "text/html": [
       "<div>\n",
       "<style scoped>\n",
       "    .dataframe tbody tr th:only-of-type {\n",
       "        vertical-align: middle;\n",
       "    }\n",
       "\n",
       "    .dataframe tbody tr th {\n",
       "        vertical-align: top;\n",
       "    }\n",
       "\n",
       "    .dataframe thead th {\n",
       "        text-align: right;\n",
       "    }\n",
       "</style>\n",
       "<table border=\"1\" class=\"dataframe\">\n",
       "  <thead>\n",
       "    <tr style=\"text-align: right;\">\n",
       "      <th></th>\n",
       "      <th>mean</th>\n",
       "      <th>count</th>\n",
       "      <th>dif</th>\n",
       "      <th>risk</th>\n",
       "    </tr>\n",
       "    <tr>\n",
       "      <th>region_category</th>\n",
       "      <th></th>\n",
       "      <th></th>\n",
       "      <th></th>\n",
       "      <th></th>\n",
       "    </tr>\n",
       "  </thead>\n",
       "  <tbody>\n",
       "    <tr>\n",
       "      <th>city</th>\n",
       "      <td>0.544631</td>\n",
       "      <td>10150</td>\n",
       "      <td>0.005145</td>\n",
       "      <td>1.009537</td>\n",
       "    </tr>\n",
       "    <tr>\n",
       "      <th>missing</th>\n",
       "      <td>0.548484</td>\n",
       "      <td>4321</td>\n",
       "      <td>0.008998</td>\n",
       "      <td>1.016680</td>\n",
       "    </tr>\n",
       "    <tr>\n",
       "      <th>town</th>\n",
       "      <td>0.542391</td>\n",
       "      <td>11335</td>\n",
       "      <td>0.002905</td>\n",
       "      <td>1.005385</td>\n",
       "    </tr>\n",
       "    <tr>\n",
       "      <th>village</th>\n",
       "      <td>0.506734</td>\n",
       "      <td>3787</td>\n",
       "      <td>-0.032752</td>\n",
       "      <td>0.939290</td>\n",
       "    </tr>\n",
       "  </tbody>\n",
       "</table>\n",
       "</div>"
      ],
      "text/plain": [
       "                     mean  count       dif      risk\n",
       "region_category                                     \n",
       "city             0.544631  10150  0.005145  1.009537\n",
       "missing          0.548484   4321  0.008998  1.016680\n",
       "town             0.542391  11335  0.002905  1.005385\n",
       "village          0.506734   3787 -0.032752  0.939290"
      ]
     },
     "metadata": {},
     "output_type": "display_data"
    },
    {
     "name": "stdout",
     "output_type": "stream",
     "text": [
      "\n",
      "membership_category\n"
     ]
    },
    {
     "data": {
      "text/html": [
       "<div>\n",
       "<style scoped>\n",
       "    .dataframe tbody tr th:only-of-type {\n",
       "        vertical-align: middle;\n",
       "    }\n",
       "\n",
       "    .dataframe tbody tr th {\n",
       "        vertical-align: top;\n",
       "    }\n",
       "\n",
       "    .dataframe thead th {\n",
       "        text-align: right;\n",
       "    }\n",
       "</style>\n",
       "<table border=\"1\" class=\"dataframe\">\n",
       "  <thead>\n",
       "    <tr style=\"text-align: right;\">\n",
       "      <th></th>\n",
       "      <th>mean</th>\n",
       "      <th>count</th>\n",
       "      <th>dif</th>\n",
       "      <th>risk</th>\n",
       "    </tr>\n",
       "    <tr>\n",
       "      <th>membership_category</th>\n",
       "      <th></th>\n",
       "      <th></th>\n",
       "      <th></th>\n",
       "      <th></th>\n",
       "    </tr>\n",
       "  </thead>\n",
       "  <tbody>\n",
       "    <tr>\n",
       "      <th>basic_membership</th>\n",
       "      <td>0.967705</td>\n",
       "      <td>6162</td>\n",
       "      <td>0.428220</td>\n",
       "      <td>1.793755</td>\n",
       "    </tr>\n",
       "    <tr>\n",
       "      <th>gold_membership</th>\n",
       "      <td>0.373870</td>\n",
       "      <td>5419</td>\n",
       "      <td>-0.165616</td>\n",
       "      <td>0.693011</td>\n",
       "    </tr>\n",
       "    <tr>\n",
       "      <th>no_membership</th>\n",
       "      <td>0.970208</td>\n",
       "      <td>6109</td>\n",
       "      <td>0.430722</td>\n",
       "      <td>1.798394</td>\n",
       "    </tr>\n",
       "    <tr>\n",
       "      <th>platinum_membership</th>\n",
       "      <td>0.000000</td>\n",
       "      <td>3469</td>\n",
       "      <td>-0.539486</td>\n",
       "      <td>0.000000</td>\n",
       "    </tr>\n",
       "    <tr>\n",
       "      <th>premium_membership</th>\n",
       "      <td>0.000000</td>\n",
       "      <td>3590</td>\n",
       "      <td>-0.539486</td>\n",
       "      <td>0.000000</td>\n",
       "    </tr>\n",
       "    <tr>\n",
       "      <th>silver_membership</th>\n",
       "      <td>0.422998</td>\n",
       "      <td>4844</td>\n",
       "      <td>-0.116488</td>\n",
       "      <td>0.784076</td>\n",
       "    </tr>\n",
       "  </tbody>\n",
       "</table>\n",
       "</div>"
      ],
      "text/plain": [
       "                         mean  count       dif      risk\n",
       "membership_category                                     \n",
       "basic_membership     0.967705   6162  0.428220  1.793755\n",
       "gold_membership      0.373870   5419 -0.165616  0.693011\n",
       "no_membership        0.970208   6109  0.430722  1.798394\n",
       "platinum_membership  0.000000   3469 -0.539486  0.000000\n",
       "premium_membership   0.000000   3590 -0.539486  0.000000\n",
       "silver_membership    0.422998   4844 -0.116488  0.784076"
      ]
     },
     "metadata": {},
     "output_type": "display_data"
    },
    {
     "name": "stdout",
     "output_type": "stream",
     "text": [
      "\n",
      "joined_through_referral\n"
     ]
    },
    {
     "data": {
      "text/html": [
       "<div>\n",
       "<style scoped>\n",
       "    .dataframe tbody tr th:only-of-type {\n",
       "        vertical-align: middle;\n",
       "    }\n",
       "\n",
       "    .dataframe tbody tr th {\n",
       "        vertical-align: top;\n",
       "    }\n",
       "\n",
       "    .dataframe thead th {\n",
       "        text-align: right;\n",
       "    }\n",
       "</style>\n",
       "<table border=\"1\" class=\"dataframe\">\n",
       "  <thead>\n",
       "    <tr style=\"text-align: right;\">\n",
       "      <th></th>\n",
       "      <th>mean</th>\n",
       "      <th>count</th>\n",
       "      <th>dif</th>\n",
       "      <th>risk</th>\n",
       "    </tr>\n",
       "    <tr>\n",
       "      <th>joined_through_referral</th>\n",
       "      <th></th>\n",
       "      <th></th>\n",
       "      <th></th>\n",
       "      <th></th>\n",
       "    </tr>\n",
       "  </thead>\n",
       "  <tbody>\n",
       "    <tr>\n",
       "      <th>missing</th>\n",
       "      <td>0.550627</td>\n",
       "      <td>4306</td>\n",
       "      <td>0.011141</td>\n",
       "      <td>1.020652</td>\n",
       "    </tr>\n",
       "    <tr>\n",
       "      <th>no</th>\n",
       "      <td>0.520365</td>\n",
       "      <td>12718</td>\n",
       "      <td>-0.019121</td>\n",
       "      <td>0.964557</td>\n",
       "    </tr>\n",
       "    <tr>\n",
       "      <th>yes</th>\n",
       "      <td>0.555016</td>\n",
       "      <td>12569</td>\n",
       "      <td>0.015531</td>\n",
       "      <td>1.028788</td>\n",
       "    </tr>\n",
       "  </tbody>\n",
       "</table>\n",
       "</div>"
      ],
      "text/plain": [
       "                             mean  count       dif      risk\n",
       "joined_through_referral                                     \n",
       "missing                  0.550627   4306  0.011141  1.020652\n",
       "no                       0.520365  12718 -0.019121  0.964557\n",
       "yes                      0.555016  12569  0.015531  1.028788"
      ]
     },
     "metadata": {},
     "output_type": "display_data"
    },
    {
     "name": "stdout",
     "output_type": "stream",
     "text": [
      "\n",
      "preferred_offer_types\n"
     ]
    },
    {
     "data": {
      "text/html": [
       "<div>\n",
       "<style scoped>\n",
       "    .dataframe tbody tr th:only-of-type {\n",
       "        vertical-align: middle;\n",
       "    }\n",
       "\n",
       "    .dataframe tbody tr th {\n",
       "        vertical-align: top;\n",
       "    }\n",
       "\n",
       "    .dataframe thead th {\n",
       "        text-align: right;\n",
       "    }\n",
       "</style>\n",
       "<table border=\"1\" class=\"dataframe\">\n",
       "  <thead>\n",
       "    <tr style=\"text-align: right;\">\n",
       "      <th></th>\n",
       "      <th>mean</th>\n",
       "      <th>count</th>\n",
       "      <th>dif</th>\n",
       "      <th>risk</th>\n",
       "    </tr>\n",
       "    <tr>\n",
       "      <th>preferred_offer_types</th>\n",
       "      <th></th>\n",
       "      <th></th>\n",
       "      <th></th>\n",
       "      <th></th>\n",
       "    </tr>\n",
       "  </thead>\n",
       "  <tbody>\n",
       "    <tr>\n",
       "      <th>credit/debit_card_offers</th>\n",
       "      <td>0.538847</td>\n",
       "      <td>9782</td>\n",
       "      <td>-0.000639</td>\n",
       "      <td>0.998816</td>\n",
       "    </tr>\n",
       "    <tr>\n",
       "      <th>gift_vouchers/coupons</th>\n",
       "      <td>0.512706</td>\n",
       "      <td>10074</td>\n",
       "      <td>-0.026780</td>\n",
       "      <td>0.950361</td>\n",
       "    </tr>\n",
       "    <tr>\n",
       "      <th>without_offers</th>\n",
       "      <td>0.567834</td>\n",
       "      <td>9737</td>\n",
       "      <td>0.028348</td>\n",
       "      <td>1.052547</td>\n",
       "    </tr>\n",
       "  </tbody>\n",
       "</table>\n",
       "</div>"
      ],
      "text/plain": [
       "                              mean  count       dif      risk\n",
       "preferred_offer_types                                        \n",
       "credit/debit_card_offers  0.538847   9782 -0.000639  0.998816\n",
       "gift_vouchers/coupons     0.512706  10074 -0.026780  0.950361\n",
       "without_offers            0.567834   9737  0.028348  1.052547"
      ]
     },
     "metadata": {},
     "output_type": "display_data"
    },
    {
     "name": "stdout",
     "output_type": "stream",
     "text": [
      "\n",
      "medium_of_operation\n"
     ]
    },
    {
     "data": {
      "text/html": [
       "<div>\n",
       "<style scoped>\n",
       "    .dataframe tbody tr th:only-of-type {\n",
       "        vertical-align: middle;\n",
       "    }\n",
       "\n",
       "    .dataframe tbody tr th {\n",
       "        vertical-align: top;\n",
       "    }\n",
       "\n",
       "    .dataframe thead th {\n",
       "        text-align: right;\n",
       "    }\n",
       "</style>\n",
       "<table border=\"1\" class=\"dataframe\">\n",
       "  <thead>\n",
       "    <tr style=\"text-align: right;\">\n",
       "      <th></th>\n",
       "      <th>mean</th>\n",
       "      <th>count</th>\n",
       "      <th>dif</th>\n",
       "      <th>risk</th>\n",
       "    </tr>\n",
       "    <tr>\n",
       "      <th>medium_of_operation</th>\n",
       "      <th></th>\n",
       "      <th></th>\n",
       "      <th></th>\n",
       "      <th></th>\n",
       "    </tr>\n",
       "  </thead>\n",
       "  <tbody>\n",
       "    <tr>\n",
       "      <th>both</th>\n",
       "      <td>0.517770</td>\n",
       "      <td>3067</td>\n",
       "      <td>-0.021716</td>\n",
       "      <td>0.959747</td>\n",
       "    </tr>\n",
       "    <tr>\n",
       "      <th>desktop</th>\n",
       "      <td>0.532370</td>\n",
       "      <td>11075</td>\n",
       "      <td>-0.007115</td>\n",
       "      <td>0.986811</td>\n",
       "    </tr>\n",
       "    <tr>\n",
       "      <th>missing</th>\n",
       "      <td>0.541231</td>\n",
       "      <td>4305</td>\n",
       "      <td>0.001745</td>\n",
       "      <td>1.003235</td>\n",
       "    </tr>\n",
       "    <tr>\n",
       "      <th>smartphone</th>\n",
       "      <td>0.551857</td>\n",
       "      <td>11146</td>\n",
       "      <td>0.012371</td>\n",
       "      <td>1.022932</td>\n",
       "    </tr>\n",
       "  </tbody>\n",
       "</table>\n",
       "</div>"
      ],
      "text/plain": [
       "                         mean  count       dif      risk\n",
       "medium_of_operation                                     \n",
       "both                 0.517770   3067 -0.021716  0.959747\n",
       "desktop              0.532370  11075 -0.007115  0.986811\n",
       "missing              0.541231   4305  0.001745  1.003235\n",
       "smartphone           0.551857  11146  0.012371  1.022932"
      ]
     },
     "metadata": {},
     "output_type": "display_data"
    },
    {
     "name": "stdout",
     "output_type": "stream",
     "text": [
      "\n",
      "internet_option\n"
     ]
    },
    {
     "data": {
      "text/html": [
       "<div>\n",
       "<style scoped>\n",
       "    .dataframe tbody tr th:only-of-type {\n",
       "        vertical-align: middle;\n",
       "    }\n",
       "\n",
       "    .dataframe tbody tr th {\n",
       "        vertical-align: top;\n",
       "    }\n",
       "\n",
       "    .dataframe thead th {\n",
       "        text-align: right;\n",
       "    }\n",
       "</style>\n",
       "<table border=\"1\" class=\"dataframe\">\n",
       "  <thead>\n",
       "    <tr style=\"text-align: right;\">\n",
       "      <th></th>\n",
       "      <th>mean</th>\n",
       "      <th>count</th>\n",
       "      <th>dif</th>\n",
       "      <th>risk</th>\n",
       "    </tr>\n",
       "    <tr>\n",
       "      <th>internet_option</th>\n",
       "      <th></th>\n",
       "      <th></th>\n",
       "      <th></th>\n",
       "      <th></th>\n",
       "    </tr>\n",
       "  </thead>\n",
       "  <tbody>\n",
       "    <tr>\n",
       "      <th>fiber_optic</th>\n",
       "      <td>0.542808</td>\n",
       "      <td>9788</td>\n",
       "      <td>0.003322</td>\n",
       "      <td>1.006157</td>\n",
       "    </tr>\n",
       "    <tr>\n",
       "      <th>mobile_data</th>\n",
       "      <td>0.540521</td>\n",
       "      <td>9822</td>\n",
       "      <td>0.001036</td>\n",
       "      <td>1.001920</td>\n",
       "    </tr>\n",
       "    <tr>\n",
       "      <th>wi-fi</th>\n",
       "      <td>0.535210</td>\n",
       "      <td>9983</td>\n",
       "      <td>-0.004276</td>\n",
       "      <td>0.992074</td>\n",
       "    </tr>\n",
       "  </tbody>\n",
       "</table>\n",
       "</div>"
      ],
      "text/plain": [
       "                     mean  count       dif      risk\n",
       "internet_option                                     \n",
       "fiber_optic      0.542808   9788  0.003322  1.006157\n",
       "mobile_data      0.540521   9822  0.001036  1.001920\n",
       "wi-fi            0.535210   9983 -0.004276  0.992074"
      ]
     },
     "metadata": {},
     "output_type": "display_data"
    },
    {
     "name": "stdout",
     "output_type": "stream",
     "text": [
      "\n",
      "last_visit_time\n"
     ]
    },
    {
     "data": {
      "text/html": [
       "<div>\n",
       "<style scoped>\n",
       "    .dataframe tbody tr th:only-of-type {\n",
       "        vertical-align: middle;\n",
       "    }\n",
       "\n",
       "    .dataframe tbody tr th {\n",
       "        vertical-align: top;\n",
       "    }\n",
       "\n",
       "    .dataframe thead th {\n",
       "        text-align: right;\n",
       "    }\n",
       "</style>\n",
       "<table border=\"1\" class=\"dataframe\">\n",
       "  <thead>\n",
       "    <tr style=\"text-align: right;\">\n",
       "      <th></th>\n",
       "      <th>mean</th>\n",
       "      <th>count</th>\n",
       "      <th>dif</th>\n",
       "      <th>risk</th>\n",
       "    </tr>\n",
       "    <tr>\n",
       "      <th>last_visit_time</th>\n",
       "      <th></th>\n",
       "      <th></th>\n",
       "      <th></th>\n",
       "      <th></th>\n",
       "    </tr>\n",
       "  </thead>\n",
       "  <tbody>\n",
       "    <tr>\n",
       "      <th>00:00:00</th>\n",
       "      <td>0.0</td>\n",
       "      <td>1</td>\n",
       "      <td>-0.539486</td>\n",
       "      <td>0.000000</td>\n",
       "    </tr>\n",
       "    <tr>\n",
       "      <th>00:00:03</th>\n",
       "      <td>1.0</td>\n",
       "      <td>1</td>\n",
       "      <td>0.460514</td>\n",
       "      <td>1.853617</td>\n",
       "    </tr>\n",
       "    <tr>\n",
       "      <th>00:00:04</th>\n",
       "      <td>1.0</td>\n",
       "      <td>1</td>\n",
       "      <td>0.460514</td>\n",
       "      <td>1.853617</td>\n",
       "    </tr>\n",
       "    <tr>\n",
       "      <th>00:00:09</th>\n",
       "      <td>0.0</td>\n",
       "      <td>1</td>\n",
       "      <td>-0.539486</td>\n",
       "      <td>0.000000</td>\n",
       "    </tr>\n",
       "    <tr>\n",
       "      <th>00:00:13</th>\n",
       "      <td>0.0</td>\n",
       "      <td>1</td>\n",
       "      <td>-0.539486</td>\n",
       "      <td>0.000000</td>\n",
       "    </tr>\n",
       "    <tr>\n",
       "      <th>...</th>\n",
       "      <td>...</td>\n",
       "      <td>...</td>\n",
       "      <td>...</td>\n",
       "      <td>...</td>\n",
       "    </tr>\n",
       "    <tr>\n",
       "      <th>23:59:52</th>\n",
       "      <td>0.5</td>\n",
       "      <td>2</td>\n",
       "      <td>-0.039486</td>\n",
       "      <td>0.926809</td>\n",
       "    </tr>\n",
       "    <tr>\n",
       "      <th>23:59:55</th>\n",
       "      <td>0.5</td>\n",
       "      <td>2</td>\n",
       "      <td>-0.039486</td>\n",
       "      <td>0.926809</td>\n",
       "    </tr>\n",
       "    <tr>\n",
       "      <th>23:59:56</th>\n",
       "      <td>1.0</td>\n",
       "      <td>1</td>\n",
       "      <td>0.460514</td>\n",
       "      <td>1.853617</td>\n",
       "    </tr>\n",
       "    <tr>\n",
       "      <th>23:59:58</th>\n",
       "      <td>0.0</td>\n",
       "      <td>1</td>\n",
       "      <td>-0.539486</td>\n",
       "      <td>0.000000</td>\n",
       "    </tr>\n",
       "    <tr>\n",
       "      <th>23:59:59</th>\n",
       "      <td>1.0</td>\n",
       "      <td>1</td>\n",
       "      <td>0.460514</td>\n",
       "      <td>1.853617</td>\n",
       "    </tr>\n",
       "  </tbody>\n",
       "</table>\n",
       "<p>25107 rows × 4 columns</p>\n",
       "</div>"
      ],
      "text/plain": [
       "                 mean  count       dif      risk\n",
       "last_visit_time                                 \n",
       "00:00:00          0.0      1 -0.539486  0.000000\n",
       "00:00:03          1.0      1  0.460514  1.853617\n",
       "00:00:04          1.0      1  0.460514  1.853617\n",
       "00:00:09          0.0      1 -0.539486  0.000000\n",
       "00:00:13          0.0      1 -0.539486  0.000000\n",
       "...               ...    ...       ...       ...\n",
       "23:59:52          0.5      2 -0.039486  0.926809\n",
       "23:59:55          0.5      2 -0.039486  0.926809\n",
       "23:59:56          1.0      1  0.460514  1.853617\n",
       "23:59:58          0.0      1 -0.539486  0.000000\n",
       "23:59:59          1.0      1  0.460514  1.853617\n",
       "\n",
       "[25107 rows x 4 columns]"
      ]
     },
     "metadata": {},
     "output_type": "display_data"
    },
    {
     "name": "stdout",
     "output_type": "stream",
     "text": [
      "\n",
      "used_special_discount\n"
     ]
    },
    {
     "data": {
      "text/html": [
       "<div>\n",
       "<style scoped>\n",
       "    .dataframe tbody tr th:only-of-type {\n",
       "        vertical-align: middle;\n",
       "    }\n",
       "\n",
       "    .dataframe tbody tr th {\n",
       "        vertical-align: top;\n",
       "    }\n",
       "\n",
       "    .dataframe thead th {\n",
       "        text-align: right;\n",
       "    }\n",
       "</style>\n",
       "<table border=\"1\" class=\"dataframe\">\n",
       "  <thead>\n",
       "    <tr style=\"text-align: right;\">\n",
       "      <th></th>\n",
       "      <th>mean</th>\n",
       "      <th>count</th>\n",
       "      <th>dif</th>\n",
       "      <th>risk</th>\n",
       "    </tr>\n",
       "    <tr>\n",
       "      <th>used_special_discount</th>\n",
       "      <th></th>\n",
       "      <th></th>\n",
       "      <th></th>\n",
       "      <th></th>\n",
       "    </tr>\n",
       "  </thead>\n",
       "  <tbody>\n",
       "    <tr>\n",
       "      <th>no</th>\n",
       "      <td>0.542864</td>\n",
       "      <td>13228</td>\n",
       "      <td>0.003378</td>\n",
       "      <td>1.006261</td>\n",
       "    </tr>\n",
       "    <tr>\n",
       "      <th>yes</th>\n",
       "      <td>0.536755</td>\n",
       "      <td>16365</td>\n",
       "      <td>-0.002730</td>\n",
       "      <td>0.994939</td>\n",
       "    </tr>\n",
       "  </tbody>\n",
       "</table>\n",
       "</div>"
      ],
      "text/plain": [
       "                           mean  count       dif      risk\n",
       "used_special_discount                                     \n",
       "no                     0.542864  13228  0.003378  1.006261\n",
       "yes                    0.536755  16365 -0.002730  0.994939"
      ]
     },
     "metadata": {},
     "output_type": "display_data"
    },
    {
     "name": "stdout",
     "output_type": "stream",
     "text": [
      "\n",
      "offer_application_preference\n"
     ]
    },
    {
     "data": {
      "text/html": [
       "<div>\n",
       "<style scoped>\n",
       "    .dataframe tbody tr th:only-of-type {\n",
       "        vertical-align: middle;\n",
       "    }\n",
       "\n",
       "    .dataframe tbody tr th {\n",
       "        vertical-align: top;\n",
       "    }\n",
       "\n",
       "    .dataframe thead th {\n",
       "        text-align: right;\n",
       "    }\n",
       "</style>\n",
       "<table border=\"1\" class=\"dataframe\">\n",
       "  <thead>\n",
       "    <tr style=\"text-align: right;\">\n",
       "      <th></th>\n",
       "      <th>mean</th>\n",
       "      <th>count</th>\n",
       "      <th>dif</th>\n",
       "      <th>risk</th>\n",
       "    </tr>\n",
       "    <tr>\n",
       "      <th>offer_application_preference</th>\n",
       "      <th></th>\n",
       "      <th></th>\n",
       "      <th></th>\n",
       "      <th></th>\n",
       "    </tr>\n",
       "  </thead>\n",
       "  <tbody>\n",
       "    <tr>\n",
       "      <th>no</th>\n",
       "      <td>0.551696</td>\n",
       "      <td>13328</td>\n",
       "      <td>0.012210</td>\n",
       "      <td>1.022633</td>\n",
       "    </tr>\n",
       "    <tr>\n",
       "      <th>yes</th>\n",
       "      <td>0.529480</td>\n",
       "      <td>16265</td>\n",
       "      <td>-0.010005</td>\n",
       "      <td>0.981454</td>\n",
       "    </tr>\n",
       "  </tbody>\n",
       "</table>\n",
       "</div>"
      ],
      "text/plain": [
       "                                  mean  count       dif      risk\n",
       "offer_application_preference                                     \n",
       "no                            0.551696  13328  0.012210  1.022633\n",
       "yes                           0.529480  16265 -0.010005  0.981454"
      ]
     },
     "metadata": {},
     "output_type": "display_data"
    },
    {
     "name": "stdout",
     "output_type": "stream",
     "text": [
      "\n",
      "past_complaint\n"
     ]
    },
    {
     "data": {
      "text/html": [
       "<div>\n",
       "<style scoped>\n",
       "    .dataframe tbody tr th:only-of-type {\n",
       "        vertical-align: middle;\n",
       "    }\n",
       "\n",
       "    .dataframe tbody tr th {\n",
       "        vertical-align: top;\n",
       "    }\n",
       "\n",
       "    .dataframe thead th {\n",
       "        text-align: right;\n",
       "    }\n",
       "</style>\n",
       "<table border=\"1\" class=\"dataframe\">\n",
       "  <thead>\n",
       "    <tr style=\"text-align: right;\">\n",
       "      <th></th>\n",
       "      <th>mean</th>\n",
       "      <th>count</th>\n",
       "      <th>dif</th>\n",
       "      <th>risk</th>\n",
       "    </tr>\n",
       "    <tr>\n",
       "      <th>past_complaint</th>\n",
       "      <th></th>\n",
       "      <th></th>\n",
       "      <th></th>\n",
       "      <th></th>\n",
       "    </tr>\n",
       "  </thead>\n",
       "  <tbody>\n",
       "    <tr>\n",
       "      <th>no</th>\n",
       "      <td>0.533737</td>\n",
       "      <td>14865</td>\n",
       "      <td>-0.005749</td>\n",
       "      <td>0.989344</td>\n",
       "    </tr>\n",
       "    <tr>\n",
       "      <th>yes</th>\n",
       "      <td>0.545288</td>\n",
       "      <td>14728</td>\n",
       "      <td>0.005802</td>\n",
       "      <td>1.010755</td>\n",
       "    </tr>\n",
       "  </tbody>\n",
       "</table>\n",
       "</div>"
      ],
      "text/plain": [
       "                    mean  count       dif      risk\n",
       "past_complaint                                     \n",
       "no              0.533737  14865 -0.005749  0.989344\n",
       "yes             0.545288  14728  0.005802  1.010755"
      ]
     },
     "metadata": {},
     "output_type": "display_data"
    },
    {
     "name": "stdout",
     "output_type": "stream",
     "text": [
      "\n",
      "complaint_status\n"
     ]
    },
    {
     "data": {
      "text/html": [
       "<div>\n",
       "<style scoped>\n",
       "    .dataframe tbody tr th:only-of-type {\n",
       "        vertical-align: middle;\n",
       "    }\n",
       "\n",
       "    .dataframe tbody tr th {\n",
       "        vertical-align: top;\n",
       "    }\n",
       "\n",
       "    .dataframe thead th {\n",
       "        text-align: right;\n",
       "    }\n",
       "</style>\n",
       "<table border=\"1\" class=\"dataframe\">\n",
       "  <thead>\n",
       "    <tr style=\"text-align: right;\">\n",
       "      <th></th>\n",
       "      <th>mean</th>\n",
       "      <th>count</th>\n",
       "      <th>dif</th>\n",
       "      <th>risk</th>\n",
       "    </tr>\n",
       "    <tr>\n",
       "      <th>complaint_status</th>\n",
       "      <th></th>\n",
       "      <th></th>\n",
       "      <th></th>\n",
       "      <th></th>\n",
       "    </tr>\n",
       "  </thead>\n",
       "  <tbody>\n",
       "    <tr>\n",
       "      <th>no_information_available</th>\n",
       "      <td>0.554668</td>\n",
       "      <td>3631</td>\n",
       "      <td>0.015182</td>\n",
       "      <td>1.028142</td>\n",
       "    </tr>\n",
       "    <tr>\n",
       "      <th>not_applicable</th>\n",
       "      <td>0.533737</td>\n",
       "      <td>14865</td>\n",
       "      <td>-0.005749</td>\n",
       "      <td>0.989344</td>\n",
       "    </tr>\n",
       "    <tr>\n",
       "      <th>solved</th>\n",
       "      <td>0.547767</td>\n",
       "      <td>3695</td>\n",
       "      <td>0.008282</td>\n",
       "      <td>1.015351</td>\n",
       "    </tr>\n",
       "    <tr>\n",
       "      <th>solved_in_follow-up</th>\n",
       "      <td>0.548090</td>\n",
       "      <td>3691</td>\n",
       "      <td>0.008604</td>\n",
       "      <td>1.015949</td>\n",
       "    </tr>\n",
       "    <tr>\n",
       "      <th>unsolved</th>\n",
       "      <td>0.530854</td>\n",
       "      <td>3711</td>\n",
       "      <td>-0.008631</td>\n",
       "      <td>0.984001</td>\n",
       "    </tr>\n",
       "  </tbody>\n",
       "</table>\n",
       "</div>"
      ],
      "text/plain": [
       "                              mean  count       dif      risk\n",
       "complaint_status                                             \n",
       "no_information_available  0.554668   3631  0.015182  1.028142\n",
       "not_applicable            0.533737  14865 -0.005749  0.989344\n",
       "solved                    0.547767   3695  0.008282  1.015351\n",
       "solved_in_follow-up       0.548090   3691  0.008604  1.015949\n",
       "unsolved                  0.530854   3711 -0.008631  0.984001"
      ]
     },
     "metadata": {},
     "output_type": "display_data"
    },
    {
     "name": "stdout",
     "output_type": "stream",
     "text": [
      "\n",
      "feedback\n"
     ]
    },
    {
     "data": {
      "text/html": [
       "<div>\n",
       "<style scoped>\n",
       "    .dataframe tbody tr th:only-of-type {\n",
       "        vertical-align: middle;\n",
       "    }\n",
       "\n",
       "    .dataframe tbody tr th {\n",
       "        vertical-align: top;\n",
       "    }\n",
       "\n",
       "    .dataframe thead th {\n",
       "        text-align: right;\n",
       "    }\n",
       "</style>\n",
       "<table border=\"1\" class=\"dataframe\">\n",
       "  <thead>\n",
       "    <tr style=\"text-align: right;\">\n",
       "      <th></th>\n",
       "      <th>mean</th>\n",
       "      <th>count</th>\n",
       "      <th>dif</th>\n",
       "      <th>risk</th>\n",
       "    </tr>\n",
       "    <tr>\n",
       "      <th>feedback</th>\n",
       "      <th></th>\n",
       "      <th></th>\n",
       "      <th></th>\n",
       "      <th></th>\n",
       "    </tr>\n",
       "  </thead>\n",
       "  <tbody>\n",
       "    <tr>\n",
       "      <th>no_reason_specified</th>\n",
       "      <td>0.627596</td>\n",
       "      <td>5008</td>\n",
       "      <td>0.088110</td>\n",
       "      <td>1.163323</td>\n",
       "    </tr>\n",
       "    <tr>\n",
       "      <th>poor_customer_service</th>\n",
       "      <td>0.645833</td>\n",
       "      <td>5040</td>\n",
       "      <td>0.106348</td>\n",
       "      <td>1.197128</td>\n",
       "    </tr>\n",
       "    <tr>\n",
       "      <th>poor_product_quality</th>\n",
       "      <td>0.646908</td>\n",
       "      <td>5061</td>\n",
       "      <td>0.107422</td>\n",
       "      <td>1.199119</td>\n",
       "    </tr>\n",
       "    <tr>\n",
       "      <th>poor_website</th>\n",
       "      <td>0.634181</td>\n",
       "      <td>4997</td>\n",
       "      <td>0.094695</td>\n",
       "      <td>1.175528</td>\n",
       "    </tr>\n",
       "    <tr>\n",
       "      <th>products_always_in_stock</th>\n",
       "      <td>0.000000</td>\n",
       "      <td>1101</td>\n",
       "      <td>-0.539486</td>\n",
       "      <td>0.000000</td>\n",
       "    </tr>\n",
       "    <tr>\n",
       "      <th>quality_customer_care</th>\n",
       "      <td>0.000000</td>\n",
       "      <td>1089</td>\n",
       "      <td>-0.539486</td>\n",
       "      <td>0.000000</td>\n",
       "    </tr>\n",
       "    <tr>\n",
       "      <th>reasonable_price</th>\n",
       "      <td>0.000000</td>\n",
       "      <td>1143</td>\n",
       "      <td>-0.539486</td>\n",
       "      <td>0.000000</td>\n",
       "    </tr>\n",
       "    <tr>\n",
       "      <th>too_many_ads</th>\n",
       "      <td>0.618859</td>\n",
       "      <td>5048</td>\n",
       "      <td>0.079373</td>\n",
       "      <td>1.147128</td>\n",
       "    </tr>\n",
       "    <tr>\n",
       "      <th>user_friendly_website</th>\n",
       "      <td>0.000000</td>\n",
       "      <td>1106</td>\n",
       "      <td>-0.539486</td>\n",
       "      <td>0.000000</td>\n",
       "    </tr>\n",
       "  </tbody>\n",
       "</table>\n",
       "</div>"
      ],
      "text/plain": [
       "                              mean  count       dif      risk\n",
       "feedback                                                     \n",
       "no_reason_specified       0.627596   5008  0.088110  1.163323\n",
       "poor_customer_service     0.645833   5040  0.106348  1.197128\n",
       "poor_product_quality      0.646908   5061  0.107422  1.199119\n",
       "poor_website              0.634181   4997  0.094695  1.175528\n",
       "products_always_in_stock  0.000000   1101 -0.539486  0.000000\n",
       "quality_customer_care     0.000000   1089 -0.539486  0.000000\n",
       "reasonable_price          0.000000   1143 -0.539486  0.000000\n",
       "too_many_ads              0.618859   5048  0.079373  1.147128\n",
       "user_friendly_website     0.000000   1106 -0.539486  0.000000"
      ]
     },
     "metadata": {},
     "output_type": "display_data"
    },
    {
     "name": "stdout",
     "output_type": "stream",
     "text": [
      "\n"
     ]
    }
   ],
   "source": [
    "for c in categorical_columns:\n",
    "    print(c)\n",
    "    df_group = df_full_train.groupby(c).churn_risk_score.agg([\"mean\", \"count\"])\n",
    "    df_group[\"dif\"] = df_group['mean'] - global_churn\n",
    "    df_group[\"risk\"] = df_group['mean'] / global_churn\n",
    "    display(df_group)\n",
    "    print()"
   ]
  },
  {
   "cell_type": "markdown",
   "id": "718b6e8a",
   "metadata": {},
   "source": [
    "### Feature importance: Mutual Information"
   ]
  },
  {
   "cell_type": "markdown",
   "id": "f7545e8e",
   "metadata": {},
   "source": [
    "Mutual information - concept from information theory, it tells us how much we can learn about one variable if we know the value of another.\n",
    "\n",
    "If we observe all the variables, how much do we learn about the target variables. If we observe that this customer has a gold_membership, how much do we know about churn? The higher the score, the higher the importance of the variable on the target variable. Imported from sklearn: from sklearn.metrics import mutual_info_score.\n",
    "\n",
    "Same value regardless of the order\n",
    "mutual_info_score(df_full_train.gender, df_full_train.contract)"
   ]
  },
  {
   "cell_type": "code",
   "execution_count": 63,
   "id": "ae4c0cf1",
   "metadata": {
    "ExecuteTime": {
     "end_time": "2022-11-10T11:50:58.925115Z",
     "start_time": "2022-11-10T11:50:58.921126Z"
    }
   },
   "outputs": [],
   "source": [
    "def mutual_info_churn_score(series):\n",
    "    return mutual_info_score(series, df_full_train.churn_risk_score)"
   ]
  },
  {
   "cell_type": "code",
   "execution_count": 64,
   "id": "27393ccc",
   "metadata": {
    "ExecuteTime": {
     "end_time": "2022-11-10T11:50:59.871731Z",
     "start_time": "2022-11-10T11:50:59.238453Z"
    }
   },
   "outputs": [
    {
     "data": {
      "text/plain": [
       "last_visit_time                 0.586491\n",
       "membership_category             0.400112\n",
       "feedback                        0.132288\n",
       "preferred_offer_types           0.001024\n",
       "joined_through_referral         0.000559\n",
       "region_category                 0.000324\n",
       "medium_of_operation             0.000253\n",
       "offer_application_preference    0.000246\n",
       "complaint_status                0.000145\n",
       "past_complaint                  0.000067\n",
       "gender                          0.000042\n",
       "internet_option                 0.000020\n",
       "used_special_discount           0.000019\n",
       "dtype: float64"
      ]
     },
     "execution_count": 64,
     "metadata": {},
     "output_type": "execute_result"
    }
   ],
   "source": [
    "mi=df_full_train[categorical_columns].apply(mutual_info_churn_score)\n",
    "mi.sort_values(ascending = False)"
   ]
  },
  {
   "cell_type": "markdown",
   "id": "72078416",
   "metadata": {},
   "source": [
    "From the score, it is obvious that the features with the higher mutual scores have a greater impact on the churn of the customers."
   ]
  },
  {
   "cell_type": "markdown",
   "id": "066ec92d",
   "metadata": {},
   "source": [
    "### Feature importance: Correlation"
   ]
  },
  {
   "cell_type": "markdown",
   "id": "b1ea139b",
   "metadata": {},
   "source": [
    "This is a way to measure the importance of numerical columns\n",
    "\n",
    "- Correlation coefficient:- Pearson_correlation_coefficient"
   ]
  },
  {
   "cell_type": "code",
   "execution_count": 65,
   "id": "bfa975aa",
   "metadata": {
    "ExecuteTime": {
     "end_time": "2022-11-10T11:51:01.528919Z",
     "start_time": "2022-11-10T11:51:01.503955Z"
    }
   },
   "outputs": [
    {
     "data": {
      "text/html": [
       "<div>\n",
       "<style scoped>\n",
       "    .dataframe tbody tr th:only-of-type {\n",
       "        vertical-align: middle;\n",
       "    }\n",
       "\n",
       "    .dataframe tbody tr th {\n",
       "        vertical-align: top;\n",
       "    }\n",
       "\n",
       "    .dataframe thead th {\n",
       "        text-align: right;\n",
       "    }\n",
       "</style>\n",
       "<table border=\"1\" class=\"dataframe\">\n",
       "  <thead>\n",
       "    <tr style=\"text-align: right;\">\n",
       "      <th></th>\n",
       "      <th>age</th>\n",
       "      <th>days_since_last_login</th>\n",
       "      <th>avg_time_spent</th>\n",
       "      <th>avg_transaction_value</th>\n",
       "      <th>avg_frequency_login_days</th>\n",
       "      <th>points_in_wallet</th>\n",
       "    </tr>\n",
       "  </thead>\n",
       "  <tbody>\n",
       "    <tr>\n",
       "      <th>4218</th>\n",
       "      <td>12</td>\n",
       "      <td>11.0</td>\n",
       "      <td>48.95</td>\n",
       "      <td>61130.83</td>\n",
       "      <td>1.0</td>\n",
       "      <td>841.04</td>\n",
       "    </tr>\n",
       "    <tr>\n",
       "      <th>25030</th>\n",
       "      <td>11</td>\n",
       "      <td>7.0</td>\n",
       "      <td>221.32</td>\n",
       "      <td>6079.76</td>\n",
       "      <td>6.0</td>\n",
       "      <td>545.75</td>\n",
       "    </tr>\n",
       "    <tr>\n",
       "      <th>3665</th>\n",
       "      <td>26</td>\n",
       "      <td>22.0</td>\n",
       "      <td>40.04</td>\n",
       "      <td>15875.07</td>\n",
       "      <td>18.0</td>\n",
       "      <td>618.33</td>\n",
       "    </tr>\n",
       "    <tr>\n",
       "      <th>17256</th>\n",
       "      <td>38</td>\n",
       "      <td>21.0</td>\n",
       "      <td>122.12</td>\n",
       "      <td>21442.17</td>\n",
       "      <td>16.0</td>\n",
       "      <td>698.62</td>\n",
       "    </tr>\n",
       "    <tr>\n",
       "      <th>27908</th>\n",
       "      <td>53</td>\n",
       "      <td>13.0</td>\n",
       "      <td>1014.73</td>\n",
       "      <td>83142.29</td>\n",
       "      <td>7.0</td>\n",
       "      <td>702.83</td>\n",
       "    </tr>\n",
       "    <tr>\n",
       "      <th>...</th>\n",
       "      <td>...</td>\n",
       "      <td>...</td>\n",
       "      <td>...</td>\n",
       "      <td>...</td>\n",
       "      <td>...</td>\n",
       "      <td>...</td>\n",
       "    </tr>\n",
       "    <tr>\n",
       "      <th>7813</th>\n",
       "      <td>43</td>\n",
       "      <td>7.0</td>\n",
       "      <td>1554.71</td>\n",
       "      <td>2936.24</td>\n",
       "      <td>11.0</td>\n",
       "      <td>798.08</td>\n",
       "    </tr>\n",
       "    <tr>\n",
       "      <th>32511</th>\n",
       "      <td>61</td>\n",
       "      <td>16.0</td>\n",
       "      <td>174.43</td>\n",
       "      <td>42268.72</td>\n",
       "      <td>20.0</td>\n",
       "      <td>628.51</td>\n",
       "    </tr>\n",
       "    <tr>\n",
       "      <th>5192</th>\n",
       "      <td>30</td>\n",
       "      <td>13.0</td>\n",
       "      <td>91.44</td>\n",
       "      <td>47192.43</td>\n",
       "      <td>15.0</td>\n",
       "      <td>773.11</td>\n",
       "    </tr>\n",
       "    <tr>\n",
       "      <th>12172</th>\n",
       "      <td>28</td>\n",
       "      <td>5.0</td>\n",
       "      <td>317.29</td>\n",
       "      <td>29055.58</td>\n",
       "      <td>19.0</td>\n",
       "      <td>656.36</td>\n",
       "    </tr>\n",
       "    <tr>\n",
       "      <th>33003</th>\n",
       "      <td>49</td>\n",
       "      <td>9.0</td>\n",
       "      <td>400.93</td>\n",
       "      <td>9308.55</td>\n",
       "      <td>5.0</td>\n",
       "      <td>738.61</td>\n",
       "    </tr>\n",
       "  </tbody>\n",
       "</table>\n",
       "<p>29593 rows × 6 columns</p>\n",
       "</div>"
      ],
      "text/plain": [
       "       age  days_since_last_login  avg_time_spent  avg_transaction_value  \\\n",
       "4218    12                   11.0           48.95               61130.83   \n",
       "25030   11                    7.0          221.32                6079.76   \n",
       "3665    26                   22.0           40.04               15875.07   \n",
       "17256   38                   21.0          122.12               21442.17   \n",
       "27908   53                   13.0         1014.73               83142.29   \n",
       "...    ...                    ...             ...                    ...   \n",
       "7813    43                    7.0         1554.71                2936.24   \n",
       "32511   61                   16.0          174.43               42268.72   \n",
       "5192    30                   13.0           91.44               47192.43   \n",
       "12172   28                    5.0          317.29               29055.58   \n",
       "33003   49                    9.0          400.93                9308.55   \n",
       "\n",
       "       avg_frequency_login_days  points_in_wallet  \n",
       "4218                        1.0            841.04  \n",
       "25030                       6.0            545.75  \n",
       "3665                       18.0            618.33  \n",
       "17256                      16.0            698.62  \n",
       "27908                       7.0            702.83  \n",
       "...                         ...               ...  \n",
       "7813                       11.0            798.08  \n",
       "32511                      20.0            628.51  \n",
       "5192                       15.0            773.11  \n",
       "12172                      19.0            656.36  \n",
       "33003                       5.0            738.61  \n",
       "\n",
       "[29593 rows x 6 columns]"
      ]
     },
     "execution_count": 65,
     "metadata": {},
     "output_type": "execute_result"
    }
   ],
   "source": [
    "df_full_train[numerical_columns]"
   ]
  },
  {
   "cell_type": "code",
   "execution_count": 66,
   "id": "81ef0b3c",
   "metadata": {
    "ExecuteTime": {
     "end_time": "2022-11-10T11:51:01.934759Z",
     "start_time": "2022-11-10T11:51:01.896253Z"
    }
   },
   "outputs": [
    {
     "data": {
      "text/html": [
       "<div>\n",
       "<style scoped>\n",
       "    .dataframe tbody tr th:only-of-type {\n",
       "        vertical-align: middle;\n",
       "    }\n",
       "\n",
       "    .dataframe tbody tr th {\n",
       "        vertical-align: top;\n",
       "    }\n",
       "\n",
       "    .dataframe thead th {\n",
       "        text-align: right;\n",
       "    }\n",
       "</style>\n",
       "<table border=\"1\" class=\"dataframe\">\n",
       "  <thead>\n",
       "    <tr style=\"text-align: right;\">\n",
       "      <th></th>\n",
       "      <th>age</th>\n",
       "      <th>days_since_last_login</th>\n",
       "      <th>avg_time_spent</th>\n",
       "      <th>avg_transaction_value</th>\n",
       "      <th>avg_frequency_login_days</th>\n",
       "      <th>points_in_wallet</th>\n",
       "    </tr>\n",
       "  </thead>\n",
       "  <tbody>\n",
       "    <tr>\n",
       "      <th>age</th>\n",
       "      <td>1.000000</td>\n",
       "      <td>-0.003425</td>\n",
       "      <td>-0.003142</td>\n",
       "      <td>0.002867</td>\n",
       "      <td>-0.003634</td>\n",
       "      <td>0.000674</td>\n",
       "    </tr>\n",
       "    <tr>\n",
       "      <th>days_since_last_login</th>\n",
       "      <td>-0.003425</td>\n",
       "      <td>1.000000</td>\n",
       "      <td>-0.109301</td>\n",
       "      <td>-0.020670</td>\n",
       "      <td>0.011240</td>\n",
       "      <td>-0.003200</td>\n",
       "    </tr>\n",
       "    <tr>\n",
       "      <th>avg_time_spent</th>\n",
       "      <td>-0.003142</td>\n",
       "      <td>-0.109301</td>\n",
       "      <td>1.000000</td>\n",
       "      <td>0.023144</td>\n",
       "      <td>0.001489</td>\n",
       "      <td>-0.002323</td>\n",
       "    </tr>\n",
       "    <tr>\n",
       "      <th>avg_transaction_value</th>\n",
       "      <td>0.002867</td>\n",
       "      <td>-0.020670</td>\n",
       "      <td>0.023144</td>\n",
       "      <td>1.000000</td>\n",
       "      <td>-0.130136</td>\n",
       "      <td>0.085898</td>\n",
       "    </tr>\n",
       "    <tr>\n",
       "      <th>avg_frequency_login_days</th>\n",
       "      <td>-0.003634</td>\n",
       "      <td>0.011240</td>\n",
       "      <td>0.001489</td>\n",
       "      <td>-0.130136</td>\n",
       "      <td>1.000000</td>\n",
       "      <td>-0.046086</td>\n",
       "    </tr>\n",
       "    <tr>\n",
       "      <th>points_in_wallet</th>\n",
       "      <td>0.000674</td>\n",
       "      <td>-0.003200</td>\n",
       "      <td>-0.002323</td>\n",
       "      <td>0.085898</td>\n",
       "      <td>-0.046086</td>\n",
       "      <td>1.000000</td>\n",
       "    </tr>\n",
       "  </tbody>\n",
       "</table>\n",
       "</div>"
      ],
      "text/plain": [
       "                               age  days_since_last_login  avg_time_spent  \\\n",
       "age                       1.000000              -0.003425       -0.003142   \n",
       "days_since_last_login    -0.003425               1.000000       -0.109301   \n",
       "avg_time_spent           -0.003142              -0.109301        1.000000   \n",
       "avg_transaction_value     0.002867              -0.020670        0.023144   \n",
       "avg_frequency_login_days -0.003634               0.011240        0.001489   \n",
       "points_in_wallet          0.000674              -0.003200       -0.002323   \n",
       "\n",
       "                          avg_transaction_value  avg_frequency_login_days  \\\n",
       "age                                    0.002867                 -0.003634   \n",
       "days_since_last_login                 -0.020670                  0.011240   \n",
       "avg_time_spent                         0.023144                  0.001489   \n",
       "avg_transaction_value                  1.000000                 -0.130136   \n",
       "avg_frequency_login_days              -0.130136                  1.000000   \n",
       "points_in_wallet                       0.085898                 -0.046086   \n",
       "\n",
       "                          points_in_wallet  \n",
       "age                               0.000674  \n",
       "days_since_last_login            -0.003200  \n",
       "avg_time_spent                   -0.002323  \n",
       "avg_transaction_value             0.085898  \n",
       "avg_frequency_login_days         -0.046086  \n",
       "points_in_wallet                  1.000000  "
      ]
     },
     "execution_count": 66,
     "metadata": {},
     "output_type": "execute_result"
    }
   ],
   "source": [
    "corr_matrix = df_full_train[numerical_columns].corr()\n",
    "corr_matrix"
   ]
  },
  {
   "cell_type": "code",
   "execution_count": 67,
   "id": "182c1f95",
   "metadata": {
    "ExecuteTime": {
     "end_time": "2022-11-10T11:51:02.998651Z",
     "start_time": "2022-11-10T11:51:02.197313Z"
    }
   },
   "outputs": [
    {
     "data": {
      "image/png": "[encoded data removed]",
      "text/plain": [
       "<Figure size 1200x1000 with 2 Axes>"
      ]
     },
     "metadata": {},
     "output_type": "display_data"
    }
   ],
   "source": [
    "plt.figure(figsize=(12,10))\n",
    "sns.heatmap(corr_matrix, vmax=1, vmin=-1, center=0, cmap='vlag', annot=True)\n",
    "plt.savefig('corr_pic', bbox_inches='tight')\n",
    "plt.show()"
   ]
  },
  {
   "cell_type": "code",
   "execution_count": 68,
   "id": "816991d6",
   "metadata": {
    "ExecuteTime": {
     "end_time": "2022-11-10T11:51:03.110254Z",
     "start_time": "2022-11-10T11:51:03.085195Z"
    }
   },
   "outputs": [
    {
     "data": {
      "text/plain": [
       "points_in_wallet          avg_transaction_value       0.085898\n",
       "avg_transaction_value     avg_time_spent              0.023144\n",
       "avg_frequency_login_days  days_since_last_login       0.011240\n",
       "avg_transaction_value     age                         0.002867\n",
       "avg_frequency_login_days  avg_time_spent              0.001489\n",
       "points_in_wallet          age                         0.000674\n",
       "                          avg_time_spent             -0.002323\n",
       "avg_time_spent            age                        -0.003142\n",
       "points_in_wallet          days_since_last_login      -0.003200\n",
       "days_since_last_login     age                        -0.003425\n",
       "avg_frequency_login_days  age                        -0.003634\n",
       "avg_transaction_value     days_since_last_login      -0.020670\n",
       "points_in_wallet          avg_frequency_login_days   -0.046086\n",
       "avg_time_spent            days_since_last_login      -0.109301\n",
       "avg_frequency_login_days  avg_transaction_value      -0.130136\n",
       "dtype: float64"
      ]
     },
     "execution_count": 68,
     "metadata": {},
     "output_type": "execute_result"
    }
   ],
   "source": [
    "## Most correlated features\n",
    "\n",
    "# Retain upper triangular values of correlation matrix and\n",
    "# make Lower triangular values Null\n",
    "upper_corr_matrix = corr_matrix.where(np.triu(np.ones(corr_matrix.shape), k=1).astype(bool))\n",
    "\n",
    "upper_corr_matrix.unstack().transpose().sort_values( ascending=False).dropna()"
   ]
  },
  {
   "cell_type": "code",
   "execution_count": null,
   "id": "ecfdaaf7",
   "metadata": {},
   "outputs": [],
   "source": []
  },
  {
   "cell_type": "code",
   "execution_count": null,
   "id": "1e2d2f85",
   "metadata": {},
   "outputs": [],
   "source": []
  },
  {
   "cell_type": "markdown",
   "id": "2c48e788",
   "metadata": {},
   "source": [
    "## Logistic Regression"
   ]
  },
  {
   "cell_type": "markdown",
   "id": "c23900e8",
   "metadata": {},
   "source": [
    "### Model Training"
   ]
  },
  {
   "cell_type": "code",
   "execution_count": 69,
   "id": "2ade2c31",
   "metadata": {
    "ExecuteTime": {
     "end_time": "2022-11-10T11:51:28.382202Z",
     "start_time": "2022-11-10T11:51:23.209418Z"
    }
   },
   "outputs": [
    {
     "data": {
      "text/plain": [
       "LogisticRegression(max_iter=1000, random_state=42, solver='liblinear')"
      ]
     },
     "execution_count": 69,
     "metadata": {},
     "output_type": "execute_result"
    }
   ],
   "source": [
    "dv = DictVectorizer(sparse = False)\n",
    "\n",
    "train_dicts = df_train[categorical_columns + numerical_columns].to_dict(orient = \"records\")\n",
    "X_train = dv.fit_transform(train_dicts)\n",
    "\n",
    "model =LogisticRegression(solver=\"liblinear\", C=1.0, max_iter=1000, random_state=42)\n",
    "model.fit(X_train, y_train)"
   ]
  },
  {
   "cell_type": "code",
   "execution_count": 70,
   "id": "bea9316e",
   "metadata": {
    "ExecuteTime": {
     "end_time": "2022-11-10T11:51:29.670204Z",
     "start_time": "2022-11-10T11:51:28.386208Z"
    }
   },
   "outputs": [
    {
     "data": {
      "text/plain": [
       "0.8730909582375996"
      ]
     },
     "execution_count": 70,
     "metadata": {},
     "output_type": "execute_result"
    }
   ],
   "source": [
    "val_dict = df_val[categorical_columns + numerical_columns].to_dict(orient = \"records\")\n",
    "X_val = dv.transform(val_dict)\n",
    "\n",
    "\n",
    "## probability [0,1] is why it is dimesnsional\n",
    "y_pred = model.predict_proba(X_val)[:,1]\n",
    "churn_decision = (y_pred >= 0.5)\n",
    "(y_val == churn_decision).mean()"
   ]
  },
  {
   "cell_type": "markdown",
   "id": "8d2225c8",
   "metadata": {},
   "source": [
    "### Confusion table"
   ]
  },
  {
   "cell_type": "markdown",
   "id": "fc3d1f94",
   "metadata": {},
   "source": [
    "- Different types of errors and correct decisions\n",
    "- Arranging them in a table"
   ]
  },
  {
   "cell_type": "raw",
   "id": "35e97c91",
   "metadata": {},
   "source": [
    "Predicts Churn (Positive Class)\n",
    "-----------------------\n",
    "Customer churned ------ True Positive\n",
    "Customer not churn ---- False Positive\n",
    "\n",
    "\n",
    "Predicts No Churn (Negative Class)\n",
    "Customer did not churn ---- True negative\n",
    "Customer churned ------ False negative"
   ]
  },
  {
   "cell_type": "code",
   "execution_count": 71,
   "id": "3e5f0c56",
   "metadata": {
    "ExecuteTime": {
     "end_time": "2022-11-10T11:51:29.686205Z",
     "start_time": "2022-11-10T11:51:29.674204Z"
    }
   },
   "outputs": [],
   "source": [
    "actual_positive = (y_val == 1)\n",
    "actual_negative = (y_val == 0)"
   ]
  },
  {
   "cell_type": "code",
   "execution_count": 72,
   "id": "e7305a49",
   "metadata": {
    "ExecuteTime": {
     "end_time": "2022-11-10T11:51:29.702202Z",
     "start_time": "2022-11-10T11:51:29.693204Z"
    }
   },
   "outputs": [],
   "source": [
    "t = 0.5\n",
    "\n",
    "predict_positive = (y_pred >= t)\n",
    "predict_negative = (y_pred < t)"
   ]
  },
  {
   "cell_type": "code",
   "execution_count": 73,
   "id": "ed7cce31",
   "metadata": {
    "ExecuteTime": {
     "end_time": "2022-11-10T11:51:29.733207Z",
     "start_time": "2022-11-10T11:51:29.707200Z"
    }
   },
   "outputs": [],
   "source": [
    "tp = (predict_positive & actual_positive).sum()\n",
    "tn = (predict_negative & actual_negative).sum()"
   ]
  },
  {
   "cell_type": "code",
   "execution_count": 74,
   "id": "596b2dea",
   "metadata": {
    "ExecuteTime": {
     "end_time": "2022-11-10T11:51:29.749215Z",
     "start_time": "2022-11-10T11:51:29.737201Z"
    }
   },
   "outputs": [],
   "source": [
    "fp = (predict_positive & actual_negative).sum()\n",
    "fn = (predict_negative & actual_positive).sum()"
   ]
  },
  {
   "cell_type": "code",
   "execution_count": 75,
   "id": "f5f401e5",
   "metadata": {
    "ExecuteTime": {
     "end_time": "2022-11-10T11:51:29.764731Z",
     "start_time": "2022-11-10T11:51:29.753211Z"
    }
   },
   "outputs": [
    {
     "data": {
      "text/plain": [
       "(3303, 3157)"
      ]
     },
     "execution_count": 75,
     "metadata": {},
     "output_type": "execute_result"
    }
   ],
   "source": [
    "tp,tn"
   ]
  },
  {
   "cell_type": "code",
   "execution_count": 76,
   "id": "c0743504",
   "metadata": {
    "ExecuteTime": {
     "end_time": "2022-11-10T11:51:29.780730Z",
     "start_time": "2022-11-10T11:51:29.767728Z"
    }
   },
   "outputs": [
    {
     "data": {
      "text/plain": [
       "(209, 730)"
      ]
     },
     "execution_count": 76,
     "metadata": {},
     "output_type": "execute_result"
    }
   ],
   "source": [
    "fp,fn"
   ]
  },
  {
   "cell_type": "code",
   "execution_count": 77,
   "id": "be7a098c",
   "metadata": {
    "ExecuteTime": {
     "end_time": "2022-11-10T11:51:29.796730Z",
     "start_time": "2022-11-10T11:51:29.785734Z"
    }
   },
   "outputs": [
    {
     "data": {
      "text/plain": [
       "array([[3157,  209],\n",
       "       [ 730, 3303]], dtype=int64)"
      ]
     },
     "execution_count": 77,
     "metadata": {},
     "output_type": "execute_result"
    }
   ],
   "source": [
    "confusion_matrix = np.array([\n",
    "    [ tn, fp ],\n",
    "    [ fn, tp ]\n",
    "])\n",
    "\n",
    "confusion_matrix"
   ]
  },
  {
   "cell_type": "code",
   "execution_count": 78,
   "id": "c36a3fe7",
   "metadata": {
    "ExecuteTime": {
     "end_time": "2022-11-10T11:51:29.812772Z",
     "start_time": "2022-11-10T11:51:29.802728Z"
    }
   },
   "outputs": [
    {
     "data": {
      "text/plain": [
       "array([[0.43, 0.03],\n",
       "       [0.1 , 0.45]])"
      ]
     },
     "execution_count": 78,
     "metadata": {},
     "output_type": "execute_result"
    }
   ],
   "source": [
    "(confusion_matrix / confusion_matrix.sum()).round(2)"
   ]
  },
  {
   "cell_type": "code",
   "execution_count": null,
   "id": "3e6a2c5e",
   "metadata": {},
   "outputs": [],
   "source": []
  },
  {
   "cell_type": "markdown",
   "id": "4437a404",
   "metadata": {},
   "source": [
    "### Precison and recall"
   ]
  },
  {
   "cell_type": "code",
   "execution_count": 79,
   "id": "5c99b32d",
   "metadata": {
    "ExecuteTime": {
     "end_time": "2022-11-10T11:51:29.828733Z",
     "start_time": "2022-11-10T11:51:29.817732Z"
    }
   },
   "outputs": [
    {
     "data": {
      "text/plain": [
       "0.8730909582375996"
      ]
     },
     "execution_count": 79,
     "metadata": {},
     "output_type": "execute_result"
    }
   ],
   "source": [
    "###Another way of calculating accuracy\n",
    "(tp + tn) / (tp + tn + fn + fp) "
   ]
  },
  {
   "cell_type": "raw",
   "id": "0c0c618d",
   "metadata": {},
   "source": [
    "Precision tells how many positive predictions turned out to be correct. What fraction of those that we predicted will churn actually churned. \n",
    "\n",
    "Precision - What fraction of psoitive predictions are correct?"
   ]
  },
  {
   "cell_type": "markdown",
   "id": "9be4cac4",
   "metadata": {},
   "source": [
    "Precision = TP / ALL_POSITIVE (# positive ==> all that were predicted to churn).\n",
    "\n"
   ]
  },
  {
   "cell_type": "code",
   "execution_count": 80,
   "id": "926084cf",
   "metadata": {
    "ExecuteTime": {
     "end_time": "2022-11-10T11:51:31.713472Z",
     "start_time": "2022-11-10T11:51:31.700466Z"
    }
   },
   "outputs": [
    {
     "data": {
      "text/plain": [
       "0.9404897494305239"
      ]
     },
     "execution_count": 80,
     "metadata": {},
     "output_type": "execute_result"
    }
   ],
   "source": [
    "precision = tp / (tp + fp)\n",
    "precision"
   ]
  },
  {
   "cell_type": "markdown",
   "id": "cea37fcc",
   "metadata": {},
   "source": [
    "This means that 7% are approximately mistakes - people who were not meant to get the promotional email"
   ]
  },
  {
   "cell_type": "code",
   "execution_count": 81,
   "id": "4bfbcb07",
   "metadata": {
    "ExecuteTime": {
     "end_time": "2022-11-10T11:51:32.771907Z",
     "start_time": "2022-11-10T11:51:32.761377Z"
    }
   },
   "outputs": [
    {
     "data": {
      "text/plain": [
       "(3303, 3512)"
      ]
     },
     "execution_count": 81,
     "metadata": {},
     "output_type": "execute_result"
    }
   ],
   "source": [
    "tp, (tp + fp)"
   ]
  },
  {
   "cell_type": "markdown",
   "id": "6e80a631",
   "metadata": {},
   "source": [
    "Recall = Fraction of correctly identified positive examples. This means that people that were going to churn and we are looking for the fraction of correctly identified churn."
   ]
  },
  {
   "cell_type": "markdown",
   "id": "afce7400",
   "metadata": {},
   "source": [
    "Recall = TP / #POSITIVE OBVERSATIONS\n",
    "\n",
    "Positive observations here means all the people that actually churned"
   ]
  },
  {
   "cell_type": "code",
   "execution_count": 82,
   "id": "120fe966",
   "metadata": {
    "ExecuteTime": {
     "end_time": "2022-11-10T11:51:33.782519Z",
     "start_time": "2022-11-10T11:51:33.771523Z"
    }
   },
   "outputs": [
    {
     "data": {
      "text/plain": [
       "0.8189933052318373"
      ]
     },
     "execution_count": 82,
     "metadata": {},
     "output_type": "execute_result"
    }
   ],
   "source": [
    "recall = tp /(tp + fn)\n",
    "recall\n"
   ]
  },
  {
   "cell_type": "markdown",
   "id": "0b450e4e",
   "metadata": {},
   "source": [
    "The recall here is 86% meaning we failed to identify 14% of people who are churning. Recall here means we are looking at the customers that are actually churning"
   ]
  },
  {
   "cell_type": "code",
   "execution_count": null,
   "id": "dbb196c2",
   "metadata": {},
   "outputs": [],
   "source": []
  },
  {
   "cell_type": "code",
   "execution_count": 83,
   "id": "cc5e932b",
   "metadata": {
    "ExecuteTime": {
     "end_time": "2022-11-10T11:51:36.427945Z",
     "start_time": "2022-11-10T11:51:36.271347Z"
    }
   },
   "outputs": [],
   "source": [
    "# List to store values of thresholds, tp, fp, fn, and tn\n",
    "scores = []\n",
    "\n",
    "# Array of 101 thresholds between 0 and 1 with step 0.01\n",
    "thresholds = np.linspace(0, 1, 101)\n",
    "\n",
    "for t in thresholds:\n",
    "    # actual class labels\n",
    "    actual_positive = y_val == 1\n",
    "    actual_negative = y_val == 0\n",
    "    \n",
    "    # predicted class labels along different thresholds\n",
    "    predict_positive = y_pred >= t\n",
    "    predict_negative = y_pred < t\n",
    "    \n",
    "    # number of true positive and true negative\n",
    "    tp = (predict_positive & actual_positive).sum()\n",
    "    tn = (predict_negative & actual_negative).sum()\n",
    "    \n",
    "    # number of false positive and false negative\n",
    "    fp = (predict_positive & actual_negative).sum()\n",
    "    fn = (predict_negative & actual_positive).sum()\n",
    "    \n",
    "    scores.append((t, tp, fp, fn, tn))"
   ]
  },
  {
   "cell_type": "code",
   "execution_count": 84,
   "id": "aa930b99",
   "metadata": {
    "ExecuteTime": {
     "end_time": "2022-11-10T11:51:36.944541Z",
     "start_time": "2022-11-10T11:51:36.913533Z"
    }
   },
   "outputs": [
    {
     "data": {
      "text/html": [
       "<div>\n",
       "<style scoped>\n",
       "    .dataframe tbody tr th:only-of-type {\n",
       "        vertical-align: middle;\n",
       "    }\n",
       "\n",
       "    .dataframe tbody tr th {\n",
       "        vertical-align: top;\n",
       "    }\n",
       "\n",
       "    .dataframe thead th {\n",
       "        text-align: right;\n",
       "    }\n",
       "</style>\n",
       "<table border=\"1\" class=\"dataframe\">\n",
       "  <thead>\n",
       "    <tr style=\"text-align: right;\">\n",
       "      <th></th>\n",
       "      <th>threshold</th>\n",
       "      <th>tp</th>\n",
       "      <th>fp</th>\n",
       "      <th>fn</th>\n",
       "      <th>tn</th>\n",
       "    </tr>\n",
       "  </thead>\n",
       "  <tbody>\n",
       "    <tr>\n",
       "      <th>0</th>\n",
       "      <td>0.0</td>\n",
       "      <td>4033</td>\n",
       "      <td>3366</td>\n",
       "      <td>0</td>\n",
       "      <td>0</td>\n",
       "    </tr>\n",
       "    <tr>\n",
       "      <th>10</th>\n",
       "      <td>0.1</td>\n",
       "      <td>4030</td>\n",
       "      <td>2360</td>\n",
       "      <td>3</td>\n",
       "      <td>1006</td>\n",
       "    </tr>\n",
       "    <tr>\n",
       "      <th>20</th>\n",
       "      <td>0.2</td>\n",
       "      <td>4003</td>\n",
       "      <td>1335</td>\n",
       "      <td>30</td>\n",
       "      <td>2031</td>\n",
       "    </tr>\n",
       "    <tr>\n",
       "      <th>30</th>\n",
       "      <td>0.3</td>\n",
       "      <td>3952</td>\n",
       "      <td>1143</td>\n",
       "      <td>81</td>\n",
       "      <td>2223</td>\n",
       "    </tr>\n",
       "    <tr>\n",
       "      <th>40</th>\n",
       "      <td>0.4</td>\n",
       "      <td>3772</td>\n",
       "      <td>666</td>\n",
       "      <td>261</td>\n",
       "      <td>2700</td>\n",
       "    </tr>\n",
       "    <tr>\n",
       "      <th>50</th>\n",
       "      <td>0.5</td>\n",
       "      <td>3303</td>\n",
       "      <td>209</td>\n",
       "      <td>730</td>\n",
       "      <td>3157</td>\n",
       "    </tr>\n",
       "    <tr>\n",
       "      <th>60</th>\n",
       "      <td>0.6</td>\n",
       "      <td>3089</td>\n",
       "      <td>130</td>\n",
       "      <td>944</td>\n",
       "      <td>3236</td>\n",
       "    </tr>\n",
       "    <tr>\n",
       "      <th>70</th>\n",
       "      <td>0.7</td>\n",
       "      <td>3056</td>\n",
       "      <td>103</td>\n",
       "      <td>977</td>\n",
       "      <td>3263</td>\n",
       "    </tr>\n",
       "    <tr>\n",
       "      <th>80</th>\n",
       "      <td>0.8</td>\n",
       "      <td>2978</td>\n",
       "      <td>88</td>\n",
       "      <td>1055</td>\n",
       "      <td>3278</td>\n",
       "    </tr>\n",
       "    <tr>\n",
       "      <th>90</th>\n",
       "      <td>0.9</td>\n",
       "      <td>2778</td>\n",
       "      <td>84</td>\n",
       "      <td>1255</td>\n",
       "      <td>3282</td>\n",
       "    </tr>\n",
       "    <tr>\n",
       "      <th>100</th>\n",
       "      <td>1.0</td>\n",
       "      <td>0</td>\n",
       "      <td>0</td>\n",
       "      <td>4033</td>\n",
       "      <td>3366</td>\n",
       "    </tr>\n",
       "  </tbody>\n",
       "</table>\n",
       "</div>"
      ],
      "text/plain": [
       "     threshold    tp    fp    fn    tn\n",
       "0          0.0  4033  3366     0     0\n",
       "10         0.1  4030  2360     3  1006\n",
       "20         0.2  4003  1335    30  2031\n",
       "30         0.3  3952  1143    81  2223\n",
       "40         0.4  3772   666   261  2700\n",
       "50         0.5  3303   209   730  3157\n",
       "60         0.6  3089   130   944  3236\n",
       "70         0.7  3056   103   977  3263\n",
       "80         0.8  2978    88  1055  3278\n",
       "90         0.9  2778    84  1255  3282\n",
       "100        1.0     0     0  4033  3366"
      ]
     },
     "execution_count": 84,
     "metadata": {},
     "output_type": "execute_result"
    }
   ],
   "source": [
    "# Convert scores list to dataframe\n",
    "df_scores = pd.DataFrame(scores, columns=['threshold', 'tp', 'fp', 'fn', 'tn'])\n",
    "df_scores[::10]"
   ]
  },
  {
   "cell_type": "code",
   "execution_count": 85,
   "id": "d4b001c6",
   "metadata": {
    "ExecuteTime": {
     "end_time": "2022-11-10T11:51:40.198197Z",
     "start_time": "2022-11-10T11:51:40.167502Z"
    }
   },
   "outputs": [
    {
     "data": {
      "text/html": [
       "<div>\n",
       "<style scoped>\n",
       "    .dataframe tbody tr th:only-of-type {\n",
       "        vertical-align: middle;\n",
       "    }\n",
       "\n",
       "    .dataframe tbody tr th {\n",
       "        vertical-align: top;\n",
       "    }\n",
       "\n",
       "    .dataframe thead th {\n",
       "        text-align: right;\n",
       "    }\n",
       "</style>\n",
       "<table border=\"1\" class=\"dataframe\">\n",
       "  <thead>\n",
       "    <tr style=\"text-align: right;\">\n",
       "      <th></th>\n",
       "      <th>threshold</th>\n",
       "      <th>tp</th>\n",
       "      <th>fp</th>\n",
       "      <th>fn</th>\n",
       "      <th>tn</th>\n",
       "      <th>precision</th>\n",
       "      <th>recall</th>\n",
       "    </tr>\n",
       "  </thead>\n",
       "  <tbody>\n",
       "    <tr>\n",
       "      <th>0</th>\n",
       "      <td>0.0</td>\n",
       "      <td>4033</td>\n",
       "      <td>3366</td>\n",
       "      <td>0</td>\n",
       "      <td>0</td>\n",
       "      <td>0.545074</td>\n",
       "      <td>1.000000</td>\n",
       "    </tr>\n",
       "    <tr>\n",
       "      <th>10</th>\n",
       "      <td>0.1</td>\n",
       "      <td>4030</td>\n",
       "      <td>2360</td>\n",
       "      <td>3</td>\n",
       "      <td>1006</td>\n",
       "      <td>0.630673</td>\n",
       "      <td>0.999256</td>\n",
       "    </tr>\n",
       "    <tr>\n",
       "      <th>20</th>\n",
       "      <td>0.2</td>\n",
       "      <td>4003</td>\n",
       "      <td>1335</td>\n",
       "      <td>30</td>\n",
       "      <td>2031</td>\n",
       "      <td>0.749906</td>\n",
       "      <td>0.992561</td>\n",
       "    </tr>\n",
       "    <tr>\n",
       "      <th>30</th>\n",
       "      <td>0.3</td>\n",
       "      <td>3952</td>\n",
       "      <td>1143</td>\n",
       "      <td>81</td>\n",
       "      <td>2223</td>\n",
       "      <td>0.775662</td>\n",
       "      <td>0.979916</td>\n",
       "    </tr>\n",
       "    <tr>\n",
       "      <th>40</th>\n",
       "      <td>0.4</td>\n",
       "      <td>3772</td>\n",
       "      <td>666</td>\n",
       "      <td>261</td>\n",
       "      <td>2700</td>\n",
       "      <td>0.849932</td>\n",
       "      <td>0.935284</td>\n",
       "    </tr>\n",
       "    <tr>\n",
       "      <th>50</th>\n",
       "      <td>0.5</td>\n",
       "      <td>3303</td>\n",
       "      <td>209</td>\n",
       "      <td>730</td>\n",
       "      <td>3157</td>\n",
       "      <td>0.940490</td>\n",
       "      <td>0.818993</td>\n",
       "    </tr>\n",
       "    <tr>\n",
       "      <th>60</th>\n",
       "      <td>0.6</td>\n",
       "      <td>3089</td>\n",
       "      <td>130</td>\n",
       "      <td>944</td>\n",
       "      <td>3236</td>\n",
       "      <td>0.959615</td>\n",
       "      <td>0.765931</td>\n",
       "    </tr>\n",
       "    <tr>\n",
       "      <th>70</th>\n",
       "      <td>0.7</td>\n",
       "      <td>3056</td>\n",
       "      <td>103</td>\n",
       "      <td>977</td>\n",
       "      <td>3263</td>\n",
       "      <td>0.967395</td>\n",
       "      <td>0.757749</td>\n",
       "    </tr>\n",
       "    <tr>\n",
       "      <th>80</th>\n",
       "      <td>0.8</td>\n",
       "      <td>2978</td>\n",
       "      <td>88</td>\n",
       "      <td>1055</td>\n",
       "      <td>3278</td>\n",
       "      <td>0.971298</td>\n",
       "      <td>0.738408</td>\n",
       "    </tr>\n",
       "    <tr>\n",
       "      <th>90</th>\n",
       "      <td>0.9</td>\n",
       "      <td>2778</td>\n",
       "      <td>84</td>\n",
       "      <td>1255</td>\n",
       "      <td>3282</td>\n",
       "      <td>0.970650</td>\n",
       "      <td>0.688817</td>\n",
       "    </tr>\n",
       "    <tr>\n",
       "      <th>100</th>\n",
       "      <td>1.0</td>\n",
       "      <td>0</td>\n",
       "      <td>0</td>\n",
       "      <td>4033</td>\n",
       "      <td>3366</td>\n",
       "      <td>NaN</td>\n",
       "      <td>0.000000</td>\n",
       "    </tr>\n",
       "  </tbody>\n",
       "</table>\n",
       "</div>"
      ],
      "text/plain": [
       "     threshold    tp    fp    fn    tn  precision    recall\n",
       "0          0.0  4033  3366     0     0   0.545074  1.000000\n",
       "10         0.1  4030  2360     3  1006   0.630673  0.999256\n",
       "20         0.2  4003  1335    30  2031   0.749906  0.992561\n",
       "30         0.3  3952  1143    81  2223   0.775662  0.979916\n",
       "40         0.4  3772   666   261  2700   0.849932  0.935284\n",
       "50         0.5  3303   209   730  3157   0.940490  0.818993\n",
       "60         0.6  3089   130   944  3236   0.959615  0.765931\n",
       "70         0.7  3056   103   977  3263   0.967395  0.757749\n",
       "80         0.8  2978    88  1055  3278   0.971298  0.738408\n",
       "90         0.9  2778    84  1255  3282   0.970650  0.688817\n",
       "100        1.0     0     0  4033  3366        NaN  0.000000"
      ]
     },
     "execution_count": 85,
     "metadata": {},
     "output_type": "execute_result"
    }
   ],
   "source": [
    "# Calculate and create columns for precision and recall\n",
    "df_scores['precision'] = df_scores.tp / (df_scores.tp + df_scores.fp)\n",
    "df_scores['recall'] = df_scores.tp / (df_scores.tp + df_scores.fn)\n",
    "df_scores [::10]"
   ]
  },
  {
   "cell_type": "code",
   "execution_count": 86,
   "id": "f7637e24",
   "metadata": {
    "ExecuteTime": {
     "end_time": "2022-11-10T11:51:41.853218Z",
     "start_time": "2022-11-10T11:51:41.827274Z"
    }
   },
   "outputs": [
    {
     "data": {
      "text/html": [
       "<div>\n",
       "<style scoped>\n",
       "    .dataframe tbody tr th:only-of-type {\n",
       "        vertical-align: middle;\n",
       "    }\n",
       "\n",
       "    .dataframe tbody tr th {\n",
       "        vertical-align: top;\n",
       "    }\n",
       "\n",
       "    .dataframe thead th {\n",
       "        text-align: right;\n",
       "    }\n",
       "</style>\n",
       "<table border=\"1\" class=\"dataframe\">\n",
       "  <thead>\n",
       "    <tr style=\"text-align: right;\">\n",
       "      <th></th>\n",
       "      <th>threshold</th>\n",
       "      <th>tp</th>\n",
       "      <th>fp</th>\n",
       "      <th>fn</th>\n",
       "      <th>tn</th>\n",
       "      <th>precision</th>\n",
       "      <th>recall</th>\n",
       "      <th>tpr</th>\n",
       "      <th>fpr</th>\n",
       "    </tr>\n",
       "  </thead>\n",
       "  <tbody>\n",
       "    <tr>\n",
       "      <th>0</th>\n",
       "      <td>0.0</td>\n",
       "      <td>4033</td>\n",
       "      <td>3366</td>\n",
       "      <td>0</td>\n",
       "      <td>0</td>\n",
       "      <td>0.545074</td>\n",
       "      <td>1.000000</td>\n",
       "      <td>1.000000</td>\n",
       "      <td>1.000000</td>\n",
       "    </tr>\n",
       "    <tr>\n",
       "      <th>10</th>\n",
       "      <td>0.1</td>\n",
       "      <td>4030</td>\n",
       "      <td>2360</td>\n",
       "      <td>3</td>\n",
       "      <td>1006</td>\n",
       "      <td>0.630673</td>\n",
       "      <td>0.999256</td>\n",
       "      <td>0.999256</td>\n",
       "      <td>0.701129</td>\n",
       "    </tr>\n",
       "    <tr>\n",
       "      <th>20</th>\n",
       "      <td>0.2</td>\n",
       "      <td>4003</td>\n",
       "      <td>1335</td>\n",
       "      <td>30</td>\n",
       "      <td>2031</td>\n",
       "      <td>0.749906</td>\n",
       "      <td>0.992561</td>\n",
       "      <td>0.992561</td>\n",
       "      <td>0.396613</td>\n",
       "    </tr>\n",
       "    <tr>\n",
       "      <th>30</th>\n",
       "      <td>0.3</td>\n",
       "      <td>3952</td>\n",
       "      <td>1143</td>\n",
       "      <td>81</td>\n",
       "      <td>2223</td>\n",
       "      <td>0.775662</td>\n",
       "      <td>0.979916</td>\n",
       "      <td>0.979916</td>\n",
       "      <td>0.339572</td>\n",
       "    </tr>\n",
       "    <tr>\n",
       "      <th>40</th>\n",
       "      <td>0.4</td>\n",
       "      <td>3772</td>\n",
       "      <td>666</td>\n",
       "      <td>261</td>\n",
       "      <td>2700</td>\n",
       "      <td>0.849932</td>\n",
       "      <td>0.935284</td>\n",
       "      <td>0.935284</td>\n",
       "      <td>0.197861</td>\n",
       "    </tr>\n",
       "    <tr>\n",
       "      <th>50</th>\n",
       "      <td>0.5</td>\n",
       "      <td>3303</td>\n",
       "      <td>209</td>\n",
       "      <td>730</td>\n",
       "      <td>3157</td>\n",
       "      <td>0.940490</td>\n",
       "      <td>0.818993</td>\n",
       "      <td>0.818993</td>\n",
       "      <td>0.062092</td>\n",
       "    </tr>\n",
       "    <tr>\n",
       "      <th>60</th>\n",
       "      <td>0.6</td>\n",
       "      <td>3089</td>\n",
       "      <td>130</td>\n",
       "      <td>944</td>\n",
       "      <td>3236</td>\n",
       "      <td>0.959615</td>\n",
       "      <td>0.765931</td>\n",
       "      <td>0.765931</td>\n",
       "      <td>0.038622</td>\n",
       "    </tr>\n",
       "    <tr>\n",
       "      <th>70</th>\n",
       "      <td>0.7</td>\n",
       "      <td>3056</td>\n",
       "      <td>103</td>\n",
       "      <td>977</td>\n",
       "      <td>3263</td>\n",
       "      <td>0.967395</td>\n",
       "      <td>0.757749</td>\n",
       "      <td>0.757749</td>\n",
       "      <td>0.030600</td>\n",
       "    </tr>\n",
       "    <tr>\n",
       "      <th>80</th>\n",
       "      <td>0.8</td>\n",
       "      <td>2978</td>\n",
       "      <td>88</td>\n",
       "      <td>1055</td>\n",
       "      <td>3278</td>\n",
       "      <td>0.971298</td>\n",
       "      <td>0.738408</td>\n",
       "      <td>0.738408</td>\n",
       "      <td>0.026144</td>\n",
       "    </tr>\n",
       "    <tr>\n",
       "      <th>90</th>\n",
       "      <td>0.9</td>\n",
       "      <td>2778</td>\n",
       "      <td>84</td>\n",
       "      <td>1255</td>\n",
       "      <td>3282</td>\n",
       "      <td>0.970650</td>\n",
       "      <td>0.688817</td>\n",
       "      <td>0.688817</td>\n",
       "      <td>0.024955</td>\n",
       "    </tr>\n",
       "    <tr>\n",
       "      <th>100</th>\n",
       "      <td>1.0</td>\n",
       "      <td>0</td>\n",
       "      <td>0</td>\n",
       "      <td>4033</td>\n",
       "      <td>3366</td>\n",
       "      <td>NaN</td>\n",
       "      <td>0.000000</td>\n",
       "      <td>0.000000</td>\n",
       "      <td>0.000000</td>\n",
       "    </tr>\n",
       "  </tbody>\n",
       "</table>\n",
       "</div>"
      ],
      "text/plain": [
       "     threshold    tp    fp    fn    tn  precision    recall       tpr  \\\n",
       "0          0.0  4033  3366     0     0   0.545074  1.000000  1.000000   \n",
       "10         0.1  4030  2360     3  1006   0.630673  0.999256  0.999256   \n",
       "20         0.2  4003  1335    30  2031   0.749906  0.992561  0.992561   \n",
       "30         0.3  3952  1143    81  2223   0.775662  0.979916  0.979916   \n",
       "40         0.4  3772   666   261  2700   0.849932  0.935284  0.935284   \n",
       "50         0.5  3303   209   730  3157   0.940490  0.818993  0.818993   \n",
       "60         0.6  3089   130   944  3236   0.959615  0.765931  0.765931   \n",
       "70         0.7  3056   103   977  3263   0.967395  0.757749  0.757749   \n",
       "80         0.8  2978    88  1055  3278   0.971298  0.738408  0.738408   \n",
       "90         0.9  2778    84  1255  3282   0.970650  0.688817  0.688817   \n",
       "100        1.0     0     0  4033  3366        NaN  0.000000  0.000000   \n",
       "\n",
       "          fpr  \n",
       "0    1.000000  \n",
       "10   0.701129  \n",
       "20   0.396613  \n",
       "30   0.339572  \n",
       "40   0.197861  \n",
       "50   0.062092  \n",
       "60   0.038622  \n",
       "70   0.030600  \n",
       "80   0.026144  \n",
       "90   0.024955  \n",
       "100  0.000000  "
      ]
     },
     "execution_count": 86,
     "metadata": {},
     "output_type": "execute_result"
    }
   ],
   "source": [
    "df_scores[\"tpr\"] = df_scores.tp /(df_scores.tp + df_scores.fn)\n",
    "df_scores[\"fpr\"] = df_scores.fp /(df_scores.fp + df_scores.tn)\n",
    "\n",
    "df_scores [::10]"
   ]
  },
  {
   "cell_type": "code",
   "execution_count": 89,
   "id": "841a8beb",
   "metadata": {
    "ExecuteTime": {
     "end_time": "2022-11-10T11:52:04.106221Z",
     "start_time": "2022-11-10T11:52:03.926102Z"
    }
   },
   "outputs": [
    {
     "data": {
      "image/png": "[encoded data removed]",
      "text/plain": [
       "<Figure size 640x480 with 1 Axes>"
      ]
     },
     "metadata": {},
     "output_type": "display_data"
    }
   ],
   "source": [
    "# Plot precision and recall scores along with different thresholds\n",
    "plt.plot(df_scores.threshold, df_scores.precision, label='Precision')\n",
    "plt.plot(df_scores.threshold, df_scores.recall, label='recall')\n",
    "plt.xlabel('Threshold')\n",
    "plt.ylabel('Fraction (Precision & Recall)')\n",
    "plt.vlines(0.44, 0, 0.98, color='black', linestyle='--', alpha=0.5)\n",
    "plt.legend()\n",
    "plt.show()"
   ]
  },
  {
   "cell_type": "markdown",
   "id": "5dbc0a14",
   "metadata": {},
   "source": [
    "### F1 score"
   ]
  },
  {
   "cell_type": "markdown",
   "id": "ec909b46",
   "metadata": {
    "ExecuteTime": {
     "end_time": "2022-11-05T11:44:20.415479Z",
     "start_time": "2022-11-05T11:44:20.394846Z"
    }
   },
   "source": [
    "Precision and reacll are conflicting - when one grows, the other goes down. That's why they are often combined into the F1 score - a metrics that takes into account both.\n",
    "\n",
    " \n",
    "Let's compute F1 for all thresholds from 0.0 to 1.0 with increment 0.01.\n",
    "\n",
    "At which threshold F1 is maximal?"
   ]
  },
  {
   "cell_type": "code",
   "execution_count": 90,
   "id": "4e9d7dba",
   "metadata": {
    "ExecuteTime": {
     "end_time": "2022-11-10T11:52:21.374290Z",
     "start_time": "2022-11-10T11:52:21.354285Z"
    }
   },
   "outputs": [
    {
     "data": {
      "text/html": [
       "<div>\n",
       "<style scoped>\n",
       "    .dataframe tbody tr th:only-of-type {\n",
       "        vertical-align: middle;\n",
       "    }\n",
       "\n",
       "    .dataframe tbody tr th {\n",
       "        vertical-align: top;\n",
       "    }\n",
       "\n",
       "    .dataframe thead th {\n",
       "        text-align: right;\n",
       "    }\n",
       "</style>\n",
       "<table border=\"1\" class=\"dataframe\">\n",
       "  <thead>\n",
       "    <tr style=\"text-align: right;\">\n",
       "      <th></th>\n",
       "      <th>threshold</th>\n",
       "      <th>tp</th>\n",
       "      <th>fp</th>\n",
       "      <th>fn</th>\n",
       "      <th>tn</th>\n",
       "      <th>precision</th>\n",
       "      <th>recall</th>\n",
       "      <th>tpr</th>\n",
       "      <th>fpr</th>\n",
       "      <th>f1</th>\n",
       "    </tr>\n",
       "  </thead>\n",
       "  <tbody>\n",
       "    <tr>\n",
       "      <th>0</th>\n",
       "      <td>0.0</td>\n",
       "      <td>4033</td>\n",
       "      <td>3366</td>\n",
       "      <td>0</td>\n",
       "      <td>0</td>\n",
       "      <td>0.545074</td>\n",
       "      <td>1.000000</td>\n",
       "      <td>1.000000</td>\n",
       "      <td>1.000000</td>\n",
       "      <td>0.705563</td>\n",
       "    </tr>\n",
       "    <tr>\n",
       "      <th>10</th>\n",
       "      <td>0.1</td>\n",
       "      <td>4030</td>\n",
       "      <td>2360</td>\n",
       "      <td>3</td>\n",
       "      <td>1006</td>\n",
       "      <td>0.630673</td>\n",
       "      <td>0.999256</td>\n",
       "      <td>0.999256</td>\n",
       "      <td>0.701129</td>\n",
       "      <td>0.773290</td>\n",
       "    </tr>\n",
       "    <tr>\n",
       "      <th>20</th>\n",
       "      <td>0.2</td>\n",
       "      <td>4003</td>\n",
       "      <td>1335</td>\n",
       "      <td>30</td>\n",
       "      <td>2031</td>\n",
       "      <td>0.749906</td>\n",
       "      <td>0.992561</td>\n",
       "      <td>0.992561</td>\n",
       "      <td>0.396613</td>\n",
       "      <td>0.854338</td>\n",
       "    </tr>\n",
       "    <tr>\n",
       "      <th>30</th>\n",
       "      <td>0.3</td>\n",
       "      <td>3952</td>\n",
       "      <td>1143</td>\n",
       "      <td>81</td>\n",
       "      <td>2223</td>\n",
       "      <td>0.775662</td>\n",
       "      <td>0.979916</td>\n",
       "      <td>0.979916</td>\n",
       "      <td>0.339572</td>\n",
       "      <td>0.865907</td>\n",
       "    </tr>\n",
       "    <tr>\n",
       "      <th>40</th>\n",
       "      <td>0.4</td>\n",
       "      <td>3772</td>\n",
       "      <td>666</td>\n",
       "      <td>261</td>\n",
       "      <td>2700</td>\n",
       "      <td>0.849932</td>\n",
       "      <td>0.935284</td>\n",
       "      <td>0.935284</td>\n",
       "      <td>0.197861</td>\n",
       "      <td>0.890568</td>\n",
       "    </tr>\n",
       "    <tr>\n",
       "      <th>50</th>\n",
       "      <td>0.5</td>\n",
       "      <td>3303</td>\n",
       "      <td>209</td>\n",
       "      <td>730</td>\n",
       "      <td>3157</td>\n",
       "      <td>0.940490</td>\n",
       "      <td>0.818993</td>\n",
       "      <td>0.818993</td>\n",
       "      <td>0.062092</td>\n",
       "      <td>0.875547</td>\n",
       "    </tr>\n",
       "    <tr>\n",
       "      <th>60</th>\n",
       "      <td>0.6</td>\n",
       "      <td>3089</td>\n",
       "      <td>130</td>\n",
       "      <td>944</td>\n",
       "      <td>3236</td>\n",
       "      <td>0.959615</td>\n",
       "      <td>0.765931</td>\n",
       "      <td>0.765931</td>\n",
       "      <td>0.038622</td>\n",
       "      <td>0.851903</td>\n",
       "    </tr>\n",
       "    <tr>\n",
       "      <th>70</th>\n",
       "      <td>0.7</td>\n",
       "      <td>3056</td>\n",
       "      <td>103</td>\n",
       "      <td>977</td>\n",
       "      <td>3263</td>\n",
       "      <td>0.967395</td>\n",
       "      <td>0.757749</td>\n",
       "      <td>0.757749</td>\n",
       "      <td>0.030600</td>\n",
       "      <td>0.849833</td>\n",
       "    </tr>\n",
       "    <tr>\n",
       "      <th>80</th>\n",
       "      <td>0.8</td>\n",
       "      <td>2978</td>\n",
       "      <td>88</td>\n",
       "      <td>1055</td>\n",
       "      <td>3278</td>\n",
       "      <td>0.971298</td>\n",
       "      <td>0.738408</td>\n",
       "      <td>0.738408</td>\n",
       "      <td>0.026144</td>\n",
       "      <td>0.838991</td>\n",
       "    </tr>\n",
       "    <tr>\n",
       "      <th>90</th>\n",
       "      <td>0.9</td>\n",
       "      <td>2778</td>\n",
       "      <td>84</td>\n",
       "      <td>1255</td>\n",
       "      <td>3282</td>\n",
       "      <td>0.970650</td>\n",
       "      <td>0.688817</td>\n",
       "      <td>0.688817</td>\n",
       "      <td>0.024955</td>\n",
       "      <td>0.805801</td>\n",
       "    </tr>\n",
       "    <tr>\n",
       "      <th>100</th>\n",
       "      <td>1.0</td>\n",
       "      <td>0</td>\n",
       "      <td>0</td>\n",
       "      <td>4033</td>\n",
       "      <td>3366</td>\n",
       "      <td>NaN</td>\n",
       "      <td>0.000000</td>\n",
       "      <td>0.000000</td>\n",
       "      <td>0.000000</td>\n",
       "      <td>NaN</td>\n",
       "    </tr>\n",
       "  </tbody>\n",
       "</table>\n",
       "</div>"
      ],
      "text/plain": [
       "     threshold    tp    fp    fn    tn  precision    recall       tpr  \\\n",
       "0          0.0  4033  3366     0     0   0.545074  1.000000  1.000000   \n",
       "10         0.1  4030  2360     3  1006   0.630673  0.999256  0.999256   \n",
       "20         0.2  4003  1335    30  2031   0.749906  0.992561  0.992561   \n",
       "30         0.3  3952  1143    81  2223   0.775662  0.979916  0.979916   \n",
       "40         0.4  3772   666   261  2700   0.849932  0.935284  0.935284   \n",
       "50         0.5  3303   209   730  3157   0.940490  0.818993  0.818993   \n",
       "60         0.6  3089   130   944  3236   0.959615  0.765931  0.765931   \n",
       "70         0.7  3056   103   977  3263   0.967395  0.757749  0.757749   \n",
       "80         0.8  2978    88  1055  3278   0.971298  0.738408  0.738408   \n",
       "90         0.9  2778    84  1255  3282   0.970650  0.688817  0.688817   \n",
       "100        1.0     0     0  4033  3366        NaN  0.000000  0.000000   \n",
       "\n",
       "          fpr        f1  \n",
       "0    1.000000  0.705563  \n",
       "10   0.701129  0.773290  \n",
       "20   0.396613  0.854338  \n",
       "30   0.339572  0.865907  \n",
       "40   0.197861  0.890568  \n",
       "50   0.062092  0.875547  \n",
       "60   0.038622  0.851903  \n",
       "70   0.030600  0.849833  \n",
       "80   0.026144  0.838991  \n",
       "90   0.024955  0.805801  \n",
       "100  0.000000       NaN  "
      ]
     },
     "execution_count": 90,
     "metadata": {},
     "output_type": "execute_result"
    }
   ],
   "source": [
    "# Calculate and create 'F1' column\n",
    "df_scores['f1'] = 2 * df_scores.precision * df_scores.recall / (df_scores.precision + df_scores.recall)\n",
    "df_scores[::10]"
   ]
  },
  {
   "cell_type": "code",
   "execution_count": 93,
   "id": "16f79fde",
   "metadata": {
    "ExecuteTime": {
     "end_time": "2022-11-10T11:52:59.367829Z",
     "start_time": "2022-11-10T11:52:59.230726Z"
    }
   },
   "outputs": [
    {
     "data": {
      "image/png": "[encoded data removed]",
      "text/plain": [
       "<Figure size 640x480 with 1 Axes>"
      ]
     },
     "metadata": {},
     "output_type": "display_data"
    }
   ],
   "source": [
    "# Plot f1 scores along with different thresholds\n",
    "plt.plot(df_scores.threshold, df_scores.f1)\n",
    "plt.xlabel('Threshold')\n",
    "plt.ylabel('F1 score')\n",
    "plt.vlines(0.4, 0.89, 0.982, color='green', linestyle='--', alpha=0.5)\n",
    "\n",
    "plt.show()"
   ]
  },
  {
   "cell_type": "code",
   "execution_count": null,
   "id": "a9c6a4f8",
   "metadata": {},
   "outputs": [],
   "source": []
  },
  {
   "cell_type": "markdown",
   "id": "3ef5200f",
   "metadata": {},
   "source": [
    "## Decision Trees"
   ]
  },
  {
   "cell_type": "markdown",
   "id": "cb57a5b3",
   "metadata": {},
   "source": [
    "### Decision trees parameter tuning\n",
    "\n",
    "* selecting `max_depth`\n",
    "* selecting `min_samples_leaf`"
   ]
  },
  {
   "cell_type": "code",
   "execution_count": 94,
   "id": "cad49d92",
   "metadata": {
    "ExecuteTime": {
     "end_time": "2022-11-10T11:59:26.505064Z",
     "start_time": "2022-11-10T11:53:15.637748Z"
    }
   },
   "outputs": [
    {
     "name": "stdout",
     "output_type": "stream",
     "text": [
      "   1 -> 0.824\n",
      "   2 -> 0.878\n",
      "   3 -> 0.925\n",
      "   4 -> 0.940\n",
      "   5 -> 0.960\n",
      "   6 -> 0.972\n",
      "  10 -> 0.976\n",
      "  15 -> 0.960\n",
      "  20 -> 0.930\n"
     ]
    }
   ],
   "source": [
    "### Playing with the max depth in the decision Tree class\n",
    "depths = [1, 2, 3, 4, 5, 6, 10, 15, 20]\n",
    "\n",
    "for depth in depths: \n",
    "    dt = DecisionTreeClassifier(max_depth=depth)\n",
    "    dt.fit(X_train, y_train)\n",
    "    \n",
    "    y_pred = dt.predict_proba(X_val)[:, 1]\n",
    "    auc = roc_auc_score(y_val, y_pred)\n",
    "    \n",
    "    print('%4s -> %.3f' % (depth, auc))"
   ]
  },
  {
   "cell_type": "markdown",
   "id": "44d92ebd",
   "metadata": {},
   "source": [
    "From the results above, depths 5,6,10 have the best auc. Looping with those depths and a new list of min samples"
   ]
  },
  {
   "cell_type": "code",
   "execution_count": 95,
   "id": "c65fe05b",
   "metadata": {
    "ExecuteTime": {
     "end_time": "2022-11-10T12:16:37.127322Z",
     "start_time": "2022-11-10T11:59:26.518185Z"
    }
   },
   "outputs": [],
   "source": [
    "scores = []\n",
    "\n",
    "for depth in [5, 6, 10]:\n",
    "    for s in [1, 5, 10, 15, 20, 50]:\n",
    "        dt = DecisionTreeClassifier(max_depth=depth, min_samples_leaf=s)\n",
    "        dt.fit(X_train, y_train)\n",
    "\n",
    "        y_pred = dt.predict_proba(X_val)[:, 1]\n",
    "        auc = roc_auc_score(y_val, y_pred)\n",
    "        \n",
    "        scores.append((depth, s, auc))"
   ]
  },
  {
   "cell_type": "code",
   "execution_count": 96,
   "id": "1b99d959",
   "metadata": {
    "ExecuteTime": {
     "end_time": "2022-11-10T12:16:37.204711Z",
     "start_time": "2022-11-10T12:16:37.143015Z"
    }
   },
   "outputs": [],
   "source": [
    "columns = ['max_depth', 'min_samples_leaf', 'auc']\n",
    "df_scores = pd.DataFrame(scores, columns=columns)"
   ]
  },
  {
   "cell_type": "code",
   "execution_count": 97,
   "id": "3a988a2f",
   "metadata": {
    "ExecuteTime": {
     "end_time": "2022-11-10T12:16:37.281834Z",
     "start_time": "2022-11-10T12:16:37.217105Z"
    }
   },
   "outputs": [
    {
     "data": {
      "text/html": [
       "<div>\n",
       "<style scoped>\n",
       "    .dataframe tbody tr th:only-of-type {\n",
       "        vertical-align: middle;\n",
       "    }\n",
       "\n",
       "    .dataframe tbody tr th {\n",
       "        vertical-align: top;\n",
       "    }\n",
       "\n",
       "    .dataframe thead th {\n",
       "        text-align: right;\n",
       "    }\n",
       "</style>\n",
       "<table border=\"1\" class=\"dataframe\">\n",
       "  <thead>\n",
       "    <tr style=\"text-align: right;\">\n",
       "      <th></th>\n",
       "      <th>max_depth</th>\n",
       "      <th>min_samples_leaf</th>\n",
       "      <th>auc</th>\n",
       "    </tr>\n",
       "  </thead>\n",
       "  <tbody>\n",
       "    <tr>\n",
       "      <th>0</th>\n",
       "      <td>5</td>\n",
       "      <td>1</td>\n",
       "      <td>0.959926</td>\n",
       "    </tr>\n",
       "    <tr>\n",
       "      <th>1</th>\n",
       "      <td>5</td>\n",
       "      <td>5</td>\n",
       "      <td>0.959522</td>\n",
       "    </tr>\n",
       "    <tr>\n",
       "      <th>2</th>\n",
       "      <td>5</td>\n",
       "      <td>10</td>\n",
       "      <td>0.959530</td>\n",
       "    </tr>\n",
       "    <tr>\n",
       "      <th>3</th>\n",
       "      <td>5</td>\n",
       "      <td>15</td>\n",
       "      <td>0.959541</td>\n",
       "    </tr>\n",
       "    <tr>\n",
       "      <th>4</th>\n",
       "      <td>5</td>\n",
       "      <td>20</td>\n",
       "      <td>0.959690</td>\n",
       "    </tr>\n",
       "  </tbody>\n",
       "</table>\n",
       "</div>"
      ],
      "text/plain": [
       "   max_depth  min_samples_leaf       auc\n",
       "0          5                 1  0.959926\n",
       "1          5                 5  0.959522\n",
       "2          5                10  0.959530\n",
       "3          5                15  0.959541\n",
       "4          5                20  0.959690"
      ]
     },
     "execution_count": 97,
     "metadata": {},
     "output_type": "execute_result"
    }
   ],
   "source": [
    "df_scores.head()"
   ]
  },
  {
   "cell_type": "code",
   "execution_count": 98,
   "id": "856d8654",
   "metadata": {
    "ExecuteTime": {
     "end_time": "2022-11-10T12:16:37.328288Z",
     "start_time": "2022-11-10T12:16:37.287646Z"
    }
   },
   "outputs": [
    {
     "data": {
      "text/html": [
       "<div>\n",
       "<style scoped>\n",
       "    .dataframe tbody tr th:only-of-type {\n",
       "        vertical-align: middle;\n",
       "    }\n",
       "\n",
       "    .dataframe tbody tr th {\n",
       "        vertical-align: top;\n",
       "    }\n",
       "\n",
       "    .dataframe thead th {\n",
       "        text-align: right;\n",
       "    }\n",
       "</style>\n",
       "<table border=\"1\" class=\"dataframe\">\n",
       "  <thead>\n",
       "    <tr style=\"text-align: right;\">\n",
       "      <th></th>\n",
       "      <th>max_depth</th>\n",
       "      <th>min_samples_leaf</th>\n",
       "      <th>auc</th>\n",
       "    </tr>\n",
       "  </thead>\n",
       "  <tbody>\n",
       "    <tr>\n",
       "      <th>14</th>\n",
       "      <td>10</td>\n",
       "      <td>10</td>\n",
       "      <td>0.977592</td>\n",
       "    </tr>\n",
       "    <tr>\n",
       "      <th>15</th>\n",
       "      <td>10</td>\n",
       "      <td>15</td>\n",
       "      <td>0.977478</td>\n",
       "    </tr>\n",
       "    <tr>\n",
       "      <th>16</th>\n",
       "      <td>10</td>\n",
       "      <td>20</td>\n",
       "      <td>0.976828</td>\n",
       "    </tr>\n",
       "    <tr>\n",
       "      <th>12</th>\n",
       "      <td>10</td>\n",
       "      <td>1</td>\n",
       "      <td>0.976136</td>\n",
       "    </tr>\n",
       "    <tr>\n",
       "      <th>17</th>\n",
       "      <td>10</td>\n",
       "      <td>50</td>\n",
       "      <td>0.975873</td>\n",
       "    </tr>\n",
       "    <tr>\n",
       "      <th>13</th>\n",
       "      <td>10</td>\n",
       "      <td>5</td>\n",
       "      <td>0.975590</td>\n",
       "    </tr>\n",
       "    <tr>\n",
       "      <th>7</th>\n",
       "      <td>6</td>\n",
       "      <td>5</td>\n",
       "      <td>0.972723</td>\n",
       "    </tr>\n",
       "    <tr>\n",
       "      <th>9</th>\n",
       "      <td>6</td>\n",
       "      <td>15</td>\n",
       "      <td>0.972691</td>\n",
       "    </tr>\n",
       "    <tr>\n",
       "      <th>8</th>\n",
       "      <td>6</td>\n",
       "      <td>10</td>\n",
       "      <td>0.972519</td>\n",
       "    </tr>\n",
       "    <tr>\n",
       "      <th>10</th>\n",
       "      <td>6</td>\n",
       "      <td>20</td>\n",
       "      <td>0.972511</td>\n",
       "    </tr>\n",
       "    <tr>\n",
       "      <th>6</th>\n",
       "      <td>6</td>\n",
       "      <td>1</td>\n",
       "      <td>0.972385</td>\n",
       "    </tr>\n",
       "    <tr>\n",
       "      <th>11</th>\n",
       "      <td>6</td>\n",
       "      <td>50</td>\n",
       "      <td>0.972314</td>\n",
       "    </tr>\n",
       "    <tr>\n",
       "      <th>0</th>\n",
       "      <td>5</td>\n",
       "      <td>1</td>\n",
       "      <td>0.959926</td>\n",
       "    </tr>\n",
       "    <tr>\n",
       "      <th>4</th>\n",
       "      <td>5</td>\n",
       "      <td>20</td>\n",
       "      <td>0.959690</td>\n",
       "    </tr>\n",
       "    <tr>\n",
       "      <th>3</th>\n",
       "      <td>5</td>\n",
       "      <td>15</td>\n",
       "      <td>0.959541</td>\n",
       "    </tr>\n",
       "    <tr>\n",
       "      <th>2</th>\n",
       "      <td>5</td>\n",
       "      <td>10</td>\n",
       "      <td>0.959530</td>\n",
       "    </tr>\n",
       "    <tr>\n",
       "      <th>1</th>\n",
       "      <td>5</td>\n",
       "      <td>5</td>\n",
       "      <td>0.959522</td>\n",
       "    </tr>\n",
       "    <tr>\n",
       "      <th>5</th>\n",
       "      <td>5</td>\n",
       "      <td>50</td>\n",
       "      <td>0.959443</td>\n",
       "    </tr>\n",
       "  </tbody>\n",
       "</table>\n",
       "</div>"
      ],
      "text/plain": [
       "    max_depth  min_samples_leaf       auc\n",
       "14         10                10  0.977592\n",
       "15         10                15  0.977478\n",
       "16         10                20  0.976828\n",
       "12         10                 1  0.976136\n",
       "17         10                50  0.975873\n",
       "13         10                 5  0.975590\n",
       "7           6                 5  0.972723\n",
       "9           6                15  0.972691\n",
       "8           6                10  0.972519\n",
       "10          6                20  0.972511\n",
       "6           6                 1  0.972385\n",
       "11          6                50  0.972314\n",
       "0           5                 1  0.959926\n",
       "4           5                20  0.959690\n",
       "3           5                15  0.959541\n",
       "2           5                10  0.959530\n",
       "1           5                 5  0.959522\n",
       "5           5                50  0.959443"
      ]
     },
     "execution_count": 98,
     "metadata": {},
     "output_type": "execute_result"
    }
   ],
   "source": [
    "df_scores.sort_values(by='auc', ascending=False)"
   ]
  },
  {
   "cell_type": "code",
   "execution_count": 99,
   "id": "7865b3e1",
   "metadata": {
    "ExecuteTime": {
     "end_time": "2022-11-10T12:19:05.916273Z",
     "start_time": "2022-11-10T12:16:37.335225Z"
    }
   },
   "outputs": [
    {
     "data": {
      "text/plain": [
       "DecisionTreeClassifier(max_depth=10, min_samples_leaf=10)"
      ]
     },
     "execution_count": 99,
     "metadata": {},
     "output_type": "execute_result"
    }
   ],
   "source": [
    "dt = DecisionTreeClassifier(max_depth=10, min_samples_leaf=10)\n",
    "dt.fit(X_train, y_train)"
   ]
  },
  {
   "cell_type": "code",
   "execution_count": null,
   "id": "e1dcfe42",
   "metadata": {},
   "outputs": [],
   "source": []
  },
  {
   "cell_type": "markdown",
   "id": "51baac64",
   "metadata": {},
   "source": [
    "## Ensembles and random forest\n",
    "\n",
    "- Ensembling models\n",
    "- Random forest - ensembling decision trees\n",
    "- Tuning random forest"
   ]
  },
  {
   "cell_type": "markdown",
   "id": "37336689",
   "metadata": {},
   "source": [
    "Random forest means having multiple decision trees and going with the average. It's like having a panel of experts in a loan application and going with the most distribution. Each of the trees get a different (random) set of features."
   ]
  },
  {
   "cell_type": "markdown",
   "id": "2f82b957",
   "metadata": {},
   "source": [
    "This takes significantly long to run. "
   ]
  },
  {
   "cell_type": "code",
   "execution_count": 100,
   "id": "0164bf23",
   "metadata": {
    "ExecuteTime": {
     "end_time": "2022-11-10T14:17:15.459950Z",
     "start_time": "2022-11-10T12:27:20.336126Z"
    }
   },
   "outputs": [],
   "source": [
    "scores = []\n",
    "\n",
    "for n in range(10, 201, 10):\n",
    "    rf = RandomForestClassifier(n_estimators=n, random_state=1)\n",
    "    rf.fit(X_train, y_train)\n",
    "\n",
    "    y_pred = rf.predict_proba(X_val)[:, 1]\n",
    "    auc = roc_auc_score(y_val, y_pred)\n",
    "    \n",
    "    scores.append((n, auc))"
   ]
  },
  {
   "cell_type": "code",
   "execution_count": 101,
   "id": "646c8902",
   "metadata": {
    "ExecuteTime": {
     "end_time": "2022-11-10T14:17:15.522673Z",
     "start_time": "2022-11-10T14:17:15.472950Z"
    }
   },
   "outputs": [],
   "source": [
    "df_scores = pd.DataFrame(scores, columns=['n_estimators', 'auc'])"
   ]
  },
  {
   "cell_type": "code",
   "execution_count": 102,
   "id": "d218a7f0",
   "metadata": {
    "ExecuteTime": {
     "end_time": "2022-11-10T14:17:15.931982Z",
     "start_time": "2022-11-10T14:17:15.527690Z"
    }
   },
   "outputs": [
    {
     "data": {
      "text/plain": [
       "[<matplotlib.lines.Line2D at 0x1f0430173a0>]"
      ]
     },
     "execution_count": 102,
     "metadata": {},
     "output_type": "execute_result"
    },
    {
     "data": {
      "image/png": "[encoded data removed]",
      "text/plain": [
       "<Figure size 640x480 with 1 Axes>"
      ]
     },
     "metadata": {},
     "output_type": "display_data"
    }
   ],
   "source": [
    "plt.plot(df_scores.n_estimators, df_scores.auc)"
   ]
  },
  {
   "cell_type": "code",
   "execution_count": 103,
   "id": "59f2099a",
   "metadata": {
    "ExecuteTime": {
     "end_time": "2022-11-10T14:17:15.964052Z",
     "start_time": "2022-11-10T14:17:15.937979Z"
    }
   },
   "outputs": [
    {
     "data": {
      "text/html": [
       "<div>\n",
       "<style scoped>\n",
       "    .dataframe tbody tr th:only-of-type {\n",
       "        vertical-align: middle;\n",
       "    }\n",
       "\n",
       "    .dataframe tbody tr th {\n",
       "        vertical-align: top;\n",
       "    }\n",
       "\n",
       "    .dataframe thead th {\n",
       "        text-align: right;\n",
       "    }\n",
       "</style>\n",
       "<table border=\"1\" class=\"dataframe\">\n",
       "  <thead>\n",
       "    <tr style=\"text-align: right;\">\n",
       "      <th></th>\n",
       "      <th>n_estimators</th>\n",
       "      <th>auc</th>\n",
       "    </tr>\n",
       "  </thead>\n",
       "  <tbody>\n",
       "    <tr>\n",
       "      <th>0</th>\n",
       "      <td>10</td>\n",
       "      <td>0.956708</td>\n",
       "    </tr>\n",
       "    <tr>\n",
       "      <th>1</th>\n",
       "      <td>20</td>\n",
       "      <td>0.965139</td>\n",
       "    </tr>\n",
       "    <tr>\n",
       "      <th>2</th>\n",
       "      <td>30</td>\n",
       "      <td>0.968562</td>\n",
       "    </tr>\n",
       "    <tr>\n",
       "      <th>3</th>\n",
       "      <td>40</td>\n",
       "      <td>0.969260</td>\n",
       "    </tr>\n",
       "    <tr>\n",
       "      <th>4</th>\n",
       "      <td>50</td>\n",
       "      <td>0.970294</td>\n",
       "    </tr>\n",
       "    <tr>\n",
       "      <th>5</th>\n",
       "      <td>60</td>\n",
       "      <td>0.970905</td>\n",
       "    </tr>\n",
       "    <tr>\n",
       "      <th>6</th>\n",
       "      <td>70</td>\n",
       "      <td>0.971444</td>\n",
       "    </tr>\n",
       "    <tr>\n",
       "      <th>7</th>\n",
       "      <td>80</td>\n",
       "      <td>0.971872</td>\n",
       "    </tr>\n",
       "    <tr>\n",
       "      <th>8</th>\n",
       "      <td>90</td>\n",
       "      <td>0.971950</td>\n",
       "    </tr>\n",
       "    <tr>\n",
       "      <th>9</th>\n",
       "      <td>100</td>\n",
       "      <td>0.971962</td>\n",
       "    </tr>\n",
       "    <tr>\n",
       "      <th>10</th>\n",
       "      <td>110</td>\n",
       "      <td>0.972129</td>\n",
       "    </tr>\n",
       "    <tr>\n",
       "      <th>11</th>\n",
       "      <td>120</td>\n",
       "      <td>0.972102</td>\n",
       "    </tr>\n",
       "    <tr>\n",
       "      <th>12</th>\n",
       "      <td>130</td>\n",
       "      <td>0.972208</td>\n",
       "    </tr>\n",
       "    <tr>\n",
       "      <th>13</th>\n",
       "      <td>140</td>\n",
       "      <td>0.972038</td>\n",
       "    </tr>\n",
       "    <tr>\n",
       "      <th>14</th>\n",
       "      <td>150</td>\n",
       "      <td>0.972302</td>\n",
       "    </tr>\n",
       "    <tr>\n",
       "      <th>15</th>\n",
       "      <td>160</td>\n",
       "      <td>0.972241</td>\n",
       "    </tr>\n",
       "    <tr>\n",
       "      <th>16</th>\n",
       "      <td>170</td>\n",
       "      <td>0.972411</td>\n",
       "    </tr>\n",
       "    <tr>\n",
       "      <th>17</th>\n",
       "      <td>180</td>\n",
       "      <td>0.972277</td>\n",
       "    </tr>\n",
       "    <tr>\n",
       "      <th>18</th>\n",
       "      <td>190</td>\n",
       "      <td>0.972286</td>\n",
       "    </tr>\n",
       "    <tr>\n",
       "      <th>19</th>\n",
       "      <td>200</td>\n",
       "      <td>0.972224</td>\n",
       "    </tr>\n",
       "  </tbody>\n",
       "</table>\n",
       "</div>"
      ],
      "text/plain": [
       "    n_estimators       auc\n",
       "0             10  0.956708\n",
       "1             20  0.965139\n",
       "2             30  0.968562\n",
       "3             40  0.969260\n",
       "4             50  0.970294\n",
       "5             60  0.970905\n",
       "6             70  0.971444\n",
       "7             80  0.971872\n",
       "8             90  0.971950\n",
       "9            100  0.971962\n",
       "10           110  0.972129\n",
       "11           120  0.972102\n",
       "12           130  0.972208\n",
       "13           140  0.972038\n",
       "14           150  0.972302\n",
       "15           160  0.972241\n",
       "16           170  0.972411\n",
       "17           180  0.972277\n",
       "18           190  0.972286\n",
       "19           200  0.972224"
      ]
     },
     "execution_count": 103,
     "metadata": {},
     "output_type": "execute_result"
    }
   ],
   "source": [
    "df_scores"
   ]
  },
  {
   "cell_type": "markdown",
   "id": "a34ce577",
   "metadata": {},
   "source": [
    "### Random forest Hyper parameter Tuning"
   ]
  },
  {
   "cell_type": "code",
   "execution_count": 104,
   "id": "881038d8",
   "metadata": {
    "ExecuteTime": {
     "end_time": "2022-11-10T14:45:16.481413Z",
     "start_time": "2022-11-10T14:44:05.934457Z"
    }
   },
   "outputs": [],
   "source": [
    "## For 50\n",
    "scores = []\n",
    "\n",
    "for d in [5, 10, 15]:\n",
    "    rf = RandomForestClassifier(n_estimators=50,\n",
    "                                max_depth=d,\n",
    "                                random_state=1)\n",
    "    rf.fit(X_train, y_train)\n",
    "\n",
    "    y_pred = rf.predict_proba(X_val)[:, 1]\n",
    "    auc = roc_auc_score(y_val, y_pred)\n",
    "\n",
    "    scores.append((d, auc))"
   ]
  },
  {
   "cell_type": "code",
   "execution_count": 107,
   "id": "cb2fa755",
   "metadata": {
    "ExecuteTime": {
     "end_time": "2022-11-10T14:59:54.036500Z",
     "start_time": "2022-11-10T14:53:20.968692Z"
    }
   },
   "outputs": [
    {
     "data": {
      "text/plain": [
       "[(5, 50, 0.9637251808055911),\n",
       " (5, 110, 0.9653191311313276),\n",
       " (5, 150, 0.9630542454341698),\n",
       " (10, 50, 0.9607152901810214),\n",
       " (10, 110, 0.9656987974581067),\n",
       " (10, 150, 0.9648105152692309),\n",
       " (15, 50, 0.9641964488159847),\n",
       " (15, 110, 0.9660820365083722),\n",
       " (15, 150, 0.9662583890862361)]"
      ]
     },
     "execution_count": 107,
     "metadata": {},
     "output_type": "execute_result"
    }
   ],
   "source": [
    "scores = []\n",
    "\n",
    "for d in [5, 10, 15]:\n",
    "    for n in [50, 110, 150]:\n",
    "        rf = RandomForestClassifier(n_estimators=n,\n",
    "                                    max_depth=d,\n",
    "                                    random_state=1)\n",
    "        rf.fit(X_train, y_train)\n",
    "\n",
    "        y_pred = rf.predict_proba(X_val)[:, 1]\n",
    "        auc = roc_auc_score(y_val, y_pred)\n",
    "\n",
    "        scores.append((d, n, auc))\n",
    "\n",
    "scores"
   ]
  },
  {
   "cell_type": "code",
   "execution_count": 108,
   "id": "f9ea32b1",
   "metadata": {
    "ExecuteTime": {
     "end_time": "2022-11-10T15:04:18.681247Z",
     "start_time": "2022-11-10T15:04:18.670254Z"
    }
   },
   "outputs": [
    {
     "data": {
      "text/plain": [
       "[(5, 50, 0.9637251808055911),\n",
       " (5, 110, 0.9653191311313276),\n",
       " (5, 150, 0.9630542454341698),\n",
       " (10, 50, 0.9607152901810214),\n",
       " (10, 110, 0.9656987974581067),\n",
       " (10, 150, 0.9648105152692309),\n",
       " (15, 50, 0.9641964488159847),\n",
       " (15, 110, 0.9660820365083722),\n",
       " (15, 150, 0.9662583890862361)]"
      ]
     },
     "execution_count": 108,
     "metadata": {},
     "output_type": "execute_result"
    }
   ],
   "source": [
    "scores"
   ]
  },
  {
   "cell_type": "code",
   "execution_count": 109,
   "id": "85d01653",
   "metadata": {
    "ExecuteTime": {
     "end_time": "2022-11-10T15:04:48.734214Z",
     "start_time": "2022-11-10T15:04:48.714185Z"
    }
   },
   "outputs": [],
   "source": [
    "columns = ['max_depth', 'n_estimators', 'auc']\n",
    "df_scores = pd.DataFrame(scores, columns=columns)"
   ]
  },
  {
   "cell_type": "code",
   "execution_count": 110,
   "id": "a3b31ed2",
   "metadata": {
    "ExecuteTime": {
     "end_time": "2022-11-10T15:04:50.508961Z",
     "start_time": "2022-11-10T15:04:50.212607Z"
    }
   },
   "outputs": [
    {
     "data": {
      "text/plain": [
       "<matplotlib.legend.Legend at 0x1f0430305e0>"
      ]
     },
     "execution_count": 110,
     "metadata": {},
     "output_type": "execute_result"
    },
    {
     "data": {
      "image/png": "[encoded data removed]",
      "text/plain": [
       "<Figure size 640x480 with 1 Axes>"
      ]
     },
     "metadata": {},
     "output_type": "display_data"
    }
   ],
   "source": [
    "for d in [5, 10, 15]:\n",
    "    df_subset = df_scores[df_scores.max_depth == d]\n",
    "    \n",
    "    plt.plot(df_subset.n_estimators, df_subset.auc,\n",
    "             label='max_depth=%d' % d)\n",
    "\n",
    "plt.legend()"
   ]
  },
  {
   "cell_type": "code",
   "execution_count": 116,
   "id": "73ca7c58",
   "metadata": {
    "ExecuteTime": {
     "end_time": "2022-11-10T15:24:40.227149Z",
     "start_time": "2022-11-10T15:24:40.208618Z"
    }
   },
   "outputs": [],
   "source": [
    "### 10 is the best value\n",
    "max_depth =15\n"
   ]
  },
  {
   "cell_type": "code",
   "execution_count": 117,
   "id": "6c02728e",
   "metadata": {
    "ExecuteTime": {
     "end_time": "2022-11-10T15:29:23.890156Z",
     "start_time": "2022-11-10T15:24:54.038908Z"
    }
   },
   "outputs": [],
   "source": [
    "scores = []\n",
    "\n",
    "for s in [1, 3, 5, 10, 50]:\n",
    "    for n in [50,110,150]:\n",
    "        rf = RandomForestClassifier(n_estimators=n,\n",
    "                                    max_depth=max_depth,\n",
    "                                    min_samples_leaf=s,\n",
    "                                    random_state=1)\n",
    "        rf.fit(X_train, y_train)\n",
    "\n",
    "        y_pred = rf.predict_proba(X_val)[:, 1]\n",
    "        auc = roc_auc_score(y_val, y_pred)\n",
    "\n",
    "        scores.append((s, n, auc))"
   ]
  },
  {
   "cell_type": "code",
   "execution_count": 118,
   "id": "9e6ce4c6",
   "metadata": {
    "ExecuteTime": {
     "end_time": "2022-11-10T15:29:23.921143Z",
     "start_time": "2022-11-10T15:29:23.893101Z"
    }
   },
   "outputs": [
    {
     "data": {
      "text/html": [
       "<div>\n",
       "<style scoped>\n",
       "    .dataframe tbody tr th:only-of-type {\n",
       "        vertical-align: middle;\n",
       "    }\n",
       "\n",
       "    .dataframe tbody tr th {\n",
       "        vertical-align: top;\n",
       "    }\n",
       "\n",
       "    .dataframe thead th {\n",
       "        text-align: right;\n",
       "    }\n",
       "</style>\n",
       "<table border=\"1\" class=\"dataframe\">\n",
       "  <thead>\n",
       "    <tr style=\"text-align: right;\">\n",
       "      <th></th>\n",
       "      <th>min_samples_leaf</th>\n",
       "      <th>n_estimators</th>\n",
       "      <th>auc</th>\n",
       "    </tr>\n",
       "  </thead>\n",
       "  <tbody>\n",
       "    <tr>\n",
       "      <th>0</th>\n",
       "      <td>1</td>\n",
       "      <td>50</td>\n",
       "      <td>0.964196</td>\n",
       "    </tr>\n",
       "    <tr>\n",
       "      <th>1</th>\n",
       "      <td>1</td>\n",
       "      <td>110</td>\n",
       "      <td>0.966082</td>\n",
       "    </tr>\n",
       "    <tr>\n",
       "      <th>2</th>\n",
       "      <td>1</td>\n",
       "      <td>150</td>\n",
       "      <td>0.966258</td>\n",
       "    </tr>\n",
       "    <tr>\n",
       "      <th>3</th>\n",
       "      <td>3</td>\n",
       "      <td>50</td>\n",
       "      <td>0.962431</td>\n",
       "    </tr>\n",
       "    <tr>\n",
       "      <th>4</th>\n",
       "      <td>3</td>\n",
       "      <td>110</td>\n",
       "      <td>0.962885</td>\n",
       "    </tr>\n",
       "  </tbody>\n",
       "</table>\n",
       "</div>"
      ],
      "text/plain": [
       "   min_samples_leaf  n_estimators       auc\n",
       "0                 1            50  0.964196\n",
       "1                 1           110  0.966082\n",
       "2                 1           150  0.966258\n",
       "3                 3            50  0.962431\n",
       "4                 3           110  0.962885"
      ]
     },
     "execution_count": 118,
     "metadata": {},
     "output_type": "execute_result"
    }
   ],
   "source": [
    "columns = ['min_samples_leaf', 'n_estimators', 'auc']\n",
    "df_scores = pd.DataFrame(scores, columns=columns)\n",
    "\n",
    "df_scores.head()"
   ]
  },
  {
   "cell_type": "code",
   "execution_count": 123,
   "id": "60f6620a",
   "metadata": {
    "ExecuteTime": {
     "end_time": "2022-11-10T15:42:32.237287Z",
     "start_time": "2022-11-10T15:42:32.037080Z"
    }
   },
   "outputs": [
    {
     "data": {
      "text/plain": [
       "<matplotlib.legend.Legend at 0x1f163b9a0a0>"
      ]
     },
     "execution_count": 123,
     "metadata": {},
     "output_type": "execute_result"
    },
    {
     "data": {
      "image/png": "[encoded data removed]",
      "text/plain": [
       "<Figure size 640x480 with 1 Axes>"
      ]
     },
     "metadata": {},
     "output_type": "display_data"
    }
   ],
   "source": [
    "colors = ['black', 'blue', 'green', 'red', 'grey']\n",
    "values = [1, 3, 5, 10, 50]\n",
    "\n",
    "for s, col in zip(values, colors):\n",
    "    df_subset = df_scores[df_scores.min_samples_leaf == s]\n",
    "    \n",
    "    plt.plot(df_subset.n_estimators, df_subset.auc,\n",
    "             color=col,\n",
    "             label='min_samples_leaf=%d' % s)\n",
    "\n",
    "plt.legend()"
   ]
  },
  {
   "cell_type": "code",
   "execution_count": 122,
   "id": "ecdada3a",
   "metadata": {
    "ExecuteTime": {
     "end_time": "2022-11-10T15:38:00.044908Z",
     "start_time": "2022-11-10T15:38:00.018191Z"
    }
   },
   "outputs": [
    {
     "data": {
      "text/html": [
       "<div>\n",
       "<style scoped>\n",
       "    .dataframe tbody tr th:only-of-type {\n",
       "        vertical-align: middle;\n",
       "    }\n",
       "\n",
       "    .dataframe tbody tr th {\n",
       "        vertical-align: top;\n",
       "    }\n",
       "\n",
       "    .dataframe thead th {\n",
       "        text-align: right;\n",
       "    }\n",
       "</style>\n",
       "<table border=\"1\" class=\"dataframe\">\n",
       "  <thead>\n",
       "    <tr style=\"text-align: right;\">\n",
       "      <th></th>\n",
       "      <th>min_samples_leaf</th>\n",
       "      <th>n_estimators</th>\n",
       "      <th>auc</th>\n",
       "    </tr>\n",
       "  </thead>\n",
       "  <tbody>\n",
       "    <tr>\n",
       "      <th>0</th>\n",
       "      <td>1</td>\n",
       "      <td>50</td>\n",
       "      <td>0.964196</td>\n",
       "    </tr>\n",
       "    <tr>\n",
       "      <th>1</th>\n",
       "      <td>1</td>\n",
       "      <td>110</td>\n",
       "      <td>0.966082</td>\n",
       "    </tr>\n",
       "    <tr>\n",
       "      <th>2</th>\n",
       "      <td>1</td>\n",
       "      <td>150</td>\n",
       "      <td>0.966258</td>\n",
       "    </tr>\n",
       "    <tr>\n",
       "      <th>3</th>\n",
       "      <td>3</td>\n",
       "      <td>50</td>\n",
       "      <td>0.962431</td>\n",
       "    </tr>\n",
       "    <tr>\n",
       "      <th>4</th>\n",
       "      <td>3</td>\n",
       "      <td>110</td>\n",
       "      <td>0.962885</td>\n",
       "    </tr>\n",
       "    <tr>\n",
       "      <th>5</th>\n",
       "      <td>3</td>\n",
       "      <td>150</td>\n",
       "      <td>0.961419</td>\n",
       "    </tr>\n",
       "    <tr>\n",
       "      <th>6</th>\n",
       "      <td>5</td>\n",
       "      <td>50</td>\n",
       "      <td>0.929680</td>\n",
       "    </tr>\n",
       "    <tr>\n",
       "      <th>7</th>\n",
       "      <td>5</td>\n",
       "      <td>110</td>\n",
       "      <td>0.925461</td>\n",
       "    </tr>\n",
       "    <tr>\n",
       "      <th>8</th>\n",
       "      <td>5</td>\n",
       "      <td>150</td>\n",
       "      <td>0.951623</td>\n",
       "    </tr>\n",
       "    <tr>\n",
       "      <th>9</th>\n",
       "      <td>10</td>\n",
       "      <td>50</td>\n",
       "      <td>0.929683</td>\n",
       "    </tr>\n",
       "    <tr>\n",
       "      <th>10</th>\n",
       "      <td>10</td>\n",
       "      <td>110</td>\n",
       "      <td>0.925464</td>\n",
       "    </tr>\n",
       "    <tr>\n",
       "      <th>11</th>\n",
       "      <td>10</td>\n",
       "      <td>150</td>\n",
       "      <td>0.951624</td>\n",
       "    </tr>\n",
       "    <tr>\n",
       "      <th>12</th>\n",
       "      <td>50</td>\n",
       "      <td>50</td>\n",
       "      <td>0.929662</td>\n",
       "    </tr>\n",
       "    <tr>\n",
       "      <th>13</th>\n",
       "      <td>50</td>\n",
       "      <td>110</td>\n",
       "      <td>0.925452</td>\n",
       "    </tr>\n",
       "    <tr>\n",
       "      <th>14</th>\n",
       "      <td>50</td>\n",
       "      <td>150</td>\n",
       "      <td>0.951614</td>\n",
       "    </tr>\n",
       "  </tbody>\n",
       "</table>\n",
       "</div>"
      ],
      "text/plain": [
       "    min_samples_leaf  n_estimators       auc\n",
       "0                  1            50  0.964196\n",
       "1                  1           110  0.966082\n",
       "2                  1           150  0.966258\n",
       "3                  3            50  0.962431\n",
       "4                  3           110  0.962885\n",
       "5                  3           150  0.961419\n",
       "6                  5            50  0.929680\n",
       "7                  5           110  0.925461\n",
       "8                  5           150  0.951623\n",
       "9                 10            50  0.929683\n",
       "10                10           110  0.925464\n",
       "11                10           150  0.951624\n",
       "12                50            50  0.929662\n",
       "13                50           110  0.925452\n",
       "14                50           150  0.951614"
      ]
     },
     "execution_count": 122,
     "metadata": {},
     "output_type": "execute_result"
    }
   ],
   "source": [
    "df_scores"
   ]
  },
  {
   "cell_type": "markdown",
   "id": "7cd1638f",
   "metadata": {
    "ExecuteTime": {
     "end_time": "2022-11-10T15:44:16.266931Z",
     "start_time": "2022-11-10T15:44:16.255740Z"
    }
   },
   "source": [
    "Choosen parameters:-\n",
    "\n",
    "min_samples_leaf = 1\n",
    "max_depth = 15\n",
    "n_estimators = 150"
   ]
  },
  {
   "cell_type": "code",
   "execution_count": 125,
   "id": "d386590a",
   "metadata": {
    "ExecuteTime": {
     "end_time": "2022-11-10T15:47:38.703525Z",
     "start_time": "2022-11-10T15:46:01.506377Z"
    }
   },
   "outputs": [
    {
     "data": {
      "text/plain": [
       "RandomForestClassifier(max_depth=15, n_estimators=150, random_state=1)"
      ]
     },
     "execution_count": 125,
     "metadata": {},
     "output_type": "execute_result"
    }
   ],
   "source": [
    "rf = RandomForestClassifier(n_estimators=150,\n",
    "                            max_depth=15,\n",
    "                            min_samples_leaf=1,\n",
    "                            random_state=1)\n",
    "rf.fit(X_train, y_train)"
   ]
  },
  {
   "cell_type": "code",
   "execution_count": null,
   "id": "5210441a",
   "metadata": {},
   "outputs": [],
   "source": []
  },
  {
   "cell_type": "code",
   "execution_count": null,
   "id": "29f988c3",
   "metadata": {},
   "outputs": [],
   "source": []
  },
  {
   "cell_type": "markdown",
   "id": "95aa75a7",
   "metadata": {},
   "source": [
    "## Gradient boosting and XGBoost\n",
    "- Gradient boosting vs random forest\n",
    "- Installing XGBoost\n",
    "- Training the first model\n",
    "- Performance monitoring\n",
    "- Parsing xgboost's monitoring output"
   ]
  },
  {
   "cell_type": "raw",
   "id": "9f77bdf4",
   "metadata": {},
   "source": [
    "In Random forest, there are different trees trained with random features and the average of thier score is taken.\n",
    "\n",
    "Random Forest:\n",
    "\n",
    "             |----- Decision Tree 1  -----|\n",
    "      Data --|----- Decision Tree 2  -----|------ Avg Prediction\n",
    "             |----- Decisio3n Tree 3 -----|\n",
    "\n",
    "IN gradient boosting:\n",
    "\n",
    "Data           +     Decsion Tree1 --->  PRED1    ---|\n",
    "model1 Error   +     Decsion Tree2 ---->  PRED2   ---|---FINAL\n",
    "model2 Error   +     Decsion Tree3 ---->  PRED3   ---|   PREDICTION\n",
    "model3 Error   +     Decsion Tree4 ---->  PRED4   ---|\n",
    "\n",
    "Gradient boosting is sequential."
   ]
  },
  {
   "cell_type": "code",
   "execution_count": 128,
   "id": "9c75e05f",
   "metadata": {
    "ExecuteTime": {
     "end_time": "2022-11-10T15:53:13.087825Z",
     "start_time": "2022-11-10T15:53:13.081232Z"
    }
   },
   "outputs": [],
   "source": [
    "import xgboost as xgb"
   ]
  },
  {
   "cell_type": "code",
   "execution_count": 129,
   "id": "a8e6925c",
   "metadata": {
    "ExecuteTime": {
     "end_time": "2022-11-10T15:58:54.587932Z",
     "start_time": "2022-11-10T15:58:42.674265Z"
    }
   },
   "outputs": [
    {
     "name": "stderr",
     "output_type": "stream",
     "text": [
      "C:\\Users\\eddye\\anaconda3\\lib\\site-packages\\sklearn\\utils\\deprecation.py:87: FutureWarning: Function get_feature_names is deprecated; get_feature_names is deprecated in 1.0 and will be removed in 1.2. Please use get_feature_names_out instead.\n",
      "  warnings.warn(msg, category=FutureWarning)\n"
     ]
    }
   ],
   "source": [
    "##wrap in a special structure called DMAtrix\n",
    "features = dv.get_feature_names()\n",
    "dtrain = xgb.DMatrix(X_train, label=y_train, feature_names=features)\n",
    "dval = xgb.DMatrix(X_val, label=y_val, feature_names=features)"
   ]
  },
  {
   "cell_type": "code",
   "execution_count": 130,
   "id": "40d53a16",
   "metadata": {
    "ExecuteTime": {
     "end_time": "2022-11-10T16:11:24.371391Z",
     "start_time": "2022-11-10T16:10:33.063363Z"
    }
   },
   "outputs": [],
   "source": [
    "## eta is learning rate\n",
    "#min_child_weight is same as min_sample leaf.\n",
    "\n",
    "xgb_params = {\n",
    "    'eta': 0.3, \n",
    "    'max_depth': 6,\n",
    "    'min_child_weight': 1,\n",
    "    \n",
    "    'objective': 'binary:logistic',\n",
    "    'nthread': 8,\n",
    "    \n",
    "    'seed': 1,\n",
    "    'verbosity': 1,\n",
    "}\n",
    "\n",
    "model = xgb.train(xgb_params, dtrain, num_boost_round=10)"
   ]
  },
  {
   "cell_type": "code",
   "execution_count": 131,
   "id": "46e8fd16",
   "metadata": {
    "ExecuteTime": {
     "end_time": "2022-11-10T16:11:37.132571Z",
     "start_time": "2022-11-10T16:11:36.786309Z"
    }
   },
   "outputs": [],
   "source": [
    "y_pred = model.predict(dval)\n"
   ]
  },
  {
   "cell_type": "code",
   "execution_count": 132,
   "id": "bf62aacb",
   "metadata": {
    "ExecuteTime": {
     "end_time": "2022-11-10T16:11:38.745931Z",
     "start_time": "2022-11-10T16:11:38.670796Z"
    }
   },
   "outputs": [
    {
     "data": {
      "text/plain": [
       "0.9771474609574988"
      ]
     },
     "execution_count": 132,
     "metadata": {},
     "output_type": "execute_result"
    }
   ],
   "source": [
    "roc_auc_score(y_val, y_pred)"
   ]
  },
  {
   "cell_type": "code",
   "execution_count": 134,
   "id": "cb278438",
   "metadata": {
    "ExecuteTime": {
     "end_time": "2022-11-10T16:12:29.323118Z",
     "start_time": "2022-11-10T16:12:29.313519Z"
    }
   },
   "outputs": [],
   "source": [
    "## see what is happening\n",
    "watchlist = [(dtrain, 'train'), (dval, 'val')]"
   ]
  },
  {
   "cell_type": "code",
   "execution_count": 138,
   "id": "12b9f803",
   "metadata": {
    "ExecuteTime": {
     "end_time": "2022-11-10T16:56:21.917381Z",
     "start_time": "2022-11-10T16:38:13.447647Z"
    }
   },
   "outputs": [],
   "source": [
    "%%capture output\n",
    "\n",
    "xgb_params = {\n",
    "    'eta': 0.3, \n",
    "    'max_depth': 6,\n",
    "    'min_child_weight': 1,\n",
    "    \n",
    "    'objective': 'binary:logistic',\n",
    "    'eval_metric': 'auc',\n",
    "\n",
    "    'nthread': 8,\n",
    "    'seed': 1,\n",
    "    'verbosity': 1,\n",
    "}\n",
    "\n",
    "##verbose_evals -- print at every 10 steps\n",
    "model = xgb.train(xgb_params, dtrain, num_boost_round=200,\n",
    "                  verbose_eval=10,\n",
    "                  evals=watchlist)\n"
   ]
  },
  {
   "cell_type": "code",
   "execution_count": 139,
   "id": "08e99202",
   "metadata": {
    "ExecuteTime": {
     "end_time": "2022-11-10T16:56:21.948386Z",
     "start_time": "2022-11-10T16:56:21.923384Z"
    }
   },
   "outputs": [
    {
     "name": "stdout",
     "output_type": "stream",
     "text": [
      "[0]\ttrain-auc:0.96948\tval-auc:0.97193\n",
      "[10]\ttrain-auc:0.98088\tval-auc:0.97597\n",
      "[20]\ttrain-auc:0.98499\tval-auc:0.97711\n",
      "[30]\ttrain-auc:0.98798\tval-auc:0.97756\n",
      "[40]\ttrain-auc:0.99069\tval-auc:0.97783\n",
      "[50]\ttrain-auc:0.99252\tval-auc:0.97740\n",
      "[60]\ttrain-auc:0.99377\tval-auc:0.97739\n",
      "[70]\ttrain-auc:0.99498\tval-auc:0.97735\n",
      "[80]\ttrain-auc:0.99587\tval-auc:0.97720\n",
      "[90]\ttrain-auc:0.99684\tval-auc:0.97736\n",
      "[100]\ttrain-auc:0.99764\tval-auc:0.97730\n",
      "[110]\ttrain-auc:0.99802\tval-auc:0.97722\n",
      "[120]\ttrain-auc:0.99851\tval-auc:0.97729\n",
      "[130]\ttrain-auc:0.99901\tval-auc:0.97678\n",
      "[140]\ttrain-auc:0.99929\tval-auc:0.97681\n",
      "[150]\ttrain-auc:0.99951\tval-auc:0.97667\n",
      "[160]\ttrain-auc:0.99972\tval-auc:0.97643\n",
      "[170]\ttrain-auc:0.99983\tval-auc:0.97650\n",
      "[180]\ttrain-auc:0.99989\tval-auc:0.97648\n",
      "[190]\ttrain-auc:0.99993\tval-auc:0.97648\n",
      "[199]\ttrain-auc:0.99996\tval-auc:0.97652\n",
      "\n"
     ]
    }
   ],
   "source": [
    "print(output.stdout)"
   ]
  },
  {
   "cell_type": "code",
   "execution_count": 140,
   "id": "39efff13",
   "metadata": {
    "ExecuteTime": {
     "end_time": "2022-11-10T16:56:21.963383Z",
     "start_time": "2022-11-10T16:56:21.952384Z"
    }
   },
   "outputs": [],
   "source": [
    "s = output.stdout"
   ]
  },
  {
   "cell_type": "code",
   "execution_count": 141,
   "id": "8a3fb9d0",
   "metadata": {
    "ExecuteTime": {
     "end_time": "2022-11-10T16:56:21.979385Z",
     "start_time": "2022-11-10T16:56:21.970386Z"
    }
   },
   "outputs": [
    {
     "name": "stdout",
     "output_type": "stream",
     "text": [
      "[0]\ttrain-auc:0.96948\tval-auc:0.97193\n",
      "[10]\ttrain-auc:0.98088\tval-auc:0.97597\n",
      "[20]\ttrain-auc:0.98499\tval-auc:0.97711\n",
      "[30]\ttrain-auc:0.98798\tval-auc:0.97756\n",
      "[40]\ttrain-auc:0.99069\tval-auc:0.97783\n",
      "[50]\tt\n"
     ]
    }
   ],
   "source": [
    "print(s[:200])"
   ]
  },
  {
   "cell_type": "code",
   "execution_count": 142,
   "id": "9c3e19ed",
   "metadata": {
    "ExecuteTime": {
     "end_time": "2022-11-10T16:56:22.010931Z",
     "start_time": "2022-11-10T16:56:21.983385Z"
    }
   },
   "outputs": [],
   "source": [
    "def parse_xgb_output(output):  \n",
    "    results = []\n",
    "    for line in output.stdout.strip().split('\\n'):\n",
    "        it_line, train_line, val_line = line.split('\\t')\n",
    "\n",
    "        it = int(it_line.strip('[]'))\n",
    "        train = float(train_line.split(':')[1])\n",
    "        val = float(val_line.split(':')[1])\n",
    "\n",
    "\n",
    "        results.append((it, train, val))\n",
    "\n",
    "    columns = ['num_iter', 'train_auc', 'val_auc']\n",
    "    df_results = pd.DataFrame(results, columns=columns)\n",
    "    \n",
    "    return df_results\n"
   ]
  },
  {
   "cell_type": "code",
   "execution_count": 143,
   "id": "6134f466",
   "metadata": {
    "ExecuteTime": {
     "end_time": "2022-11-10T16:56:22.134471Z",
     "start_time": "2022-11-10T16:56:22.013927Z"
    }
   },
   "outputs": [],
   "source": [
    "df_score = parse_xgb_output(output)\n"
   ]
  },
  {
   "cell_type": "code",
   "execution_count": 144,
   "id": "f240ebd8",
   "metadata": {
    "ExecuteTime": {
     "end_time": "2022-11-10T16:56:22.651310Z",
     "start_time": "2022-11-10T16:56:22.137471Z"
    }
   },
   "outputs": [
    {
     "data": {
      "text/plain": [
       "<matplotlib.legend.Legend at 0x1f1aa241a90>"
      ]
     },
     "execution_count": 144,
     "metadata": {},
     "output_type": "execute_result"
    },
    {
     "data": {
      "image/png": "[encoded data removed]",
      "text/plain": [
       "<Figure size 640x480 with 1 Axes>"
      ]
     },
     "metadata": {},
     "output_type": "display_data"
    }
   ],
   "source": [
    "plt.plot(df_score.num_iter, df_score.train_auc, label='train')\n",
    "plt.plot(df_score.num_iter, df_score.val_auc, label='val')\n",
    "plt.legend()"
   ]
  },
  {
   "cell_type": "code",
   "execution_count": 145,
   "id": "dfa3bab6",
   "metadata": {
    "ExecuteTime": {
     "end_time": "2022-11-10T16:56:22.858499Z",
     "start_time": "2022-11-10T16:56:22.656310Z"
    },
    "scrolled": true
   },
   "outputs": [
    {
     "data": {
      "text/plain": [
       "<matplotlib.legend.Legend at 0x1f163cda730>"
      ]
     },
     "execution_count": 145,
     "metadata": {},
     "output_type": "execute_result"
    },
    {
     "data": {
      "image/png": "[encoded data removed]",
      "text/plain": [
       "<Figure size 640x480 with 1 Axes>"
      ]
     },
     "metadata": {},
     "output_type": "display_data"
    }
   ],
   "source": [
    "plt.plot(df_score.num_iter, df_score.val_auc, label='val')\n",
    "plt.legend()"
   ]
  },
  {
   "cell_type": "code",
   "execution_count": null,
   "id": "bf00549a",
   "metadata": {},
   "outputs": [],
   "source": []
  },
  {
   "cell_type": "markdown",
   "id": "97be64c5",
   "metadata": {},
   "source": [
    "## Evaluation metrics"
   ]
  },
  {
   "cell_type": "markdown",
   "id": "22d4bbfc",
   "metadata": {},
   "source": [
    "### Accuracy Score"
   ]
  },
  {
   "cell_type": "code",
   "execution_count": 146,
   "id": "754b9532",
   "metadata": {
    "ExecuteTime": {
     "end_time": "2022-11-10T16:56:22.889539Z",
     "start_time": "2022-11-10T16:56:22.860477Z"
    }
   },
   "outputs": [
    {
     "name": "stdout",
     "output_type": "stream",
     "text": [
      "0.00 0.545\n",
      "0.05 0.889\n",
      "0.10 0.914\n",
      "0.15 0.917\n",
      "0.20 0.919\n",
      "0.25 0.920\n",
      "0.30 0.926\n",
      "0.35 0.929\n",
      "0.40 0.933\n",
      "0.45 0.938\n",
      "0.50 0.937\n",
      "0.55 0.935\n",
      "0.60 0.933\n",
      "0.65 0.932\n",
      "0.70 0.932\n",
      "0.75 0.931\n",
      "0.80 0.931\n",
      "0.85 0.930\n",
      "0.90 0.925\n",
      "0.95 0.503\n",
      "1.00 0.455\n"
     ]
    }
   ],
   "source": [
    "### creating a loop of churn decisions to ascertain best decision\n",
    "\n",
    "thresholds = np.linspace(0,1,21)\n",
    "scores = []\n",
    "\n",
    "for t in thresholds:\n",
    "    churn_decision = (y_pred >= t)\n",
    "    score = (y_val == churn_decision).mean()\n",
    "    print(\"%.2f %.3f\" % (t,score))\n",
    "    scores.append(score)"
   ]
  },
  {
   "cell_type": "code",
   "execution_count": 147,
   "id": "0b6e1761",
   "metadata": {
    "ExecuteTime": {
     "end_time": "2022-11-10T16:56:22.905027Z",
     "start_time": "2022-11-10T16:56:22.895518Z"
    },
    "scrolled": true
   },
   "outputs": [
    {
     "data": {
      "text/plain": [
       "[0.5450736586025139,\n",
       " 0.8889039059332342,\n",
       " 0.9140424381673199,\n",
       " 0.9174212731450196,\n",
       " 0.9193134207325314,\n",
       " 0.9199891877280714,\n",
       " 0.9255304770914988,\n",
       " 0.9293147722665225,\n",
       " 0.9325584538451142,\n",
       " 0.9378294364103257,\n",
       " 0.9374239762130018,\n",
       " 0.934585754831734,\n",
       " 0.9325584538451142,\n",
       " 0.9322881470468982,\n",
       " 0.9320178402486823,\n",
       " 0.9312069198540344,\n",
       " 0.9306663062576024,\n",
       " 0.9299905392620624,\n",
       " 0.9247195566968509,\n",
       " 0.5027706446817137,\n",
       " 0.45492634139748617]"
      ]
     },
     "execution_count": 147,
     "metadata": {},
     "output_type": "execute_result"
    }
   ],
   "source": [
    "scores"
   ]
  },
  {
   "cell_type": "code",
   "execution_count": null,
   "id": "10668e47",
   "metadata": {},
   "outputs": [],
   "source": []
  },
  {
   "cell_type": "markdown",
   "id": "c0eb63b3",
   "metadata": {},
   "source": [
    "## Picking the final model"
   ]
  },
  {
   "cell_type": "markdown",
   "id": "35eee0ed",
   "metadata": {},
   "source": [
    "### Logistic Regression"
   ]
  },
  {
   "cell_type": "code",
   "execution_count": 149,
   "id": "b555d6ba",
   "metadata": {
    "ExecuteTime": {
     "end_time": "2022-11-10T17:11:55.103511Z",
     "start_time": "2022-11-10T17:11:50.228331Z"
    }
   },
   "outputs": [
    {
     "data": {
      "text/plain": [
       "LogisticRegression(max_iter=1000, random_state=42, solver='liblinear')"
      ]
     },
     "execution_count": 149,
     "metadata": {},
     "output_type": "execute_result"
    }
   ],
   "source": [
    "dv = DictVectorizer(sparse = False)\n",
    "\n",
    "train_dicts = df_train[categorical_columns + numerical_columns].to_dict(orient = \"records\")\n",
    "X_train = dv.fit_transform(train_dicts)\n",
    "\n",
    "model =LogisticRegression(solver=\"liblinear\", C=1.0, max_iter=1000, random_state=42)\n",
    "model.fit(X_train, y_train)\n"
   ]
  },
  {
   "cell_type": "code",
   "execution_count": 150,
   "id": "7c61b293",
   "metadata": {
    "ExecuteTime": {
     "end_time": "2022-11-10T17:11:55.817021Z",
     "start_time": "2022-11-10T17:11:55.107506Z"
    }
   },
   "outputs": [
    {
     "data": {
      "text/plain": [
       "0.9522933864542067"
      ]
     },
     "execution_count": 150,
     "metadata": {},
     "output_type": "execute_result"
    }
   ],
   "source": [
    "y_pred = model.predict_proba(X_val)[:, 1]\n",
    "roc_auc_score(y_val, y_pred)"
   ]
  },
  {
   "cell_type": "markdown",
   "id": "2aa27192",
   "metadata": {},
   "source": [
    "### Decison Tree"
   ]
  },
  {
   "cell_type": "code",
   "execution_count": 151,
   "id": "d767df30",
   "metadata": {
    "ExecuteTime": {
     "end_time": "2022-11-10T17:12:56.573456Z",
     "start_time": "2022-11-10T17:11:57.719880Z"
    }
   },
   "outputs": [
    {
     "data": {
      "text/plain": [
       "0.977555377582361"
      ]
     },
     "execution_count": 151,
     "metadata": {},
     "output_type": "execute_result"
    }
   ],
   "source": [
    "dt = DecisionTreeClassifier(max_depth=10, min_samples_leaf=10)\n",
    "dt.fit(X_train, y_train)\n",
    "\n",
    "y_pred = dt.predict_proba(X_val)[:, 1]\n",
    "roc_auc_score(y_val, y_pred)"
   ]
  },
  {
   "cell_type": "code",
   "execution_count": 152,
   "id": "f8206dd8",
   "metadata": {
    "ExecuteTime": {
     "end_time": "2022-11-10T17:12:56.604461Z",
     "start_time": "2022-11-10T17:12:56.578466Z"
    }
   },
   "outputs": [
    {
     "data": {
      "text/plain": [
       "0.977555377582361"
      ]
     },
     "execution_count": 152,
     "metadata": {},
     "output_type": "execute_result"
    }
   ],
   "source": [
    "roc_auc_score(y_val, y_pred)"
   ]
  },
  {
   "cell_type": "markdown",
   "id": "8de66d36",
   "metadata": {
    "ExecuteTime": {
     "end_time": "2022-11-06T00:15:43.761894Z",
     "start_time": "2022-11-06T00:15:43.721985Z"
    }
   },
   "source": [
    "Decision Tree classifier had a very good acccuracy so I went with that."
   ]
  },
  {
   "cell_type": "code",
   "execution_count": null,
   "id": "5108037a",
   "metadata": {},
   "outputs": [],
   "source": []
  },
  {
   "cell_type": "markdown",
   "id": "398dc8a2",
   "metadata": {},
   "source": [
    "### Random Forect classifier"
   ]
  },
  {
   "cell_type": "code",
   "execution_count": 153,
   "id": "649236e4",
   "metadata": {
    "ExecuteTime": {
     "end_time": "2022-11-10T17:14:20.349681Z",
     "start_time": "2022-11-10T17:12:56.607458Z"
    }
   },
   "outputs": [
    {
     "data": {
      "text/plain": [
       "RandomForestClassifier(max_depth=15, n_estimators=150, random_state=1)"
      ]
     },
     "execution_count": 153,
     "metadata": {},
     "output_type": "execute_result"
    }
   ],
   "source": [
    "rf = RandomForestClassifier(n_estimators=150,\n",
    "                            max_depth=15,\n",
    "                            min_samples_leaf=1,\n",
    "                            random_state=1)\n",
    "rf.fit(X_train, y_train)"
   ]
  },
  {
   "cell_type": "code",
   "execution_count": 154,
   "id": "c2043be6",
   "metadata": {
    "ExecuteTime": {
     "end_time": "2022-11-10T17:14:21.010190Z",
     "start_time": "2022-11-10T17:14:20.356654Z"
    }
   },
   "outputs": [
    {
     "data": {
      "text/plain": [
       "0.9662583890862361"
      ]
     },
     "execution_count": 154,
     "metadata": {},
     "output_type": "execute_result"
    }
   ],
   "source": [
    "y_pred = rf.predict_proba(X_val)[:, 1]\n",
    "roc_auc_score(y_val, y_pred)"
   ]
  },
  {
   "cell_type": "code",
   "execution_count": null,
   "id": "42e8f3f6",
   "metadata": {},
   "outputs": [],
   "source": []
  },
  {
   "cell_type": "markdown",
   "id": "cec73f03",
   "metadata": {},
   "source": [
    "N/B: Although Xgboost had a good score but it was not choosen. Wanted to try deploying a different model altogether"
   ]
  },
  {
   "cell_type": "markdown",
   "id": "c14386b7",
   "metadata": {},
   "source": [
    "## BENTOML"
   ]
  },
  {
   "cell_type": "code",
   "execution_count": 156,
   "id": "644937fd",
   "metadata": {
    "ExecuteTime": {
     "end_time": "2022-11-10T17:18:06.449073Z",
     "start_time": "2022-11-10T17:18:05.313172Z"
    }
   },
   "outputs": [],
   "source": [
    "import bentoml\n"
   ]
  },
  {
   "cell_type": "code",
   "execution_count": 157,
   "id": "aad7c9dc",
   "metadata": {
    "ExecuteTime": {
     "end_time": "2022-11-10T17:18:07.802731Z",
     "start_time": "2022-11-10T17:18:07.793729Z"
    }
   },
   "outputs": [],
   "source": [
    "import json"
   ]
  },
  {
   "cell_type": "code",
   "execution_count": 158,
   "id": "a2908bff",
   "metadata": {
    "ExecuteTime": {
     "end_time": "2022-11-10T17:18:08.368640Z",
     "start_time": "2022-11-10T17:18:08.350914Z"
    }
   },
   "outputs": [
    {
     "name": "stdout",
     "output_type": "stream",
     "text": [
      "{\n",
      "  \"age\": 12,\n",
      "  \"gender\": \"m\",\n",
      "  \"region_category\": \"missing\",\n",
      "  \"membership_category\": \"silver_membership\",\n",
      "  \"joined_through_referral\": \"no\",\n",
      "  \"preferred_offer_types\": \"credit/debit_card_offers\",\n",
      "  \"medium_of_operation\": \"smartphone\",\n",
      "  \"internet_option\": \"fiber_optic\",\n",
      "  \"last_visit_time\": \"13:38:19\",\n",
      "  \"days_since_last_login\": 24.0,\n",
      "  \"avg_time_spent\": 121.82,\n",
      "  \"avg_transaction_value\": 30385.88,\n",
      "  \"avg_frequency_login_days\": 25.0,\n",
      "  \"points_in_wallet\": 698.62,\n",
      "  \"used_special_discount\": \"no\",\n",
      "  \"offer_application_preference\": \"yes\",\n",
      "  \"past_complaint\": \"yes\",\n",
      "  \"complaint_status\": \"solved\",\n",
      "  \"feedback\": \"too_many_ads\"\n",
      "}\n"
     ]
    }
   ],
   "source": [
    "request = df_test.iloc[0].to_dict()\n",
    "print(json.dumps(request, indent=2))"
   ]
  },
  {
   "cell_type": "markdown",
   "id": "6c7c4d4b",
   "metadata": {},
   "source": [
    "### Create new bento tag"
   ]
  },
  {
   "cell_type": "code",
   "execution_count": 159,
   "id": "61acff77",
   "metadata": {
    "ExecuteTime": {
     "end_time": "2022-11-10T17:18:49.314988Z",
     "start_time": "2022-11-10T17:18:47.461236Z"
    }
   },
   "outputs": [],
   "source": [
    "# `save` a given classifier and retrieve coresponding tag:\n",
    "tag = bentoml.sklearn.save_model('decision_tree', dt, \n",
    "                                 custom_objects = {\n",
    "                                     \"dictVectorizer\":dv\n",
    "                                 }, signatures={\n",
    "                                    \"predict_proba\":{\n",
    "                                        \"batchable\": True,\n",
    "                                        \"batch_dim\": 0\n",
    "                                    }})"
   ]
  },
  {
   "cell_type": "code",
   "execution_count": 160,
   "id": "b6fc27c7",
   "metadata": {
    "ExecuteTime": {
     "end_time": "2022-11-10T17:18:49.330404Z",
     "start_time": "2022-11-10T17:18:49.320938Z"
    }
   },
   "outputs": [
    {
     "data": {
      "text/plain": [
       "Model(tag=\"decision_tree:xszfph3bdo5tzshc\", path=\"C:\\Users\\eddye\\bentoml\\models\\decision_tree\\xszfph3bdo5tzshc\\\")"
      ]
     },
     "execution_count": 160,
     "metadata": {},
     "output_type": "execute_result"
    }
   ],
   "source": [
    "tag"
   ]
  },
  {
   "cell_type": "markdown",
   "id": "2c1554aa",
   "metadata": {},
   "source": [
    "Run train.py file as instructed in github repository. Follow through the readme file to create and reproduce project."
   ]
  },
  {
   "cell_type": "markdown",
   "id": "f5491c36",
   "metadata": {},
   "source": [
    "Happy Coding!"
   ]
  },
  {
   "cell_type": "markdown",
   "id": "d55e771f",
   "metadata": {
    "ExecuteTime": {
     "end_time": "2022-11-10T17:20:15.554869Z",
     "start_time": "2022-11-10T17:20:15.544409Z"
    }
   },
   "source": [
    "------"
   ]
  }
 ],
 "metadata": {
  "kernelspec": {
   "display_name": "Python 3 (ipykernel)",
   "language": "python",
   "name": "python3"
  },
  "language_info": {
   "codemirror_mode": {
    "name": "ipython",
    "version": 3
   },
   "file_extension": ".py",
   "mimetype": "text/x-python",
   "name": "python",
   "nbconvert_exporter": "python",
   "pygments_lexer": "ipython3",
   "version": "3.9.13"
  },
  "toc": {
   "base_numbering": 1,
   "nav_menu": {
    "height": "17px",
    "width": "244px"
   },
   "number_sections": true,
   "sideBar": true,
   "skip_h1_title": false,
   "title_cell": "Table of Contents",
   "title_sidebar": "Contents",
   "toc_cell": false,
   "toc_position": {
    "height": "calc(100% - 180px)",
    "left": "10px",
    "top": "150px",
    "width": "359px"
   },
   "toc_section_display": true,
   "toc_window_display": true
  }
 },
 "nbformat": 4,
 "nbformat_minor": 5
}
