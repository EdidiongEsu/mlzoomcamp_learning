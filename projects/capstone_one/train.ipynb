{
 "cells": [
  {
   "cell_type": "markdown",
   "id": "a4bbdf72",
   "metadata": {},
   "source": [
    "# Capstone Project - Fruit classification"
   ]
  },
  {
   "cell_type": "markdown",
   "id": "2b06f70f",
   "metadata": {},
   "source": [
    "Link to Original dataset: https://www.kaggle.com/datasets/sshikamaru/fruit-recognition?datasetId=849073\n",
    "\n",
    "8 groups of fruits were choosen from the original dataset to create the current dataset."
   ]
  },
  {
   "cell_type": "code",
   "execution_count": 1,
   "id": "5d90c54f",
   "metadata": {
    "ExecuteTime": {
     "end_time": "2022-12-18T08:11:26.246054Z",
     "start_time": "2022-12-18T08:11:26.221837Z"
    }
   },
   "outputs": [],
   "source": [
    "import os"
   ]
  },
  {
   "cell_type": "code",
   "execution_count": 2,
   "id": "4065058e",
   "metadata": {
    "ExecuteTime": {
     "end_time": "2022-12-18T08:11:27.966923Z",
     "start_time": "2022-12-18T08:11:26.251718Z"
    }
   },
   "outputs": [],
   "source": [
    "import numpy as np\n",
    "import matplotlib.pyplot as plt\n",
    "\n",
    "%matplotlib inline\n",
    "\n"
   ]
  },
  {
   "cell_type": "code",
   "execution_count": 3,
   "id": "055a16f3",
   "metadata": {
    "ExecuteTime": {
     "end_time": "2022-12-18T08:11:36.919275Z",
     "start_time": "2022-12-18T08:11:27.966923Z"
    }
   },
   "outputs": [],
   "source": [
    "import tensorflow as tf\n",
    "from tensorflow import keras"
   ]
  },
  {
   "cell_type": "code",
   "execution_count": 4,
   "id": "bfa4f520",
   "metadata": {
    "ExecuteTime": {
     "end_time": "2022-12-18T08:11:36.948289Z",
     "start_time": "2022-12-18T08:11:36.928160Z"
    }
   },
   "outputs": [],
   "source": [
    "from tensorflow.keras.preprocessing.image import load_img"
   ]
  },
  {
   "cell_type": "code",
   "execution_count": 5,
   "id": "f821dbf2",
   "metadata": {
    "ExecuteTime": {
     "end_time": "2022-12-18T08:11:36.965814Z",
     "start_time": "2022-12-18T08:11:36.951132Z"
    }
   },
   "outputs": [],
   "source": [
    "dirname = os.path.dirname('Data')"
   ]
  },
  {
   "cell_type": "code",
   "execution_count": 6,
   "id": "2e10effc",
   "metadata": {
    "ExecuteTime": {
     "end_time": "2022-12-18T08:11:37.040016Z",
     "start_time": "2022-12-18T08:11:36.972574Z"
    }
   },
   "outputs": [
    {
     "name": "stdout",
     "output_type": "stream",
     "text": [
      " Volume in drive C is Windows\n",
      " Volume Serial Number is 48CE-D36B\n",
      "\n",
      " Directory of C:\\Users\\eddye\\Documents\\ML-ZOOMCAMP\\CODE\\projects\\capstone_one\n",
      "\n",
      "18/12/2022  09:10    <DIR>          .\n",
      "17/12/2022  14:53    <DIR>          ..\n",
      "17/12/2022  15:41    <DIR>          .ipynb_checkpoints\n",
      "17/12/2022  19:42    <DIR>          Dataset\n",
      "17/12/2022  15:42                 0 README.md\n",
      "18/12/2022  09:09            44,120 train.ipynb\n",
      "               2 File(s)         44,120 bytes\n",
      "               4 Dir(s)  620,774,932,480 bytes free\n"
     ]
    }
   ],
   "source": [
    "!dir"
   ]
  },
  {
   "cell_type": "code",
   "execution_count": 7,
   "id": "c57f15b8",
   "metadata": {
    "ExecuteTime": {
     "end_time": "2022-12-18T08:11:37.082511Z",
     "start_time": "2022-12-18T08:11:37.048803Z"
    }
   },
   "outputs": [
    {
     "data": {
      "text/plain": [
       "'C:\\\\Users\\\\eddye\\\\Documents\\\\ML-ZOOMCAMP\\\\CODE\\\\projects\\\\capstone_one'"
      ]
     },
     "execution_count": 7,
     "metadata": {},
     "output_type": "execute_result"
    }
   ],
   "source": [
    "os.getcwd()"
   ]
  },
  {
   "cell_type": "code",
   "execution_count": 8,
   "id": "3631c7af",
   "metadata": {
    "ExecuteTime": {
     "end_time": "2022-12-18T08:11:37.098656Z",
     "start_time": "2022-12-18T08:11:37.088875Z"
    }
   },
   "outputs": [],
   "source": [
    "os.chdir(\"../\")"
   ]
  },
  {
   "cell_type": "code",
   "execution_count": 9,
   "id": "3c615837",
   "metadata": {
    "ExecuteTime": {
     "end_time": "2022-12-18T08:11:38.967587Z",
     "start_time": "2022-12-18T08:11:37.102357Z"
    }
   },
   "outputs": [
    {
     "ename": "FileNotFoundError",
     "evalue": "[Errno 2] No such file or directory: 'Dataset/train/Banana/Banana_70.jpg'",
     "output_type": "error",
     "traceback": [
      "\u001b[1;31m---------------------------------------------------------------------------\u001b[0m",
      "\u001b[1;31mFileNotFoundError\u001b[0m                         Traceback (most recent call last)",
      "Input \u001b[1;32mIn [9]\u001b[0m, in \u001b[0;36m<cell line: 6>\u001b[1;34m()\u001b[0m\n\u001b[0;32m      3\u001b[0m fullname \u001b[38;5;241m=\u001b[39m \u001b[38;5;124mf\u001b[39m\u001b[38;5;124m'\u001b[39m\u001b[38;5;132;01m{\u001b[39;00mpath\u001b[38;5;132;01m}\u001b[39;00m\u001b[38;5;124m/\u001b[39m\u001b[38;5;132;01m{\u001b[39;00mname\u001b[38;5;132;01m}\u001b[39;00m\u001b[38;5;124m'\u001b[39m\n\u001b[0;32m      4\u001b[0m fullname\n\u001b[1;32m----> 6\u001b[0m \u001b[43mload_img\u001b[49m\u001b[43m(\u001b[49m\u001b[43mfullname\u001b[49m\u001b[43m)\u001b[49m\n",
      "File \u001b[1;32m~\\anaconda3\\envs\\mlzoomcamp\\lib\\site-packages\\keras\\utils\\image_utils.py:422\u001b[0m, in \u001b[0;36mload_img\u001b[1;34m(path, grayscale, color_mode, target_size, interpolation, keep_aspect_ratio)\u001b[0m\n\u001b[0;32m    420\u001b[0m     \u001b[38;5;28;01mif\u001b[39;00m \u001b[38;5;28misinstance\u001b[39m(path, pathlib\u001b[38;5;241m.\u001b[39mPath):\n\u001b[0;32m    421\u001b[0m         path \u001b[38;5;241m=\u001b[39m \u001b[38;5;28mstr\u001b[39m(path\u001b[38;5;241m.\u001b[39mresolve())\n\u001b[1;32m--> 422\u001b[0m     \u001b[38;5;28;01mwith\u001b[39;00m \u001b[38;5;28;43mopen\u001b[39;49m\u001b[43m(\u001b[49m\u001b[43mpath\u001b[49m\u001b[43m,\u001b[49m\u001b[43m \u001b[49m\u001b[38;5;124;43m\"\u001b[39;49m\u001b[38;5;124;43mrb\u001b[39;49m\u001b[38;5;124;43m\"\u001b[39;49m\u001b[43m)\u001b[49m \u001b[38;5;28;01mas\u001b[39;00m f:\n\u001b[0;32m    423\u001b[0m         img \u001b[38;5;241m=\u001b[39m pil_image\u001b[38;5;241m.\u001b[39mopen(io\u001b[38;5;241m.\u001b[39mBytesIO(f\u001b[38;5;241m.\u001b[39mread()))\n\u001b[0;32m    424\u001b[0m \u001b[38;5;28;01melse\u001b[39;00m:\n",
      "\u001b[1;31mFileNotFoundError\u001b[0m: [Errno 2] No such file or directory: 'Dataset/train/Banana/Banana_70.jpg'"
     ]
    }
   ],
   "source": [
    "path = 'Dataset/train/Banana'\n",
    "name = 'Banana_70.jpg'\n",
    "fullname = f'{path}/{name}'\n",
    "fullname\n",
    "\n",
    "load_img(fullname)"
   ]
  },
  {
   "cell_type": "code",
   "execution_count": null,
   "id": "0c8a93df",
   "metadata": {
    "ExecuteTime": {
     "end_time": "2022-12-18T08:11:38.975783Z",
     "start_time": "2022-12-18T08:11:38.975783Z"
    }
   },
   "outputs": [],
   "source": [
    "img = load_img(fullname, target_size=(299, 299))\n",
    "img"
   ]
  },
  {
   "cell_type": "code",
   "execution_count": null,
   "id": "0ff72976",
   "metadata": {
    "ExecuteTime": {
     "end_time": "2022-12-18T08:11:38.980620Z",
     "start_time": "2022-12-18T08:11:38.980620Z"
    }
   },
   "outputs": [],
   "source": [
    "x = np.array(img)\n",
    "x.shape"
   ]
  },
  {
   "cell_type": "code",
   "execution_count": null,
   "id": "3827f25f",
   "metadata": {
    "ExecuteTime": {
     "end_time": "2022-12-18T08:11:38.984356Z",
     "start_time": "2022-12-18T08:11:38.984356Z"
    }
   },
   "outputs": [],
   "source": [
    "##PIL python image library\n",
    "print(img)"
   ]
  },
  {
   "cell_type": "code",
   "execution_count": null,
   "id": "4ef01ef7",
   "metadata": {
    "ExecuteTime": {
     "end_time": "2022-12-18T08:11:38.993609Z",
     "start_time": "2022-12-18T08:11:38.993609Z"
    }
   },
   "outputs": [],
   "source": [
    "np.array(img)"
   ]
  },
  {
   "cell_type": "code",
   "execution_count": null,
   "id": "99fed679",
   "metadata": {
    "ExecuteTime": {
     "end_time": "2022-12-18T08:09:08.971612Z",
     "start_time": "2022-12-18T08:09:08.943250Z"
    }
   },
   "outputs": [],
   "source": []
  },
  {
   "cell_type": "markdown",
   "id": "f3769d8d",
   "metadata": {},
   "source": [
    "## Transfer Learning"
   ]
  },
  {
   "cell_type": "code",
   "execution_count": null,
   "id": "0dddb45f",
   "metadata": {},
   "outputs": [],
   "source": []
  }
 ],
 "metadata": {
  "kernelspec": {
   "display_name": "Python 3 (ipykernel)",
   "language": "python",
   "name": "python3"
  },
  "language_info": {
   "codemirror_mode": {
    "name": "ipython",
    "version": 3
   },
   "file_extension": ".py",
   "mimetype": "text/x-python",
   "name": "python",
   "nbconvert_exporter": "python",
   "pygments_lexer": "ipython3",
   "version": "3.9.13"
  },
  "toc": {
   "base_numbering": 1,
   "nav_menu": {},
   "number_sections": true,
   "sideBar": true,
   "skip_h1_title": false,
   "title_cell": "Table of Contents",
   "title_sidebar": "Contents",
   "toc_cell": false,
   "toc_position": {},
   "toc_section_display": true,
   "toc_window_display": false
  }
 },
 "nbformat": 4,
 "nbformat_minor": 5
}
