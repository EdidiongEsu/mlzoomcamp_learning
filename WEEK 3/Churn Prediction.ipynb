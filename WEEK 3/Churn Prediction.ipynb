{
 "cells": [
  {
   "cell_type": "markdown",
   "id": "0d006ed1",
   "metadata": {},
   "source": [
    "## Data Preparation"
   ]
  },
  {
   "cell_type": "code",
   "execution_count": 1,
   "id": "b7d962e8",
   "metadata": {},
   "outputs": [],
   "source": [
    "import pandas as pd\n",
    "import numpy as np\n",
    "\n",
    "import matplotlib.pyplot as plt"
   ]
  },
  {
   "cell_type": "code",
   "execution_count": 2,
   "id": "9789905c",
   "metadata": {},
   "outputs": [
    {
     "data": {
      "text/html": [
       "<div>\n",
       "<style scoped>\n",
       "    .dataframe tbody tr th:only-of-type {\n",
       "        vertical-align: middle;\n",
       "    }\n",
       "\n",
       "    .dataframe tbody tr th {\n",
       "        vertical-align: top;\n",
       "    }\n",
       "\n",
       "    .dataframe thead th {\n",
       "        text-align: right;\n",
       "    }\n",
       "</style>\n",
       "<table border=\"1\" class=\"dataframe\">\n",
       "  <thead>\n",
       "    <tr style=\"text-align: right;\">\n",
       "      <th></th>\n",
       "      <th>customerID</th>\n",
       "      <th>gender</th>\n",
       "      <th>SeniorCitizen</th>\n",
       "      <th>Partner</th>\n",
       "      <th>Dependents</th>\n",
       "      <th>tenure</th>\n",
       "      <th>PhoneService</th>\n",
       "      <th>MultipleLines</th>\n",
       "      <th>InternetService</th>\n",
       "      <th>OnlineSecurity</th>\n",
       "      <th>...</th>\n",
       "      <th>DeviceProtection</th>\n",
       "      <th>TechSupport</th>\n",
       "      <th>StreamingTV</th>\n",
       "      <th>StreamingMovies</th>\n",
       "      <th>Contract</th>\n",
       "      <th>PaperlessBilling</th>\n",
       "      <th>PaymentMethod</th>\n",
       "      <th>MonthlyCharges</th>\n",
       "      <th>TotalCharges</th>\n",
       "      <th>Churn</th>\n",
       "    </tr>\n",
       "  </thead>\n",
       "  <tbody>\n",
       "    <tr>\n",
       "      <th>0</th>\n",
       "      <td>7590-VHVEG</td>\n",
       "      <td>Female</td>\n",
       "      <td>0</td>\n",
       "      <td>Yes</td>\n",
       "      <td>No</td>\n",
       "      <td>1</td>\n",
       "      <td>No</td>\n",
       "      <td>No phone service</td>\n",
       "      <td>DSL</td>\n",
       "      <td>No</td>\n",
       "      <td>...</td>\n",
       "      <td>No</td>\n",
       "      <td>No</td>\n",
       "      <td>No</td>\n",
       "      <td>No</td>\n",
       "      <td>Month-to-month</td>\n",
       "      <td>Yes</td>\n",
       "      <td>Electronic check</td>\n",
       "      <td>29.85</td>\n",
       "      <td>29.85</td>\n",
       "      <td>No</td>\n",
       "    </tr>\n",
       "    <tr>\n",
       "      <th>1</th>\n",
       "      <td>5575-GNVDE</td>\n",
       "      <td>Male</td>\n",
       "      <td>0</td>\n",
       "      <td>No</td>\n",
       "      <td>No</td>\n",
       "      <td>34</td>\n",
       "      <td>Yes</td>\n",
       "      <td>No</td>\n",
       "      <td>DSL</td>\n",
       "      <td>Yes</td>\n",
       "      <td>...</td>\n",
       "      <td>Yes</td>\n",
       "      <td>No</td>\n",
       "      <td>No</td>\n",
       "      <td>No</td>\n",
       "      <td>One year</td>\n",
       "      <td>No</td>\n",
       "      <td>Mailed check</td>\n",
       "      <td>56.95</td>\n",
       "      <td>1889.5</td>\n",
       "      <td>No</td>\n",
       "    </tr>\n",
       "    <tr>\n",
       "      <th>2</th>\n",
       "      <td>3668-QPYBK</td>\n",
       "      <td>Male</td>\n",
       "      <td>0</td>\n",
       "      <td>No</td>\n",
       "      <td>No</td>\n",
       "      <td>2</td>\n",
       "      <td>Yes</td>\n",
       "      <td>No</td>\n",
       "      <td>DSL</td>\n",
       "      <td>Yes</td>\n",
       "      <td>...</td>\n",
       "      <td>No</td>\n",
       "      <td>No</td>\n",
       "      <td>No</td>\n",
       "      <td>No</td>\n",
       "      <td>Month-to-month</td>\n",
       "      <td>Yes</td>\n",
       "      <td>Mailed check</td>\n",
       "      <td>53.85</td>\n",
       "      <td>108.15</td>\n",
       "      <td>Yes</td>\n",
       "    </tr>\n",
       "    <tr>\n",
       "      <th>3</th>\n",
       "      <td>7795-CFOCW</td>\n",
       "      <td>Male</td>\n",
       "      <td>0</td>\n",
       "      <td>No</td>\n",
       "      <td>No</td>\n",
       "      <td>45</td>\n",
       "      <td>No</td>\n",
       "      <td>No phone service</td>\n",
       "      <td>DSL</td>\n",
       "      <td>Yes</td>\n",
       "      <td>...</td>\n",
       "      <td>Yes</td>\n",
       "      <td>Yes</td>\n",
       "      <td>No</td>\n",
       "      <td>No</td>\n",
       "      <td>One year</td>\n",
       "      <td>No</td>\n",
       "      <td>Bank transfer (automatic)</td>\n",
       "      <td>42.30</td>\n",
       "      <td>1840.75</td>\n",
       "      <td>No</td>\n",
       "    </tr>\n",
       "    <tr>\n",
       "      <th>4</th>\n",
       "      <td>9237-HQITU</td>\n",
       "      <td>Female</td>\n",
       "      <td>0</td>\n",
       "      <td>No</td>\n",
       "      <td>No</td>\n",
       "      <td>2</td>\n",
       "      <td>Yes</td>\n",
       "      <td>No</td>\n",
       "      <td>Fiber optic</td>\n",
       "      <td>No</td>\n",
       "      <td>...</td>\n",
       "      <td>No</td>\n",
       "      <td>No</td>\n",
       "      <td>No</td>\n",
       "      <td>No</td>\n",
       "      <td>Month-to-month</td>\n",
       "      <td>Yes</td>\n",
       "      <td>Electronic check</td>\n",
       "      <td>70.70</td>\n",
       "      <td>151.65</td>\n",
       "      <td>Yes</td>\n",
       "    </tr>\n",
       "  </tbody>\n",
       "</table>\n",
       "<p>5 rows × 21 columns</p>\n",
       "</div>"
      ],
      "text/plain": [
       "   customerID  gender  SeniorCitizen Partner Dependents  tenure PhoneService  \\\n",
       "0  7590-VHVEG  Female              0     Yes         No       1           No   \n",
       "1  5575-GNVDE    Male              0      No         No      34          Yes   \n",
       "2  3668-QPYBK    Male              0      No         No       2          Yes   \n",
       "3  7795-CFOCW    Male              0      No         No      45           No   \n",
       "4  9237-HQITU  Female              0      No         No       2          Yes   \n",
       "\n",
       "      MultipleLines InternetService OnlineSecurity  ... DeviceProtection  \\\n",
       "0  No phone service             DSL             No  ...               No   \n",
       "1                No             DSL            Yes  ...              Yes   \n",
       "2                No             DSL            Yes  ...               No   \n",
       "3  No phone service             DSL            Yes  ...              Yes   \n",
       "4                No     Fiber optic             No  ...               No   \n",
       "\n",
       "  TechSupport StreamingTV StreamingMovies        Contract PaperlessBilling  \\\n",
       "0          No          No              No  Month-to-month              Yes   \n",
       "1          No          No              No        One year               No   \n",
       "2          No          No              No  Month-to-month              Yes   \n",
       "3         Yes          No              No        One year               No   \n",
       "4          No          No              No  Month-to-month              Yes   \n",
       "\n",
       "               PaymentMethod MonthlyCharges  TotalCharges Churn  \n",
       "0           Electronic check          29.85         29.85    No  \n",
       "1               Mailed check          56.95        1889.5    No  \n",
       "2               Mailed check          53.85        108.15   Yes  \n",
       "3  Bank transfer (automatic)          42.30       1840.75    No  \n",
       "4           Electronic check          70.70        151.65   Yes  \n",
       "\n",
       "[5 rows x 21 columns]"
      ]
     },
     "execution_count": 2,
     "metadata": {},
     "output_type": "execute_result"
    }
   ],
   "source": [
    "df = pd.read_csv(\"customer churn.csv\")\n",
    "df.head()"
   ]
  },
  {
   "cell_type": "code",
   "execution_count": 3,
   "id": "5f7e3b63",
   "metadata": {},
   "outputs": [
    {
     "data": {
      "text/html": [
       "<div>\n",
       "<style scoped>\n",
       "    .dataframe tbody tr th:only-of-type {\n",
       "        vertical-align: middle;\n",
       "    }\n",
       "\n",
       "    .dataframe tbody tr th {\n",
       "        vertical-align: top;\n",
       "    }\n",
       "\n",
       "    .dataframe thead th {\n",
       "        text-align: right;\n",
       "    }\n",
       "</style>\n",
       "<table border=\"1\" class=\"dataframe\">\n",
       "  <thead>\n",
       "    <tr style=\"text-align: right;\">\n",
       "      <th></th>\n",
       "      <th>0</th>\n",
       "      <th>1</th>\n",
       "      <th>2</th>\n",
       "      <th>3</th>\n",
       "      <th>4</th>\n",
       "    </tr>\n",
       "  </thead>\n",
       "  <tbody>\n",
       "    <tr>\n",
       "      <th>customerID</th>\n",
       "      <td>7590-VHVEG</td>\n",
       "      <td>5575-GNVDE</td>\n",
       "      <td>3668-QPYBK</td>\n",
       "      <td>7795-CFOCW</td>\n",
       "      <td>9237-HQITU</td>\n",
       "    </tr>\n",
       "    <tr>\n",
       "      <th>gender</th>\n",
       "      <td>Female</td>\n",
       "      <td>Male</td>\n",
       "      <td>Male</td>\n",
       "      <td>Male</td>\n",
       "      <td>Female</td>\n",
       "    </tr>\n",
       "    <tr>\n",
       "      <th>SeniorCitizen</th>\n",
       "      <td>0</td>\n",
       "      <td>0</td>\n",
       "      <td>0</td>\n",
       "      <td>0</td>\n",
       "      <td>0</td>\n",
       "    </tr>\n",
       "    <tr>\n",
       "      <th>Partner</th>\n",
       "      <td>Yes</td>\n",
       "      <td>No</td>\n",
       "      <td>No</td>\n",
       "      <td>No</td>\n",
       "      <td>No</td>\n",
       "    </tr>\n",
       "    <tr>\n",
       "      <th>Dependents</th>\n",
       "      <td>No</td>\n",
       "      <td>No</td>\n",
       "      <td>No</td>\n",
       "      <td>No</td>\n",
       "      <td>No</td>\n",
       "    </tr>\n",
       "    <tr>\n",
       "      <th>tenure</th>\n",
       "      <td>1</td>\n",
       "      <td>34</td>\n",
       "      <td>2</td>\n",
       "      <td>45</td>\n",
       "      <td>2</td>\n",
       "    </tr>\n",
       "    <tr>\n",
       "      <th>PhoneService</th>\n",
       "      <td>No</td>\n",
       "      <td>Yes</td>\n",
       "      <td>Yes</td>\n",
       "      <td>No</td>\n",
       "      <td>Yes</td>\n",
       "    </tr>\n",
       "    <tr>\n",
       "      <th>MultipleLines</th>\n",
       "      <td>No phone service</td>\n",
       "      <td>No</td>\n",
       "      <td>No</td>\n",
       "      <td>No phone service</td>\n",
       "      <td>No</td>\n",
       "    </tr>\n",
       "    <tr>\n",
       "      <th>InternetService</th>\n",
       "      <td>DSL</td>\n",
       "      <td>DSL</td>\n",
       "      <td>DSL</td>\n",
       "      <td>DSL</td>\n",
       "      <td>Fiber optic</td>\n",
       "    </tr>\n",
       "    <tr>\n",
       "      <th>OnlineSecurity</th>\n",
       "      <td>No</td>\n",
       "      <td>Yes</td>\n",
       "      <td>Yes</td>\n",
       "      <td>Yes</td>\n",
       "      <td>No</td>\n",
       "    </tr>\n",
       "    <tr>\n",
       "      <th>OnlineBackup</th>\n",
       "      <td>Yes</td>\n",
       "      <td>No</td>\n",
       "      <td>Yes</td>\n",
       "      <td>No</td>\n",
       "      <td>No</td>\n",
       "    </tr>\n",
       "    <tr>\n",
       "      <th>DeviceProtection</th>\n",
       "      <td>No</td>\n",
       "      <td>Yes</td>\n",
       "      <td>No</td>\n",
       "      <td>Yes</td>\n",
       "      <td>No</td>\n",
       "    </tr>\n",
       "    <tr>\n",
       "      <th>TechSupport</th>\n",
       "      <td>No</td>\n",
       "      <td>No</td>\n",
       "      <td>No</td>\n",
       "      <td>Yes</td>\n",
       "      <td>No</td>\n",
       "    </tr>\n",
       "    <tr>\n",
       "      <th>StreamingTV</th>\n",
       "      <td>No</td>\n",
       "      <td>No</td>\n",
       "      <td>No</td>\n",
       "      <td>No</td>\n",
       "      <td>No</td>\n",
       "    </tr>\n",
       "    <tr>\n",
       "      <th>StreamingMovies</th>\n",
       "      <td>No</td>\n",
       "      <td>No</td>\n",
       "      <td>No</td>\n",
       "      <td>No</td>\n",
       "      <td>No</td>\n",
       "    </tr>\n",
       "    <tr>\n",
       "      <th>Contract</th>\n",
       "      <td>Month-to-month</td>\n",
       "      <td>One year</td>\n",
       "      <td>Month-to-month</td>\n",
       "      <td>One year</td>\n",
       "      <td>Month-to-month</td>\n",
       "    </tr>\n",
       "    <tr>\n",
       "      <th>PaperlessBilling</th>\n",
       "      <td>Yes</td>\n",
       "      <td>No</td>\n",
       "      <td>Yes</td>\n",
       "      <td>No</td>\n",
       "      <td>Yes</td>\n",
       "    </tr>\n",
       "    <tr>\n",
       "      <th>PaymentMethod</th>\n",
       "      <td>Electronic check</td>\n",
       "      <td>Mailed check</td>\n",
       "      <td>Mailed check</td>\n",
       "      <td>Bank transfer (automatic)</td>\n",
       "      <td>Electronic check</td>\n",
       "    </tr>\n",
       "    <tr>\n",
       "      <th>MonthlyCharges</th>\n",
       "      <td>29.85</td>\n",
       "      <td>56.95</td>\n",
       "      <td>53.85</td>\n",
       "      <td>42.3</td>\n",
       "      <td>70.7</td>\n",
       "    </tr>\n",
       "    <tr>\n",
       "      <th>TotalCharges</th>\n",
       "      <td>29.85</td>\n",
       "      <td>1889.5</td>\n",
       "      <td>108.15</td>\n",
       "      <td>1840.75</td>\n",
       "      <td>151.65</td>\n",
       "    </tr>\n",
       "    <tr>\n",
       "      <th>Churn</th>\n",
       "      <td>No</td>\n",
       "      <td>No</td>\n",
       "      <td>Yes</td>\n",
       "      <td>No</td>\n",
       "      <td>Yes</td>\n",
       "    </tr>\n",
       "  </tbody>\n",
       "</table>\n",
       "</div>"
      ],
      "text/plain": [
       "                                 0             1               2  \\\n",
       "customerID              7590-VHVEG    5575-GNVDE      3668-QPYBK   \n",
       "gender                      Female          Male            Male   \n",
       "SeniorCitizen                    0             0               0   \n",
       "Partner                        Yes            No              No   \n",
       "Dependents                      No            No              No   \n",
       "tenure                           1            34               2   \n",
       "PhoneService                    No           Yes             Yes   \n",
       "MultipleLines     No phone service            No              No   \n",
       "InternetService                DSL           DSL             DSL   \n",
       "OnlineSecurity                  No           Yes             Yes   \n",
       "OnlineBackup                   Yes            No             Yes   \n",
       "DeviceProtection                No           Yes              No   \n",
       "TechSupport                     No            No              No   \n",
       "StreamingTV                     No            No              No   \n",
       "StreamingMovies                 No            No              No   \n",
       "Contract            Month-to-month      One year  Month-to-month   \n",
       "PaperlessBilling               Yes            No             Yes   \n",
       "PaymentMethod     Electronic check  Mailed check    Mailed check   \n",
       "MonthlyCharges               29.85         56.95           53.85   \n",
       "TotalCharges                 29.85        1889.5          108.15   \n",
       "Churn                           No            No             Yes   \n",
       "\n",
       "                                          3                 4  \n",
       "customerID                       7795-CFOCW        9237-HQITU  \n",
       "gender                                 Male            Female  \n",
       "SeniorCitizen                             0                 0  \n",
       "Partner                                  No                No  \n",
       "Dependents                               No                No  \n",
       "tenure                                   45                 2  \n",
       "PhoneService                             No               Yes  \n",
       "MultipleLines              No phone service                No  \n",
       "InternetService                         DSL       Fiber optic  \n",
       "OnlineSecurity                          Yes                No  \n",
       "OnlineBackup                             No                No  \n",
       "DeviceProtection                        Yes                No  \n",
       "TechSupport                             Yes                No  \n",
       "StreamingTV                              No                No  \n",
       "StreamingMovies                          No                No  \n",
       "Contract                           One year    Month-to-month  \n",
       "PaperlessBilling                         No               Yes  \n",
       "PaymentMethod     Bank transfer (automatic)  Electronic check  \n",
       "MonthlyCharges                         42.3              70.7  \n",
       "TotalCharges                        1840.75            151.65  \n",
       "Churn                                    No               Yes  "
      ]
     },
     "execution_count": 3,
     "metadata": {},
     "output_type": "execute_result"
    }
   ],
   "source": [
    "df.head().T"
   ]
  },
  {
   "cell_type": "code",
   "execution_count": 4,
   "id": "aecaa213",
   "metadata": {},
   "outputs": [],
   "source": [
    "df.columns = df.columns.str.lower().str.replace(\" \",\"_\")\n",
    "\n",
    "categorical_columns = list(df.dtypes[df.dtypes == \"object\"].index)\n",
    "\n",
    "for c in categorical_columns:\n",
    "    df[c] = df[c].str.lower().str.replace(\" \",\"_\")"
   ]
  },
  {
   "cell_type": "code",
   "execution_count": 5,
   "id": "8b47ff71",
   "metadata": {},
   "outputs": [
    {
     "data": {
      "text/html": [
       "<div>\n",
       "<style scoped>\n",
       "    .dataframe tbody tr th:only-of-type {\n",
       "        vertical-align: middle;\n",
       "    }\n",
       "\n",
       "    .dataframe tbody tr th {\n",
       "        vertical-align: top;\n",
       "    }\n",
       "\n",
       "    .dataframe thead th {\n",
       "        text-align: right;\n",
       "    }\n",
       "</style>\n",
       "<table border=\"1\" class=\"dataframe\">\n",
       "  <thead>\n",
       "    <tr style=\"text-align: right;\">\n",
       "      <th></th>\n",
       "      <th>0</th>\n",
       "      <th>1</th>\n",
       "      <th>2</th>\n",
       "      <th>3</th>\n",
       "      <th>4</th>\n",
       "    </tr>\n",
       "  </thead>\n",
       "  <tbody>\n",
       "    <tr>\n",
       "      <th>customerid</th>\n",
       "      <td>7590-vhveg</td>\n",
       "      <td>5575-gnvde</td>\n",
       "      <td>3668-qpybk</td>\n",
       "      <td>7795-cfocw</td>\n",
       "      <td>9237-hqitu</td>\n",
       "    </tr>\n",
       "    <tr>\n",
       "      <th>gender</th>\n",
       "      <td>female</td>\n",
       "      <td>male</td>\n",
       "      <td>male</td>\n",
       "      <td>male</td>\n",
       "      <td>female</td>\n",
       "    </tr>\n",
       "    <tr>\n",
       "      <th>seniorcitizen</th>\n",
       "      <td>0</td>\n",
       "      <td>0</td>\n",
       "      <td>0</td>\n",
       "      <td>0</td>\n",
       "      <td>0</td>\n",
       "    </tr>\n",
       "    <tr>\n",
       "      <th>partner</th>\n",
       "      <td>yes</td>\n",
       "      <td>no</td>\n",
       "      <td>no</td>\n",
       "      <td>no</td>\n",
       "      <td>no</td>\n",
       "    </tr>\n",
       "    <tr>\n",
       "      <th>dependents</th>\n",
       "      <td>no</td>\n",
       "      <td>no</td>\n",
       "      <td>no</td>\n",
       "      <td>no</td>\n",
       "      <td>no</td>\n",
       "    </tr>\n",
       "    <tr>\n",
       "      <th>tenure</th>\n",
       "      <td>1</td>\n",
       "      <td>34</td>\n",
       "      <td>2</td>\n",
       "      <td>45</td>\n",
       "      <td>2</td>\n",
       "    </tr>\n",
       "    <tr>\n",
       "      <th>phoneservice</th>\n",
       "      <td>no</td>\n",
       "      <td>yes</td>\n",
       "      <td>yes</td>\n",
       "      <td>no</td>\n",
       "      <td>yes</td>\n",
       "    </tr>\n",
       "    <tr>\n",
       "      <th>multiplelines</th>\n",
       "      <td>no_phone_service</td>\n",
       "      <td>no</td>\n",
       "      <td>no</td>\n",
       "      <td>no_phone_service</td>\n",
       "      <td>no</td>\n",
       "    </tr>\n",
       "    <tr>\n",
       "      <th>internetservice</th>\n",
       "      <td>dsl</td>\n",
       "      <td>dsl</td>\n",
       "      <td>dsl</td>\n",
       "      <td>dsl</td>\n",
       "      <td>fiber_optic</td>\n",
       "    </tr>\n",
       "    <tr>\n",
       "      <th>onlinesecurity</th>\n",
       "      <td>no</td>\n",
       "      <td>yes</td>\n",
       "      <td>yes</td>\n",
       "      <td>yes</td>\n",
       "      <td>no</td>\n",
       "    </tr>\n",
       "    <tr>\n",
       "      <th>onlinebackup</th>\n",
       "      <td>yes</td>\n",
       "      <td>no</td>\n",
       "      <td>yes</td>\n",
       "      <td>no</td>\n",
       "      <td>no</td>\n",
       "    </tr>\n",
       "    <tr>\n",
       "      <th>deviceprotection</th>\n",
       "      <td>no</td>\n",
       "      <td>yes</td>\n",
       "      <td>no</td>\n",
       "      <td>yes</td>\n",
       "      <td>no</td>\n",
       "    </tr>\n",
       "    <tr>\n",
       "      <th>techsupport</th>\n",
       "      <td>no</td>\n",
       "      <td>no</td>\n",
       "      <td>no</td>\n",
       "      <td>yes</td>\n",
       "      <td>no</td>\n",
       "    </tr>\n",
       "    <tr>\n",
       "      <th>streamingtv</th>\n",
       "      <td>no</td>\n",
       "      <td>no</td>\n",
       "      <td>no</td>\n",
       "      <td>no</td>\n",
       "      <td>no</td>\n",
       "    </tr>\n",
       "    <tr>\n",
       "      <th>streamingmovies</th>\n",
       "      <td>no</td>\n",
       "      <td>no</td>\n",
       "      <td>no</td>\n",
       "      <td>no</td>\n",
       "      <td>no</td>\n",
       "    </tr>\n",
       "    <tr>\n",
       "      <th>contract</th>\n",
       "      <td>month-to-month</td>\n",
       "      <td>one_year</td>\n",
       "      <td>month-to-month</td>\n",
       "      <td>one_year</td>\n",
       "      <td>month-to-month</td>\n",
       "    </tr>\n",
       "    <tr>\n",
       "      <th>paperlessbilling</th>\n",
       "      <td>yes</td>\n",
       "      <td>no</td>\n",
       "      <td>yes</td>\n",
       "      <td>no</td>\n",
       "      <td>yes</td>\n",
       "    </tr>\n",
       "    <tr>\n",
       "      <th>paymentmethod</th>\n",
       "      <td>electronic_check</td>\n",
       "      <td>mailed_check</td>\n",
       "      <td>mailed_check</td>\n",
       "      <td>bank_transfer_(automatic)</td>\n",
       "      <td>electronic_check</td>\n",
       "    </tr>\n",
       "    <tr>\n",
       "      <th>monthlycharges</th>\n",
       "      <td>29.85</td>\n",
       "      <td>56.95</td>\n",
       "      <td>53.85</td>\n",
       "      <td>42.3</td>\n",
       "      <td>70.7</td>\n",
       "    </tr>\n",
       "    <tr>\n",
       "      <th>totalcharges</th>\n",
       "      <td>29.85</td>\n",
       "      <td>1889.5</td>\n",
       "      <td>108.15</td>\n",
       "      <td>1840.75</td>\n",
       "      <td>151.65</td>\n",
       "    </tr>\n",
       "    <tr>\n",
       "      <th>churn</th>\n",
       "      <td>no</td>\n",
       "      <td>no</td>\n",
       "      <td>yes</td>\n",
       "      <td>no</td>\n",
       "      <td>yes</td>\n",
       "    </tr>\n",
       "  </tbody>\n",
       "</table>\n",
       "</div>"
      ],
      "text/plain": [
       "                                 0             1               2  \\\n",
       "customerid              7590-vhveg    5575-gnvde      3668-qpybk   \n",
       "gender                      female          male            male   \n",
       "seniorcitizen                    0             0               0   \n",
       "partner                        yes            no              no   \n",
       "dependents                      no            no              no   \n",
       "tenure                           1            34               2   \n",
       "phoneservice                    no           yes             yes   \n",
       "multiplelines     no_phone_service            no              no   \n",
       "internetservice                dsl           dsl             dsl   \n",
       "onlinesecurity                  no           yes             yes   \n",
       "onlinebackup                   yes            no             yes   \n",
       "deviceprotection                no           yes              no   \n",
       "techsupport                     no            no              no   \n",
       "streamingtv                     no            no              no   \n",
       "streamingmovies                 no            no              no   \n",
       "contract            month-to-month      one_year  month-to-month   \n",
       "paperlessbilling               yes            no             yes   \n",
       "paymentmethod     electronic_check  mailed_check    mailed_check   \n",
       "monthlycharges               29.85         56.95           53.85   \n",
       "totalcharges                 29.85        1889.5          108.15   \n",
       "churn                           no            no             yes   \n",
       "\n",
       "                                          3                 4  \n",
       "customerid                       7795-cfocw        9237-hqitu  \n",
       "gender                                 male            female  \n",
       "seniorcitizen                             0                 0  \n",
       "partner                                  no                no  \n",
       "dependents                               no                no  \n",
       "tenure                                   45                 2  \n",
       "phoneservice                             no               yes  \n",
       "multiplelines              no_phone_service                no  \n",
       "internetservice                         dsl       fiber_optic  \n",
       "onlinesecurity                          yes                no  \n",
       "onlinebackup                             no                no  \n",
       "deviceprotection                        yes                no  \n",
       "techsupport                             yes                no  \n",
       "streamingtv                              no                no  \n",
       "streamingmovies                          no                no  \n",
       "contract                           one_year    month-to-month  \n",
       "paperlessbilling                         no               yes  \n",
       "paymentmethod     bank_transfer_(automatic)  electronic_check  \n",
       "monthlycharges                         42.3              70.7  \n",
       "totalcharges                        1840.75            151.65  \n",
       "churn                                    no               yes  "
      ]
     },
     "execution_count": 5,
     "metadata": {},
     "output_type": "execute_result"
    }
   ],
   "source": [
    "df.head().T"
   ]
  },
  {
   "cell_type": "code",
   "execution_count": 6,
   "id": "c89692cb",
   "metadata": {},
   "outputs": [
    {
     "data": {
      "text/plain": [
       "customerid           object\n",
       "gender               object\n",
       "seniorcitizen         int64\n",
       "partner              object\n",
       "dependents           object\n",
       "tenure                int64\n",
       "phoneservice         object\n",
       "multiplelines        object\n",
       "internetservice      object\n",
       "onlinesecurity       object\n",
       "onlinebackup         object\n",
       "deviceprotection     object\n",
       "techsupport          object\n",
       "streamingtv          object\n",
       "streamingmovies      object\n",
       "contract             object\n",
       "paperlessbilling     object\n",
       "paymentmethod        object\n",
       "monthlycharges      float64\n",
       "totalcharges         object\n",
       "churn                object\n",
       "dtype: object"
      ]
     },
     "execution_count": 6,
     "metadata": {},
     "output_type": "execute_result"
    }
   ],
   "source": [
    "df.dtypes"
   ]
  },
  {
   "cell_type": "code",
   "execution_count": 7,
   "id": "e7bfe591",
   "metadata": {},
   "outputs": [],
   "source": [
    "df.totalcharges = pd.to_numeric(df.totalcharges, errors=\"coerce\")"
   ]
  },
  {
   "cell_type": "code",
   "execution_count": 8,
   "id": "60fa5854",
   "metadata": {},
   "outputs": [],
   "source": [
    "df.totalcharges = df.totalcharges.fillna(0)"
   ]
  },
  {
   "cell_type": "code",
   "execution_count": 9,
   "id": "38c1a030",
   "metadata": {},
   "outputs": [],
   "source": [
    "df.churn = (df.churn == \"yes\").astype(int)"
   ]
  },
  {
   "cell_type": "code",
   "execution_count": 10,
   "id": "d2055bcc",
   "metadata": {},
   "outputs": [
    {
     "data": {
      "text/plain": [
       "0    0\n",
       "1    0\n",
       "2    1\n",
       "3    0\n",
       "4    1\n",
       "Name: churn, dtype: int32"
      ]
     },
     "execution_count": 10,
     "metadata": {},
     "output_type": "execute_result"
    }
   ],
   "source": [
    "df.churn.head()"
   ]
  },
  {
   "cell_type": "code",
   "execution_count": null,
   "id": "bff59b4a",
   "metadata": {},
   "outputs": [],
   "source": []
  },
  {
   "cell_type": "markdown",
   "id": "fc410685",
   "metadata": {},
   "source": [
    "## Setting up Validation framework"
   ]
  },
  {
   "cell_type": "markdown",
   "id": "8b02e853",
   "metadata": {},
   "source": [
    "perform train/validation/test with sklearn"
   ]
  },
  {
   "cell_type": "code",
   "execution_count": 11,
   "id": "5598c5a3",
   "metadata": {},
   "outputs": [],
   "source": [
    "from sklearn.model_selection import train_test_split"
   ]
  },
  {
   "cell_type": "code",
   "execution_count": 12,
   "id": "6f5c505e",
   "metadata": {},
   "outputs": [],
   "source": [
    "df_full_train, df_test = train_test_split(df, test_size=0.2, random_state= 1)"
   ]
  },
  {
   "cell_type": "code",
   "execution_count": 13,
   "id": "3aa2ea69",
   "metadata": {},
   "outputs": [
    {
     "data": {
      "text/plain": [
       "(5634, 1409)"
      ]
     },
     "execution_count": 13,
     "metadata": {},
     "output_type": "execute_result"
    }
   ],
   "source": [
    "len(df_full_train), len(df_test)"
   ]
  },
  {
   "cell_type": "code",
   "execution_count": 14,
   "id": "583c7035",
   "metadata": {},
   "outputs": [],
   "source": [
    "df_train, df_val = train_test_split(df_full_train, test_size=0.25, random_state= 1)"
   ]
  },
  {
   "cell_type": "code",
   "execution_count": 15,
   "id": "9620a134",
   "metadata": {},
   "outputs": [
    {
     "data": {
      "text/plain": [
       "(4225, 1409, 1409)"
      ]
     },
     "execution_count": 15,
     "metadata": {},
     "output_type": "execute_result"
    }
   ],
   "source": [
    "len(df_train), len(df_val),len(df_test)"
   ]
  },
  {
   "cell_type": "code",
   "execution_count": 16,
   "id": "074ec9c7",
   "metadata": {},
   "outputs": [],
   "source": [
    "df_train= df_train.reset_index(drop =True)\n",
    "df_val= df_val.reset_index(drop =True)\n",
    "df_test= df_test.reset_index(drop =True)"
   ]
  },
  {
   "cell_type": "code",
   "execution_count": 17,
   "id": "86d4a13c",
   "metadata": {},
   "outputs": [],
   "source": [
    "y_train = df_train.churn.values\n",
    "y_val = df_val.churn.values\n",
    "y_test = df_test.churn.values"
   ]
  },
  {
   "cell_type": "code",
   "execution_count": 18,
   "id": "8b9d7b82",
   "metadata": {},
   "outputs": [],
   "source": [
    "del df_train [\"churn\"]\n",
    "del df_val [\"churn\"]\n",
    "del df_test[\"churn\"]\n"
   ]
  },
  {
   "cell_type": "code",
   "execution_count": null,
   "id": "c9856f17",
   "metadata": {},
   "outputs": [],
   "source": []
  },
  {
   "cell_type": "markdown",
   "id": "3535884b",
   "metadata": {},
   "source": [
    "## EDA"
   ]
  },
  {
   "cell_type": "markdown",
   "id": "8e35ae67",
   "metadata": {},
   "source": [
    "- check missing values\n",
    "- Look at the target variable (churn)\n",
    "- Look at numerical and categorical variables"
   ]
  },
  {
   "cell_type": "code",
   "execution_count": 19,
   "id": "ec35e63e",
   "metadata": {},
   "outputs": [
    {
     "data": {
      "text/html": [
       "<div>\n",
       "<style scoped>\n",
       "    .dataframe tbody tr th:only-of-type {\n",
       "        vertical-align: middle;\n",
       "    }\n",
       "\n",
       "    .dataframe tbody tr th {\n",
       "        vertical-align: top;\n",
       "    }\n",
       "\n",
       "    .dataframe thead th {\n",
       "        text-align: right;\n",
       "    }\n",
       "</style>\n",
       "<table border=\"1\" class=\"dataframe\">\n",
       "  <thead>\n",
       "    <tr style=\"text-align: right;\">\n",
       "      <th></th>\n",
       "      <th>customerid</th>\n",
       "      <th>gender</th>\n",
       "      <th>seniorcitizen</th>\n",
       "      <th>partner</th>\n",
       "      <th>dependents</th>\n",
       "      <th>tenure</th>\n",
       "      <th>phoneservice</th>\n",
       "      <th>multiplelines</th>\n",
       "      <th>internetservice</th>\n",
       "      <th>onlinesecurity</th>\n",
       "      <th>...</th>\n",
       "      <th>deviceprotection</th>\n",
       "      <th>techsupport</th>\n",
       "      <th>streamingtv</th>\n",
       "      <th>streamingmovies</th>\n",
       "      <th>contract</th>\n",
       "      <th>paperlessbilling</th>\n",
       "      <th>paymentmethod</th>\n",
       "      <th>monthlycharges</th>\n",
       "      <th>totalcharges</th>\n",
       "      <th>churn</th>\n",
       "    </tr>\n",
       "  </thead>\n",
       "  <tbody>\n",
       "    <tr>\n",
       "      <th>0</th>\n",
       "      <td>5442-pptjy</td>\n",
       "      <td>male</td>\n",
       "      <td>0</td>\n",
       "      <td>yes</td>\n",
       "      <td>yes</td>\n",
       "      <td>12</td>\n",
       "      <td>yes</td>\n",
       "      <td>no</td>\n",
       "      <td>no</td>\n",
       "      <td>no_internet_service</td>\n",
       "      <td>...</td>\n",
       "      <td>no_internet_service</td>\n",
       "      <td>no_internet_service</td>\n",
       "      <td>no_internet_service</td>\n",
       "      <td>no_internet_service</td>\n",
       "      <td>two_year</td>\n",
       "      <td>no</td>\n",
       "      <td>mailed_check</td>\n",
       "      <td>19.70</td>\n",
       "      <td>258.35</td>\n",
       "      <td>0</td>\n",
       "    </tr>\n",
       "    <tr>\n",
       "      <th>1</th>\n",
       "      <td>6261-rcvns</td>\n",
       "      <td>female</td>\n",
       "      <td>0</td>\n",
       "      <td>no</td>\n",
       "      <td>no</td>\n",
       "      <td>42</td>\n",
       "      <td>yes</td>\n",
       "      <td>no</td>\n",
       "      <td>dsl</td>\n",
       "      <td>yes</td>\n",
       "      <td>...</td>\n",
       "      <td>yes</td>\n",
       "      <td>yes</td>\n",
       "      <td>no</td>\n",
       "      <td>yes</td>\n",
       "      <td>one_year</td>\n",
       "      <td>no</td>\n",
       "      <td>credit_card_(automatic)</td>\n",
       "      <td>73.90</td>\n",
       "      <td>3160.55</td>\n",
       "      <td>1</td>\n",
       "    </tr>\n",
       "    <tr>\n",
       "      <th>2</th>\n",
       "      <td>2176-osjuv</td>\n",
       "      <td>male</td>\n",
       "      <td>0</td>\n",
       "      <td>yes</td>\n",
       "      <td>no</td>\n",
       "      <td>71</td>\n",
       "      <td>yes</td>\n",
       "      <td>yes</td>\n",
       "      <td>dsl</td>\n",
       "      <td>yes</td>\n",
       "      <td>...</td>\n",
       "      <td>no</td>\n",
       "      <td>yes</td>\n",
       "      <td>no</td>\n",
       "      <td>no</td>\n",
       "      <td>two_year</td>\n",
       "      <td>no</td>\n",
       "      <td>bank_transfer_(automatic)</td>\n",
       "      <td>65.15</td>\n",
       "      <td>4681.75</td>\n",
       "      <td>0</td>\n",
       "    </tr>\n",
       "    <tr>\n",
       "      <th>3</th>\n",
       "      <td>6161-erdgd</td>\n",
       "      <td>male</td>\n",
       "      <td>0</td>\n",
       "      <td>yes</td>\n",
       "      <td>yes</td>\n",
       "      <td>71</td>\n",
       "      <td>yes</td>\n",
       "      <td>yes</td>\n",
       "      <td>dsl</td>\n",
       "      <td>yes</td>\n",
       "      <td>...</td>\n",
       "      <td>yes</td>\n",
       "      <td>yes</td>\n",
       "      <td>yes</td>\n",
       "      <td>yes</td>\n",
       "      <td>one_year</td>\n",
       "      <td>no</td>\n",
       "      <td>electronic_check</td>\n",
       "      <td>85.45</td>\n",
       "      <td>6300.85</td>\n",
       "      <td>0</td>\n",
       "    </tr>\n",
       "    <tr>\n",
       "      <th>4</th>\n",
       "      <td>2364-ufrom</td>\n",
       "      <td>male</td>\n",
       "      <td>0</td>\n",
       "      <td>no</td>\n",
       "      <td>no</td>\n",
       "      <td>30</td>\n",
       "      <td>yes</td>\n",
       "      <td>no</td>\n",
       "      <td>dsl</td>\n",
       "      <td>yes</td>\n",
       "      <td>...</td>\n",
       "      <td>no</td>\n",
       "      <td>yes</td>\n",
       "      <td>yes</td>\n",
       "      <td>no</td>\n",
       "      <td>one_year</td>\n",
       "      <td>no</td>\n",
       "      <td>electronic_check</td>\n",
       "      <td>70.40</td>\n",
       "      <td>2044.75</td>\n",
       "      <td>0</td>\n",
       "    </tr>\n",
       "    <tr>\n",
       "      <th>...</th>\n",
       "      <td>...</td>\n",
       "      <td>...</td>\n",
       "      <td>...</td>\n",
       "      <td>...</td>\n",
       "      <td>...</td>\n",
       "      <td>...</td>\n",
       "      <td>...</td>\n",
       "      <td>...</td>\n",
       "      <td>...</td>\n",
       "      <td>...</td>\n",
       "      <td>...</td>\n",
       "      <td>...</td>\n",
       "      <td>...</td>\n",
       "      <td>...</td>\n",
       "      <td>...</td>\n",
       "      <td>...</td>\n",
       "      <td>...</td>\n",
       "      <td>...</td>\n",
       "      <td>...</td>\n",
       "      <td>...</td>\n",
       "      <td>...</td>\n",
       "    </tr>\n",
       "    <tr>\n",
       "      <th>5629</th>\n",
       "      <td>0781-lkxbr</td>\n",
       "      <td>male</td>\n",
       "      <td>1</td>\n",
       "      <td>no</td>\n",
       "      <td>no</td>\n",
       "      <td>9</td>\n",
       "      <td>yes</td>\n",
       "      <td>yes</td>\n",
       "      <td>fiber_optic</td>\n",
       "      <td>no</td>\n",
       "      <td>...</td>\n",
       "      <td>yes</td>\n",
       "      <td>no</td>\n",
       "      <td>yes</td>\n",
       "      <td>yes</td>\n",
       "      <td>month-to-month</td>\n",
       "      <td>yes</td>\n",
       "      <td>electronic_check</td>\n",
       "      <td>100.50</td>\n",
       "      <td>918.60</td>\n",
       "      <td>1</td>\n",
       "    </tr>\n",
       "    <tr>\n",
       "      <th>5630</th>\n",
       "      <td>3507-gasnp</td>\n",
       "      <td>male</td>\n",
       "      <td>0</td>\n",
       "      <td>no</td>\n",
       "      <td>yes</td>\n",
       "      <td>60</td>\n",
       "      <td>yes</td>\n",
       "      <td>no</td>\n",
       "      <td>no</td>\n",
       "      <td>no_internet_service</td>\n",
       "      <td>...</td>\n",
       "      <td>no_internet_service</td>\n",
       "      <td>no_internet_service</td>\n",
       "      <td>no_internet_service</td>\n",
       "      <td>no_internet_service</td>\n",
       "      <td>two_year</td>\n",
       "      <td>no</td>\n",
       "      <td>mailed_check</td>\n",
       "      <td>19.95</td>\n",
       "      <td>1189.90</td>\n",
       "      <td>0</td>\n",
       "    </tr>\n",
       "    <tr>\n",
       "      <th>5631</th>\n",
       "      <td>8868-wozgu</td>\n",
       "      <td>male</td>\n",
       "      <td>0</td>\n",
       "      <td>no</td>\n",
       "      <td>no</td>\n",
       "      <td>28</td>\n",
       "      <td>yes</td>\n",
       "      <td>yes</td>\n",
       "      <td>fiber_optic</td>\n",
       "      <td>no</td>\n",
       "      <td>...</td>\n",
       "      <td>yes</td>\n",
       "      <td>no</td>\n",
       "      <td>yes</td>\n",
       "      <td>yes</td>\n",
       "      <td>month-to-month</td>\n",
       "      <td>yes</td>\n",
       "      <td>electronic_check</td>\n",
       "      <td>105.70</td>\n",
       "      <td>2979.50</td>\n",
       "      <td>1</td>\n",
       "    </tr>\n",
       "    <tr>\n",
       "      <th>5632</th>\n",
       "      <td>1251-krreg</td>\n",
       "      <td>male</td>\n",
       "      <td>0</td>\n",
       "      <td>no</td>\n",
       "      <td>no</td>\n",
       "      <td>2</td>\n",
       "      <td>yes</td>\n",
       "      <td>yes</td>\n",
       "      <td>dsl</td>\n",
       "      <td>no</td>\n",
       "      <td>...</td>\n",
       "      <td>no</td>\n",
       "      <td>no</td>\n",
       "      <td>no</td>\n",
       "      <td>no</td>\n",
       "      <td>month-to-month</td>\n",
       "      <td>yes</td>\n",
       "      <td>mailed_check</td>\n",
       "      <td>54.40</td>\n",
       "      <td>114.10</td>\n",
       "      <td>1</td>\n",
       "    </tr>\n",
       "    <tr>\n",
       "      <th>5633</th>\n",
       "      <td>5840-nvdcg</td>\n",
       "      <td>female</td>\n",
       "      <td>0</td>\n",
       "      <td>yes</td>\n",
       "      <td>yes</td>\n",
       "      <td>16</td>\n",
       "      <td>yes</td>\n",
       "      <td>no</td>\n",
       "      <td>dsl</td>\n",
       "      <td>yes</td>\n",
       "      <td>...</td>\n",
       "      <td>no</td>\n",
       "      <td>yes</td>\n",
       "      <td>no</td>\n",
       "      <td>yes</td>\n",
       "      <td>two_year</td>\n",
       "      <td>no</td>\n",
       "      <td>bank_transfer_(automatic)</td>\n",
       "      <td>68.25</td>\n",
       "      <td>1114.85</td>\n",
       "      <td>0</td>\n",
       "    </tr>\n",
       "  </tbody>\n",
       "</table>\n",
       "<p>5634 rows × 21 columns</p>\n",
       "</div>"
      ],
      "text/plain": [
       "      customerid  gender  seniorcitizen partner dependents  tenure  \\\n",
       "0     5442-pptjy    male              0     yes        yes      12   \n",
       "1     6261-rcvns  female              0      no         no      42   \n",
       "2     2176-osjuv    male              0     yes         no      71   \n",
       "3     6161-erdgd    male              0     yes        yes      71   \n",
       "4     2364-ufrom    male              0      no         no      30   \n",
       "...          ...     ...            ...     ...        ...     ...   \n",
       "5629  0781-lkxbr    male              1      no         no       9   \n",
       "5630  3507-gasnp    male              0      no        yes      60   \n",
       "5631  8868-wozgu    male              0      no         no      28   \n",
       "5632  1251-krreg    male              0      no         no       2   \n",
       "5633  5840-nvdcg  female              0     yes        yes      16   \n",
       "\n",
       "     phoneservice multiplelines internetservice       onlinesecurity  ...  \\\n",
       "0             yes            no              no  no_internet_service  ...   \n",
       "1             yes            no             dsl                  yes  ...   \n",
       "2             yes           yes             dsl                  yes  ...   \n",
       "3             yes           yes             dsl                  yes  ...   \n",
       "4             yes            no             dsl                  yes  ...   \n",
       "...           ...           ...             ...                  ...  ...   \n",
       "5629          yes           yes     fiber_optic                   no  ...   \n",
       "5630          yes            no              no  no_internet_service  ...   \n",
       "5631          yes           yes     fiber_optic                   no  ...   \n",
       "5632          yes           yes             dsl                   no  ...   \n",
       "5633          yes            no             dsl                  yes  ...   \n",
       "\n",
       "         deviceprotection          techsupport          streamingtv  \\\n",
       "0     no_internet_service  no_internet_service  no_internet_service   \n",
       "1                     yes                  yes                   no   \n",
       "2                      no                  yes                   no   \n",
       "3                     yes                  yes                  yes   \n",
       "4                      no                  yes                  yes   \n",
       "...                   ...                  ...                  ...   \n",
       "5629                  yes                   no                  yes   \n",
       "5630  no_internet_service  no_internet_service  no_internet_service   \n",
       "5631                  yes                   no                  yes   \n",
       "5632                   no                   no                   no   \n",
       "5633                   no                  yes                   no   \n",
       "\n",
       "          streamingmovies        contract paperlessbilling  \\\n",
       "0     no_internet_service        two_year               no   \n",
       "1                     yes        one_year               no   \n",
       "2                      no        two_year               no   \n",
       "3                     yes        one_year               no   \n",
       "4                      no        one_year               no   \n",
       "...                   ...             ...              ...   \n",
       "5629                  yes  month-to-month              yes   \n",
       "5630  no_internet_service        two_year               no   \n",
       "5631                  yes  month-to-month              yes   \n",
       "5632                   no  month-to-month              yes   \n",
       "5633                  yes        two_year               no   \n",
       "\n",
       "                  paymentmethod monthlycharges  totalcharges  churn  \n",
       "0                  mailed_check          19.70        258.35      0  \n",
       "1       credit_card_(automatic)          73.90       3160.55      1  \n",
       "2     bank_transfer_(automatic)          65.15       4681.75      0  \n",
       "3              electronic_check          85.45       6300.85      0  \n",
       "4              electronic_check          70.40       2044.75      0  \n",
       "...                         ...            ...           ...    ...  \n",
       "5629           electronic_check         100.50        918.60      1  \n",
       "5630               mailed_check          19.95       1189.90      0  \n",
       "5631           electronic_check         105.70       2979.50      1  \n",
       "5632               mailed_check          54.40        114.10      1  \n",
       "5633  bank_transfer_(automatic)          68.25       1114.85      0  \n",
       "\n",
       "[5634 rows x 21 columns]"
      ]
     },
     "execution_count": 19,
     "metadata": {},
     "output_type": "execute_result"
    }
   ],
   "source": [
    "df_full_train = df_full_train.reset_index(drop = True)\n",
    "df_full_train"
   ]
  },
  {
   "cell_type": "code",
   "execution_count": 20,
   "id": "ed027768",
   "metadata": {},
   "outputs": [
    {
     "data": {
      "text/plain": [
       "customerid          0\n",
       "gender              0\n",
       "seniorcitizen       0\n",
       "partner             0\n",
       "dependents          0\n",
       "tenure              0\n",
       "phoneservice        0\n",
       "multiplelines       0\n",
       "internetservice     0\n",
       "onlinesecurity      0\n",
       "onlinebackup        0\n",
       "deviceprotection    0\n",
       "techsupport         0\n",
       "streamingtv         0\n",
       "streamingmovies     0\n",
       "contract            0\n",
       "paperlessbilling    0\n",
       "paymentmethod       0\n",
       "monthlycharges      0\n",
       "totalcharges        0\n",
       "churn               0\n",
       "dtype: int64"
      ]
     },
     "execution_count": 20,
     "metadata": {},
     "output_type": "execute_result"
    }
   ],
   "source": [
    "df_full_train.isnull().sum()"
   ]
  },
  {
   "cell_type": "code",
   "execution_count": 21,
   "id": "166e4717",
   "metadata": {},
   "outputs": [
    {
     "data": {
      "text/plain": [
       "0    4113\n",
       "1    1521\n",
       "Name: churn, dtype: int64"
      ]
     },
     "execution_count": 21,
     "metadata": {},
     "output_type": "execute_result"
    }
   ],
   "source": [
    "df_full_train.churn.value_counts()"
   ]
  },
  {
   "cell_type": "code",
   "execution_count": 22,
   "id": "4dca4dc0",
   "metadata": {},
   "outputs": [
    {
     "data": {
      "text/plain": [
       "0    0.730032\n",
       "1    0.269968\n",
       "Name: churn, dtype: float64"
      ]
     },
     "execution_count": 22,
     "metadata": {},
     "output_type": "execute_result"
    }
   ],
   "source": [
    "## churn rate\n",
    "df_full_train.churn.value_counts(normalize= True)"
   ]
  },
  {
   "cell_type": "code",
   "execution_count": 23,
   "id": "2b3060c0",
   "metadata": {},
   "outputs": [],
   "source": [
    "global_churn_rate = df_full_train.churn.mean()"
   ]
  },
  {
   "cell_type": "code",
   "execution_count": 24,
   "id": "dd13bb34",
   "metadata": {},
   "outputs": [
    {
     "data": {
      "text/plain": [
       "customerid           object\n",
       "gender               object\n",
       "seniorcitizen         int64\n",
       "partner              object\n",
       "dependents           object\n",
       "tenure                int64\n",
       "phoneservice         object\n",
       "multiplelines        object\n",
       "internetservice      object\n",
       "onlinesecurity       object\n",
       "onlinebackup         object\n",
       "deviceprotection     object\n",
       "techsupport          object\n",
       "streamingtv          object\n",
       "streamingmovies      object\n",
       "contract             object\n",
       "paperlessbilling     object\n",
       "paymentmethod        object\n",
       "monthlycharges      float64\n",
       "totalcharges        float64\n",
       "churn                 int32\n",
       "dtype: object"
      ]
     },
     "execution_count": 24,
     "metadata": {},
     "output_type": "execute_result"
    }
   ],
   "source": [
    "df_full_train.dtypes"
   ]
  },
  {
   "cell_type": "code",
   "execution_count": 25,
   "id": "f13cc54b",
   "metadata": {},
   "outputs": [],
   "source": [
    "## numerical variables. seniorcitizen is a categorical variable -1,0\n",
    "\n",
    "numerical = [\"tenure\", \"monthlycharges\", \"totalcharges\" ]"
   ]
  },
  {
   "cell_type": "code",
   "execution_count": 26,
   "id": "80634ea6",
   "metadata": {},
   "outputs": [
    {
     "data": {
      "text/plain": [
       "Index(['customerid', 'gender', 'seniorcitizen', 'partner', 'dependents',\n",
       "       'tenure', 'phoneservice', 'multiplelines', 'internetservice',\n",
       "       'onlinesecurity', 'onlinebackup', 'deviceprotection', 'techsupport',\n",
       "       'streamingtv', 'streamingmovies', 'contract', 'paperlessbilling',\n",
       "       'paymentmethod', 'monthlycharges', 'totalcharges', 'churn'],\n",
       "      dtype='object')"
      ]
     },
     "execution_count": 26,
     "metadata": {},
     "output_type": "execute_result"
    }
   ],
   "source": [
    "df_full_train.columns"
   ]
  },
  {
   "cell_type": "code",
   "execution_count": 27,
   "id": "d8175050",
   "metadata": {},
   "outputs": [],
   "source": [
    "categorical = ['gender', 'seniorcitizen', 'partner', 'dependents', 'phoneservice', 'multiplelines', 'internetservice',\n",
    "       'onlinesecurity', 'onlinebackup', 'deviceprotection', 'techsupport',\n",
    "       'streamingtv', 'streamingmovies', 'contract', 'paperlessbilling',\n",
    "       'paymentmethod']"
   ]
  },
  {
   "cell_type": "code",
   "execution_count": 28,
   "id": "3c6d8e96",
   "metadata": {},
   "outputs": [
    {
     "data": {
      "text/plain": [
       "gender              2\n",
       "seniorcitizen       2\n",
       "partner             2\n",
       "dependents          2\n",
       "phoneservice        2\n",
       "multiplelines       3\n",
       "internetservice     3\n",
       "onlinesecurity      3\n",
       "onlinebackup        3\n",
       "deviceprotection    3\n",
       "techsupport         3\n",
       "streamingtv         3\n",
       "streamingmovies     3\n",
       "contract            3\n",
       "paperlessbilling    2\n",
       "paymentmethod       4\n",
       "dtype: int64"
      ]
     },
     "execution_count": 28,
     "metadata": {},
     "output_type": "execute_result"
    }
   ],
   "source": [
    "df_full_train[categorical].nunique()"
   ]
  },
  {
   "cell_type": "markdown",
   "id": "cb351a25",
   "metadata": {},
   "source": [
    "# Feature importance: Churn rate and risk ratio"
   ]
  },
  {
   "cell_type": "markdown",
   "id": "c5be9326",
   "metadata": {},
   "source": [
    "Feature importance analysis (part of EDA) - identifying which features affect our target variable\n",
    "\n",
    "- churn rate\n",
    "- risk ratio\n",
    "- mutual information"
   ]
  },
  {
   "cell_type": "markdown",
   "id": "4b136126",
   "metadata": {},
   "source": [
    "Churn rate"
   ]
  },
  {
   "cell_type": "code",
   "execution_count": 29,
   "id": "ad706843",
   "metadata": {},
   "outputs": [
    {
     "data": {
      "text/html": [
       "<div>\n",
       "<style scoped>\n",
       "    .dataframe tbody tr th:only-of-type {\n",
       "        vertical-align: middle;\n",
       "    }\n",
       "\n",
       "    .dataframe tbody tr th {\n",
       "        vertical-align: top;\n",
       "    }\n",
       "\n",
       "    .dataframe thead th {\n",
       "        text-align: right;\n",
       "    }\n",
       "</style>\n",
       "<table border=\"1\" class=\"dataframe\">\n",
       "  <thead>\n",
       "    <tr style=\"text-align: right;\">\n",
       "      <th></th>\n",
       "      <th>customerid</th>\n",
       "      <th>gender</th>\n",
       "      <th>seniorcitizen</th>\n",
       "      <th>partner</th>\n",
       "      <th>dependents</th>\n",
       "      <th>tenure</th>\n",
       "      <th>phoneservice</th>\n",
       "      <th>multiplelines</th>\n",
       "      <th>internetservice</th>\n",
       "      <th>onlinesecurity</th>\n",
       "      <th>...</th>\n",
       "      <th>deviceprotection</th>\n",
       "      <th>techsupport</th>\n",
       "      <th>streamingtv</th>\n",
       "      <th>streamingmovies</th>\n",
       "      <th>contract</th>\n",
       "      <th>paperlessbilling</th>\n",
       "      <th>paymentmethod</th>\n",
       "      <th>monthlycharges</th>\n",
       "      <th>totalcharges</th>\n",
       "      <th>churn</th>\n",
       "    </tr>\n",
       "  </thead>\n",
       "  <tbody>\n",
       "    <tr>\n",
       "      <th>0</th>\n",
       "      <td>5442-pptjy</td>\n",
       "      <td>male</td>\n",
       "      <td>0</td>\n",
       "      <td>yes</td>\n",
       "      <td>yes</td>\n",
       "      <td>12</td>\n",
       "      <td>yes</td>\n",
       "      <td>no</td>\n",
       "      <td>no</td>\n",
       "      <td>no_internet_service</td>\n",
       "      <td>...</td>\n",
       "      <td>no_internet_service</td>\n",
       "      <td>no_internet_service</td>\n",
       "      <td>no_internet_service</td>\n",
       "      <td>no_internet_service</td>\n",
       "      <td>two_year</td>\n",
       "      <td>no</td>\n",
       "      <td>mailed_check</td>\n",
       "      <td>19.70</td>\n",
       "      <td>258.35</td>\n",
       "      <td>0</td>\n",
       "    </tr>\n",
       "    <tr>\n",
       "      <th>1</th>\n",
       "      <td>6261-rcvns</td>\n",
       "      <td>female</td>\n",
       "      <td>0</td>\n",
       "      <td>no</td>\n",
       "      <td>no</td>\n",
       "      <td>42</td>\n",
       "      <td>yes</td>\n",
       "      <td>no</td>\n",
       "      <td>dsl</td>\n",
       "      <td>yes</td>\n",
       "      <td>...</td>\n",
       "      <td>yes</td>\n",
       "      <td>yes</td>\n",
       "      <td>no</td>\n",
       "      <td>yes</td>\n",
       "      <td>one_year</td>\n",
       "      <td>no</td>\n",
       "      <td>credit_card_(automatic)</td>\n",
       "      <td>73.90</td>\n",
       "      <td>3160.55</td>\n",
       "      <td>1</td>\n",
       "    </tr>\n",
       "    <tr>\n",
       "      <th>2</th>\n",
       "      <td>2176-osjuv</td>\n",
       "      <td>male</td>\n",
       "      <td>0</td>\n",
       "      <td>yes</td>\n",
       "      <td>no</td>\n",
       "      <td>71</td>\n",
       "      <td>yes</td>\n",
       "      <td>yes</td>\n",
       "      <td>dsl</td>\n",
       "      <td>yes</td>\n",
       "      <td>...</td>\n",
       "      <td>no</td>\n",
       "      <td>yes</td>\n",
       "      <td>no</td>\n",
       "      <td>no</td>\n",
       "      <td>two_year</td>\n",
       "      <td>no</td>\n",
       "      <td>bank_transfer_(automatic)</td>\n",
       "      <td>65.15</td>\n",
       "      <td>4681.75</td>\n",
       "      <td>0</td>\n",
       "    </tr>\n",
       "    <tr>\n",
       "      <th>3</th>\n",
       "      <td>6161-erdgd</td>\n",
       "      <td>male</td>\n",
       "      <td>0</td>\n",
       "      <td>yes</td>\n",
       "      <td>yes</td>\n",
       "      <td>71</td>\n",
       "      <td>yes</td>\n",
       "      <td>yes</td>\n",
       "      <td>dsl</td>\n",
       "      <td>yes</td>\n",
       "      <td>...</td>\n",
       "      <td>yes</td>\n",
       "      <td>yes</td>\n",
       "      <td>yes</td>\n",
       "      <td>yes</td>\n",
       "      <td>one_year</td>\n",
       "      <td>no</td>\n",
       "      <td>electronic_check</td>\n",
       "      <td>85.45</td>\n",
       "      <td>6300.85</td>\n",
       "      <td>0</td>\n",
       "    </tr>\n",
       "    <tr>\n",
       "      <th>4</th>\n",
       "      <td>2364-ufrom</td>\n",
       "      <td>male</td>\n",
       "      <td>0</td>\n",
       "      <td>no</td>\n",
       "      <td>no</td>\n",
       "      <td>30</td>\n",
       "      <td>yes</td>\n",
       "      <td>no</td>\n",
       "      <td>dsl</td>\n",
       "      <td>yes</td>\n",
       "      <td>...</td>\n",
       "      <td>no</td>\n",
       "      <td>yes</td>\n",
       "      <td>yes</td>\n",
       "      <td>no</td>\n",
       "      <td>one_year</td>\n",
       "      <td>no</td>\n",
       "      <td>electronic_check</td>\n",
       "      <td>70.40</td>\n",
       "      <td>2044.75</td>\n",
       "      <td>0</td>\n",
       "    </tr>\n",
       "  </tbody>\n",
       "</table>\n",
       "<p>5 rows × 21 columns</p>\n",
       "</div>"
      ],
      "text/plain": [
       "   customerid  gender  seniorcitizen partner dependents  tenure phoneservice  \\\n",
       "0  5442-pptjy    male              0     yes        yes      12          yes   \n",
       "1  6261-rcvns  female              0      no         no      42          yes   \n",
       "2  2176-osjuv    male              0     yes         no      71          yes   \n",
       "3  6161-erdgd    male              0     yes        yes      71          yes   \n",
       "4  2364-ufrom    male              0      no         no      30          yes   \n",
       "\n",
       "  multiplelines internetservice       onlinesecurity  ...  \\\n",
       "0            no              no  no_internet_service  ...   \n",
       "1            no             dsl                  yes  ...   \n",
       "2           yes             dsl                  yes  ...   \n",
       "3           yes             dsl                  yes  ...   \n",
       "4            no             dsl                  yes  ...   \n",
       "\n",
       "      deviceprotection          techsupport          streamingtv  \\\n",
       "0  no_internet_service  no_internet_service  no_internet_service   \n",
       "1                  yes                  yes                   no   \n",
       "2                   no                  yes                   no   \n",
       "3                  yes                  yes                  yes   \n",
       "4                   no                  yes                  yes   \n",
       "\n",
       "       streamingmovies  contract paperlessbilling              paymentmethod  \\\n",
       "0  no_internet_service  two_year               no               mailed_check   \n",
       "1                  yes  one_year               no    credit_card_(automatic)   \n",
       "2                   no  two_year               no  bank_transfer_(automatic)   \n",
       "3                  yes  one_year               no           electronic_check   \n",
       "4                   no  one_year               no           electronic_check   \n",
       "\n",
       "  monthlycharges  totalcharges  churn  \n",
       "0          19.70        258.35      0  \n",
       "1          73.90       3160.55      1  \n",
       "2          65.15       4681.75      0  \n",
       "3          85.45       6300.85      0  \n",
       "4          70.40       2044.75      0  \n",
       "\n",
       "[5 rows x 21 columns]"
      ]
     },
     "execution_count": 29,
     "metadata": {},
     "output_type": "execute_result"
    }
   ],
   "source": [
    "df_full_train.head()"
   ]
  },
  {
   "cell_type": "code",
   "execution_count": 30,
   "id": "9643a8ec",
   "metadata": {},
   "outputs": [
    {
     "data": {
      "text/plain": [
       "0.27682403433476394"
      ]
     },
     "execution_count": 30,
     "metadata": {},
     "output_type": "execute_result"
    }
   ],
   "source": [
    "churn_female = df_full_train[df_full_train.gender == \"female\"].churn.mean()\n",
    "churn_female"
   ]
  },
  {
   "cell_type": "code",
   "execution_count": 31,
   "id": "fe91a823",
   "metadata": {},
   "outputs": [
    {
     "data": {
      "text/plain": [
       "0.2632135306553911"
      ]
     },
     "execution_count": 31,
     "metadata": {},
     "output_type": "execute_result"
    }
   ],
   "source": [
    "churn_male = df_full_train[df_full_train.gender == \"male\"].churn.mean()\n",
    "churn_male"
   ]
  },
  {
   "cell_type": "code",
   "execution_count": 32,
   "id": "ef8bbddf",
   "metadata": {},
   "outputs": [
    {
     "data": {
      "text/plain": [
       "0.26996805111821087"
      ]
     },
     "execution_count": 32,
     "metadata": {},
     "output_type": "execute_result"
    }
   ],
   "source": [
    "global_churn = df_full_train.churn.mean()\n",
    "global_churn"
   ]
  },
  {
   "cell_type": "code",
   "execution_count": 33,
   "id": "bd99e692",
   "metadata": {},
   "outputs": [
    {
     "data": {
      "text/plain": [
       "no     2932\n",
       "yes    2702\n",
       "Name: partner, dtype: int64"
      ]
     },
     "execution_count": 33,
     "metadata": {},
     "output_type": "execute_result"
    }
   ],
   "source": [
    "df_full_train.partner.value_counts()"
   ]
  },
  {
   "cell_type": "code",
   "execution_count": 34,
   "id": "04ffce53",
   "metadata": {},
   "outputs": [
    {
     "data": {
      "text/plain": [
       "0.20503330866025166"
      ]
     },
     "execution_count": 34,
     "metadata": {},
     "output_type": "execute_result"
    }
   ],
   "source": [
    "churn_partner = df_full_train[df_full_train.partner == \"yes\"].churn.mean()\n",
    "churn_partner"
   ]
  },
  {
   "cell_type": "code",
   "execution_count": 35,
   "id": "ea55f825",
   "metadata": {},
   "outputs": [
    {
     "data": {
      "text/plain": [
       "0.3298090040927694"
      ]
     },
     "execution_count": 35,
     "metadata": {},
     "output_type": "execute_result"
    }
   ],
   "source": [
    "churn_no_partner = df_full_train[df_full_train.partner == \"no\"].churn.mean()\n",
    "churn_no_partner"
   ]
  },
  {
   "cell_type": "code",
   "execution_count": 36,
   "id": "e104ffa7",
   "metadata": {},
   "outputs": [
    {
     "name": "stdout",
     "output_type": "stream",
     "text": [
      "0.006754520462819769\n",
      "-0.006855983216553063\n",
      "-0.05984095297455855\n",
      "0.06493474245795922\n"
     ]
    }
   ],
   "source": [
    "print(global_churn - churn_male)\n",
    "print(global_churn - churn_female)\n",
    "print(global_churn - churn_no_partner)\n",
    "print(global_churn - churn_partner)"
   ]
  },
  {
   "cell_type": "markdown",
   "id": "801a5e6d",
   "metadata": {},
   "source": [
    "From the code block,. it is obvious that the partner column has more impact on the target variable - churn colummn. This is because the difference is significantly bigger."
   ]
  },
  {
   "cell_type": "markdown",
   "id": "09479a13",
   "metadata": {},
   "source": [
    "## Feature importance"
   ]
  },
  {
   "cell_type": "markdown",
   "id": "def6a158",
   "metadata": {},
   "source": [
    "### Risk ratio"
   ]
  },
  {
   "cell_type": "code",
   "execution_count": 37,
   "id": "0bfd9e5c",
   "metadata": {},
   "outputs": [
    {
     "data": {
      "text/plain": [
       "1.2216593879412643"
      ]
     },
     "execution_count": 37,
     "metadata": {},
     "output_type": "execute_result"
    }
   ],
   "source": [
    "churn_no_partner/global_churn"
   ]
  },
  {
   "cell_type": "code",
   "execution_count": 38,
   "id": "2bcb3db6",
   "metadata": {},
   "outputs": [
    {
     "data": {
      "text/plain": [
       "0.7594724924338315"
      ]
     },
     "execution_count": 38,
     "metadata": {},
     "output_type": "execute_result"
    }
   ],
   "source": [
    "churn_partner / global_churn"
   ]
  },
  {
   "cell_type": "raw",
   "id": "7577ace8",
   "metadata": {},
   "source": [
    "sql syntax\n",
    "\n",
    "SELECT\n",
    "    gender,\n",
    "    AVG(churn),\n",
    "    AVG(churn) - global_churn AS diff,\n",
    "    AVG(churn) / global_churn AS risk\n",
    "FROM\n",
    "    data\n",
    "GROUP BY\n",
    "    gender;"
   ]
  },
  {
   "cell_type": "code",
   "execution_count": 39,
   "id": "c5fe3708",
   "metadata": {},
   "outputs": [
    {
     "data": {
      "text/html": [
       "<div>\n",
       "<style scoped>\n",
       "    .dataframe tbody tr th:only-of-type {\n",
       "        vertical-align: middle;\n",
       "    }\n",
       "\n",
       "    .dataframe tbody tr th {\n",
       "        vertical-align: top;\n",
       "    }\n",
       "\n",
       "    .dataframe thead th {\n",
       "        text-align: right;\n",
       "    }\n",
       "</style>\n",
       "<table border=\"1\" class=\"dataframe\">\n",
       "  <thead>\n",
       "    <tr style=\"text-align: right;\">\n",
       "      <th></th>\n",
       "      <th>mean</th>\n",
       "      <th>count</th>\n",
       "    </tr>\n",
       "    <tr>\n",
       "      <th>gender</th>\n",
       "      <th></th>\n",
       "      <th></th>\n",
       "    </tr>\n",
       "  </thead>\n",
       "  <tbody>\n",
       "    <tr>\n",
       "      <th>female</th>\n",
       "      <td>0.276824</td>\n",
       "      <td>2796</td>\n",
       "    </tr>\n",
       "    <tr>\n",
       "      <th>male</th>\n",
       "      <td>0.263214</td>\n",
       "      <td>2838</td>\n",
       "    </tr>\n",
       "  </tbody>\n",
       "</table>\n",
       "</div>"
      ],
      "text/plain": [
       "            mean  count\n",
       "gender                 \n",
       "female  0.276824   2796\n",
       "male    0.263214   2838"
      ]
     },
     "execution_count": 39,
     "metadata": {},
     "output_type": "execute_result"
    }
   ],
   "source": [
    "df_group = df_full_train.groupby(\"gender\").churn.agg([\"mean\", \"count\"])\n",
    "df_group"
   ]
  },
  {
   "cell_type": "code",
   "execution_count": 40,
   "id": "c5c6cfd4",
   "metadata": {},
   "outputs": [
    {
     "data": {
      "text/html": [
       "<div>\n",
       "<style scoped>\n",
       "    .dataframe tbody tr th:only-of-type {\n",
       "        vertical-align: middle;\n",
       "    }\n",
       "\n",
       "    .dataframe tbody tr th {\n",
       "        vertical-align: top;\n",
       "    }\n",
       "\n",
       "    .dataframe thead th {\n",
       "        text-align: right;\n",
       "    }\n",
       "</style>\n",
       "<table border=\"1\" class=\"dataframe\">\n",
       "  <thead>\n",
       "    <tr style=\"text-align: right;\">\n",
       "      <th></th>\n",
       "      <th>mean</th>\n",
       "      <th>count</th>\n",
       "      <th>dif</th>\n",
       "      <th>risk</th>\n",
       "    </tr>\n",
       "    <tr>\n",
       "      <th>gender</th>\n",
       "      <th></th>\n",
       "      <th></th>\n",
       "      <th></th>\n",
       "      <th></th>\n",
       "    </tr>\n",
       "  </thead>\n",
       "  <tbody>\n",
       "    <tr>\n",
       "      <th>female</th>\n",
       "      <td>0.276824</td>\n",
       "      <td>2796</td>\n",
       "      <td>0.006856</td>\n",
       "      <td>1.025396</td>\n",
       "    </tr>\n",
       "    <tr>\n",
       "      <th>male</th>\n",
       "      <td>0.263214</td>\n",
       "      <td>2838</td>\n",
       "      <td>-0.006755</td>\n",
       "      <td>0.974980</td>\n",
       "    </tr>\n",
       "  </tbody>\n",
       "</table>\n",
       "</div>"
      ],
      "text/plain": [
       "            mean  count       dif      risk\n",
       "gender                                     \n",
       "female  0.276824   2796  0.006856  1.025396\n",
       "male    0.263214   2838 -0.006755  0.974980"
      ]
     },
     "execution_count": 40,
     "metadata": {},
     "output_type": "execute_result"
    }
   ],
   "source": [
    "df_group[\"dif\"] = df_group['mean'] - global_churn\n",
    "df_group[\"risk\"] = df_group['mean'] / global_churn\n",
    "df_group"
   ]
  },
  {
   "cell_type": "code",
   "execution_count": 41,
   "id": "0e847f2b",
   "metadata": {},
   "outputs": [],
   "source": [
    "from IPython.display import display"
   ]
  },
  {
   "cell_type": "code",
   "execution_count": 42,
   "id": "922bc078",
   "metadata": {},
   "outputs": [
    {
     "name": "stdout",
     "output_type": "stream",
     "text": [
      "gender\n"
     ]
    },
    {
     "data": {
      "text/html": [
       "<div>\n",
       "<style scoped>\n",
       "    .dataframe tbody tr th:only-of-type {\n",
       "        vertical-align: middle;\n",
       "    }\n",
       "\n",
       "    .dataframe tbody tr th {\n",
       "        vertical-align: top;\n",
       "    }\n",
       "\n",
       "    .dataframe thead th {\n",
       "        text-align: right;\n",
       "    }\n",
       "</style>\n",
       "<table border=\"1\" class=\"dataframe\">\n",
       "  <thead>\n",
       "    <tr style=\"text-align: right;\">\n",
       "      <th></th>\n",
       "      <th>mean</th>\n",
       "      <th>count</th>\n",
       "      <th>dif</th>\n",
       "      <th>risk</th>\n",
       "    </tr>\n",
       "    <tr>\n",
       "      <th>gender</th>\n",
       "      <th></th>\n",
       "      <th></th>\n",
       "      <th></th>\n",
       "      <th></th>\n",
       "    </tr>\n",
       "  </thead>\n",
       "  <tbody>\n",
       "    <tr>\n",
       "      <th>female</th>\n",
       "      <td>0.276824</td>\n",
       "      <td>2796</td>\n",
       "      <td>0.006856</td>\n",
       "      <td>1.025396</td>\n",
       "    </tr>\n",
       "    <tr>\n",
       "      <th>male</th>\n",
       "      <td>0.263214</td>\n",
       "      <td>2838</td>\n",
       "      <td>-0.006755</td>\n",
       "      <td>0.974980</td>\n",
       "    </tr>\n",
       "  </tbody>\n",
       "</table>\n",
       "</div>"
      ],
      "text/plain": [
       "            mean  count       dif      risk\n",
       "gender                                     \n",
       "female  0.276824   2796  0.006856  1.025396\n",
       "male    0.263214   2838 -0.006755  0.974980"
      ]
     },
     "metadata": {},
     "output_type": "display_data"
    },
    {
     "name": "stdout",
     "output_type": "stream",
     "text": [
      "\n",
      "seniorcitizen\n"
     ]
    },
    {
     "data": {
      "text/html": [
       "<div>\n",
       "<style scoped>\n",
       "    .dataframe tbody tr th:only-of-type {\n",
       "        vertical-align: middle;\n",
       "    }\n",
       "\n",
       "    .dataframe tbody tr th {\n",
       "        vertical-align: top;\n",
       "    }\n",
       "\n",
       "    .dataframe thead th {\n",
       "        text-align: right;\n",
       "    }\n",
       "</style>\n",
       "<table border=\"1\" class=\"dataframe\">\n",
       "  <thead>\n",
       "    <tr style=\"text-align: right;\">\n",
       "      <th></th>\n",
       "      <th>mean</th>\n",
       "      <th>count</th>\n",
       "      <th>dif</th>\n",
       "      <th>risk</th>\n",
       "    </tr>\n",
       "    <tr>\n",
       "      <th>seniorcitizen</th>\n",
       "      <th></th>\n",
       "      <th></th>\n",
       "      <th></th>\n",
       "      <th></th>\n",
       "    </tr>\n",
       "  </thead>\n",
       "  <tbody>\n",
       "    <tr>\n",
       "      <th>0</th>\n",
       "      <td>0.242270</td>\n",
       "      <td>4722</td>\n",
       "      <td>-0.027698</td>\n",
       "      <td>0.897403</td>\n",
       "    </tr>\n",
       "    <tr>\n",
       "      <th>1</th>\n",
       "      <td>0.413377</td>\n",
       "      <td>912</td>\n",
       "      <td>0.143409</td>\n",
       "      <td>1.531208</td>\n",
       "    </tr>\n",
       "  </tbody>\n",
       "</table>\n",
       "</div>"
      ],
      "text/plain": [
       "                   mean  count       dif      risk\n",
       "seniorcitizen                                     \n",
       "0              0.242270   4722 -0.027698  0.897403\n",
       "1              0.413377    912  0.143409  1.531208"
      ]
     },
     "metadata": {},
     "output_type": "display_data"
    },
    {
     "name": "stdout",
     "output_type": "stream",
     "text": [
      "\n",
      "partner\n"
     ]
    },
    {
     "data": {
      "text/html": [
       "<div>\n",
       "<style scoped>\n",
       "    .dataframe tbody tr th:only-of-type {\n",
       "        vertical-align: middle;\n",
       "    }\n",
       "\n",
       "    .dataframe tbody tr th {\n",
       "        vertical-align: top;\n",
       "    }\n",
       "\n",
       "    .dataframe thead th {\n",
       "        text-align: right;\n",
       "    }\n",
       "</style>\n",
       "<table border=\"1\" class=\"dataframe\">\n",
       "  <thead>\n",
       "    <tr style=\"text-align: right;\">\n",
       "      <th></th>\n",
       "      <th>mean</th>\n",
       "      <th>count</th>\n",
       "      <th>dif</th>\n",
       "      <th>risk</th>\n",
       "    </tr>\n",
       "    <tr>\n",
       "      <th>partner</th>\n",
       "      <th></th>\n",
       "      <th></th>\n",
       "      <th></th>\n",
       "      <th></th>\n",
       "    </tr>\n",
       "  </thead>\n",
       "  <tbody>\n",
       "    <tr>\n",
       "      <th>no</th>\n",
       "      <td>0.329809</td>\n",
       "      <td>2932</td>\n",
       "      <td>0.059841</td>\n",
       "      <td>1.221659</td>\n",
       "    </tr>\n",
       "    <tr>\n",
       "      <th>yes</th>\n",
       "      <td>0.205033</td>\n",
       "      <td>2702</td>\n",
       "      <td>-0.064935</td>\n",
       "      <td>0.759472</td>\n",
       "    </tr>\n",
       "  </tbody>\n",
       "</table>\n",
       "</div>"
      ],
      "text/plain": [
       "             mean  count       dif      risk\n",
       "partner                                     \n",
       "no       0.329809   2932  0.059841  1.221659\n",
       "yes      0.205033   2702 -0.064935  0.759472"
      ]
     },
     "metadata": {},
     "output_type": "display_data"
    },
    {
     "name": "stdout",
     "output_type": "stream",
     "text": [
      "\n",
      "dependents\n"
     ]
    },
    {
     "data": {
      "text/html": [
       "<div>\n",
       "<style scoped>\n",
       "    .dataframe tbody tr th:only-of-type {\n",
       "        vertical-align: middle;\n",
       "    }\n",
       "\n",
       "    .dataframe tbody tr th {\n",
       "        vertical-align: top;\n",
       "    }\n",
       "\n",
       "    .dataframe thead th {\n",
       "        text-align: right;\n",
       "    }\n",
       "</style>\n",
       "<table border=\"1\" class=\"dataframe\">\n",
       "  <thead>\n",
       "    <tr style=\"text-align: right;\">\n",
       "      <th></th>\n",
       "      <th>mean</th>\n",
       "      <th>count</th>\n",
       "      <th>dif</th>\n",
       "      <th>risk</th>\n",
       "    </tr>\n",
       "    <tr>\n",
       "      <th>dependents</th>\n",
       "      <th></th>\n",
       "      <th></th>\n",
       "      <th></th>\n",
       "      <th></th>\n",
       "    </tr>\n",
       "  </thead>\n",
       "  <tbody>\n",
       "    <tr>\n",
       "      <th>no</th>\n",
       "      <td>0.313760</td>\n",
       "      <td>3968</td>\n",
       "      <td>0.043792</td>\n",
       "      <td>1.162212</td>\n",
       "    </tr>\n",
       "    <tr>\n",
       "      <th>yes</th>\n",
       "      <td>0.165666</td>\n",
       "      <td>1666</td>\n",
       "      <td>-0.104302</td>\n",
       "      <td>0.613651</td>\n",
       "    </tr>\n",
       "  </tbody>\n",
       "</table>\n",
       "</div>"
      ],
      "text/plain": [
       "                mean  count       dif      risk\n",
       "dependents                                     \n",
       "no          0.313760   3968  0.043792  1.162212\n",
       "yes         0.165666   1666 -0.104302  0.613651"
      ]
     },
     "metadata": {},
     "output_type": "display_data"
    },
    {
     "name": "stdout",
     "output_type": "stream",
     "text": [
      "\n",
      "phoneservice\n"
     ]
    },
    {
     "data": {
      "text/html": [
       "<div>\n",
       "<style scoped>\n",
       "    .dataframe tbody tr th:only-of-type {\n",
       "        vertical-align: middle;\n",
       "    }\n",
       "\n",
       "    .dataframe tbody tr th {\n",
       "        vertical-align: top;\n",
       "    }\n",
       "\n",
       "    .dataframe thead th {\n",
       "        text-align: right;\n",
       "    }\n",
       "</style>\n",
       "<table border=\"1\" class=\"dataframe\">\n",
       "  <thead>\n",
       "    <tr style=\"text-align: right;\">\n",
       "      <th></th>\n",
       "      <th>mean</th>\n",
       "      <th>count</th>\n",
       "      <th>dif</th>\n",
       "      <th>risk</th>\n",
       "    </tr>\n",
       "    <tr>\n",
       "      <th>phoneservice</th>\n",
       "      <th></th>\n",
       "      <th></th>\n",
       "      <th></th>\n",
       "      <th></th>\n",
       "    </tr>\n",
       "  </thead>\n",
       "  <tbody>\n",
       "    <tr>\n",
       "      <th>no</th>\n",
       "      <td>0.241316</td>\n",
       "      <td>547</td>\n",
       "      <td>-0.028652</td>\n",
       "      <td>0.893870</td>\n",
       "    </tr>\n",
       "    <tr>\n",
       "      <th>yes</th>\n",
       "      <td>0.273049</td>\n",
       "      <td>5087</td>\n",
       "      <td>0.003081</td>\n",
       "      <td>1.011412</td>\n",
       "    </tr>\n",
       "  </tbody>\n",
       "</table>\n",
       "</div>"
      ],
      "text/plain": [
       "                  mean  count       dif      risk\n",
       "phoneservice                                     \n",
       "no            0.241316    547 -0.028652  0.893870\n",
       "yes           0.273049   5087  0.003081  1.011412"
      ]
     },
     "metadata": {},
     "output_type": "display_data"
    },
    {
     "name": "stdout",
     "output_type": "stream",
     "text": [
      "\n",
      "multiplelines\n"
     ]
    },
    {
     "data": {
      "text/html": [
       "<div>\n",
       "<style scoped>\n",
       "    .dataframe tbody tr th:only-of-type {\n",
       "        vertical-align: middle;\n",
       "    }\n",
       "\n",
       "    .dataframe tbody tr th {\n",
       "        vertical-align: top;\n",
       "    }\n",
       "\n",
       "    .dataframe thead th {\n",
       "        text-align: right;\n",
       "    }\n",
       "</style>\n",
       "<table border=\"1\" class=\"dataframe\">\n",
       "  <thead>\n",
       "    <tr style=\"text-align: right;\">\n",
       "      <th></th>\n",
       "      <th>mean</th>\n",
       "      <th>count</th>\n",
       "      <th>dif</th>\n",
       "      <th>risk</th>\n",
       "    </tr>\n",
       "    <tr>\n",
       "      <th>multiplelines</th>\n",
       "      <th></th>\n",
       "      <th></th>\n",
       "      <th></th>\n",
       "      <th></th>\n",
       "    </tr>\n",
       "  </thead>\n",
       "  <tbody>\n",
       "    <tr>\n",
       "      <th>no</th>\n",
       "      <td>0.257407</td>\n",
       "      <td>2700</td>\n",
       "      <td>-0.012561</td>\n",
       "      <td>0.953474</td>\n",
       "    </tr>\n",
       "    <tr>\n",
       "      <th>no_phone_service</th>\n",
       "      <td>0.241316</td>\n",
       "      <td>547</td>\n",
       "      <td>-0.028652</td>\n",
       "      <td>0.893870</td>\n",
       "    </tr>\n",
       "    <tr>\n",
       "      <th>yes</th>\n",
       "      <td>0.290742</td>\n",
       "      <td>2387</td>\n",
       "      <td>0.020773</td>\n",
       "      <td>1.076948</td>\n",
       "    </tr>\n",
       "  </tbody>\n",
       "</table>\n",
       "</div>"
      ],
      "text/plain": [
       "                      mean  count       dif      risk\n",
       "multiplelines                                        \n",
       "no                0.257407   2700 -0.012561  0.953474\n",
       "no_phone_service  0.241316    547 -0.028652  0.893870\n",
       "yes               0.290742   2387  0.020773  1.076948"
      ]
     },
     "metadata": {},
     "output_type": "display_data"
    },
    {
     "name": "stdout",
     "output_type": "stream",
     "text": [
      "\n",
      "internetservice\n"
     ]
    },
    {
     "data": {
      "text/html": [
       "<div>\n",
       "<style scoped>\n",
       "    .dataframe tbody tr th:only-of-type {\n",
       "        vertical-align: middle;\n",
       "    }\n",
       "\n",
       "    .dataframe tbody tr th {\n",
       "        vertical-align: top;\n",
       "    }\n",
       "\n",
       "    .dataframe thead th {\n",
       "        text-align: right;\n",
       "    }\n",
       "</style>\n",
       "<table border=\"1\" class=\"dataframe\">\n",
       "  <thead>\n",
       "    <tr style=\"text-align: right;\">\n",
       "      <th></th>\n",
       "      <th>mean</th>\n",
       "      <th>count</th>\n",
       "      <th>dif</th>\n",
       "      <th>risk</th>\n",
       "    </tr>\n",
       "    <tr>\n",
       "      <th>internetservice</th>\n",
       "      <th></th>\n",
       "      <th></th>\n",
       "      <th></th>\n",
       "      <th></th>\n",
       "    </tr>\n",
       "  </thead>\n",
       "  <tbody>\n",
       "    <tr>\n",
       "      <th>dsl</th>\n",
       "      <td>0.192347</td>\n",
       "      <td>1934</td>\n",
       "      <td>-0.077621</td>\n",
       "      <td>0.712482</td>\n",
       "    </tr>\n",
       "    <tr>\n",
       "      <th>fiber_optic</th>\n",
       "      <td>0.425171</td>\n",
       "      <td>2479</td>\n",
       "      <td>0.155203</td>\n",
       "      <td>1.574895</td>\n",
       "    </tr>\n",
       "    <tr>\n",
       "      <th>no</th>\n",
       "      <td>0.077805</td>\n",
       "      <td>1221</td>\n",
       "      <td>-0.192163</td>\n",
       "      <td>0.288201</td>\n",
       "    </tr>\n",
       "  </tbody>\n",
       "</table>\n",
       "</div>"
      ],
      "text/plain": [
       "                     mean  count       dif      risk\n",
       "internetservice                                     \n",
       "dsl              0.192347   1934 -0.077621  0.712482\n",
       "fiber_optic      0.425171   2479  0.155203  1.574895\n",
       "no               0.077805   1221 -0.192163  0.288201"
      ]
     },
     "metadata": {},
     "output_type": "display_data"
    },
    {
     "name": "stdout",
     "output_type": "stream",
     "text": [
      "\n",
      "onlinesecurity\n"
     ]
    },
    {
     "data": {
      "text/html": [
       "<div>\n",
       "<style scoped>\n",
       "    .dataframe tbody tr th:only-of-type {\n",
       "        vertical-align: middle;\n",
       "    }\n",
       "\n",
       "    .dataframe tbody tr th {\n",
       "        vertical-align: top;\n",
       "    }\n",
       "\n",
       "    .dataframe thead th {\n",
       "        text-align: right;\n",
       "    }\n",
       "</style>\n",
       "<table border=\"1\" class=\"dataframe\">\n",
       "  <thead>\n",
       "    <tr style=\"text-align: right;\">\n",
       "      <th></th>\n",
       "      <th>mean</th>\n",
       "      <th>count</th>\n",
       "      <th>dif</th>\n",
       "      <th>risk</th>\n",
       "    </tr>\n",
       "    <tr>\n",
       "      <th>onlinesecurity</th>\n",
       "      <th></th>\n",
       "      <th></th>\n",
       "      <th></th>\n",
       "      <th></th>\n",
       "    </tr>\n",
       "  </thead>\n",
       "  <tbody>\n",
       "    <tr>\n",
       "      <th>no</th>\n",
       "      <td>0.420921</td>\n",
       "      <td>2801</td>\n",
       "      <td>0.150953</td>\n",
       "      <td>1.559152</td>\n",
       "    </tr>\n",
       "    <tr>\n",
       "      <th>no_internet_service</th>\n",
       "      <td>0.077805</td>\n",
       "      <td>1221</td>\n",
       "      <td>-0.192163</td>\n",
       "      <td>0.288201</td>\n",
       "    </tr>\n",
       "    <tr>\n",
       "      <th>yes</th>\n",
       "      <td>0.153226</td>\n",
       "      <td>1612</td>\n",
       "      <td>-0.116742</td>\n",
       "      <td>0.567570</td>\n",
       "    </tr>\n",
       "  </tbody>\n",
       "</table>\n",
       "</div>"
      ],
      "text/plain": [
       "                         mean  count       dif      risk\n",
       "onlinesecurity                                          \n",
       "no                   0.420921   2801  0.150953  1.559152\n",
       "no_internet_service  0.077805   1221 -0.192163  0.288201\n",
       "yes                  0.153226   1612 -0.116742  0.567570"
      ]
     },
     "metadata": {},
     "output_type": "display_data"
    },
    {
     "name": "stdout",
     "output_type": "stream",
     "text": [
      "\n",
      "onlinebackup\n"
     ]
    },
    {
     "data": {
      "text/html": [
       "<div>\n",
       "<style scoped>\n",
       "    .dataframe tbody tr th:only-of-type {\n",
       "        vertical-align: middle;\n",
       "    }\n",
       "\n",
       "    .dataframe tbody tr th {\n",
       "        vertical-align: top;\n",
       "    }\n",
       "\n",
       "    .dataframe thead th {\n",
       "        text-align: right;\n",
       "    }\n",
       "</style>\n",
       "<table border=\"1\" class=\"dataframe\">\n",
       "  <thead>\n",
       "    <tr style=\"text-align: right;\">\n",
       "      <th></th>\n",
       "      <th>mean</th>\n",
       "      <th>count</th>\n",
       "      <th>dif</th>\n",
       "      <th>risk</th>\n",
       "    </tr>\n",
       "    <tr>\n",
       "      <th>onlinebackup</th>\n",
       "      <th></th>\n",
       "      <th></th>\n",
       "      <th></th>\n",
       "      <th></th>\n",
       "    </tr>\n",
       "  </thead>\n",
       "  <tbody>\n",
       "    <tr>\n",
       "      <th>no</th>\n",
       "      <td>0.404323</td>\n",
       "      <td>2498</td>\n",
       "      <td>0.134355</td>\n",
       "      <td>1.497672</td>\n",
       "    </tr>\n",
       "    <tr>\n",
       "      <th>no_internet_service</th>\n",
       "      <td>0.077805</td>\n",
       "      <td>1221</td>\n",
       "      <td>-0.192163</td>\n",
       "      <td>0.288201</td>\n",
       "    </tr>\n",
       "    <tr>\n",
       "      <th>yes</th>\n",
       "      <td>0.217232</td>\n",
       "      <td>1915</td>\n",
       "      <td>-0.052736</td>\n",
       "      <td>0.804660</td>\n",
       "    </tr>\n",
       "  </tbody>\n",
       "</table>\n",
       "</div>"
      ],
      "text/plain": [
       "                         mean  count       dif      risk\n",
       "onlinebackup                                            \n",
       "no                   0.404323   2498  0.134355  1.497672\n",
       "no_internet_service  0.077805   1221 -0.192163  0.288201\n",
       "yes                  0.217232   1915 -0.052736  0.804660"
      ]
     },
     "metadata": {},
     "output_type": "display_data"
    },
    {
     "name": "stdout",
     "output_type": "stream",
     "text": [
      "\n",
      "deviceprotection\n"
     ]
    },
    {
     "data": {
      "text/html": [
       "<div>\n",
       "<style scoped>\n",
       "    .dataframe tbody tr th:only-of-type {\n",
       "        vertical-align: middle;\n",
       "    }\n",
       "\n",
       "    .dataframe tbody tr th {\n",
       "        vertical-align: top;\n",
       "    }\n",
       "\n",
       "    .dataframe thead th {\n",
       "        text-align: right;\n",
       "    }\n",
       "</style>\n",
       "<table border=\"1\" class=\"dataframe\">\n",
       "  <thead>\n",
       "    <tr style=\"text-align: right;\">\n",
       "      <th></th>\n",
       "      <th>mean</th>\n",
       "      <th>count</th>\n",
       "      <th>dif</th>\n",
       "      <th>risk</th>\n",
       "    </tr>\n",
       "    <tr>\n",
       "      <th>deviceprotection</th>\n",
       "      <th></th>\n",
       "      <th></th>\n",
       "      <th></th>\n",
       "      <th></th>\n",
       "    </tr>\n",
       "  </thead>\n",
       "  <tbody>\n",
       "    <tr>\n",
       "      <th>no</th>\n",
       "      <td>0.395875</td>\n",
       "      <td>2473</td>\n",
       "      <td>0.125907</td>\n",
       "      <td>1.466379</td>\n",
       "    </tr>\n",
       "    <tr>\n",
       "      <th>no_internet_service</th>\n",
       "      <td>0.077805</td>\n",
       "      <td>1221</td>\n",
       "      <td>-0.192163</td>\n",
       "      <td>0.288201</td>\n",
       "    </tr>\n",
       "    <tr>\n",
       "      <th>yes</th>\n",
       "      <td>0.230412</td>\n",
       "      <td>1940</td>\n",
       "      <td>-0.039556</td>\n",
       "      <td>0.853480</td>\n",
       "    </tr>\n",
       "  </tbody>\n",
       "</table>\n",
       "</div>"
      ],
      "text/plain": [
       "                         mean  count       dif      risk\n",
       "deviceprotection                                        \n",
       "no                   0.395875   2473  0.125907  1.466379\n",
       "no_internet_service  0.077805   1221 -0.192163  0.288201\n",
       "yes                  0.230412   1940 -0.039556  0.853480"
      ]
     },
     "metadata": {},
     "output_type": "display_data"
    },
    {
     "name": "stdout",
     "output_type": "stream",
     "text": [
      "\n",
      "techsupport\n"
     ]
    },
    {
     "data": {
      "text/html": [
       "<div>\n",
       "<style scoped>\n",
       "    .dataframe tbody tr th:only-of-type {\n",
       "        vertical-align: middle;\n",
       "    }\n",
       "\n",
       "    .dataframe tbody tr th {\n",
       "        vertical-align: top;\n",
       "    }\n",
       "\n",
       "    .dataframe thead th {\n",
       "        text-align: right;\n",
       "    }\n",
       "</style>\n",
       "<table border=\"1\" class=\"dataframe\">\n",
       "  <thead>\n",
       "    <tr style=\"text-align: right;\">\n",
       "      <th></th>\n",
       "      <th>mean</th>\n",
       "      <th>count</th>\n",
       "      <th>dif</th>\n",
       "      <th>risk</th>\n",
       "    </tr>\n",
       "    <tr>\n",
       "      <th>techsupport</th>\n",
       "      <th></th>\n",
       "      <th></th>\n",
       "      <th></th>\n",
       "      <th></th>\n",
       "    </tr>\n",
       "  </thead>\n",
       "  <tbody>\n",
       "    <tr>\n",
       "      <th>no</th>\n",
       "      <td>0.418914</td>\n",
       "      <td>2781</td>\n",
       "      <td>0.148946</td>\n",
       "      <td>1.551717</td>\n",
       "    </tr>\n",
       "    <tr>\n",
       "      <th>no_internet_service</th>\n",
       "      <td>0.077805</td>\n",
       "      <td>1221</td>\n",
       "      <td>-0.192163</td>\n",
       "      <td>0.288201</td>\n",
       "    </tr>\n",
       "    <tr>\n",
       "      <th>yes</th>\n",
       "      <td>0.159926</td>\n",
       "      <td>1632</td>\n",
       "      <td>-0.110042</td>\n",
       "      <td>0.592390</td>\n",
       "    </tr>\n",
       "  </tbody>\n",
       "</table>\n",
       "</div>"
      ],
      "text/plain": [
       "                         mean  count       dif      risk\n",
       "techsupport                                             \n",
       "no                   0.418914   2781  0.148946  1.551717\n",
       "no_internet_service  0.077805   1221 -0.192163  0.288201\n",
       "yes                  0.159926   1632 -0.110042  0.592390"
      ]
     },
     "metadata": {},
     "output_type": "display_data"
    },
    {
     "name": "stdout",
     "output_type": "stream",
     "text": [
      "\n",
      "streamingtv\n"
     ]
    },
    {
     "data": {
      "text/html": [
       "<div>\n",
       "<style scoped>\n",
       "    .dataframe tbody tr th:only-of-type {\n",
       "        vertical-align: middle;\n",
       "    }\n",
       "\n",
       "    .dataframe tbody tr th {\n",
       "        vertical-align: top;\n",
       "    }\n",
       "\n",
       "    .dataframe thead th {\n",
       "        text-align: right;\n",
       "    }\n",
       "</style>\n",
       "<table border=\"1\" class=\"dataframe\">\n",
       "  <thead>\n",
       "    <tr style=\"text-align: right;\">\n",
       "      <th></th>\n",
       "      <th>mean</th>\n",
       "      <th>count</th>\n",
       "      <th>dif</th>\n",
       "      <th>risk</th>\n",
       "    </tr>\n",
       "    <tr>\n",
       "      <th>streamingtv</th>\n",
       "      <th></th>\n",
       "      <th></th>\n",
       "      <th></th>\n",
       "      <th></th>\n",
       "    </tr>\n",
       "  </thead>\n",
       "  <tbody>\n",
       "    <tr>\n",
       "      <th>no</th>\n",
       "      <td>0.342832</td>\n",
       "      <td>2246</td>\n",
       "      <td>0.072864</td>\n",
       "      <td>1.269897</td>\n",
       "    </tr>\n",
       "    <tr>\n",
       "      <th>no_internet_service</th>\n",
       "      <td>0.077805</td>\n",
       "      <td>1221</td>\n",
       "      <td>-0.192163</td>\n",
       "      <td>0.288201</td>\n",
       "    </tr>\n",
       "    <tr>\n",
       "      <th>yes</th>\n",
       "      <td>0.302723</td>\n",
       "      <td>2167</td>\n",
       "      <td>0.032755</td>\n",
       "      <td>1.121328</td>\n",
       "    </tr>\n",
       "  </tbody>\n",
       "</table>\n",
       "</div>"
      ],
      "text/plain": [
       "                         mean  count       dif      risk\n",
       "streamingtv                                             \n",
       "no                   0.342832   2246  0.072864  1.269897\n",
       "no_internet_service  0.077805   1221 -0.192163  0.288201\n",
       "yes                  0.302723   2167  0.032755  1.121328"
      ]
     },
     "metadata": {},
     "output_type": "display_data"
    },
    {
     "name": "stdout",
     "output_type": "stream",
     "text": [
      "\n",
      "streamingmovies\n"
     ]
    },
    {
     "data": {
      "text/html": [
       "<div>\n",
       "<style scoped>\n",
       "    .dataframe tbody tr th:only-of-type {\n",
       "        vertical-align: middle;\n",
       "    }\n",
       "\n",
       "    .dataframe tbody tr th {\n",
       "        vertical-align: top;\n",
       "    }\n",
       "\n",
       "    .dataframe thead th {\n",
       "        text-align: right;\n",
       "    }\n",
       "</style>\n",
       "<table border=\"1\" class=\"dataframe\">\n",
       "  <thead>\n",
       "    <tr style=\"text-align: right;\">\n",
       "      <th></th>\n",
       "      <th>mean</th>\n",
       "      <th>count</th>\n",
       "      <th>dif</th>\n",
       "      <th>risk</th>\n",
       "    </tr>\n",
       "    <tr>\n",
       "      <th>streamingmovies</th>\n",
       "      <th></th>\n",
       "      <th></th>\n",
       "      <th></th>\n",
       "      <th></th>\n",
       "    </tr>\n",
       "  </thead>\n",
       "  <tbody>\n",
       "    <tr>\n",
       "      <th>no</th>\n",
       "      <td>0.338906</td>\n",
       "      <td>2213</td>\n",
       "      <td>0.068938</td>\n",
       "      <td>1.255358</td>\n",
       "    </tr>\n",
       "    <tr>\n",
       "      <th>no_internet_service</th>\n",
       "      <td>0.077805</td>\n",
       "      <td>1221</td>\n",
       "      <td>-0.192163</td>\n",
       "      <td>0.288201</td>\n",
       "    </tr>\n",
       "    <tr>\n",
       "      <th>yes</th>\n",
       "      <td>0.307273</td>\n",
       "      <td>2200</td>\n",
       "      <td>0.037305</td>\n",
       "      <td>1.138182</td>\n",
       "    </tr>\n",
       "  </tbody>\n",
       "</table>\n",
       "</div>"
      ],
      "text/plain": [
       "                         mean  count       dif      risk\n",
       "streamingmovies                                         \n",
       "no                   0.338906   2213  0.068938  1.255358\n",
       "no_internet_service  0.077805   1221 -0.192163  0.288201\n",
       "yes                  0.307273   2200  0.037305  1.138182"
      ]
     },
     "metadata": {},
     "output_type": "display_data"
    },
    {
     "name": "stdout",
     "output_type": "stream",
     "text": [
      "\n",
      "contract\n"
     ]
    },
    {
     "data": {
      "text/html": [
       "<div>\n",
       "<style scoped>\n",
       "    .dataframe tbody tr th:only-of-type {\n",
       "        vertical-align: middle;\n",
       "    }\n",
       "\n",
       "    .dataframe tbody tr th {\n",
       "        vertical-align: top;\n",
       "    }\n",
       "\n",
       "    .dataframe thead th {\n",
       "        text-align: right;\n",
       "    }\n",
       "</style>\n",
       "<table border=\"1\" class=\"dataframe\">\n",
       "  <thead>\n",
       "    <tr style=\"text-align: right;\">\n",
       "      <th></th>\n",
       "      <th>mean</th>\n",
       "      <th>count</th>\n",
       "      <th>dif</th>\n",
       "      <th>risk</th>\n",
       "    </tr>\n",
       "    <tr>\n",
       "      <th>contract</th>\n",
       "      <th></th>\n",
       "      <th></th>\n",
       "      <th></th>\n",
       "      <th></th>\n",
       "    </tr>\n",
       "  </thead>\n",
       "  <tbody>\n",
       "    <tr>\n",
       "      <th>month-to-month</th>\n",
       "      <td>0.431701</td>\n",
       "      <td>3104</td>\n",
       "      <td>0.161733</td>\n",
       "      <td>1.599082</td>\n",
       "    </tr>\n",
       "    <tr>\n",
       "      <th>one_year</th>\n",
       "      <td>0.120573</td>\n",
       "      <td>1186</td>\n",
       "      <td>-0.149395</td>\n",
       "      <td>0.446621</td>\n",
       "    </tr>\n",
       "    <tr>\n",
       "      <th>two_year</th>\n",
       "      <td>0.028274</td>\n",
       "      <td>1344</td>\n",
       "      <td>-0.241694</td>\n",
       "      <td>0.104730</td>\n",
       "    </tr>\n",
       "  </tbody>\n",
       "</table>\n",
       "</div>"
      ],
      "text/plain": [
       "                    mean  count       dif      risk\n",
       "contract                                           \n",
       "month-to-month  0.431701   3104  0.161733  1.599082\n",
       "one_year        0.120573   1186 -0.149395  0.446621\n",
       "two_year        0.028274   1344 -0.241694  0.104730"
      ]
     },
     "metadata": {},
     "output_type": "display_data"
    },
    {
     "name": "stdout",
     "output_type": "stream",
     "text": [
      "\n",
      "paperlessbilling\n"
     ]
    },
    {
     "data": {
      "text/html": [
       "<div>\n",
       "<style scoped>\n",
       "    .dataframe tbody tr th:only-of-type {\n",
       "        vertical-align: middle;\n",
       "    }\n",
       "\n",
       "    .dataframe tbody tr th {\n",
       "        vertical-align: top;\n",
       "    }\n",
       "\n",
       "    .dataframe thead th {\n",
       "        text-align: right;\n",
       "    }\n",
       "</style>\n",
       "<table border=\"1\" class=\"dataframe\">\n",
       "  <thead>\n",
       "    <tr style=\"text-align: right;\">\n",
       "      <th></th>\n",
       "      <th>mean</th>\n",
       "      <th>count</th>\n",
       "      <th>dif</th>\n",
       "      <th>risk</th>\n",
       "    </tr>\n",
       "    <tr>\n",
       "      <th>paperlessbilling</th>\n",
       "      <th></th>\n",
       "      <th></th>\n",
       "      <th></th>\n",
       "      <th></th>\n",
       "    </tr>\n",
       "  </thead>\n",
       "  <tbody>\n",
       "    <tr>\n",
       "      <th>no</th>\n",
       "      <td>0.172071</td>\n",
       "      <td>2313</td>\n",
       "      <td>-0.097897</td>\n",
       "      <td>0.637375</td>\n",
       "    </tr>\n",
       "    <tr>\n",
       "      <th>yes</th>\n",
       "      <td>0.338151</td>\n",
       "      <td>3321</td>\n",
       "      <td>0.068183</td>\n",
       "      <td>1.252560</td>\n",
       "    </tr>\n",
       "  </tbody>\n",
       "</table>\n",
       "</div>"
      ],
      "text/plain": [
       "                      mean  count       dif      risk\n",
       "paperlessbilling                                     \n",
       "no                0.172071   2313 -0.097897  0.637375\n",
       "yes               0.338151   3321  0.068183  1.252560"
      ]
     },
     "metadata": {},
     "output_type": "display_data"
    },
    {
     "name": "stdout",
     "output_type": "stream",
     "text": [
      "\n",
      "paymentmethod\n"
     ]
    },
    {
     "data": {
      "text/html": [
       "<div>\n",
       "<style scoped>\n",
       "    .dataframe tbody tr th:only-of-type {\n",
       "        vertical-align: middle;\n",
       "    }\n",
       "\n",
       "    .dataframe tbody tr th {\n",
       "        vertical-align: top;\n",
       "    }\n",
       "\n",
       "    .dataframe thead th {\n",
       "        text-align: right;\n",
       "    }\n",
       "</style>\n",
       "<table border=\"1\" class=\"dataframe\">\n",
       "  <thead>\n",
       "    <tr style=\"text-align: right;\">\n",
       "      <th></th>\n",
       "      <th>mean</th>\n",
       "      <th>count</th>\n",
       "      <th>dif</th>\n",
       "      <th>risk</th>\n",
       "    </tr>\n",
       "    <tr>\n",
       "      <th>paymentmethod</th>\n",
       "      <th></th>\n",
       "      <th></th>\n",
       "      <th></th>\n",
       "      <th></th>\n",
       "    </tr>\n",
       "  </thead>\n",
       "  <tbody>\n",
       "    <tr>\n",
       "      <th>bank_transfer_(automatic)</th>\n",
       "      <td>0.168171</td>\n",
       "      <td>1219</td>\n",
       "      <td>-0.101797</td>\n",
       "      <td>0.622928</td>\n",
       "    </tr>\n",
       "    <tr>\n",
       "      <th>credit_card_(automatic)</th>\n",
       "      <td>0.164339</td>\n",
       "      <td>1217</td>\n",
       "      <td>-0.105630</td>\n",
       "      <td>0.608733</td>\n",
       "    </tr>\n",
       "    <tr>\n",
       "      <th>electronic_check</th>\n",
       "      <td>0.455890</td>\n",
       "      <td>1893</td>\n",
       "      <td>0.185922</td>\n",
       "      <td>1.688682</td>\n",
       "    </tr>\n",
       "    <tr>\n",
       "      <th>mailed_check</th>\n",
       "      <td>0.193870</td>\n",
       "      <td>1305</td>\n",
       "      <td>-0.076098</td>\n",
       "      <td>0.718121</td>\n",
       "    </tr>\n",
       "  </tbody>\n",
       "</table>\n",
       "</div>"
      ],
      "text/plain": [
       "                               mean  count       dif      risk\n",
       "paymentmethod                                                 \n",
       "bank_transfer_(automatic)  0.168171   1219 -0.101797  0.622928\n",
       "credit_card_(automatic)    0.164339   1217 -0.105630  0.608733\n",
       "electronic_check           0.455890   1893  0.185922  1.688682\n",
       "mailed_check               0.193870   1305 -0.076098  0.718121"
      ]
     },
     "metadata": {},
     "output_type": "display_data"
    },
    {
     "name": "stdout",
     "output_type": "stream",
     "text": [
      "\n"
     ]
    }
   ],
   "source": [
    "for c in categorical:\n",
    "    print(c)\n",
    "    df_group = df_full_train.groupby(c).churn.agg([\"mean\", \"count\"])\n",
    "    df_group[\"dif\"] = df_group['mean'] - global_churn\n",
    "    df_group[\"risk\"] = df_group['mean'] / global_churn\n",
    "    display(df_group)\n",
    "    print()"
   ]
  },
  {
   "cell_type": "markdown",
   "id": "c7bac29f",
   "metadata": {},
   "source": [
    "As the churn risk exceeds 1, it is to susceptible to risk/."
   ]
  },
  {
   "cell_type": "markdown",
   "id": "73a86f80",
   "metadata": {},
   "source": [
    "# 3.6 Feature importance: Mutual Information"
   ]
  },
  {
   "cell_type": "markdown",
   "id": "f88737b4",
   "metadata": {},
   "source": [
    "Mutual information - concept from information theory, it tells us how much we can learn about one variable if we know the value of another.\n",
    "\n",
    "If we observe all the variables, how much do we learn about the target variables. If we observe that this customer has a month to month contract, how much do we know about churn? Theh higher the score, the higher the importance of the variable on the target variable."
   ]
  },
  {
   "cell_type": "code",
   "execution_count": 43,
   "id": "8069f21a",
   "metadata": {},
   "outputs": [],
   "source": [
    "from sklearn.metrics import mutual_info_score"
   ]
  },
  {
   "cell_type": "code",
   "execution_count": 44,
   "id": "469199de",
   "metadata": {},
   "outputs": [
    {
     "data": {
      "text/plain": [
       "0.0983203874041556"
      ]
     },
     "execution_count": 44,
     "metadata": {},
     "output_type": "execute_result"
    }
   ],
   "source": [
    "## same value regardless of the order\n",
    "\n",
    "mutual_info_score(df_full_train.churn, df_full_train.contract)"
   ]
  },
  {
   "cell_type": "code",
   "execution_count": 45,
   "id": "d050f389",
   "metadata": {},
   "outputs": [
    {
     "data": {
      "text/plain": [
       "7.35465609829622e-05"
      ]
     },
     "execution_count": 45,
     "metadata": {},
     "output_type": "execute_result"
    }
   ],
   "source": [
    "mutual_info_score(df_full_train.gender, df_full_train.contract)"
   ]
  },
  {
   "cell_type": "code",
   "execution_count": 46,
   "id": "776e8110",
   "metadata": {},
   "outputs": [
    {
     "data": {
      "text/plain": [
       "0.009967689095399745"
      ]
     },
     "execution_count": 46,
     "metadata": {},
     "output_type": "execute_result"
    }
   ],
   "source": [
    "mutual_info_score(df_full_train.partner, df_full_train.churn)"
   ]
  },
  {
   "cell_type": "code",
   "execution_count": 47,
   "id": "f6632a97",
   "metadata": {},
   "outputs": [],
   "source": [
    "def mutual_info_churn_score(series):\n",
    "    return mutual_info_score(series, df_full_train.churn)"
   ]
  },
  {
   "cell_type": "code",
   "execution_count": 48,
   "id": "46595b46",
   "metadata": {},
   "outputs": [
    {
     "data": {
      "text/plain": [
       "contract            0.098320\n",
       "onlinesecurity      0.063085\n",
       "techsupport         0.061032\n",
       "internetservice     0.055868\n",
       "onlinebackup        0.046923\n",
       "deviceprotection    0.043453\n",
       "paymentmethod       0.043210\n",
       "streamingtv         0.031853\n",
       "streamingmovies     0.031581\n",
       "paperlessbilling    0.017589\n",
       "dependents          0.012346\n",
       "partner             0.009968\n",
       "seniorcitizen       0.009410\n",
       "multiplelines       0.000857\n",
       "phoneservice        0.000229\n",
       "gender              0.000117\n",
       "dtype: float64"
      ]
     },
     "execution_count": 48,
     "metadata": {},
     "output_type": "execute_result"
    }
   ],
   "source": [
    "mi=df_full_train[categorical].apply(mutual_info_churn_score)\n",
    "mi.sort_values(ascending = False)"
   ]
  },
  {
   "cell_type": "code",
   "execution_count": null,
   "id": "8fb6e93c",
   "metadata": {},
   "outputs": [],
   "source": []
  },
  {
   "cell_type": "markdown",
   "id": "809f34b9",
   "metadata": {},
   "source": [
    "# 3.6 Feature importance: Correlation"
   ]
  },
  {
   "cell_type": "markdown",
   "id": "221a000e",
   "metadata": {},
   "source": [
    "This is a way to measure the importance of numerical columns\n",
    "\n",
    "    - Correlation coefficient:- Pearson_correlation_coefficient\n",
    "Mostly for numeric variables"
   ]
  },
  {
   "cell_type": "code",
   "execution_count": 49,
   "id": "81918428",
   "metadata": {},
   "outputs": [
    {
     "data": {
      "text/plain": [
       "72"
      ]
     },
     "execution_count": 49,
     "metadata": {},
     "output_type": "execute_result"
    }
   ],
   "source": [
    "df_full_train.tenure.max()"
   ]
  },
  {
   "cell_type": "code",
   "execution_count": 50,
   "id": "b765967b",
   "metadata": {},
   "outputs": [
    {
     "data": {
      "text/html": [
       "<div>\n",
       "<style scoped>\n",
       "    .dataframe tbody tr th:only-of-type {\n",
       "        vertical-align: middle;\n",
       "    }\n",
       "\n",
       "    .dataframe tbody tr th {\n",
       "        vertical-align: top;\n",
       "    }\n",
       "\n",
       "    .dataframe thead th {\n",
       "        text-align: right;\n",
       "    }\n",
       "</style>\n",
       "<table border=\"1\" class=\"dataframe\">\n",
       "  <thead>\n",
       "    <tr style=\"text-align: right;\">\n",
       "      <th></th>\n",
       "      <th>tenure</th>\n",
       "      <th>monthlycharges</th>\n",
       "      <th>totalcharges</th>\n",
       "    </tr>\n",
       "  </thead>\n",
       "  <tbody>\n",
       "    <tr>\n",
       "      <th>0</th>\n",
       "      <td>12</td>\n",
       "      <td>19.70</td>\n",
       "      <td>258.35</td>\n",
       "    </tr>\n",
       "    <tr>\n",
       "      <th>1</th>\n",
       "      <td>42</td>\n",
       "      <td>73.90</td>\n",
       "      <td>3160.55</td>\n",
       "    </tr>\n",
       "    <tr>\n",
       "      <th>2</th>\n",
       "      <td>71</td>\n",
       "      <td>65.15</td>\n",
       "      <td>4681.75</td>\n",
       "    </tr>\n",
       "    <tr>\n",
       "      <th>3</th>\n",
       "      <td>71</td>\n",
       "      <td>85.45</td>\n",
       "      <td>6300.85</td>\n",
       "    </tr>\n",
       "    <tr>\n",
       "      <th>4</th>\n",
       "      <td>30</td>\n",
       "      <td>70.40</td>\n",
       "      <td>2044.75</td>\n",
       "    </tr>\n",
       "    <tr>\n",
       "      <th>...</th>\n",
       "      <td>...</td>\n",
       "      <td>...</td>\n",
       "      <td>...</td>\n",
       "    </tr>\n",
       "    <tr>\n",
       "      <th>5629</th>\n",
       "      <td>9</td>\n",
       "      <td>100.50</td>\n",
       "      <td>918.60</td>\n",
       "    </tr>\n",
       "    <tr>\n",
       "      <th>5630</th>\n",
       "      <td>60</td>\n",
       "      <td>19.95</td>\n",
       "      <td>1189.90</td>\n",
       "    </tr>\n",
       "    <tr>\n",
       "      <th>5631</th>\n",
       "      <td>28</td>\n",
       "      <td>105.70</td>\n",
       "      <td>2979.50</td>\n",
       "    </tr>\n",
       "    <tr>\n",
       "      <th>5632</th>\n",
       "      <td>2</td>\n",
       "      <td>54.40</td>\n",
       "      <td>114.10</td>\n",
       "    </tr>\n",
       "    <tr>\n",
       "      <th>5633</th>\n",
       "      <td>16</td>\n",
       "      <td>68.25</td>\n",
       "      <td>1114.85</td>\n",
       "    </tr>\n",
       "  </tbody>\n",
       "</table>\n",
       "<p>5634 rows × 3 columns</p>\n",
       "</div>"
      ],
      "text/plain": [
       "      tenure  monthlycharges  totalcharges\n",
       "0         12           19.70        258.35\n",
       "1         42           73.90       3160.55\n",
       "2         71           65.15       4681.75\n",
       "3         71           85.45       6300.85\n",
       "4         30           70.40       2044.75\n",
       "...      ...             ...           ...\n",
       "5629       9          100.50        918.60\n",
       "5630      60           19.95       1189.90\n",
       "5631      28          105.70       2979.50\n",
       "5632       2           54.40        114.10\n",
       "5633      16           68.25       1114.85\n",
       "\n",
       "[5634 rows x 3 columns]"
      ]
     },
     "execution_count": 50,
     "metadata": {},
     "output_type": "execute_result"
    }
   ],
   "source": [
    "df_full_train[numerical]"
   ]
  },
  {
   "cell_type": "code",
   "execution_count": 51,
   "id": "a2ec30e6",
   "metadata": {},
   "outputs": [
    {
     "data": {
      "text/plain": [
       "tenure           -0.351885\n",
       "monthlycharges    0.196805\n",
       "totalcharges     -0.196353\n",
       "dtype: float64"
      ]
     },
     "execution_count": 51,
     "metadata": {},
     "output_type": "execute_result"
    }
   ],
   "source": [
    "df_full_train[numerical].corrwith(df_full_train.churn)"
   ]
  },
  {
   "cell_type": "code",
   "execution_count": 52,
   "id": "d91df468",
   "metadata": {},
   "outputs": [
    {
     "data": {
      "text/plain": [
       "0.5953420669577875"
      ]
     },
     "execution_count": 52,
     "metadata": {},
     "output_type": "execute_result"
    }
   ],
   "source": [
    "df_full_train[df_full_train.tenure <=2 ].churn.mean()"
   ]
  },
  {
   "cell_type": "code",
   "execution_count": 53,
   "id": "cdc1e5d7",
   "metadata": {},
   "outputs": [
    {
     "data": {
      "text/plain": [
       "0.3994413407821229"
      ]
     },
     "execution_count": 53,
     "metadata": {},
     "output_type": "execute_result"
    }
   ],
   "source": [
    "df_full_train[(df_full_train.tenure > 2) & (df_full_train.tenure <= 12)].churn.mean()"
   ]
  },
  {
   "cell_type": "code",
   "execution_count": 54,
   "id": "a8378db7",
   "metadata": {},
   "outputs": [
    {
     "data": {
      "text/plain": [
       "0.17634908339788277"
      ]
     },
     "execution_count": 54,
     "metadata": {},
     "output_type": "execute_result"
    }
   ],
   "source": [
    "df_full_train[df_full_train.tenure > 12 ].churn.mean()"
   ]
  },
  {
   "cell_type": "code",
   "execution_count": null,
   "id": "44fa07c9",
   "metadata": {},
   "outputs": [],
   "source": []
  },
  {
   "cell_type": "code",
   "execution_count": null,
   "id": "eeced51e",
   "metadata": {},
   "outputs": [],
   "source": []
  },
  {
   "cell_type": "markdown",
   "id": "286d1cf3",
   "metadata": {},
   "source": [
    "# 3.8 One-hot encoding"
   ]
  },
  {
   "cell_type": "code",
   "execution_count": 55,
   "id": "48dc8602",
   "metadata": {},
   "outputs": [],
   "source": [
    "from sklearn.feature_extraction import DictVectorizer"
   ]
  },
  {
   "cell_type": "code",
   "execution_count": 56,
   "id": "6f191b36",
   "metadata": {},
   "outputs": [
    {
     "data": {
      "text/html": [
       "<div>\n",
       "<style scoped>\n",
       "    .dataframe tbody tr th:only-of-type {\n",
       "        vertical-align: middle;\n",
       "    }\n",
       "\n",
       "    .dataframe tbody tr th {\n",
       "        vertical-align: top;\n",
       "    }\n",
       "\n",
       "    .dataframe thead th {\n",
       "        text-align: right;\n",
       "    }\n",
       "</style>\n",
       "<table border=\"1\" class=\"dataframe\">\n",
       "  <thead>\n",
       "    <tr style=\"text-align: right;\">\n",
       "      <th></th>\n",
       "      <th>gender</th>\n",
       "      <th>contract</th>\n",
       "    </tr>\n",
       "  </thead>\n",
       "  <tbody>\n",
       "    <tr>\n",
       "      <th>0</th>\n",
       "      <td>female</td>\n",
       "      <td>two_year</td>\n",
       "    </tr>\n",
       "    <tr>\n",
       "      <th>1</th>\n",
       "      <td>male</td>\n",
       "      <td>month-to-month</td>\n",
       "    </tr>\n",
       "    <tr>\n",
       "      <th>2</th>\n",
       "      <td>female</td>\n",
       "      <td>month-to-month</td>\n",
       "    </tr>\n",
       "    <tr>\n",
       "      <th>3</th>\n",
       "      <td>female</td>\n",
       "      <td>month-to-month</td>\n",
       "    </tr>\n",
       "    <tr>\n",
       "      <th>4</th>\n",
       "      <td>female</td>\n",
       "      <td>two_year</td>\n",
       "    </tr>\n",
       "    <tr>\n",
       "      <th>...</th>\n",
       "      <td>...</td>\n",
       "      <td>...</td>\n",
       "    </tr>\n",
       "    <tr>\n",
       "      <th>95</th>\n",
       "      <td>male</td>\n",
       "      <td>one_year</td>\n",
       "    </tr>\n",
       "    <tr>\n",
       "      <th>96</th>\n",
       "      <td>female</td>\n",
       "      <td>month-to-month</td>\n",
       "    </tr>\n",
       "    <tr>\n",
       "      <th>97</th>\n",
       "      <td>male</td>\n",
       "      <td>month-to-month</td>\n",
       "    </tr>\n",
       "    <tr>\n",
       "      <th>98</th>\n",
       "      <td>male</td>\n",
       "      <td>one_year</td>\n",
       "    </tr>\n",
       "    <tr>\n",
       "      <th>99</th>\n",
       "      <td>male</td>\n",
       "      <td>month-to-month</td>\n",
       "    </tr>\n",
       "  </tbody>\n",
       "</table>\n",
       "<p>100 rows × 2 columns</p>\n",
       "</div>"
      ],
      "text/plain": [
       "    gender        contract\n",
       "0   female        two_year\n",
       "1     male  month-to-month\n",
       "2   female  month-to-month\n",
       "3   female  month-to-month\n",
       "4   female        two_year\n",
       "..     ...             ...\n",
       "95    male        one_year\n",
       "96  female  month-to-month\n",
       "97    male  month-to-month\n",
       "98    male        one_year\n",
       "99    male  month-to-month\n",
       "\n",
       "[100 rows x 2 columns]"
      ]
     },
     "execution_count": 56,
     "metadata": {},
     "output_type": "execute_result"
    }
   ],
   "source": [
    "df_train[[\"gender\", \"contract\"]].iloc[:100]"
   ]
  },
  {
   "cell_type": "code",
   "execution_count": 57,
   "id": "70cb0452",
   "metadata": {},
   "outputs": [],
   "source": [
    "## orient=records mean raw wise.\n",
    "\n",
    "dicts = df_train[[\"gender\", \"contract\", \"tenure\"]].iloc[:100].to_dict(orient = \"records\")"
   ]
  },
  {
   "cell_type": "code",
   "execution_count": 58,
   "id": "597f962f",
   "metadata": {},
   "outputs": [],
   "source": [
    "dv = DictVectorizer(sparse = False)"
   ]
  },
  {
   "cell_type": "code",
   "execution_count": 59,
   "id": "47528855",
   "metadata": {},
   "outputs": [
    {
     "data": {
      "text/plain": [
       "DictVectorizer(sparse=False)"
      ]
     },
     "execution_count": 59,
     "metadata": {},
     "output_type": "execute_result"
    }
   ],
   "source": [
    "dv.fit(dicts)"
   ]
  },
  {
   "cell_type": "code",
   "execution_count": 60,
   "id": "13031f54",
   "metadata": {},
   "outputs": [
    {
     "name": "stderr",
     "output_type": "stream",
     "text": [
      "C:\\Users\\eddye\\anaconda3\\lib\\site-packages\\sklearn\\utils\\deprecation.py:87: FutureWarning: Function get_feature_names is deprecated; get_feature_names is deprecated in 1.0 and will be removed in 1.2. Please use get_feature_names_out instead.\n",
      "  warnings.warn(msg, category=FutureWarning)\n"
     ]
    },
    {
     "data": {
      "text/plain": [
       "['contract=month-to-month',\n",
       " 'contract=one_year',\n",
       " 'contract=two_year',\n",
       " 'gender=female',\n",
       " 'gender=male',\n",
       " 'tenure']"
      ]
     },
     "execution_count": 60,
     "metadata": {},
     "output_type": "execute_result"
    }
   ],
   "source": [
    "dv.get_feature_names()"
   ]
  },
  {
   "cell_type": "code",
   "execution_count": 61,
   "id": "7ec01fea",
   "metadata": {},
   "outputs": [
    {
     "data": {
      "text/plain": [
       "array([[ 0.,  0.,  1.,  1.,  0., 72.],\n",
       "       [ 1.,  0.,  0.,  0.,  1., 10.],\n",
       "       [ 1.,  0.,  0.,  1.,  0.,  5.],\n",
       "       [ 1.,  0.,  0.,  1.,  0.,  5.],\n",
       "       [ 0.,  0.,  1.,  1.,  0., 18.],\n",
       "       [ 1.,  0.,  0.,  0.,  1.,  4.],\n",
       "       [ 1.,  0.,  0.,  0.,  1.,  1.],\n",
       "       [ 1.,  0.,  0.,  1.,  0.,  1.],\n",
       "       [ 0.,  0.,  1.,  1.,  0., 72.],\n",
       "       [ 1.,  0.,  0.,  1.,  0.,  6.],\n",
       "       [ 0.,  0.,  1.,  1.,  0., 72.],\n",
       "       [ 1.,  0.,  0.,  0.,  1., 17.],\n",
       "       [ 0.,  0.,  1.,  1.,  0., 66.],\n",
       "       [ 1.,  0.,  0.,  1.,  0.,  2.],\n",
       "       [ 1.,  0.,  0.,  1.,  0.,  4.],\n",
       "       [ 1.,  0.,  0.,  0.,  1.,  3.],\n",
       "       [ 0.,  0.,  1.,  1.,  0., 71.],\n",
       "       [ 1.,  0.,  0.,  1.,  0., 32.],\n",
       "       [ 0.,  1.,  0.,  0.,  1., 53.],\n",
       "       [ 0.,  0.,  1.,  0.,  1., 56.],\n",
       "       [ 1.,  0.,  0.,  0.,  1., 61.],\n",
       "       [ 0.,  1.,  0.,  1.,  0., 41.],\n",
       "       [ 1.,  0.,  0.,  1.,  0.,  1.],\n",
       "       [ 0.,  0.,  1.,  1.,  0.,  3.],\n",
       "       [ 1.,  0.,  0.,  0.,  1.,  3.],\n",
       "       [ 0.,  0.,  1.,  0.,  1., 12.],\n",
       "       [ 1.,  0.,  0.,  1.,  0., 41.],\n",
       "       [ 1.,  0.,  0.,  1.,  0., 47.],\n",
       "       [ 1.,  0.,  0.,  1.,  0.,  2.],\n",
       "       [ 0.,  1.,  0.,  1.,  0., 66.],\n",
       "       [ 1.,  0.,  0.,  0.,  1.,  8.],\n",
       "       [ 1.,  0.,  0.,  0.,  1.,  1.],\n",
       "       [ 0.,  1.,  0.,  1.,  0., 35.],\n",
       "       [ 0.,  1.,  0.,  1.,  0., 67.],\n",
       "       [ 1.,  0.,  0.,  0.,  1.,  1.],\n",
       "       [ 0.,  1.,  0.,  1.,  0., 46.],\n",
       "       [ 0.,  1.,  0.,  1.,  0., 37.],\n",
       "       [ 0.,  0.,  1.,  0.,  1., 72.],\n",
       "       [ 1.,  0.,  0.,  0.,  1., 35.],\n",
       "       [ 1.,  0.,  0.,  1.,  0., 43.],\n",
       "       [ 1.,  0.,  0.,  1.,  0., 20.],\n",
       "       [ 1.,  0.,  0.,  0.,  1., 64.],\n",
       "       [ 1.,  0.,  0.,  1.,  0.,  6.],\n",
       "       [ 1.,  0.,  0.,  0.,  1.,  9.],\n",
       "       [ 1.,  0.,  0.,  0.,  1., 18.],\n",
       "       [ 0.,  1.,  0.,  1.,  0., 46.],\n",
       "       [ 1.,  0.,  0.,  0.,  1.,  9.],\n",
       "       [ 0.,  0.,  1.,  1.,  0., 69.],\n",
       "       [ 1.,  0.,  0.,  0.,  1., 32.],\n",
       "       [ 0.,  0.,  1.,  1.,  0., 67.],\n",
       "       [ 0.,  0.,  1.,  0.,  1., 69.],\n",
       "       [ 1.,  0.,  0.,  0.,  1.,  6.],\n",
       "       [ 0.,  1.,  0.,  1.,  0., 30.],\n",
       "       [ 1.,  0.,  0.,  0.,  1., 30.],\n",
       "       [ 0.,  1.,  0.,  1.,  0., 58.],\n",
       "       [ 1.,  0.,  0.,  1.,  0., 18.],\n",
       "       [ 1.,  0.,  0.,  0.,  1., 34.],\n",
       "       [ 0.,  1.,  0.,  0.,  1.,  2.],\n",
       "       [ 0.,  0.,  1.,  1.,  0., 10.],\n",
       "       [ 0.,  0.,  1.,  1.,  0., 71.],\n",
       "       [ 0.,  0.,  1.,  0.,  1., 72.],\n",
       "       [ 0.,  0.,  1.,  1.,  0., 46.],\n",
       "       [ 1.,  0.,  0.,  0.,  1., 49.],\n",
       "       [ 0.,  0.,  1.,  1.,  0., 65.],\n",
       "       [ 1.,  0.,  0.,  0.,  1., 15.],\n",
       "       [ 0.,  1.,  0.,  0.,  1., 58.],\n",
       "       [ 0.,  1.,  0.,  0.,  1., 66.],\n",
       "       [ 0.,  0.,  1.,  0.,  1., 66.],\n",
       "       [ 0.,  1.,  0.,  0.,  1., 68.],\n",
       "       [ 0.,  1.,  0.,  1.,  0., 45.],\n",
       "       [ 1.,  0.,  0.,  0.,  1.,  1.],\n",
       "       [ 1.,  0.,  0.,  0.,  1., 11.],\n",
       "       [ 1.,  0.,  0.,  1.,  0., 18.],\n",
       "       [ 0.,  0.,  1.,  0.,  1., 71.],\n",
       "       [ 1.,  0.,  0.,  0.,  1.,  4.],\n",
       "       [ 1.,  0.,  0.,  1.,  0., 13.],\n",
       "       [ 0.,  0.,  1.,  1.,  0., 50.],\n",
       "       [ 1.,  0.,  0.,  0.,  1., 12.],\n",
       "       [ 1.,  0.,  0.,  0.,  1.,  1.],\n",
       "       [ 0.,  1.,  0.,  1.,  0.,  7.],\n",
       "       [ 0.,  1.,  0.,  0.,  1., 71.],\n",
       "       [ 1.,  0.,  0.,  0.,  1.,  1.],\n",
       "       [ 1.,  0.,  0.,  0.,  1., 21.],\n",
       "       [ 1.,  0.,  0.,  1.,  0., 12.],\n",
       "       [ 1.,  0.,  0.,  0.,  1.,  1.],\n",
       "       [ 1.,  0.,  0.,  1.,  0., 33.],\n",
       "       [ 1.,  0.,  0.,  0.,  1., 46.],\n",
       "       [ 0.,  1.,  0.,  1.,  0., 44.],\n",
       "       [ 0.,  0.,  1.,  0.,  1., 70.],\n",
       "       [ 0.,  1.,  0.,  0.,  1.,  7.],\n",
       "       [ 1.,  0.,  0.,  1.,  0., 18.],\n",
       "       [ 0.,  1.,  0.,  0.,  1., 54.],\n",
       "       [ 1.,  0.,  0.,  1.,  0., 35.],\n",
       "       [ 1.,  0.,  0.,  0.,  1.,  5.],\n",
       "       [ 1.,  0.,  0.,  1.,  0., 35.],\n",
       "       [ 0.,  1.,  0.,  0.,  1., 39.],\n",
       "       [ 1.,  0.,  0.,  1.,  0., 19.],\n",
       "       [ 1.,  0.,  0.,  0.,  1., 21.],\n",
       "       [ 0.,  1.,  0.,  0.,  1., 43.],\n",
       "       [ 1.,  0.,  0.,  0.,  1., 19.]])"
      ]
     },
     "execution_count": 61,
     "metadata": {},
     "output_type": "execute_result"
    }
   ],
   "source": [
    "dv.transform(dicts)"
   ]
  },
  {
   "cell_type": "code",
   "execution_count": 62,
   "id": "40359955",
   "metadata": {},
   "outputs": [],
   "source": [
    "## all\n",
    "\n",
    "train_dicts = df_train[categorical + numerical].to_dict(orient = \"records\")"
   ]
  },
  {
   "cell_type": "code",
   "execution_count": 63,
   "id": "3309e4fd",
   "metadata": {},
   "outputs": [
    {
     "data": {
      "text/plain": [
       "{'gender': 'female',\n",
       " 'seniorcitizen': 0,\n",
       " 'partner': 'yes',\n",
       " 'dependents': 'yes',\n",
       " 'phoneservice': 'yes',\n",
       " 'multiplelines': 'yes',\n",
       " 'internetservice': 'fiber_optic',\n",
       " 'onlinesecurity': 'yes',\n",
       " 'onlinebackup': 'yes',\n",
       " 'deviceprotection': 'yes',\n",
       " 'techsupport': 'yes',\n",
       " 'streamingtv': 'yes',\n",
       " 'streamingmovies': 'yes',\n",
       " 'contract': 'two_year',\n",
       " 'paperlessbilling': 'yes',\n",
       " 'paymentmethod': 'electronic_check',\n",
       " 'tenure': 72,\n",
       " 'monthlycharges': 115.5,\n",
       " 'totalcharges': 8425.15}"
      ]
     },
     "execution_count": 63,
     "metadata": {},
     "output_type": "execute_result"
    }
   ],
   "source": [
    "train_dicts[0]"
   ]
  },
  {
   "cell_type": "code",
   "execution_count": 64,
   "id": "f1f45869",
   "metadata": {},
   "outputs": [
    {
     "data": {
      "text/plain": [
       "DictVectorizer(sparse=False)"
      ]
     },
     "execution_count": 64,
     "metadata": {},
     "output_type": "execute_result"
    }
   ],
   "source": [
    "dv.fit(train_dicts)"
   ]
  },
  {
   "cell_type": "code",
   "execution_count": 65,
   "id": "da278d7f",
   "metadata": {},
   "outputs": [
    {
     "data": {
      "text/plain": [
       "array(['contract=month-to-month', 'contract=one_year',\n",
       "       'contract=two_year', 'dependents=no', 'dependents=yes',\n",
       "       'deviceprotection=no', 'deviceprotection=no_internet_service',\n",
       "       'deviceprotection=yes', 'gender=female', 'gender=male',\n",
       "       'internetservice=dsl', 'internetservice=fiber_optic',\n",
       "       'internetservice=no', 'monthlycharges', 'multiplelines=no',\n",
       "       'multiplelines=no_phone_service', 'multiplelines=yes',\n",
       "       'onlinebackup=no', 'onlinebackup=no_internet_service',\n",
       "       'onlinebackup=yes', 'onlinesecurity=no',\n",
       "       'onlinesecurity=no_internet_service', 'onlinesecurity=yes',\n",
       "       'paperlessbilling=no', 'paperlessbilling=yes', 'partner=no',\n",
       "       'partner=yes', 'paymentmethod=bank_transfer_(automatic)',\n",
       "       'paymentmethod=credit_card_(automatic)',\n",
       "       'paymentmethod=electronic_check', 'paymentmethod=mailed_check',\n",
       "       'phoneservice=no', 'phoneservice=yes', 'seniorcitizen',\n",
       "       'streamingmovies=no', 'streamingmovies=no_internet_service',\n",
       "       'streamingmovies=yes', 'streamingtv=no',\n",
       "       'streamingtv=no_internet_service', 'streamingtv=yes',\n",
       "       'techsupport=no', 'techsupport=no_internet_service',\n",
       "       'techsupport=yes', 'tenure', 'totalcharges'], dtype=object)"
      ]
     },
     "execution_count": 65,
     "metadata": {},
     "output_type": "execute_result"
    }
   ],
   "source": [
    "dv.get_feature_names_out()"
   ]
  },
  {
   "cell_type": "code",
   "execution_count": 66,
   "id": "458e42bc",
   "metadata": {},
   "outputs": [
    {
     "data": {
      "text/plain": [
       "[0.0,\n",
       " 0.0,\n",
       " 1.0,\n",
       " 0.0,\n",
       " 1.0,\n",
       " 0.0,\n",
       " 0.0,\n",
       " 1.0,\n",
       " 1.0,\n",
       " 0.0,\n",
       " 0.0,\n",
       " 1.0,\n",
       " 0.0,\n",
       " 115.5,\n",
       " 0.0,\n",
       " 0.0,\n",
       " 1.0,\n",
       " 0.0,\n",
       " 0.0,\n",
       " 1.0,\n",
       " 0.0,\n",
       " 0.0,\n",
       " 1.0,\n",
       " 0.0,\n",
       " 1.0,\n",
       " 0.0,\n",
       " 1.0,\n",
       " 0.0,\n",
       " 0.0,\n",
       " 1.0,\n",
       " 0.0,\n",
       " 0.0,\n",
       " 1.0,\n",
       " 0.0,\n",
       " 0.0,\n",
       " 0.0,\n",
       " 1.0,\n",
       " 0.0,\n",
       " 0.0,\n",
       " 1.0,\n",
       " 0.0,\n",
       " 0.0,\n",
       " 1.0,\n",
       " 72.0,\n",
       " 8425.15]"
      ]
     },
     "execution_count": 66,
     "metadata": {},
     "output_type": "execute_result"
    }
   ],
   "source": [
    "list(dv.transform(train_dicts[:5])[0])"
   ]
  },
  {
   "cell_type": "code",
   "execution_count": 67,
   "id": "f7b812ac",
   "metadata": {},
   "outputs": [],
   "source": [
    "X_train = dv.transform(train_dicts)"
   ]
  },
  {
   "cell_type": "code",
   "execution_count": 68,
   "id": "b37d88e0",
   "metadata": {},
   "outputs": [
    {
     "data": {
      "text/plain": [
       "(4225, 45)"
      ]
     },
     "execution_count": 68,
     "metadata": {},
     "output_type": "execute_result"
    }
   ],
   "source": [
    "X_train.shape"
   ]
  },
  {
   "cell_type": "code",
   "execution_count": 69,
   "id": "9456b096",
   "metadata": {},
   "outputs": [],
   "source": [
    "## all\n",
    "\n",
    "val_dicts = df_val[categorical + numerical].to_dict(orient = \"records\")\n",
    "X_val = dv.transform(val_dicts)"
   ]
  },
  {
   "cell_type": "code",
   "execution_count": null,
   "id": "6cb6268c",
   "metadata": {},
   "outputs": [],
   "source": []
  },
  {
   "cell_type": "markdown",
   "id": "daeffdb5",
   "metadata": {},
   "source": [
    "## 3.9 Logistic regression"
   ]
  },
  {
   "cell_type": "markdown",
   "id": "eee04e78",
   "metadata": {},
   "source": [
    "- Binary classification\n",
    "- Linear vs logistic regression"
   ]
  },
  {
   "cell_type": "code",
   "execution_count": 70,
   "id": "7321307a",
   "metadata": {},
   "outputs": [],
   "source": [
    "def sigmoid(z):\n",
    "    return 1 / (1+np.exp(-z))"
   ]
  },
  {
   "cell_type": "code",
   "execution_count": 71,
   "id": "991009f6",
   "metadata": {},
   "outputs": [],
   "source": [
    "z= np.linspace(-7, 7,51)"
   ]
  },
  {
   "cell_type": "code",
   "execution_count": 72,
   "id": "dda1cef1",
   "metadata": {},
   "outputs": [
    {
     "data": {
      "text/plain": [
       "array([9.11051194e-04, 1.20508423e-03, 1.59386223e-03, 2.10780106e-03,\n",
       "       2.78699622e-03, 3.68423990e-03, 4.86893124e-03, 6.43210847e-03,\n",
       "       8.49286285e-03, 1.12064063e-02, 1.47740317e-02, 1.94550846e-02,\n",
       "       2.55807883e-02, 3.35692233e-02, 4.39398154e-02, 5.73241759e-02,\n",
       "       7.44679452e-02, 9.62155417e-02, 1.23467048e-01, 1.57095469e-01,\n",
       "       1.97816111e-01, 2.46011284e-01, 3.01534784e-01, 3.63547460e-01,\n",
       "       4.30453776e-01, 5.00000000e-01, 5.69546224e-01, 6.36452540e-01,\n",
       "       6.98465216e-01, 7.53988716e-01, 8.02183889e-01, 8.42904531e-01,\n",
       "       8.76532952e-01, 9.03784458e-01, 9.25532055e-01, 9.42675824e-01,\n",
       "       9.56060185e-01, 9.66430777e-01, 9.74419212e-01, 9.80544915e-01,\n",
       "       9.85225968e-01, 9.88793594e-01, 9.91507137e-01, 9.93567892e-01,\n",
       "       9.95131069e-01, 9.96315760e-01, 9.97213004e-01, 9.97892199e-01,\n",
       "       9.98406138e-01, 9.98794916e-01, 9.99088949e-01])"
      ]
     },
     "execution_count": 72,
     "metadata": {},
     "output_type": "execute_result"
    }
   ],
   "source": [
    "sigmoid(z)"
   ]
  },
  {
   "cell_type": "code",
   "execution_count": 73,
   "id": "d81266ef",
   "metadata": {},
   "outputs": [
    {
     "data": {
      "text/plain": [
       "[<matplotlib.lines.Line2D at 0x21c9e7e1160>]"
      ]
     },
     "execution_count": 73,
     "metadata": {},
     "output_type": "execute_result"
    },
    {
     "data": {
      "image/png": "[encoded data removed]",
      "text/plain": [
       "<Figure size 432x288 with 1 Axes>"
      ]
     },
     "metadata": {
      "needs_background": "light"
     },
     "output_type": "display_data"
    }
   ],
   "source": [
    "plt.plot(z,sigmoid(z))"
   ]
  },
  {
   "cell_type": "code",
   "execution_count": 74,
   "id": "1a3176e7",
   "metadata": {},
   "outputs": [
    {
     "data": {
      "text/plain": [
       "1.0"
      ]
     },
     "execution_count": 74,
     "metadata": {},
     "output_type": "execute_result"
    }
   ],
   "source": [
    "sigmoid(19000909)"
   ]
  },
  {
   "cell_type": "code",
   "execution_count": 75,
   "id": "55b2776d",
   "metadata": {},
   "outputs": [],
   "source": [
    "def linear_regression(xi):\n",
    "    \n",
    "    result = w0\n",
    "    \n",
    "    for j in range(len(w)):\n",
    "        result = result + xi[j] * w[j]\n",
    "    \n",
    "    return result"
   ]
  },
  {
   "cell_type": "code",
   "execution_count": 76,
   "id": "b7dfbea5",
   "metadata": {},
   "outputs": [],
   "source": [
    "def linear_regression(xi):\n",
    "    \n",
    "    result = w0\n",
    "    \n",
    "    for j in range(len(w)):\n",
    "        score = score + xi[j] * w[j]\n",
    "    \n",
    "    result = sigmoid(score)\n",
    "    return result"
   ]
  },
  {
   "cell_type": "markdown",
   "id": "8f007eaf",
   "metadata": {},
   "source": [
    "In both cases, we use the dot product and in both cases, the dot product is called the linear operator. Linear models are quite fast and have goos properties. "
   ]
  },
  {
   "cell_type": "code",
   "execution_count": null,
   "id": "8f36cf91",
   "metadata": {},
   "outputs": [],
   "source": []
  },
  {
   "cell_type": "markdown",
   "id": "b6d22deb",
   "metadata": {},
   "source": [
    "## 3.10 Training logistic regression with scikit-learn"
   ]
  },
  {
   "cell_type": "markdown",
   "id": "110e2d9e",
   "metadata": {},
   "source": [
    "- Train a model with scikit-learn\n",
    "- APply it to the validation dataset\n",
    "- Calculate the accuracy"
   ]
  },
  {
   "cell_type": "code",
   "execution_count": 77,
   "id": "d41d6b63",
   "metadata": {},
   "outputs": [],
   "source": [
    "from sklearn.linear_model import LogisticRegression"
   ]
  },
  {
   "cell_type": "code",
   "execution_count": 78,
   "id": "970f63ea",
   "metadata": {},
   "outputs": [
    {
     "data": {
      "text/plain": [
       "LogisticRegression()"
      ]
     },
     "execution_count": 78,
     "metadata": {},
     "output_type": "execute_result"
    }
   ],
   "source": [
    "model = LogisticRegression()\n",
    "model.fit(X_train, y_train)"
   ]
  },
  {
   "cell_type": "code",
   "execution_count": 79,
   "id": "3e221df4",
   "metadata": {},
   "outputs": [
    {
     "data": {
      "text/plain": [
       "-0.10907153920556581"
      ]
     },
     "execution_count": 79,
     "metadata": {},
     "output_type": "execute_result"
    }
   ],
   "source": [
    "model.intercept_[0]"
   ]
  },
  {
   "cell_type": "code",
   "execution_count": 80,
   "id": "884faf6c",
   "metadata": {},
   "outputs": [
    {
     "data": {
      "text/plain": [
       "array([ 0.474, -0.175, -0.407, -0.03 , -0.078,  0.063, -0.089, -0.081,\n",
       "       -0.034, -0.073, -0.335,  0.316, -0.089,  0.004, -0.258,  0.141,\n",
       "        0.009,  0.063, -0.089, -0.081,  0.266, -0.089, -0.284, -0.231,\n",
       "        0.123, -0.166,  0.058, -0.087, -0.032,  0.07 , -0.059,  0.141,\n",
       "       -0.249,  0.215, -0.12 , -0.089,  0.102, -0.071, -0.089,  0.052,\n",
       "        0.213, -0.089, -0.232, -0.07 ,  0.   ])"
      ]
     },
     "execution_count": 80,
     "metadata": {},
     "output_type": "execute_result"
    }
   ],
   "source": [
    "model.coef_[0].round(3)"
   ]
  },
  {
   "cell_type": "code",
   "execution_count": 81,
   "id": "3b21dcac",
   "metadata": {},
   "outputs": [
    {
     "data": {
      "text/plain": [
       "array([0, 1, 1, ..., 1, 0, 1])"
      ]
     },
     "execution_count": 81,
     "metadata": {},
     "output_type": "execute_result"
    }
   ],
   "source": [
    "## hard predictions\n",
    "model.predict(X_train)"
   ]
  },
  {
   "cell_type": "code",
   "execution_count": 82,
   "id": "46b14ed6",
   "metadata": {},
   "outputs": [
    {
     "data": {
      "text/plain": [
       "array([[0.90442519, 0.09557481],\n",
       "       [0.32075391, 0.67924609],\n",
       "       [0.3664    , 0.6336    ],\n",
       "       ...,\n",
       "       [0.46840848, 0.53159152],\n",
       "       [0.95750049, 0.04249951],\n",
       "       [0.30139435, 0.69860565]])"
      ]
     },
     "execution_count": 82,
     "metadata": {},
     "output_type": "execute_result"
    }
   ],
   "source": [
    "## soft predictions\n",
    "\n",
    "## probability [0,1] is why it is dimesnsional\n",
    "model.predict_proba(X_train)"
   ]
  },
  {
   "cell_type": "code",
   "execution_count": 83,
   "id": "0ccbb104",
   "metadata": {},
   "outputs": [
    {
     "data": {
      "text/plain": [
       "array([0.00899922, 0.20435726, 0.21203736, ..., 0.13638714, 0.79969074,\n",
       "       0.83733007])"
      ]
     },
     "execution_count": 83,
     "metadata": {},
     "output_type": "execute_result"
    }
   ],
   "source": [
    "## soft predictions\n",
    "\n",
    "## probability [0,1] is why it is dimesnsional\n",
    "y_pred = model.predict_proba(X_val)[:,1]\n",
    "y_pred"
   ]
  },
  {
   "cell_type": "code",
   "execution_count": 84,
   "id": "02411335",
   "metadata": {},
   "outputs": [],
   "source": [
    "churn_decision = (y_pred >= 0.5)"
   ]
  },
  {
   "cell_type": "code",
   "execution_count": 85,
   "id": "199a9fc3",
   "metadata": {},
   "outputs": [
    {
     "data": {
      "text/plain": [
       "3       8433-wxgna\n",
       "8       3440-jpscl\n",
       "11      2637-fkfsy\n",
       "12      7228-omtpn\n",
       "19      6711-fldfb\n",
       "           ...    \n",
       "1397    5976-jcjrh\n",
       "1398    2034-cgrhz\n",
       "1399    5276-kqwhg\n",
       "1407    6521-yytyi\n",
       "1408    3049-solay\n",
       "Name: customerid, Length: 311, dtype: object"
      ]
     },
     "execution_count": 85,
     "metadata": {},
     "output_type": "execute_result"
    }
   ],
   "source": [
    "## customerid with a high probability to churn\n",
    "\n",
    "df_val[churn_decision].customerid"
   ]
  },
  {
   "cell_type": "code",
   "execution_count": 86,
   "id": "3cd3a50c",
   "metadata": {},
   "outputs": [
    {
     "data": {
      "text/plain": [
       "array([0, 0, 0, ..., 0, 1, 1])"
      ]
     },
     "execution_count": 86,
     "metadata": {},
     "output_type": "execute_result"
    }
   ],
   "source": [
    "y_val"
   ]
  },
  {
   "cell_type": "code",
   "execution_count": 87,
   "id": "2a2abe6a",
   "metadata": {},
   "outputs": [
    {
     "data": {
      "text/plain": [
       "array([0, 0, 0, ..., 0, 1, 1])"
      ]
     },
     "execution_count": 87,
     "metadata": {},
     "output_type": "execute_result"
    }
   ],
   "source": [
    "churn_decision.astype(int)"
   ]
  },
  {
   "cell_type": "code",
   "execution_count": 88,
   "id": "f1aa823e",
   "metadata": {},
   "outputs": [
    {
     "data": {
      "text/plain": [
       "0.8034066713981547"
      ]
     },
     "execution_count": 88,
     "metadata": {},
     "output_type": "execute_result"
    }
   ],
   "source": [
    "(y_val == churn_decision).mean()"
   ]
  },
  {
   "cell_type": "code",
   "execution_count": 103,
   "id": "c1653fbb",
   "metadata": {},
   "outputs": [],
   "source": [
    "df_pred = pd.DataFrame()\n",
    "df_pred[\"probability\"] = y_pred\n",
    "df_pred[\"prediction\"] = churn_decision.astype(int)\n",
    "df_pred[\"actual\"] = y_val"
   ]
  },
  {
   "cell_type": "code",
   "execution_count": 104,
   "id": "358b7267",
   "metadata": {},
   "outputs": [
    {
     "data": {
      "text/html": [
       "<div>\n",
       "<style scoped>\n",
       "    .dataframe tbody tr th:only-of-type {\n",
       "        vertical-align: middle;\n",
       "    }\n",
       "\n",
       "    .dataframe tbody tr th {\n",
       "        vertical-align: top;\n",
       "    }\n",
       "\n",
       "    .dataframe thead th {\n",
       "        text-align: right;\n",
       "    }\n",
       "</style>\n",
       "<table border=\"1\" class=\"dataframe\">\n",
       "  <thead>\n",
       "    <tr style=\"text-align: right;\">\n",
       "      <th></th>\n",
       "      <th>probability</th>\n",
       "      <th>prediction</th>\n",
       "      <th>actual</th>\n",
       "    </tr>\n",
       "  </thead>\n",
       "  <tbody>\n",
       "    <tr>\n",
       "      <th>0</th>\n",
       "      <td>0.008999</td>\n",
       "      <td>0</td>\n",
       "      <td>0</td>\n",
       "    </tr>\n",
       "    <tr>\n",
       "      <th>1</th>\n",
       "      <td>0.204357</td>\n",
       "      <td>0</td>\n",
       "      <td>0</td>\n",
       "    </tr>\n",
       "    <tr>\n",
       "      <th>2</th>\n",
       "      <td>0.212037</td>\n",
       "      <td>0</td>\n",
       "      <td>0</td>\n",
       "    </tr>\n",
       "    <tr>\n",
       "      <th>3</th>\n",
       "      <td>0.542996</td>\n",
       "      <td>1</td>\n",
       "      <td>1</td>\n",
       "    </tr>\n",
       "    <tr>\n",
       "      <th>4</th>\n",
       "      <td>0.213615</td>\n",
       "      <td>0</td>\n",
       "      <td>0</td>\n",
       "    </tr>\n",
       "    <tr>\n",
       "      <th>...</th>\n",
       "      <td>...</td>\n",
       "      <td>...</td>\n",
       "      <td>...</td>\n",
       "    </tr>\n",
       "    <tr>\n",
       "      <th>1404</th>\n",
       "      <td>0.313509</td>\n",
       "      <td>0</td>\n",
       "      <td>0</td>\n",
       "    </tr>\n",
       "    <tr>\n",
       "      <th>1405</th>\n",
       "      <td>0.039358</td>\n",
       "      <td>0</td>\n",
       "      <td>1</td>\n",
       "    </tr>\n",
       "    <tr>\n",
       "      <th>1406</th>\n",
       "      <td>0.136387</td>\n",
       "      <td>0</td>\n",
       "      <td>0</td>\n",
       "    </tr>\n",
       "    <tr>\n",
       "      <th>1407</th>\n",
       "      <td>0.799691</td>\n",
       "      <td>1</td>\n",
       "      <td>1</td>\n",
       "    </tr>\n",
       "    <tr>\n",
       "      <th>1408</th>\n",
       "      <td>0.837330</td>\n",
       "      <td>1</td>\n",
       "      <td>1</td>\n",
       "    </tr>\n",
       "  </tbody>\n",
       "</table>\n",
       "<p>1409 rows × 3 columns</p>\n",
       "</div>"
      ],
      "text/plain": [
       "      probability  prediction  actual\n",
       "0        0.008999           0       0\n",
       "1        0.204357           0       0\n",
       "2        0.212037           0       0\n",
       "3        0.542996           1       1\n",
       "4        0.213615           0       0\n",
       "...           ...         ...     ...\n",
       "1404     0.313509           0       0\n",
       "1405     0.039358           0       1\n",
       "1406     0.136387           0       0\n",
       "1407     0.799691           1       1\n",
       "1408     0.837330           1       1\n",
       "\n",
       "[1409 rows x 3 columns]"
      ]
     },
     "execution_count": 104,
     "metadata": {},
     "output_type": "execute_result"
    }
   ],
   "source": [
    "df_pred"
   ]
  },
  {
   "cell_type": "code",
   "execution_count": 105,
   "id": "332321ea",
   "metadata": {},
   "outputs": [],
   "source": [
    "df_pred[\"correct\"] = df_pred.prediction == df_pred.actual"
   ]
  },
  {
   "cell_type": "code",
   "execution_count": 106,
   "id": "87b1ac05",
   "metadata": {},
   "outputs": [
    {
     "data": {
      "text/html": [
       "<div>\n",
       "<style scoped>\n",
       "    .dataframe tbody tr th:only-of-type {\n",
       "        vertical-align: middle;\n",
       "    }\n",
       "\n",
       "    .dataframe tbody tr th {\n",
       "        vertical-align: top;\n",
       "    }\n",
       "\n",
       "    .dataframe thead th {\n",
       "        text-align: right;\n",
       "    }\n",
       "</style>\n",
       "<table border=\"1\" class=\"dataframe\">\n",
       "  <thead>\n",
       "    <tr style=\"text-align: right;\">\n",
       "      <th></th>\n",
       "      <th>probability</th>\n",
       "      <th>prediction</th>\n",
       "      <th>actual</th>\n",
       "      <th>correct</th>\n",
       "    </tr>\n",
       "  </thead>\n",
       "  <tbody>\n",
       "    <tr>\n",
       "      <th>0</th>\n",
       "      <td>0.008999</td>\n",
       "      <td>0</td>\n",
       "      <td>0</td>\n",
       "      <td>True</td>\n",
       "    </tr>\n",
       "    <tr>\n",
       "      <th>1</th>\n",
       "      <td>0.204357</td>\n",
       "      <td>0</td>\n",
       "      <td>0</td>\n",
       "      <td>True</td>\n",
       "    </tr>\n",
       "    <tr>\n",
       "      <th>2</th>\n",
       "      <td>0.212037</td>\n",
       "      <td>0</td>\n",
       "      <td>0</td>\n",
       "      <td>True</td>\n",
       "    </tr>\n",
       "    <tr>\n",
       "      <th>3</th>\n",
       "      <td>0.542996</td>\n",
       "      <td>1</td>\n",
       "      <td>1</td>\n",
       "      <td>True</td>\n",
       "    </tr>\n",
       "    <tr>\n",
       "      <th>4</th>\n",
       "      <td>0.213615</td>\n",
       "      <td>0</td>\n",
       "      <td>0</td>\n",
       "      <td>True</td>\n",
       "    </tr>\n",
       "    <tr>\n",
       "      <th>...</th>\n",
       "      <td>...</td>\n",
       "      <td>...</td>\n",
       "      <td>...</td>\n",
       "      <td>...</td>\n",
       "    </tr>\n",
       "    <tr>\n",
       "      <th>1404</th>\n",
       "      <td>0.313509</td>\n",
       "      <td>0</td>\n",
       "      <td>0</td>\n",
       "      <td>True</td>\n",
       "    </tr>\n",
       "    <tr>\n",
       "      <th>1405</th>\n",
       "      <td>0.039358</td>\n",
       "      <td>0</td>\n",
       "      <td>1</td>\n",
       "      <td>False</td>\n",
       "    </tr>\n",
       "    <tr>\n",
       "      <th>1406</th>\n",
       "      <td>0.136387</td>\n",
       "      <td>0</td>\n",
       "      <td>0</td>\n",
       "      <td>True</td>\n",
       "    </tr>\n",
       "    <tr>\n",
       "      <th>1407</th>\n",
       "      <td>0.799691</td>\n",
       "      <td>1</td>\n",
       "      <td>1</td>\n",
       "      <td>True</td>\n",
       "    </tr>\n",
       "    <tr>\n",
       "      <th>1408</th>\n",
       "      <td>0.837330</td>\n",
       "      <td>1</td>\n",
       "      <td>1</td>\n",
       "      <td>True</td>\n",
       "    </tr>\n",
       "  </tbody>\n",
       "</table>\n",
       "<p>1409 rows × 4 columns</p>\n",
       "</div>"
      ],
      "text/plain": [
       "      probability  prediction  actual  correct\n",
       "0        0.008999           0       0     True\n",
       "1        0.204357           0       0     True\n",
       "2        0.212037           0       0     True\n",
       "3        0.542996           1       1     True\n",
       "4        0.213615           0       0     True\n",
       "...           ...         ...     ...      ...\n",
       "1404     0.313509           0       0     True\n",
       "1405     0.039358           0       1    False\n",
       "1406     0.136387           0       0     True\n",
       "1407     0.799691           1       1     True\n",
       "1408     0.837330           1       1     True\n",
       "\n",
       "[1409 rows x 4 columns]"
      ]
     },
     "execution_count": 106,
     "metadata": {},
     "output_type": "execute_result"
    }
   ],
   "source": [
    "df_pred"
   ]
  },
  {
   "cell_type": "code",
   "execution_count": 108,
   "id": "f09ff386",
   "metadata": {},
   "outputs": [
    {
     "data": {
      "text/plain": [
       "0.8034066713981547"
      ]
     },
     "execution_count": 108,
     "metadata": {},
     "output_type": "execute_result"
    }
   ],
   "source": [
    "df_pred.correct.mean()"
   ]
  },
  {
   "cell_type": "markdown",
   "id": "46dc82e8",
   "metadata": {},
   "source": [
    "## 3.11 Model Explanation\n",
    "\n",
    "- Look at the coefficients\n",
    "- Train a smaller model with fewer features"
   ]
  },
  {
   "cell_type": "code",
   "execution_count": 135,
   "id": "e7c6c4b7",
   "metadata": {},
   "outputs": [
    {
     "name": "stderr",
     "output_type": "stream",
     "text": [
      "C:\\Users\\eddye\\anaconda3\\lib\\site-packages\\sklearn\\utils\\deprecation.py:87: FutureWarning: Function get_feature_names is deprecated; get_feature_names is deprecated in 1.0 and will be removed in 1.2. Please use get_feature_names_out instead.\n",
      "  warnings.warn(msg, category=FutureWarning)\n"
     ]
    },
    {
     "data": {
      "text/plain": [
       "{'contract=month-to-month': 0.474,\n",
       " 'contract=one_year': -0.175,\n",
       " 'contract=two_year': -0.407,\n",
       " 'dependents=no': -0.03,\n",
       " 'dependents=yes': -0.078,\n",
       " 'deviceprotection=no': 0.063,\n",
       " 'deviceprotection=no_internet_service': -0.089,\n",
       " 'deviceprotection=yes': -0.081,\n",
       " 'gender=female': -0.034,\n",
       " 'gender=male': -0.073,\n",
       " 'internetservice=dsl': -0.335,\n",
       " 'internetservice=fiber_optic': 0.316,\n",
       " 'internetservice=no': -0.089,\n",
       " 'monthlycharges': 0.004,\n",
       " 'multiplelines=no': -0.258,\n",
       " 'multiplelines=no_phone_service': 0.141,\n",
       " 'multiplelines=yes': 0.009,\n",
       " 'onlinebackup=no': 0.063,\n",
       " 'onlinebackup=no_internet_service': -0.089,\n",
       " 'onlinebackup=yes': -0.081,\n",
       " 'onlinesecurity=no': 0.266,\n",
       " 'onlinesecurity=no_internet_service': -0.089,\n",
       " 'onlinesecurity=yes': -0.284,\n",
       " 'paperlessbilling=no': -0.231,\n",
       " 'paperlessbilling=yes': 0.123,\n",
       " 'partner=no': -0.166,\n",
       " 'partner=yes': 0.058,\n",
       " 'paymentmethod=bank_transfer_(automatic)': -0.087,\n",
       " 'paymentmethod=credit_card_(automatic)': -0.032,\n",
       " 'paymentmethod=electronic_check': 0.07,\n",
       " 'paymentmethod=mailed_check': -0.059,\n",
       " 'phoneservice=no': 0.141,\n",
       " 'phoneservice=yes': -0.249,\n",
       " 'seniorcitizen': 0.215,\n",
       " 'streamingmovies=no': -0.12,\n",
       " 'streamingmovies=no_internet_service': -0.089,\n",
       " 'streamingmovies=yes': 0.102,\n",
       " 'streamingtv=no': -0.071,\n",
       " 'streamingtv=no_internet_service': -0.089,\n",
       " 'streamingtv=yes': 0.052,\n",
       " 'techsupport=no': 0.213,\n",
       " 'techsupport=no_internet_service': -0.089,\n",
       " 'techsupport=yes': -0.232,\n",
       " 'tenure': -0.07,\n",
       " 'totalcharges': 0.0}"
      ]
     },
     "execution_count": 135,
     "metadata": {},
     "output_type": "execute_result"
    }
   ],
   "source": [
    "dict(zip(dv.get_feature_names() , model.coef_[0].round(3)))"
   ]
  },
  {
   "cell_type": "code",
   "execution_count": 136,
   "id": "a7de0715",
   "metadata": {},
   "outputs": [
    {
     "data": {
      "text/plain": [
       "array([ 0.474, -0.175, -0.407, -0.03 , -0.078,  0.063, -0.089, -0.081,\n",
       "       -0.034, -0.073, -0.335,  0.316, -0.089,  0.004, -0.258,  0.141,\n",
       "        0.009,  0.063, -0.089, -0.081,  0.266, -0.089, -0.284, -0.231,\n",
       "        0.123, -0.166,  0.058, -0.087, -0.032,  0.07 , -0.059,  0.141,\n",
       "       -0.249,  0.215, -0.12 , -0.089,  0.102, -0.071, -0.089,  0.052,\n",
       "        0.213, -0.089, -0.232, -0.07 ,  0.   ])"
      ]
     },
     "execution_count": 136,
     "metadata": {},
     "output_type": "execute_result"
    }
   ],
   "source": [
    "model.coef_[0].round(3)"
   ]
  },
  {
   "cell_type": "code",
   "execution_count": 137,
   "id": "817d9441",
   "metadata": {},
   "outputs": [],
   "source": [
    "small = [\"contract\", \"tenure\", \"monthlycharges\"]"
   ]
  },
  {
   "cell_type": "code",
   "execution_count": 138,
   "id": "020ea944",
   "metadata": {},
   "outputs": [
    {
     "data": {
      "text/plain": [
       "[{'contract': 'two_year', 'tenure': 72, 'monthlycharges': 115.5},\n",
       " {'contract': 'month-to-month', 'tenure': 10, 'monthlycharges': 95.25},\n",
       " {'contract': 'month-to-month', 'tenure': 5, 'monthlycharges': 75.55},\n",
       " {'contract': 'month-to-month', 'tenure': 5, 'monthlycharges': 80.85},\n",
       " {'contract': 'two_year', 'tenure': 18, 'monthlycharges': 20.1},\n",
       " {'contract': 'month-to-month', 'tenure': 4, 'monthlycharges': 30.5},\n",
       " {'contract': 'month-to-month', 'tenure': 1, 'monthlycharges': 75.1},\n",
       " {'contract': 'month-to-month', 'tenure': 1, 'monthlycharges': 70.3},\n",
       " {'contract': 'two_year', 'tenure': 72, 'monthlycharges': 19.75},\n",
       " {'contract': 'month-to-month', 'tenure': 6, 'monthlycharges': 109.9}]"
      ]
     },
     "execution_count": 138,
     "metadata": {},
     "output_type": "execute_result"
    }
   ],
   "source": [
    "df_train[small].iloc[:10].to_dict(orient = 'records')"
   ]
  },
  {
   "cell_type": "code",
   "execution_count": 139,
   "id": "19a9c428",
   "metadata": {},
   "outputs": [],
   "source": [
    "dicts_train_small = df_train[small].to_dict(orient = 'records')\n",
    "dicts_val_small = df_val[small].to_dict(orient = 'records')"
   ]
  },
  {
   "cell_type": "code",
   "execution_count": 140,
   "id": "02aeb3d0",
   "metadata": {},
   "outputs": [
    {
     "data": {
      "text/plain": [
       "DictVectorizer(sparse=False)"
      ]
     },
     "execution_count": 140,
     "metadata": {},
     "output_type": "execute_result"
    }
   ],
   "source": [
    "dv_small = DictVectorizer(sparse=False)\n",
    "dv_small.fit(dicts_train_small)"
   ]
  },
  {
   "cell_type": "code",
   "execution_count": 141,
   "id": "bf25e42b",
   "metadata": {},
   "outputs": [
    {
     "name": "stderr",
     "output_type": "stream",
     "text": [
      "C:\\Users\\eddye\\anaconda3\\lib\\site-packages\\sklearn\\utils\\deprecation.py:87: FutureWarning: Function get_feature_names is deprecated; get_feature_names is deprecated in 1.0 and will be removed in 1.2. Please use get_feature_names_out instead.\n",
      "  warnings.warn(msg, category=FutureWarning)\n"
     ]
    },
    {
     "data": {
      "text/plain": [
       "['contract=month-to-month',\n",
       " 'contract=one_year',\n",
       " 'contract=two_year',\n",
       " 'monthlycharges',\n",
       " 'tenure']"
      ]
     },
     "execution_count": 141,
     "metadata": {},
     "output_type": "execute_result"
    }
   ],
   "source": [
    "dv_small.get_feature_names()"
   ]
  },
  {
   "cell_type": "code",
   "execution_count": 142,
   "id": "87fc7fda",
   "metadata": {},
   "outputs": [
    {
     "data": {
      "text/plain": [
       "[{'contract': 'two_year', 'tenure': 72, 'monthlycharges': 115.5},\n",
       " {'contract': 'month-to-month', 'tenure': 10, 'monthlycharges': 95.25},\n",
       " {'contract': 'month-to-month', 'tenure': 5, 'monthlycharges': 75.55},\n",
       " {'contract': 'month-to-month', 'tenure': 5, 'monthlycharges': 80.85},\n",
       " {'contract': 'two_year', 'tenure': 18, 'monthlycharges': 20.1},\n",
       " {'contract': 'month-to-month', 'tenure': 4, 'monthlycharges': 30.5},\n",
       " {'contract': 'month-to-month', 'tenure': 1, 'monthlycharges': 75.1},\n",
       " {'contract': 'month-to-month', 'tenure': 1, 'monthlycharges': 70.3},\n",
       " {'contract': 'two_year', 'tenure': 72, 'monthlycharges': 19.75},\n",
       " {'contract': 'month-to-month', 'tenure': 6, 'monthlycharges': 109.9},\n",
       " {'contract': 'two_year', 'tenure': 72, 'monthlycharges': 99.9},\n",
       " {'contract': 'month-to-month', 'tenure': 17, 'monthlycharges': 102.55},\n",
       " {'contract': 'two_year', 'tenure': 66, 'monthlycharges': 58.2},\n",
       " {'contract': 'month-to-month', 'tenure': 2, 'monthlycharges': 68.95},\n",
       " {'contract': 'month-to-month', 'tenure': 4, 'monthlycharges': 20.15},\n",
       " {'contract': 'month-to-month', 'tenure': 3, 'monthlycharges': 70.7},\n",
       " {'contract': 'two_year', 'tenure': 71, 'monthlycharges': 19.6},\n",
       " {'contract': 'month-to-month', 'tenure': 32, 'monthlycharges': 90.95},\n",
       " {'contract': 'one_year', 'tenure': 53, 'monthlycharges': 105.25},\n",
       " {'contract': 'two_year', 'tenure': 56, 'monthlycharges': 103.2},\n",
       " {'contract': 'month-to-month', 'tenure': 61, 'monthlycharges': 106.45},\n",
       " {'contract': 'one_year', 'tenure': 41, 'monthlycharges': 50.05},\n",
       " {'contract': 'month-to-month', 'tenure': 1, 'monthlycharges': 44.9},\n",
       " {'contract': 'two_year', 'tenure': 3, 'monthlycharges': 71.1},\n",
       " {'contract': 'month-to-month', 'tenure': 3, 'monthlycharges': 94.6},\n",
       " {'contract': 'two_year', 'tenure': 12, 'monthlycharges': 21.05},\n",
       " {'contract': 'month-to-month', 'tenure': 41, 'monthlycharges': 98.05},\n",
       " {'contract': 'month-to-month', 'tenure': 47, 'monthlycharges': 85.2},\n",
       " {'contract': 'month-to-month', 'tenure': 2, 'monthlycharges': 20.3},\n",
       " {'contract': 'one_year', 'tenure': 66, 'monthlycharges': 70.85},\n",
       " {'contract': 'month-to-month', 'tenure': 8, 'monthlycharges': 59.25},\n",
       " {'contract': 'month-to-month', 'tenure': 1, 'monthlycharges': 19.9},\n",
       " {'contract': 'one_year', 'tenure': 35, 'monthlycharges': 40.9},\n",
       " {'contract': 'one_year', 'tenure': 67, 'monthlycharges': 107.05},\n",
       " {'contract': 'month-to-month', 'tenure': 1, 'monthlycharges': 31.35},\n",
       " {'contract': 'one_year', 'tenure': 46, 'monthlycharges': 103.15},\n",
       " {'contract': 'one_year', 'tenure': 37, 'monthlycharges': 80.05},\n",
       " {'contract': 'two_year', 'tenure': 72, 'monthlycharges': 90.6},\n",
       " {'contract': 'month-to-month', 'tenure': 35, 'monthlycharges': 75.35},\n",
       " {'contract': 'month-to-month', 'tenure': 43, 'monthlycharges': 94.1},\n",
       " {'contract': 'month-to-month', 'tenure': 20, 'monthlycharges': 20.35},\n",
       " {'contract': 'month-to-month', 'tenure': 64, 'monthlycharges': 81.05},\n",
       " {'contract': 'month-to-month', 'tenure': 6, 'monthlycharges': 44.4},\n",
       " {'contract': 'month-to-month', 'tenure': 9, 'monthlycharges': 55.35},\n",
       " {'contract': 'month-to-month', 'tenure': 18, 'monthlycharges': 25.55},\n",
       " {'contract': 'one_year', 'tenure': 46, 'monthlycharges': 94.15},\n",
       " {'contract': 'month-to-month', 'tenure': 9, 'monthlycharges': 70.05},\n",
       " {'contract': 'two_year', 'tenure': 69, 'monthlycharges': 20.15},\n",
       " {'contract': 'month-to-month', 'tenure': 32, 'monthlycharges': 19.45},\n",
       " {'contract': 'two_year', 'tenure': 67, 'monthlycharges': 75.5},\n",
       " {'contract': 'two_year', 'tenure': 69, 'monthlycharges': 80.65},\n",
       " {'contract': 'month-to-month', 'tenure': 6, 'monthlycharges': 80.5},\n",
       " {'contract': 'one_year', 'tenure': 30, 'monthlycharges': 40.35},\n",
       " {'contract': 'month-to-month', 'tenure': 30, 'monthlycharges': 54.45},\n",
       " {'contract': 'one_year', 'tenure': 58, 'monthlycharges': 45.35},\n",
       " {'contract': 'month-to-month', 'tenure': 18, 'monthlycharges': 90.1},\n",
       " {'contract': 'month-to-month', 'tenure': 34, 'monthlycharges': 71.55},\n",
       " {'contract': 'one_year', 'tenure': 2, 'monthlycharges': 20.2},\n",
       " {'contract': 'two_year', 'tenure': 10, 'monthlycharges': 20.15},\n",
       " {'contract': 'two_year', 'tenure': 71, 'monthlycharges': 99.0},\n",
       " {'contract': 'two_year', 'tenure': 72, 'monthlycharges': 60.95},\n",
       " {'contract': 'two_year', 'tenure': 46, 'monthlycharges': 21.1},\n",
       " {'contract': 'month-to-month', 'tenure': 49, 'monthlycharges': 74.6},\n",
       " {'contract': 'two_year', 'tenure': 65, 'monthlycharges': 59.95},\n",
       " {'contract': 'month-to-month', 'tenure': 15, 'monthlycharges': 74.9},\n",
       " {'contract': 'one_year', 'tenure': 58, 'monthlycharges': 103.25},\n",
       " {'contract': 'one_year', 'tenure': 66, 'monthlycharges': 54.8},\n",
       " {'contract': 'two_year', 'tenure': 66, 'monthlycharges': 19.7},\n",
       " {'contract': 'one_year', 'tenure': 68, 'monthlycharges': 19.5},\n",
       " {'contract': 'one_year', 'tenure': 45, 'monthlycharges': 102.15},\n",
       " {'contract': 'month-to-month', 'tenure': 1, 'monthlycharges': 20.2},\n",
       " {'contract': 'month-to-month', 'tenure': 11, 'monthlycharges': 79.5},\n",
       " {'contract': 'month-to-month', 'tenure': 18, 'monthlycharges': 99.75},\n",
       " {'contract': 'two_year', 'tenure': 71, 'monthlycharges': 97.2},\n",
       " {'contract': 'month-to-month', 'tenure': 4, 'monthlycharges': 80.8},\n",
       " {'contract': 'month-to-month', 'tenure': 13, 'monthlycharges': 56.0},\n",
       " {'contract': 'two_year', 'tenure': 50, 'monthlycharges': 20.15},\n",
       " {'contract': 'month-to-month', 'tenure': 12, 'monthlycharges': 50.95},\n",
       " {'contract': 'month-to-month', 'tenure': 1, 'monthlycharges': 43.85},\n",
       " {'contract': 'one_year', 'tenure': 7, 'monthlycharges': 19.9},\n",
       " {'contract': 'one_year', 'tenure': 71, 'monthlycharges': 105.75},\n",
       " {'contract': 'month-to-month', 'tenure': 1, 'monthlycharges': 80.55},\n",
       " {'contract': 'month-to-month', 'tenure': 21, 'monthlycharges': 104.35},\n",
       " {'contract': 'month-to-month', 'tenure': 12, 'monthlycharges': 86.55},\n",
       " {'contract': 'month-to-month', 'tenure': 1, 'monthlycharges': 50.5},\n",
       " {'contract': 'month-to-month', 'tenure': 33, 'monthlycharges': 95.0},\n",
       " {'contract': 'month-to-month', 'tenure': 46, 'monthlycharges': 72.8},\n",
       " {'contract': 'one_year', 'tenure': 44, 'monthlycharges': 61.5},\n",
       " {'contract': 'two_year', 'tenure': 70, 'monthlycharges': 88.55},\n",
       " {'contract': 'one_year', 'tenure': 7, 'monthlycharges': 49.75},\n",
       " {'contract': 'month-to-month', 'tenure': 18, 'monthlycharges': 69.8},\n",
       " {'contract': 'one_year', 'tenure': 54, 'monthlycharges': 65.25},\n",
       " {'contract': 'month-to-month', 'tenure': 35, 'monthlycharges': 33.45},\n",
       " {'contract': 'month-to-month', 'tenure': 5, 'monthlycharges': 70.25},\n",
       " {'contract': 'month-to-month', 'tenure': 35, 'monthlycharges': 86.45},\n",
       " {'contract': 'one_year', 'tenure': 39, 'monthlycharges': 25.25},\n",
       " {'contract': 'month-to-month', 'tenure': 19, 'monthlycharges': 48.8},\n",
       " {'contract': 'month-to-month', 'tenure': 21, 'monthlycharges': 36.0},\n",
       " {'contract': 'one_year', 'tenure': 43, 'monthlycharges': 104.3},\n",
       " {'contract': 'month-to-month', 'tenure': 19, 'monthlycharges': 95.9},\n",
       " {'contract': 'two_year', 'tenure': 72, 'monthlycharges': 112.6},\n",
       " {'contract': 'month-to-month', 'tenure': 59, 'monthlycharges': 101.1},\n",
       " {'contract': 'two_year', 'tenure': 11, 'monthlycharges': 19.65},\n",
       " {'contract': 'month-to-month', 'tenure': 9, 'monthlycharges': 59.5},\n",
       " {'contract': 'two_year', 'tenure': 70, 'monthlycharges': 20.15},\n",
       " {'contract': 'month-to-month', 'tenure': 22, 'monthlycharges': 39.2},\n",
       " {'contract': 'two_year', 'tenure': 69, 'monthlycharges': 19.1},\n",
       " {'contract': 'month-to-month', 'tenure': 16, 'monthlycharges': 94.45},\n",
       " {'contract': 'one_year', 'tenure': 32, 'monthlycharges': 30.15},\n",
       " {'contract': 'two_year', 'tenure': 61, 'monthlycharges': 20.25},\n",
       " {'contract': 'month-to-month', 'tenure': 14, 'monthlycharges': 80.05},\n",
       " {'contract': 'month-to-month', 'tenure': 34, 'monthlycharges': 85.2},\n",
       " {'contract': 'two_year', 'tenure': 40, 'monthlycharges': 19.65},\n",
       " {'contract': 'month-to-month', 'tenure': 1, 'monthlycharges': 45.4},\n",
       " {'contract': 'two_year', 'tenure': 6, 'monthlycharges': 20.1},\n",
       " {'contract': 'month-to-month', 'tenure': 39, 'monthlycharges': 50.75},\n",
       " {'contract': 'two_year', 'tenure': 56, 'monthlycharges': 24.15},\n",
       " {'contract': 'one_year', 'tenure': 36, 'monthlycharges': 63.7},\n",
       " {'contract': 'one_year', 'tenure': 44, 'monthlycharges': 53.95},\n",
       " {'contract': 'month-to-month', 'tenure': 7, 'monthlycharges': 69.95},\n",
       " {'contract': 'month-to-month', 'tenure': 2, 'monthlycharges': 75.9},\n",
       " {'contract': 'two_year', 'tenure': 72, 'monthlycharges': 109.55},\n",
       " {'contract': 'month-to-month', 'tenure': 1, 'monthlycharges': 19.2},\n",
       " {'contract': 'month-to-month', 'tenure': 71, 'monthlycharges': 105.1},\n",
       " {'contract': 'month-to-month', 'tenure': 17, 'monthlycharges': 78.9},\n",
       " {'contract': 'one_year', 'tenure': 26, 'monthlycharges': 56.05},\n",
       " {'contract': 'month-to-month', 'tenure': 29, 'monthlycharges': 76.0},\n",
       " {'contract': 'two_year', 'tenure': 72, 'monthlycharges': 68.75},\n",
       " {'contract': 'month-to-month', 'tenure': 24, 'monthlycharges': 99.65},\n",
       " {'contract': 'two_year', 'tenure': 11, 'monthlycharges': 25.0},\n",
       " {'contract': 'one_year', 'tenure': 51, 'monthlycharges': 76.4},\n",
       " {'contract': 'month-to-month', 'tenure': 4, 'monthlycharges': 50.05},\n",
       " {'contract': 'month-to-month', 'tenure': 43, 'monthlycharges': 86.1},\n",
       " {'contract': 'month-to-month', 'tenure': 16, 'monthlycharges': 85.35},\n",
       " {'contract': 'month-to-month', 'tenure': 10, 'monthlycharges': 60.95},\n",
       " {'contract': 'one_year', 'tenure': 64, 'monthlycharges': 104.4},\n",
       " {'contract': 'month-to-month', 'tenure': 12, 'monthlycharges': 56.65},\n",
       " {'contract': 'month-to-month', 'tenure': 18, 'monthlycharges': 74.8},\n",
       " {'contract': 'one_year', 'tenure': 65, 'monthlycharges': 110.0},\n",
       " {'contract': 'month-to-month', 'tenure': 29, 'monthlycharges': 100.55},\n",
       " {'contract': 'month-to-month', 'tenure': 44, 'monthlycharges': 84.8},\n",
       " {'contract': 'month-to-month', 'tenure': 7, 'monthlycharges': 70.75},\n",
       " {'contract': 'month-to-month', 'tenure': 1, 'monthlycharges': 45.0},\n",
       " {'contract': 'month-to-month', 'tenure': 31, 'monthlycharges': 96.6},\n",
       " {'contract': 'one_year', 'tenure': 9, 'monthlycharges': 50.8},\n",
       " {'contract': 'month-to-month', 'tenure': 1, 'monthlycharges': 71.65},\n",
       " {'contract': 'two_year', 'tenure': 60, 'monthlycharges': 53.6},\n",
       " {'contract': 'one_year', 'tenure': 13, 'monthlycharges': 19.95},\n",
       " {'contract': 'month-to-month', 'tenure': 3, 'monthlycharges': 100.95},\n",
       " {'contract': 'month-to-month', 'tenure': 10, 'monthlycharges': 19.8},\n",
       " {'contract': 'month-to-month', 'tenure': 50, 'monthlycharges': 39.45},\n",
       " {'contract': 'two_year', 'tenure': 8, 'monthlycharges': 20.25},\n",
       " {'contract': 'month-to-month', 'tenure': 41, 'monthlycharges': 53.95},\n",
       " {'contract': 'month-to-month', 'tenure': 10, 'monthlycharges': 85.95},\n",
       " {'contract': 'one_year', 'tenure': 31, 'monthlycharges': 81.7},\n",
       " {'contract': 'month-to-month', 'tenure': 40, 'monthlycharges': 74.55},\n",
       " {'contract': 'month-to-month', 'tenure': 17, 'monthlycharges': 95.65},\n",
       " {'contract': 'month-to-month', 'tenure': 11, 'monthlycharges': 20.45},\n",
       " {'contract': 'month-to-month', 'tenure': 19, 'monthlycharges': 20.0},\n",
       " {'contract': 'month-to-month', 'tenure': 31, 'monthlycharges': 84.75},\n",
       " {'contract': 'month-to-month', 'tenure': 10, 'monthlycharges': 81.0},\n",
       " {'contract': 'month-to-month', 'tenure': 1, 'monthlycharges': 69.7},\n",
       " {'contract': 'month-to-month', 'tenure': 1, 'monthlycharges': 80.8},\n",
       " {'contract': 'one_year', 'tenure': 6, 'monthlycharges': 20.6},\n",
       " {'contract': 'month-to-month', 'tenure': 1, 'monthlycharges': 69.95},\n",
       " {'contract': 'one_year', 'tenure': 41, 'monthlycharges': 70.2},\n",
       " {'contract': 'two_year', 'tenure': 66, 'monthlycharges': 20.0},\n",
       " {'contract': 'month-to-month', 'tenure': 26, 'monthlycharges': 86.65},\n",
       " {'contract': 'one_year', 'tenure': 34, 'monthlycharges': 30.4},\n",
       " {'contract': 'two_year', 'tenure': 60, 'monthlycharges': 115.25},\n",
       " {'contract': 'month-to-month', 'tenure': 37, 'monthlycharges': 99.5},\n",
       " {'contract': 'one_year', 'tenure': 18, 'monthlycharges': 89.6},\n",
       " {'contract': 'one_year', 'tenure': 62, 'monthlycharges': 74.3},\n",
       " {'contract': 'two_year', 'tenure': 47, 'monthlycharges': 20.55},\n",
       " {'contract': 'one_year', 'tenure': 7, 'monthlycharges': 20.65},\n",
       " {'contract': 'month-to-month', 'tenure': 10, 'monthlycharges': 85.25},\n",
       " {'contract': 'month-to-month', 'tenure': 5, 'monthlycharges': 89.35},\n",
       " {'contract': 'month-to-month', 'tenure': 19, 'monthlycharges': 59.8},\n",
       " {'contract': 'one_year', 'tenure': 20, 'monthlycharges': 20.35},\n",
       " {'contract': 'two_year', 'tenure': 72, 'monthlycharges': 92.3},\n",
       " {'contract': 'month-to-month', 'tenure': 1, 'monthlycharges': 95.65},\n",
       " {'contract': 'one_year', 'tenure': 66, 'monthlycharges': 92.15},\n",
       " {'contract': 'month-to-month', 'tenure': 24, 'monthlycharges': 66.3},\n",
       " {'contract': 'one_year', 'tenure': 25, 'monthlycharges': 20.95},\n",
       " {'contract': 'month-to-month', 'tenure': 43, 'monthlycharges': 75.2},\n",
       " {'contract': 'month-to-month', 'tenure': 58, 'monthlycharges': 80.65},\n",
       " {'contract': 'month-to-month', 'tenure': 20, 'monthlycharges': 18.9},\n",
       " {'contract': 'one_year', 'tenure': 27, 'monthlycharges': 81.7},\n",
       " {'contract': 'month-to-month', 'tenure': 8, 'monthlycharges': 103.35},\n",
       " {'contract': 'month-to-month', 'tenure': 60, 'monthlycharges': 79.05},\n",
       " {'contract': 'one_year', 'tenure': 11, 'monthlycharges': 36.05},\n",
       " {'contract': 'month-to-month', 'tenure': 10, 'monthlycharges': 35.75},\n",
       " {'contract': 'two_year', 'tenure': 69, 'monthlycharges': 108.4},\n",
       " {'contract': 'two_year', 'tenure': 42, 'monthlycharges': 22.95},\n",
       " {'contract': 'one_year', 'tenure': 34, 'monthlycharges': 64.2},\n",
       " {'contract': 'one_year', 'tenure': 27, 'monthlycharges': 45.85},\n",
       " {'contract': 'month-to-month', 'tenure': 20, 'monthlycharges': 24.9},\n",
       " {'contract': 'two_year', 'tenure': 72, 'monthlycharges': 25.2},\n",
       " {'contract': 'month-to-month', 'tenure': 3, 'monthlycharges': 79.65},\n",
       " {'contract': 'month-to-month', 'tenure': 1, 'monthlycharges': 80.5},\n",
       " {'contract': 'two_year', 'tenure': 64, 'monthlycharges': 70.2},\n",
       " {'contract': 'one_year', 'tenure': 56, 'monthlycharges': 106.8},\n",
       " {'contract': 'month-to-month', 'tenure': 47, 'monthlycharges': 98.75},\n",
       " {'contract': 'two_year', 'tenure': 70, 'monthlycharges': 79.15},\n",
       " {'contract': 'two_year', 'tenure': 48, 'monthlycharges': 108.1},\n",
       " {'contract': 'month-to-month', 'tenure': 1, 'monthlycharges': 61.15},\n",
       " {'contract': 'month-to-month', 'tenure': 3, 'monthlycharges': 19.9},\n",
       " {'contract': 'month-to-month', 'tenure': 29, 'monthlycharges': 33.75},\n",
       " {'contract': 'month-to-month', 'tenure': 12, 'monthlycharges': 112.95},\n",
       " {'contract': 'month-to-month', 'tenure': 8, 'monthlycharges': 74.85},\n",
       " {'contract': 'month-to-month', 'tenure': 1, 'monthlycharges': 75.1},\n",
       " {'contract': 'two_year', 'tenure': 23, 'monthlycharges': 77.15},\n",
       " {'contract': 'month-to-month', 'tenure': 47, 'monthlycharges': 85.5},\n",
       " {'contract': 'month-to-month', 'tenure': 54, 'monthlycharges': 99.05},\n",
       " {'contract': 'one_year', 'tenure': 25, 'monthlycharges': 54.2},\n",
       " {'contract': 'month-to-month', 'tenure': 26, 'monthlycharges': 84.3},\n",
       " {'contract': 'two_year', 'tenure': 68, 'monthlycharges': 103.25},\n",
       " {'contract': 'one_year', 'tenure': 56, 'monthlycharges': 94.8},\n",
       " {'contract': 'one_year', 'tenure': 66, 'monthlycharges': 108.1},\n",
       " {'contract': 'month-to-month', 'tenure': 11, 'monthlycharges': 64.9},\n",
       " {'contract': 'one_year', 'tenure': 46, 'monthlycharges': 69.1},\n",
       " {'contract': 'month-to-month', 'tenure': 33, 'monthlycharges': 50.0},\n",
       " {'contract': 'month-to-month', 'tenure': 54, 'monthlycharges': 104.1},\n",
       " {'contract': 'two_year', 'tenure': 72, 'monthlycharges': 65.6},\n",
       " {'contract': 'month-to-month', 'tenure': 54, 'monthlycharges': 24.95},\n",
       " {'contract': 'month-to-month', 'tenure': 55, 'monthlycharges': 73.1},\n",
       " {'contract': 'one_year', 'tenure': 68, 'monthlycharges': 100.3},\n",
       " {'contract': 'two_year', 'tenure': 72, 'monthlycharges': 66.85},\n",
       " {'contract': 'two_year', 'tenure': 18, 'monthlycharges': 24.65},\n",
       " {'contract': 'month-to-month', 'tenure': 52, 'monthlycharges': 109.1},\n",
       " {'contract': 'one_year', 'tenure': 54, 'monthlycharges': 105.2},\n",
       " {'contract': 'one_year', 'tenure': 17, 'monthlycharges': 19.9},\n",
       " {'contract': 'one_year', 'tenure': 33, 'monthlycharges': 93.55},\n",
       " {'contract': 'one_year', 'tenure': 61, 'monthlycharges': 103.95},\n",
       " {'contract': 'month-to-month', 'tenure': 1, 'monthlycharges': 90.1},\n",
       " {'contract': 'two_year', 'tenure': 71, 'monthlycharges': 82.7},\n",
       " {'contract': 'two_year', 'tenure': 6, 'monthlycharges': 63.4},\n",
       " {'contract': 'two_year', 'tenure': 69, 'monthlycharges': 81.95},\n",
       " {'contract': 'month-to-month', 'tenure': 9, 'monthlycharges': 83.3},\n",
       " {'contract': 'month-to-month', 'tenure': 34, 'monthlycharges': 100.05},\n",
       " {'contract': 'two_year', 'tenure': 60, 'monthlycharges': 60.8},\n",
       " {'contract': 'one_year', 'tenure': 51, 'monthlycharges': 23.95},\n",
       " {'contract': 'two_year', 'tenure': 43, 'monthlycharges': 75.2},\n",
       " {'contract': 'one_year', 'tenure': 42, 'monthlycharges': 63.7},\n",
       " {'contract': 'month-to-month', 'tenure': 29, 'monthlycharges': 51.6},\n",
       " {'contract': 'month-to-month', 'tenure': 3, 'monthlycharges': 89.45},\n",
       " {'contract': 'one_year', 'tenure': 46, 'monthlycharges': 24.45},\n",
       " {'contract': 'month-to-month', 'tenure': 17, 'monthlycharges': 89.4},\n",
       " {'contract': 'one_year', 'tenure': 43, 'monthlycharges': 85.1},\n",
       " {'contract': 'month-to-month', 'tenure': 45, 'monthlycharges': 108.45},\n",
       " {'contract': 'two_year', 'tenure': 72, 'monthlycharges': 109.95},\n",
       " {'contract': 'month-to-month', 'tenure': 4, 'monthlycharges': 29.05},\n",
       " {'contract': 'month-to-month', 'tenure': 7, 'monthlycharges': 18.95},\n",
       " {'contract': 'month-to-month', 'tenure': 2, 'monthlycharges': 79.75},\n",
       " {'contract': 'month-to-month', 'tenure': 1, 'monthlycharges': 25.1},\n",
       " {'contract': 'month-to-month', 'tenure': 7, 'monthlycharges': 75.35},\n",
       " {'contract': 'month-to-month', 'tenure': 8, 'monthlycharges': 69.7},\n",
       " {'contract': 'month-to-month', 'tenure': 15, 'monthlycharges': 75.1},\n",
       " {'contract': 'month-to-month', 'tenure': 45, 'monthlycharges': 115.65},\n",
       " {'contract': 'month-to-month', 'tenure': 32, 'monthlycharges': 79.3},\n",
       " {'contract': 'one_year', 'tenure': 15, 'monthlycharges': 50.75},\n",
       " {'contract': 'one_year', 'tenure': 19, 'monthlycharges': 87.7},\n",
       " {'contract': 'month-to-month', 'tenure': 8, 'monthlycharges': 100.6},\n",
       " {'contract': 'month-to-month', 'tenure': 9, 'monthlycharges': 58.5},\n",
       " {'contract': 'month-to-month', 'tenure': 41, 'monthlycharges': 106.5},\n",
       " {'contract': 'month-to-month', 'tenure': 2, 'monthlycharges': 86.2},\n",
       " {'contract': 'month-to-month', 'tenure': 1, 'monthlycharges': 20.6},\n",
       " {'contract': 'one_year', 'tenure': 28, 'monthlycharges': 92.9},\n",
       " {'contract': 'month-to-month', 'tenure': 67, 'monthlycharges': 101.4},\n",
       " {'contract': 'two_year', 'tenure': 72, 'monthlycharges': 111.65},\n",
       " {'contract': 'two_year', 'tenure': 63, 'monthlycharges': 97.45},\n",
       " {'contract': 'two_year', 'tenure': 47, 'monthlycharges': 20.05},\n",
       " {'contract': 'two_year', 'tenure': 15, 'monthlycharges': 19.35},\n",
       " {'contract': 'month-to-month', 'tenure': 4, 'monthlycharges': 70.05},\n",
       " {'contract': 'month-to-month', 'tenure': 5, 'monthlycharges': 51.0},\n",
       " {'contract': 'month-to-month', 'tenure': 24, 'monthlycharges': 79.85},\n",
       " {'contract': 'month-to-month', 'tenure': 4, 'monthlycharges': 70.65},\n",
       " {'contract': 'month-to-month', 'tenure': 24, 'monthlycharges': 79.85},\n",
       " {'contract': 'one_year', 'tenure': 40, 'monthlycharges': 103.75},\n",
       " {'contract': 'month-to-month', 'tenure': 14, 'monthlycharges': 86.3},\n",
       " {'contract': 'month-to-month', 'tenure': 1, 'monthlycharges': 45.3},\n",
       " {'contract': 'month-to-month', 'tenure': 25, 'monthlycharges': 65.8},\n",
       " {'contract': 'month-to-month', 'tenure': 7, 'monthlycharges': 34.5},\n",
       " {'contract': 'month-to-month', 'tenure': 1, 'monthlycharges': 20.25},\n",
       " {'contract': 'two_year', 'tenure': 27, 'monthlycharges': 19.85},\n",
       " {'contract': 'month-to-month', 'tenure': 1, 'monthlycharges': 19.3},\n",
       " {'contract': 'month-to-month', 'tenure': 7, 'monthlycharges': 71.35},\n",
       " {'contract': 'two_year', 'tenure': 55, 'monthlycharges': 85.1},\n",
       " {'contract': 'month-to-month', 'tenure': 2, 'monthlycharges': 80.15},\n",
       " {'contract': 'month-to-month', 'tenure': 23, 'monthlycharges': 85.6},\n",
       " {'contract': 'two_year', 'tenure': 70, 'monthlycharges': 98.3},\n",
       " {'contract': 'month-to-month', 'tenure': 2, 'monthlycharges': 95.5},\n",
       " {'contract': 'two_year', 'tenure': 48, 'monthlycharges': 19.25},\n",
       " {'contract': 'month-to-month', 'tenure': 67, 'monthlycharges': 75.7},\n",
       " {'contract': 'one_year', 'tenure': 40, 'monthlycharges': 60.3},\n",
       " {'contract': 'one_year', 'tenure': 35, 'monthlycharges': 73.45},\n",
       " {'contract': 'one_year', 'tenure': 9, 'monthlycharges': 20.15},\n",
       " {'contract': 'two_year', 'tenure': 47, 'monthlycharges': 19.65},\n",
       " {'contract': 'one_year', 'tenure': 51, 'monthlycharges': 94.0},\n",
       " {'contract': 'month-to-month', 'tenure': 2, 'monthlycharges': 85.65},\n",
       " {'contract': 'one_year', 'tenure': 60, 'monthlycharges': 79.2},\n",
       " {'contract': 'month-to-month', 'tenure': 1, 'monthlycharges': 84.6},\n",
       " {'contract': 'month-to-month', 'tenure': 3, 'monthlycharges': 69.35},\n",
       " {'contract': 'month-to-month', 'tenure': 2, 'monthlycharges': 80.25},\n",
       " {'contract': 'month-to-month', 'tenure': 64, 'monthlycharges': 99.15},\n",
       " {'contract': 'month-to-month', 'tenure': 30, 'monthlycharges': 94.1},\n",
       " {'contract': 'month-to-month', 'tenure': 2, 'monthlycharges': 44.95},\n",
       " {'contract': 'month-to-month', 'tenure': 22, 'monthlycharges': 95.1},\n",
       " {'contract': 'month-to-month', 'tenure': 1, 'monthlycharges': 49.9},\n",
       " {'contract': 'month-to-month', 'tenure': 16, 'monthlycharges': 69.1},\n",
       " {'contract': 'two_year', 'tenure': 68, 'monthlycharges': 82.85},\n",
       " {'contract': 'month-to-month', 'tenure': 8, 'monthlycharges': 80.1},\n",
       " {'contract': 'one_year', 'tenure': 47, 'monthlycharges': 58.9},\n",
       " {'contract': 'two_year', 'tenure': 69, 'monthlycharges': 86.9},\n",
       " {'contract': 'month-to-month', 'tenure': 4, 'monthlycharges': 19.0},\n",
       " {'contract': 'month-to-month', 'tenure': 8, 'monthlycharges': 94.7},\n",
       " {'contract': 'month-to-month', 'tenure': 1, 'monthlycharges': 44.9},\n",
       " {'contract': 'two_year', 'tenure': 35, 'monthlycharges': 19.25},\n",
       " {'contract': 'two_year', 'tenure': 61, 'monthlycharges': 94.1},\n",
       " {'contract': 'month-to-month', 'tenure': 6, 'monthlycharges': 44.75},\n",
       " {'contract': 'one_year', 'tenure': 40, 'monthlycharges': 106.0},\n",
       " {'contract': 'month-to-month', 'tenure': 30, 'monthlycharges': 66.3},\n",
       " {'contract': 'one_year', 'tenure': 37, 'monthlycharges': 90.6},\n",
       " {'contract': 'month-to-month', 'tenure': 7, 'monthlycharges': 24.7},\n",
       " {'contract': 'one_year', 'tenure': 33, 'monthlycharges': 103.7},\n",
       " {'contract': 'month-to-month', 'tenure': 18, 'monthlycharges': 90.7},\n",
       " {'contract': 'month-to-month', 'tenure': 7, 'monthlycharges': 48.7},\n",
       " {'contract': 'two_year', 'tenure': 60, 'monthlycharges': 110.0},\n",
       " {'contract': 'month-to-month', 'tenure': 3, 'monthlycharges': 40.3},\n",
       " {'contract': 'month-to-month', 'tenure': 24, 'monthlycharges': 104.25},\n",
       " {'contract': 'month-to-month', 'tenure': 23, 'monthlycharges': 104.45},\n",
       " {'contract': 'month-to-month', 'tenure': 1, 'monthlycharges': 95.6},\n",
       " {'contract': 'month-to-month', 'tenure': 1, 'monthlycharges': 49.95},\n",
       " {'contract': 'month-to-month', 'tenure': 12, 'monthlycharges': 99.45},\n",
       " {'contract': 'month-to-month', 'tenure': 6, 'monthlycharges': 19.5},\n",
       " {'contract': 'month-to-month', 'tenure': 12, 'monthlycharges': 91.3},\n",
       " {'contract': 'month-to-month', 'tenure': 1, 'monthlycharges': 24.8},\n",
       " {'contract': 'month-to-month', 'tenure': 44, 'monthlycharges': 95.1},\n",
       " {'contract': 'two_year', 'tenure': 71, 'monthlycharges': 24.75},\n",
       " {'contract': 'month-to-month', 'tenure': 48, 'monthlycharges': 45.3},\n",
       " {'contract': 'month-to-month', 'tenure': 50, 'monthlycharges': 95.7},\n",
       " {'contract': 'one_year', 'tenure': 29, 'monthlycharges': 58.75},\n",
       " {'contract': 'month-to-month', 'tenure': 6, 'monthlycharges': 59.15},\n",
       " {'contract': 'month-to-month', 'tenure': 1, 'monthlycharges': 70.05},\n",
       " {'contract': 'month-to-month', 'tenure': 1, 'monthlycharges': 69.95},\n",
       " {'contract': 'one_year', 'tenure': 32, 'monthlycharges': 20.55},\n",
       " {'contract': 'month-to-month', 'tenure': 2, 'monthlycharges': 24.5},\n",
       " {'contract': 'two_year', 'tenure': 39, 'monthlycharges': 20.7},\n",
       " {'contract': 'two_year', 'tenure': 57, 'monthlycharges': 79.75},\n",
       " {'contract': 'month-to-month', 'tenure': 26, 'monthlycharges': 80.5},\n",
       " {'contract': 'one_year', 'tenure': 27, 'monthlycharges': 20.3},\n",
       " {'contract': 'one_year', 'tenure': 31, 'monthlycharges': 20.1},\n",
       " {'contract': 'month-to-month', 'tenure': 35, 'monthlycharges': 20.75},\n",
       " {'contract': 'month-to-month', 'tenure': 14, 'monthlycharges': 92.9},\n",
       " {'contract': 'two_year', 'tenure': 72, 'monthlycharges': 88.6},\n",
       " {'contract': 'month-to-month', 'tenure': 1, 'monthlycharges': 20.3},\n",
       " {'contract': 'one_year', 'tenure': 48, 'monthlycharges': 75.15},\n",
       " {'contract': 'month-to-month', 'tenure': 6, 'monthlycharges': 55.3},\n",
       " {'contract': 'month-to-month', 'tenure': 20, 'monthlycharges': 94.1},\n",
       " {'contract': 'month-to-month', 'tenure': 1, 'monthlycharges': 70.25},\n",
       " {'contract': 'two_year', 'tenure': 72, 'monthlycharges': 21.15},\n",
       " {'contract': 'one_year', 'tenure': 44, 'monthlycharges': 59.85},\n",
       " {'contract': 'two_year', 'tenure': 72, 'monthlycharges': 24.55},\n",
       " {'contract': 'month-to-month', 'tenure': 1, 'monthlycharges': 74.7},\n",
       " {'contract': 'month-to-month', 'tenure': 16, 'monthlycharges': 80.75},\n",
       " {'contract': 'month-to-month', 'tenure': 11, 'monthlycharges': 99.55},\n",
       " {'contract': 'two_year', 'tenure': 64, 'monthlycharges': 60.05},\n",
       " {'contract': 'one_year', 'tenure': 22, 'monthlycharges': 78.65},\n",
       " {'contract': 'month-to-month', 'tenure': 15, 'monthlycharges': 87.75},\n",
       " {'contract': 'two_year', 'tenure': 13, 'monthlycharges': 19.55},\n",
       " {'contract': 'one_year', 'tenure': 48, 'monthlycharges': 24.55},\n",
       " {'contract': 'month-to-month', 'tenure': 15, 'monthlycharges': 75.35},\n",
       " {'contract': 'month-to-month', 'tenure': 26, 'monthlycharges': 95.0},\n",
       " {'contract': 'month-to-month', 'tenure': 40, 'monthlycharges': 101.85},\n",
       " {'contract': 'one_year', 'tenure': 31, 'monthlycharges': 93.8},\n",
       " {'contract': 'two_year', 'tenure': 66, 'monthlycharges': 47.4},\n",
       " {'contract': 'two_year', 'tenure': 72, 'monthlycharges': 109.7},\n",
       " {'contract': 'two_year', 'tenure': 52, 'monthlycharges': 63.9},\n",
       " {'contract': 'month-to-month', 'tenure': 2, 'monthlycharges': 45.85},\n",
       " {'contract': 'two_year', 'tenure': 71, 'monthlycharges': 23.9},\n",
       " {'contract': 'one_year', 'tenure': 42, 'monthlycharges': 73.9},\n",
       " {'contract': 'two_year', 'tenure': 62, 'monthlycharges': 39.0},\n",
       " {'contract': 'month-to-month', 'tenure': 2, 'monthlycharges': 50.2},\n",
       " {'contract': 'month-to-month', 'tenure': 34, 'monthlycharges': 69.15},\n",
       " {'contract': 'month-to-month', 'tenure': 11, 'monthlycharges': 79.0},\n",
       " {'contract': 'one_year', 'tenure': 61, 'monthlycharges': 49.7},\n",
       " {'contract': 'month-to-month', 'tenure': 3, 'monthlycharges': 20.2},\n",
       " {'contract': 'month-to-month', 'tenure': 1, 'monthlycharges': 20.4},\n",
       " {'contract': 'one_year', 'tenure': 40, 'monthlycharges': 62.05},\n",
       " {'contract': 'two_year', 'tenure': 46, 'monthlycharges': 108.9},\n",
       " {'contract': 'month-to-month', 'tenure': 1, 'monthlycharges': 47.95},\n",
       " {'contract': 'month-to-month', 'tenure': 12, 'monthlycharges': 69.85},\n",
       " {'contract': 'two_year', 'tenure': 72, 'monthlycharges': 83.7},\n",
       " {'contract': 'one_year', 'tenure': 41, 'monthlycharges': 78.35},\n",
       " {'contract': 'one_year', 'tenure': 38, 'monthlycharges': 70.6},\n",
       " {'contract': 'month-to-month', 'tenure': 3, 'monthlycharges': 80.1},\n",
       " {'contract': 'month-to-month', 'tenure': 18, 'monthlycharges': 95.45},\n",
       " {'contract': 'month-to-month', 'tenure': 31, 'monthlycharges': 83.85},\n",
       " {'contract': 'two_year', 'tenure': 58, 'monthlycharges': 71.6},\n",
       " {'contract': 'month-to-month', 'tenure': 18, 'monthlycharges': 50.0},\n",
       " {'contract': 'month-to-month', 'tenure': 20, 'monthlycharges': 55.0},\n",
       " {'contract': 'month-to-month', 'tenure': 7, 'monthlycharges': 25.05},\n",
       " {'contract': 'month-to-month', 'tenure': 46, 'monthlycharges': 80.0},\n",
       " {'contract': 'month-to-month', 'tenure': 14, 'monthlycharges': 78.1},\n",
       " {'contract': 'month-to-month', 'tenure': 1, 'monthlycharges': 80.15},\n",
       " {'contract': 'one_year', 'tenure': 55, 'monthlycharges': 19.5},\n",
       " {'contract': 'month-to-month', 'tenure': 11, 'monthlycharges': 70.5},\n",
       " {'contract': 'month-to-month', 'tenure': 8, 'monthlycharges': 54.65},\n",
       " {'contract': 'month-to-month', 'tenure': 29, 'monthlycharges': 78.9},\n",
       " {'contract': 'two_year', 'tenure': 70, 'monthlycharges': 76.95},\n",
       " {'contract': 'one_year', 'tenure': 29, 'monthlycharges': 35.6},\n",
       " {'contract': 'one_year', 'tenure': 38, 'monthlycharges': 19.3},\n",
       " {'contract': 'two_year', 'tenure': 57, 'monthlycharges': 20.75},\n",
       " {'contract': 'one_year', 'tenure': 11, 'monthlycharges': 61.25},\n",
       " {'contract': 'month-to-month', 'tenure': 23, 'monthlycharges': 90.0},\n",
       " {'contract': 'month-to-month', 'tenure': 41, 'monthlycharges': 74.25},\n",
       " {'contract': 'month-to-month', 'tenure': 3, 'monthlycharges': 20.05},\n",
       " {'contract': 'month-to-month', 'tenure': 45, 'monthlycharges': 95.95},\n",
       " {'contract': 'two_year', 'tenure': 70, 'monthlycharges': 110.2},\n",
       " {'contract': 'month-to-month', 'tenure': 1, 'monthlycharges': 50.9},\n",
       " {'contract': 'month-to-month', 'tenure': 3, 'monthlycharges': 55.9},\n",
       " {'contract': 'two_year', 'tenure': 63, 'monthlycharges': 83.5},\n",
       " {'contract': 'month-to-month', 'tenure': 5, 'monthlycharges': 20.35},\n",
       " {'contract': 'one_year', 'tenure': 29, 'monthlycharges': 19.85},\n",
       " {'contract': 'two_year', 'tenure': 72, 'monthlycharges': 107.5},\n",
       " {'contract': 'two_year', 'tenure': 71, 'monthlycharges': 58.25},\n",
       " {'contract': 'two_year', 'tenure': 18, 'monthlycharges': 20.05},\n",
       " {'contract': 'two_year', 'tenure': 3, 'monthlycharges': 19.1},\n",
       " {'contract': 'month-to-month', 'tenure': 4, 'monthlycharges': 74.35},\n",
       " {'contract': 'month-to-month', 'tenure': 2, 'monthlycharges': 55.3},\n",
       " {'contract': 'two_year', 'tenure': 60, 'monthlycharges': 61.4},\n",
       " {'contract': 'two_year', 'tenure': 72, 'monthlycharges': 69.65},\n",
       " {'contract': 'two_year', 'tenure': 68, 'monthlycharges': 85.0},\n",
       " {'contract': 'two_year', 'tenure': 38, 'monthlycharges': 60.0},\n",
       " {'contract': 'two_year', 'tenure': 58, 'monthlycharges': 20.8},\n",
       " {'contract': 'month-to-month', 'tenure': 6, 'monthlycharges': 105.3},\n",
       " {'contract': 'one_year', 'tenure': 52, 'monthlycharges': 57.95},\n",
       " {'contract': 'month-to-month', 'tenure': 19, 'monthlycharges': 89.95},\n",
       " {'contract': 'month-to-month', 'tenure': 8, 'monthlycharges': 60.9},\n",
       " {'contract': 'month-to-month', 'tenure': 1, 'monthlycharges': 19.1},\n",
       " {'contract': 'one_year', 'tenure': 37, 'monthlycharges': 104.5},\n",
       " {'contract': 'month-to-month', 'tenure': 6, 'monthlycharges': 60.9},\n",
       " {'contract': 'month-to-month', 'tenure': 1, 'monthlycharges': 19.95},\n",
       " {'contract': 'month-to-month', 'tenure': 3, 'monthlycharges': 73.85},\n",
       " {'contract': 'month-to-month', 'tenure': 2, 'monthlycharges': 30.4},\n",
       " {'contract': 'one_year', 'tenure': 43, 'monthlycharges': 100.55},\n",
       " {'contract': 'one_year', 'tenure': 43, 'monthlycharges': 84.25},\n",
       " {'contract': 'month-to-month', 'tenure': 14, 'monthlycharges': 80.35},\n",
       " {'contract': 'month-to-month', 'tenure': 3, 'monthlycharges': 69.55},\n",
       " {'contract': 'month-to-month', 'tenure': 10, 'monthlycharges': 19.85},\n",
       " {'contract': 'month-to-month', 'tenure': 12, 'monthlycharges': 19.7},\n",
       " {'contract': 'month-to-month', 'tenure': 5, 'monthlycharges': 85.55},\n",
       " {'contract': 'month-to-month', 'tenure': 67, 'monthlycharges': 102.95},\n",
       " {'contract': 'month-to-month', 'tenure': 11, 'monthlycharges': 86.2},\n",
       " {'contract': 'two_year', 'tenure': 68, 'monthlycharges': 84.7},\n",
       " {'contract': 'month-to-month', 'tenure': 34, 'monthlycharges': 97.65},\n",
       " {'contract': 'month-to-month', 'tenure': 2, 'monthlycharges': 54.4},\n",
       " {'contract': 'month-to-month', 'tenure': 44, 'monthlycharges': 85.15},\n",
       " {'contract': 'two_year', 'tenure': 71, 'monthlycharges': 64.05},\n",
       " {'contract': 'month-to-month', 'tenure': 10, 'monthlycharges': 72.15},\n",
       " {'contract': 'one_year', 'tenure': 30, 'monthlycharges': 68.95},\n",
       " {'contract': 'two_year', 'tenure': 43, 'monthlycharges': 78.8},\n",
       " {'contract': 'one_year', 'tenure': 32, 'monthlycharges': 19.3},\n",
       " {'contract': 'month-to-month', 'tenure': 1, 'monthlycharges': 70.55},\n",
       " {'contract': 'month-to-month', 'tenure': 11, 'monthlycharges': 20.25},\n",
       " {'contract': 'month-to-month', 'tenure': 29, 'monthlycharges': 99.05},\n",
       " {'contract': 'two_year', 'tenure': 0, 'monthlycharges': 20.25},\n",
       " {'contract': 'one_year', 'tenure': 19, 'monthlycharges': 100.0},\n",
       " {'contract': 'month-to-month', 'tenure': 40, 'monthlycharges': 102.65},\n",
       " {'contract': 'one_year', 'tenure': 28, 'monthlycharges': 90.1},\n",
       " {'contract': 'month-to-month', 'tenure': 27, 'monthlycharges': 19.15},\n",
       " {'contract': 'two_year', 'tenure': 22, 'monthlycharges': 25.25},\n",
       " {'contract': 'one_year', 'tenure': 69, 'monthlycharges': 73.7},\n",
       " {'contract': 'two_year', 'tenure': 52, 'monthlycharges': 58.75},\n",
       " {'contract': 'month-to-month', 'tenure': 3, 'monthlycharges': 20.5},\n",
       " {'contract': 'month-to-month', 'tenure': 16, 'monthlycharges': 98.75},\n",
       " {'contract': 'month-to-month', 'tenure': 71, 'monthlycharges': 107.5},\n",
       " {'contract': 'two_year', 'tenure': 72, 'monthlycharges': 102.65},\n",
       " {'contract': 'two_year', 'tenure': 6, 'monthlycharges': 19.65},\n",
       " {'contract': 'two_year', 'tenure': 70, 'monthlycharges': 75.35},\n",
       " {'contract': 'month-to-month', 'tenure': 1, 'monthlycharges': 20.65},\n",
       " {'contract': 'month-to-month', 'tenure': 18, 'monthlycharges': 74.15},\n",
       " {'contract': 'month-to-month', 'tenure': 5, 'monthlycharges': 85.4},\n",
       " {'contract': 'month-to-month', 'tenure': 1, 'monthlycharges': 20.2},\n",
       " {'contract': 'month-to-month', 'tenure': 12, 'monthlycharges': 98.1},\n",
       " {'contract': 'two_year', 'tenure': 72, 'monthlycharges': 42.1},\n",
       " {'contract': 'month-to-month', 'tenure': 6, 'monthlycharges': 47.95},\n",
       " {'contract': 'month-to-month', 'tenure': 1, 'monthlycharges': 85.0},\n",
       " {'contract': 'month-to-month', 'tenure': 26, 'monthlycharges': 78.8},\n",
       " {'contract': 'month-to-month', 'tenure': 33, 'monthlycharges': 100.0},\n",
       " {'contract': 'month-to-month', 'tenure': 31, 'monthlycharges': 73.9},\n",
       " {'contract': 'one_year', 'tenure': 23, 'monthlycharges': 19.3},\n",
       " {'contract': 'month-to-month', 'tenure': 1, 'monthlycharges': 75.5},\n",
       " {'contract': 'month-to-month', 'tenure': 15, 'monthlycharges': 83.05},\n",
       " {'contract': 'month-to-month', 'tenure': 14, 'monthlycharges': 71.0},\n",
       " {'contract': 'one_year', 'tenure': 43, 'monthlycharges': 60.4},\n",
       " {'contract': 'two_year', 'tenure': 64, 'monthlycharges': 19.45},\n",
       " {'contract': 'month-to-month', 'tenure': 19, 'monthlycharges': 49.6},\n",
       " {'contract': 'month-to-month', 'tenure': 59, 'monthlycharges': 89.75},\n",
       " {'contract': 'month-to-month', 'tenure': 3, 'monthlycharges': 57.55},\n",
       " {'contract': 'month-to-month', 'tenure': 15, 'monthlycharges': 64.65},\n",
       " {'contract': 'month-to-month', 'tenure': 7, 'monthlycharges': 84.35},\n",
       " {'contract': 'month-to-month', 'tenure': 7, 'monthlycharges': 20.35},\n",
       " {'contract': 'month-to-month', 'tenure': 37, 'monthlycharges': 76.5},\n",
       " {'contract': 'month-to-month', 'tenure': 2, 'monthlycharges': 70.3},\n",
       " {'contract': 'month-to-month', 'tenure': 21, 'monthlycharges': 69.1},\n",
       " {'contract': 'month-to-month', 'tenure': 19, 'monthlycharges': 88.8},\n",
       " {'contract': 'one_year', 'tenure': 66, 'monthlycharges': 63.85},\n",
       " {'contract': 'month-to-month', 'tenure': 4, 'monthlycharges': 60.4},\n",
       " {'contract': 'two_year', 'tenure': 69, 'monthlycharges': 109.95},\n",
       " {'contract': 'month-to-month', 'tenure': 8, 'monthlycharges': 100.15},\n",
       " {'contract': 'two_year', 'tenure': 69, 'monthlycharges': 112.55},\n",
       " {'contract': 'month-to-month', 'tenure': 2, 'monthlycharges': 50.3},\n",
       " {'contract': 'month-to-month', 'tenure': 1, 'monthlycharges': 45.95},\n",
       " {'contract': 'two_year', 'tenure': 55, 'monthlycharges': 59.2},\n",
       " {'contract': 'one_year', 'tenure': 18, 'monthlycharges': 20.1},\n",
       " {'contract': 'one_year', 'tenure': 64, 'monthlycharges': 58.35},\n",
       " {'contract': 'month-to-month', 'tenure': 6, 'monthlycharges': 55.0},\n",
       " {'contract': 'two_year', 'tenure': 69, 'monthlycharges': 99.15},\n",
       " {'contract': 'one_year', 'tenure': 40, 'monthlycharges': 70.75},\n",
       " {'contract': 'month-to-month', 'tenure': 30, 'monthlycharges': 90.05},\n",
       " {'contract': 'two_year', 'tenure': 72, 'monthlycharges': 64.8},\n",
       " {'contract': 'two_year', 'tenure': 25, 'monthlycharges': 20.1},\n",
       " {'contract': 'two_year', 'tenure': 50, 'monthlycharges': 109.65},\n",
       " {'contract': 'month-to-month', 'tenure': 5, 'monthlycharges': 80.15},\n",
       " {'contract': 'month-to-month', 'tenure': 30, 'monthlycharges': 101.3},\n",
       " {'contract': 'two_year', 'tenure': 41, 'monthlycharges': 20.65},\n",
       " {'contract': 'month-to-month', 'tenure': 56, 'monthlycharges': 105.35},\n",
       " {'contract': 'one_year', 'tenure': 70, 'monthlycharges': 58.4},\n",
       " {'contract': 'month-to-month', 'tenure': 7, 'monthlycharges': 20.65},\n",
       " {'contract': 'month-to-month', 'tenure': 1, 'monthlycharges': 20.3},\n",
       " {'contract': 'one_year', 'tenure': 38, 'monthlycharges': 84.1},\n",
       " {'contract': 'month-to-month', 'tenure': 23, 'monthlycharges': 79.15},\n",
       " {'contract': 'two_year', 'tenure': 72, 'monthlycharges': 25.1},\n",
       " {'contract': 'month-to-month', 'tenure': 5, 'monthlycharges': 75.15},\n",
       " {'contract': 'month-to-month', 'tenure': 20, 'monthlycharges': 80.7},\n",
       " {'contract': 'month-to-month', 'tenure': 9, 'monthlycharges': 85.05},\n",
       " {'contract': 'month-to-month', 'tenure': 29, 'monthlycharges': 74.95},\n",
       " {'contract': 'month-to-month', 'tenure': 11, 'monthlycharges': 59.65},\n",
       " {'contract': 'month-to-month', 'tenure': 51, 'monthlycharges': 80.75},\n",
       " {'contract': 'month-to-month', 'tenure': 2, 'monthlycharges': 44.9},\n",
       " {'contract': 'month-to-month', 'tenure': 39, 'monthlycharges': 99.75},\n",
       " {'contract': 'month-to-month', 'tenure': 26, 'monthlycharges': 49.5},\n",
       " {'contract': 'month-to-month', 'tenure': 6, 'monthlycharges': 19.7},\n",
       " {'contract': 'two_year', 'tenure': 57, 'monthlycharges': 59.75},\n",
       " {'contract': 'month-to-month', 'tenure': 4, 'monthlycharges': 100.2},\n",
       " {'contract': 'month-to-month', 'tenure': 3, 'monthlycharges': 29.6},\n",
       " {'contract': 'one_year', 'tenure': 28, 'monthlycharges': 100.35},\n",
       " {'contract': 'one_year', 'tenure': 32, 'monthlycharges': 70.5},\n",
       " {'contract': 'one_year', 'tenure': 36, 'monthlycharges': 20.35},\n",
       " {'contract': 'month-to-month', 'tenure': 27, 'monthlycharges': 50.35},\n",
       " {'contract': 'month-to-month', 'tenure': 3, 'monthlycharges': 69.15},\n",
       " {'contract': 'two_year', 'tenure': 62, 'monthlycharges': 84.5},\n",
       " {'contract': 'one_year', 'tenure': 49, 'monthlycharges': 20.45},\n",
       " {'contract': 'month-to-month', 'tenure': 19, 'monthlycharges': 59.55},\n",
       " {'contract': 'month-to-month', 'tenure': 5, 'monthlycharges': 45.4},\n",
       " {'contract': 'month-to-month', 'tenure': 1, 'monthlycharges': 89.35},\n",
       " {'contract': 'month-to-month', 'tenure': 3, 'monthlycharges': 23.6},\n",
       " {'contract': 'month-to-month', 'tenure': 10, 'monthlycharges': 20.55},\n",
       " {'contract': 'one_year', 'tenure': 33, 'monthlycharges': 79.15},\n",
       " {'contract': 'month-to-month', 'tenure': 14, 'monthlycharges': 25.55},\n",
       " {'contract': 'month-to-month', 'tenure': 61, 'monthlycharges': 82.15},\n",
       " {'contract': 'month-to-month', 'tenure': 1, 'monthlycharges': 25.0},\n",
       " {'contract': 'month-to-month', 'tenure': 1, 'monthlycharges': 55.7},\n",
       " {'contract': 'month-to-month', 'tenure': 18, 'monthlycharges': 75.9},\n",
       " {'contract': 'month-to-month', 'tenure': 60, 'monthlycharges': 99.8},\n",
       " {'contract': 'month-to-month', 'tenure': 7, 'monthlycharges': 85.2},\n",
       " {'contract': 'one_year', 'tenure': 15, 'monthlycharges': 20.1},\n",
       " {'contract': 'month-to-month', 'tenure': 1, 'monthlycharges': 24.4},\n",
       " {'contract': 'one_year', 'tenure': 17, 'monthlycharges': 44.45},\n",
       " {'contract': 'two_year', 'tenure': 72, 'monthlycharges': 83.3},\n",
       " {'contract': 'month-to-month', 'tenure': 39, 'monthlycharges': 81.5},\n",
       " {'contract': 'month-to-month', 'tenure': 7, 'monthlycharges': 94.7},\n",
       " {'contract': 'one_year', 'tenure': 30, 'monthlycharges': 85.35},\n",
       " {'contract': 'month-to-month', 'tenure': 32, 'monthlycharges': 69.75},\n",
       " {'contract': 'two_year', 'tenure': 58, 'monthlycharges': 70.1},\n",
       " {'contract': 'one_year', 'tenure': 68, 'monthlycharges': 75.8},\n",
       " {'contract': 'two_year', 'tenure': 64, 'monthlycharges': 68.3},\n",
       " {'contract': 'two_year', 'tenure': 35, 'monthlycharges': 69.15},\n",
       " {'contract': 'two_year', 'tenure': 72, 'monthlycharges': 65.65},\n",
       " {'contract': 'two_year', 'tenure': 72, 'monthlycharges': 91.15},\n",
       " {'contract': 'month-to-month', 'tenure': 2, 'monthlycharges': 74.4},\n",
       " {'contract': 'two_year', 'tenure': 66, 'monthlycharges': 56.75},\n",
       " {'contract': 'two_year', 'tenure': 65, 'monthlycharges': 74.8},\n",
       " {'contract': 'one_year', 'tenure': 61, 'monthlycharges': 115.1},\n",
       " {'contract': 'month-to-month', 'tenure': 17, 'monthlycharges': 83.55},\n",
       " {'contract': 'month-to-month', 'tenure': 1, 'monthlycharges': 25.75},\n",
       " {'contract': 'one_year', 'tenure': 38, 'monthlycharges': 24.25},\n",
       " {'contract': 'month-to-month', 'tenure': 22, 'monthlycharges': 55.1},\n",
       " {'contract': 'month-to-month', 'tenure': 1, 'monthlycharges': 25.3},\n",
       " {'contract': 'month-to-month', 'tenure': 21, 'monthlycharges': 44.95},\n",
       " {'contract': 'one_year', 'tenure': 68, 'monthlycharges': 76.9},\n",
       " {'contract': 'month-to-month', 'tenure': 39, 'monthlycharges': 50.65},\n",
       " {'contract': 'month-to-month', 'tenure': 35, 'monthlycharges': 55.0},\n",
       " {'contract': 'two_year', 'tenure': 52, 'monthlycharges': 66.25},\n",
       " {'contract': 'two_year', 'tenure': 71, 'monthlycharges': 104.15},\n",
       " {'contract': 'month-to-month', 'tenure': 1, 'monthlycharges': 59.2},\n",
       " {'contract': 'month-to-month', 'tenure': 43, 'monthlycharges': 103.0},\n",
       " {'contract': 'one_year', 'tenure': 72, 'monthlycharges': 104.45},\n",
       " {'contract': 'two_year', 'tenure': 8, 'monthlycharges': 19.85},\n",
       " {'contract': 'one_year', 'tenure': 34, 'monthlycharges': 99.85},\n",
       " {'contract': 'month-to-month', 'tenure': 1, 'monthlycharges': 20.0},\n",
       " {'contract': 'two_year', 'tenure': 72, 'monthlycharges': 108.3},\n",
       " {'contract': 'one_year', 'tenure': 11, 'monthlycharges': 64.9},\n",
       " {'contract': 'one_year', 'tenure': 16, 'monthlycharges': 55.85},\n",
       " {'contract': 'month-to-month', 'tenure': 45, 'monthlycharges': 100.85},\n",
       " {'contract': 'month-to-month', 'tenure': 16, 'monthlycharges': 89.05},\n",
       " {'contract': 'month-to-month', 'tenure': 37, 'monthlycharges': 72.25},\n",
       " {'contract': 'month-to-month', 'tenure': 16, 'monthlycharges': 20.6},\n",
       " {'contract': 'one_year', 'tenure': 25, 'monthlycharges': 19.9},\n",
       " {'contract': 'one_year', 'tenure': 10, 'monthlycharges': 49.55},\n",
       " {'contract': 'one_year', 'tenure': 26, 'monthlycharges': 61.55},\n",
       " {'contract': 'month-to-month', 'tenure': 42, 'monthlycharges': 101.75},\n",
       " {'contract': 'two_year', 'tenure': 45, 'monthlycharges': 24.45},\n",
       " {'contract': 'month-to-month', 'tenure': 47, 'monthlycharges': 106.4},\n",
       " {'contract': 'one_year', 'tenure': 40, 'monthlycharges': 105.75},\n",
       " {'contract': 'month-to-month', 'tenure': 17, 'monthlycharges': 82.65},\n",
       " {'contract': 'month-to-month', 'tenure': 2, 'monthlycharges': 24.45},\n",
       " {'contract': 'one_year', 'tenure': 23, 'monthlycharges': 81.85},\n",
       " {'contract': 'two_year', 'tenure': 53, 'monthlycharges': 19.85},\n",
       " {'contract': 'month-to-month', 'tenure': 5, 'monthlycharges': 80.1},\n",
       " {'contract': 'two_year', 'tenure': 72, 'monthlycharges': 73.0},\n",
       " {'contract': 'one_year', 'tenure': 44, 'monthlycharges': 94.4},\n",
       " {'contract': 'month-to-month', 'tenure': 16, 'monthlycharges': 19.6},\n",
       " {'contract': 'two_year', 'tenure': 71, 'monthlycharges': 114.6},\n",
       " {'contract': 'two_year', 'tenure': 63, 'monthlycharges': 75.55},\n",
       " {'contract': 'two_year', 'tenure': 70, 'monthlycharges': 25.15},\n",
       " {'contract': 'month-to-month', 'tenure': 19, 'monthlycharges': 105.0},\n",
       " {'contract': 'two_year', 'tenure': 58, 'monthlycharges': 109.45},\n",
       " {'contract': 'month-to-month', 'tenure': 41, 'monthlycharges': 94.55},\n",
       " {'contract': 'month-to-month', 'tenure': 9, 'monthlycharges': 70.05},\n",
       " {'contract': 'one_year', 'tenure': 44, 'monthlycharges': 54.3},\n",
       " {'contract': 'two_year', 'tenure': 72, 'monthlycharges': 89.85},\n",
       " {'contract': 'two_year', 'tenure': 62, 'monthlycharges': 113.95},\n",
       " {'contract': 'one_year', 'tenure': 41, 'monthlycharges': 89.55},\n",
       " {'contract': 'month-to-month', 'tenure': 43, 'monthlycharges': 50.2},\n",
       " {'contract': 'month-to-month', 'tenure': 20, 'monthlycharges': 25.55},\n",
       " {'contract': 'month-to-month', 'tenure': 8, 'monthlycharges': 45.45},\n",
       " {'contract': 'one_year', 'tenure': 60, 'monthlycharges': 44.45},\n",
       " {'contract': 'one_year', 'tenure': 35, 'monthlycharges': 21.1},\n",
       " {'contract': 'one_year', 'tenure': 45, 'monthlycharges': 51.0},\n",
       " {'contract': 'month-to-month', 'tenure': 2, 'monthlycharges': 75.55},\n",
       " {'contract': 'two_year', 'tenure': 66, 'monthlycharges': 105.65},\n",
       " {'contract': 'month-to-month', 'tenure': 3, 'monthlycharges': 74.55},\n",
       " {'contract': 'one_year', 'tenure': 60, 'monthlycharges': 50.05},\n",
       " {'contract': 'month-to-month', 'tenure': 10, 'monthlycharges': 65.5},\n",
       " {'contract': 'month-to-month', 'tenure': 50, 'monthlycharges': 104.95},\n",
       " {'contract': 'month-to-month', 'tenure': 19, 'monthlycharges': 83.65},\n",
       " {'contract': 'one_year', 'tenure': 64, 'monthlycharges': 108.5},\n",
       " {'contract': 'month-to-month', 'tenure': 7, 'monthlycharges': 69.15},\n",
       " {'contract': 'two_year', 'tenure': 51, 'monthlycharges': 34.2},\n",
       " {'contract': 'one_year', 'tenure': 37, 'monthlycharges': 99.2},\n",
       " {'contract': 'month-to-month', 'tenure': 10, 'monthlycharges': 84.7},\n",
       " {'contract': 'two_year', 'tenure': 70, 'monthlycharges': 114.6},\n",
       " {'contract': 'month-to-month', 'tenure': 5, 'monthlycharges': 88.9},\n",
       " {'contract': 'month-to-month', 'tenure': 64, 'monthlycharges': 108.95},\n",
       " {'contract': 'one_year', 'tenure': 62, 'monthlycharges': 103.75},\n",
       " {'contract': 'month-to-month', 'tenure': 1, 'monthlycharges': 88.35},\n",
       " {'contract': 'one_year', 'tenure': 20, 'monthlycharges': 20.0},\n",
       " {'contract': 'two_year', 'tenure': 72, 'monthlycharges': 99.15},\n",
       " {'contract': 'month-to-month', 'tenure': 2, 'monthlycharges': 19.65},\n",
       " {'contract': 'month-to-month', 'tenure': 66, 'monthlycharges': 105.2},\n",
       " {'contract': 'month-to-month', 'tenure': 19, 'monthlycharges': 55.0},\n",
       " {'contract': 'month-to-month', 'tenure': 1, 'monthlycharges': 44.35},\n",
       " {'contract': 'one_year', 'tenure': 24, 'monthlycharges': 57.6},\n",
       " {'contract': 'month-to-month', 'tenure': 16, 'monthlycharges': 88.45},\n",
       " {'contract': 'month-to-month', 'tenure': 6, 'monthlycharges': 55.15},\n",
       " {'contract': 'month-to-month', 'tenure': 15, 'monthlycharges': 101.1},\n",
       " {'contract': 'two_year', 'tenure': 72, 'monthlycharges': 110.6},\n",
       " {'contract': 'two_year', 'tenure': 70, 'monthlycharges': 19.8},\n",
       " {'contract': 'month-to-month', 'tenure': 2, 'monthlycharges': 93.85},\n",
       " {'contract': 'month-to-month', 'tenure': 15, 'monthlycharges': 46.3},\n",
       " {'contract': 'one_year', 'tenure': 33, 'monthlycharges': 20.1},\n",
       " {'contract': 'month-to-month', 'tenure': 14, 'monthlycharges': 90.9},\n",
       " {'contract': 'month-to-month', 'tenure': 23, 'monthlycharges': 79.35},\n",
       " {'contract': 'month-to-month', 'tenure': 9, 'monthlycharges': 20.15},\n",
       " {'contract': 'one_year', 'tenure': 60, 'monthlycharges': 106.0},\n",
       " {'contract': 'one_year', 'tenure': 32, 'monthlycharges': 109.55},\n",
       " {'contract': 'month-to-month', 'tenure': 23, 'monthlycharges': 49.7},\n",
       " {'contract': 'one_year', 'tenure': 50, 'monthlycharges': 19.35},\n",
       " {'contract': 'two_year', 'tenure': 72, 'monthlycharges': 86.6},\n",
       " {'contract': 'month-to-month', 'tenure': 9, 'monthlycharges': 79.9},\n",
       " {'contract': 'month-to-month', 'tenure': 3, 'monthlycharges': 77.0},\n",
       " {'contract': 'two_year', 'tenure': 72, 'monthlycharges': 66.75},\n",
       " {'contract': 'month-to-month', 'tenure': 11, 'monthlycharges': 51.0},\n",
       " {'contract': 'one_year', 'tenure': 39, 'monthlycharges': 89.55},\n",
       " {'contract': 'month-to-month', 'tenure': 3, 'monthlycharges': 79.1},\n",
       " {'contract': 'month-to-month', 'tenure': 1, 'monthlycharges': 75.3},\n",
       " {'contract': 'month-to-month', 'tenure': 4, 'monthlycharges': 81.0},\n",
       " {'contract': 'month-to-month', 'tenure': 2, 'monthlycharges': 45.35},\n",
       " {'contract': 'two_year', 'tenure': 66, 'monthlycharges': 25.3},\n",
       " {'contract': 'two_year', 'tenure': 72, 'monthlycharges': 24.45},\n",
       " {'contract': 'month-to-month', 'tenure': 7, 'monthlycharges': 86.5},\n",
       " {'contract': 'month-to-month', 'tenure': 17, 'monthlycharges': 35.65},\n",
       " {'contract': 'month-to-month', 'tenure': 31, 'monthlycharges': 93.8},\n",
       " {'contract': 'one_year', 'tenure': 46, 'monthlycharges': 24.95},\n",
       " {'contract': 'month-to-month', 'tenure': 2, 'monthlycharges': 72.6},\n",
       " {'contract': 'month-to-month', 'tenure': 4, 'monthlycharges': 20.45},\n",
       " {'contract': 'month-to-month', 'tenure': 2, 'monthlycharges': 70.35},\n",
       " {'contract': 'month-to-month', 'tenure': 41, 'monthlycharges': 113.2},\n",
       " {'contract': 'month-to-month', 'tenure': 13, 'monthlycharges': 94.1},\n",
       " {'contract': 'month-to-month', 'tenure': 60, 'monthlycharges': 80.95},\n",
       " {'contract': 'month-to-month', 'tenure': 2, 'monthlycharges': 80.75},\n",
       " {'contract': 'month-to-month', 'tenure': 1, 'monthlycharges': 86.6},\n",
       " {'contract': 'month-to-month', 'tenure': 1, 'monthlycharges': 24.05},\n",
       " {'contract': 'month-to-month', 'tenure': 27, 'monthlycharges': 95.55},\n",
       " {'contract': 'one_year', 'tenure': 32, 'monthlycharges': 19.8},\n",
       " {'contract': 'one_year', 'tenure': 2, 'monthlycharges': 20.3},\n",
       " {'contract': 'one_year', 'tenure': 16, 'monthlycharges': 20.1},\n",
       " {'contract': 'one_year', 'tenure': 52, 'monthlycharges': 64.3},\n",
       " {'contract': 'month-to-month', 'tenure': 1, 'monthlycharges': 70.5},\n",
       " {'contract': 'two_year', 'tenure': 72, 'monthlycharges': 116.95},\n",
       " {'contract': 'month-to-month', 'tenure': 20, 'monthlycharges': 69.8},\n",
       " {'contract': 'month-to-month', 'tenure': 23, 'monthlycharges': 90.6},\n",
       " {'contract': 'one_year', 'tenure': 23, 'monthlycharges': 64.9},\n",
       " {'contract': 'month-to-month', 'tenure': 15, 'monthlycharges': 99.1},\n",
       " {'contract': 'month-to-month', 'tenure': 52, 'monthlycharges': 83.8},\n",
       " {'contract': 'two_year', 'tenure': 72, 'monthlycharges': 19.55},\n",
       " {'contract': 'two_year', 'tenure': 16, 'monthlycharges': 19.75},\n",
       " {'contract': 'month-to-month', 'tenure': 49, 'monthlycharges': 93.85},\n",
       " {'contract': 'two_year', 'tenure': 35, 'monthlycharges': 20.2},\n",
       " {'contract': 'one_year', 'tenure': 13, 'monthlycharges': 24.5},\n",
       " {'contract': 'two_year', 'tenure': 29, 'monthlycharges': 26.1},\n",
       " {'contract': 'month-to-month', 'tenure': 58, 'monthlycharges': 66.8},\n",
       " {'contract': 'month-to-month', 'tenure': 9, 'monthlycharges': 66.25},\n",
       " {'contract': 'month-to-month', 'tenure': 1, 'monthlycharges': 44.1},\n",
       " {'contract': 'month-to-month', 'tenure': 2, 'monthlycharges': 91.45},\n",
       " {'contract': 'month-to-month', 'tenure': 49, 'monthlycharges': 90.85},\n",
       " {'contract': 'month-to-month', 'tenure': 26, 'monthlycharges': 93.6},\n",
       " {'contract': 'month-to-month', 'tenure': 1, 'monthlycharges': 55.45},\n",
       " {'contract': 'month-to-month', 'tenure': 10, 'monthlycharges': 75.75},\n",
       " {'contract': 'month-to-month', 'tenure': 2, 'monthlycharges': 20.3},\n",
       " {'contract': 'one_year', 'tenure': 49, 'monthlycharges': 103.0},\n",
       " {'contract': 'one_year', 'tenure': 39, 'monthlycharges': 81.9},\n",
       " {'contract': 'two_year', 'tenure': 70, 'monthlycharges': 104.0},\n",
       " {'contract': 'one_year', 'tenure': 28, 'monthlycharges': 54.4},\n",
       " {'contract': 'one_year', 'tenure': 62, 'monthlycharges': 110.8},\n",
       " {'contract': 'one_year', 'tenure': 71, 'monthlycharges': 85.45},\n",
       " {'contract': 'one_year', 'tenure': 53, 'monthlycharges': 94.45},\n",
       " {'contract': 'month-to-month', 'tenure': 4, 'monthlycharges': 74.65},\n",
       " {'contract': 'two_year', 'tenure': 72, 'monthlycharges': 82.65},\n",
       " {'contract': 'month-to-month', 'tenure': 1, 'monthlycharges': 74.35},\n",
       " {'contract': 'month-to-month', 'tenure': 47, 'monthlycharges': 90.05},\n",
       " {'contract': 'one_year', 'tenure': 43, 'monthlycharges': 80.2},\n",
       " {'contract': 'month-to-month', 'tenure': 7, 'monthlycharges': 25.05},\n",
       " {'contract': 'two_year', 'tenure': 56, 'monthlycharges': 85.65},\n",
       " {'contract': 'month-to-month', 'tenure': 11, 'monthlycharges': 111.4},\n",
       " {'contract': 'one_year', 'tenure': 29, 'monthlycharges': 39.5},\n",
       " {'contract': 'one_year', 'tenure': 22, 'monthlycharges': 69.5},\n",
       " {'contract': 'one_year', 'tenure': 23, 'monthlycharges': 73.75},\n",
       " {'contract': 'month-to-month', 'tenure': 13, 'monthlycharges': 80.5},\n",
       " {'contract': 'two_year', 'tenure': 64, 'monthlycharges': 86.55},\n",
       " {'contract': 'month-to-month', 'tenure': 62, 'monthlycharges': 90.7},\n",
       " {'contract': 'one_year', 'tenure': 15, 'monthlycharges': 19.65},\n",
       " {'contract': 'month-to-month', 'tenure': 17, 'monthlycharges': 75.4},\n",
       " {'contract': 'two_year', 'tenure': 72, 'monthlycharges': 113.1},\n",
       " {'contract': 'month-to-month', 'tenure': 7, 'monthlycharges': 95.35},\n",
       " {'contract': 'month-to-month', 'tenure': 2, 'monthlycharges': 55.05},\n",
       " {'contract': 'two_year', 'tenure': 56, 'monthlycharges': 75.85},\n",
       " {'contract': 'month-to-month', 'tenure': 6, 'monthlycharges': 19.7},\n",
       " {'contract': 'two_year', 'tenure': 64, 'monthlycharges': 69.25},\n",
       " {'contract': 'month-to-month', 'tenure': 17, 'monthlycharges': 81.5},\n",
       " {'contract': 'month-to-month', 'tenure': 1, 'monthlycharges': 19.65},\n",
       " {'contract': 'month-to-month', 'tenure': 51, 'monthlycharges': 83.4},\n",
       " {'contract': 'two_year', 'tenure': 72, 'monthlycharges': 109.65},\n",
       " {'contract': 'one_year', 'tenure': 11, 'monthlycharges': 53.8},\n",
       " {'contract': 'two_year', 'tenure': 72, 'monthlycharges': 106.1},\n",
       " {'contract': 'month-to-month', 'tenure': 37, 'monthlycharges': 19.35},\n",
       " {'contract': 'month-to-month', 'tenure': 35, 'monthlycharges': 70.3},\n",
       " {'contract': 'month-to-month', 'tenure': 66, 'monthlycharges': 99.5},\n",
       " {'contract': 'month-to-month', 'tenure': 15, 'monthlycharges': 101.75},\n",
       " {'contract': 'month-to-month', 'tenure': 7, 'monthlycharges': 100.4},\n",
       " {'contract': 'month-to-month', 'tenure': 49, 'monthlycharges': 100.85},\n",
       " {'contract': 'month-to-month', 'tenure': 2, 'monthlycharges': 70.65},\n",
       " {'contract': 'one_year', 'tenure': 17, 'monthlycharges': 20.65},\n",
       " {'contract': 'month-to-month', 'tenure': 28, 'monthlycharges': 94.5},\n",
       " {'contract': 'one_year', 'tenure': 41, 'monthlycharges': 24.85},\n",
       " {'contract': 'month-to-month', 'tenure': 24, 'monthlycharges': 104.65},\n",
       " {'contract': 'two_year', 'tenure': 69, 'monthlycharges': 79.2},\n",
       " {'contract': 'one_year', 'tenure': 35, 'monthlycharges': 102.35},\n",
       " {'contract': 'one_year', 'tenure': 44, 'monthlycharges': 20.5},\n",
       " {'contract': 'month-to-month', 'tenure': 32, 'monthlycharges': 96.2},\n",
       " {'contract': 'two_year', 'tenure': 72, 'monthlycharges': 90.8},\n",
       " {'contract': 'month-to-month', 'tenure': 1, 'monthlycharges': 74.0},\n",
       " {'contract': 'one_year', 'tenure': 18, 'monthlycharges': 20.35},\n",
       " {'contract': 'one_year', 'tenure': 58, 'monthlycharges': 89.85},\n",
       " {'contract': 'month-to-month', 'tenure': 15, 'monthlycharges': 19.75},\n",
       " {'contract': 'two_year', 'tenure': 72, 'monthlycharges': 84.4},\n",
       " {'contract': 'two_year', 'tenure': 70, 'monthlycharges': 84.8},\n",
       " {'contract': 'month-to-month', 'tenure': 1, 'monthlycharges': 19.55},\n",
       " {'contract': 'one_year', 'tenure': 23, 'monthlycharges': 24.8},\n",
       " {'contract': 'month-to-month', 'tenure': 6, 'monthlycharges': 94.5},\n",
       " {'contract': 'month-to-month', 'tenure': 28, 'monthlycharges': 85.45},\n",
       " {'contract': 'two_year', 'tenure': 54, 'monthlycharges': 79.95},\n",
       " {'contract': 'two_year', 'tenure': 71, 'monthlycharges': 54.5},\n",
       " {'contract': 'one_year', 'tenure': 39, 'monthlycharges': 45.05},\n",
       " {'contract': 'one_year', 'tenure': 67, 'monthlycharges': 111.3},\n",
       " {'contract': 'month-to-month', 'tenure': 10, 'monthlycharges': 24.4},\n",
       " {'contract': 'month-to-month', 'tenure': 1, 'monthlycharges': 71.55},\n",
       " {'contract': 'two_year', 'tenure': 45, 'monthlycharges': 95.2},\n",
       " {'contract': 'two_year', 'tenure': 48, 'monthlycharges': 20.0},\n",
       " {'contract': 'month-to-month', 'tenure': 12, 'monthlycharges': 94.55},\n",
       " {'contract': 'one_year', 'tenure': 28, 'monthlycharges': 50.8},\n",
       " {'contract': 'two_year', 'tenure': 6, 'monthlycharges': 20.4},\n",
       " {'contract': 'one_year', 'tenure': 43, 'monthlycharges': 56.35},\n",
       " {'contract': 'month-to-month', 'tenure': 33, 'monthlycharges': 105.35},\n",
       " {'contract': 'month-to-month', 'tenure': 1, 'monthlycharges': 20.2},\n",
       " {'contract': 'month-to-month', 'tenure': 27, 'monthlycharges': 36.5},\n",
       " {'contract': 'month-to-month', 'tenure': 9, 'monthlycharges': 88.05},\n",
       " {'contract': 'one_year', 'tenure': 36, 'monthlycharges': 70.7},\n",
       " {'contract': 'two_year', 'tenure': 52, 'monthlycharges': 91.6},\n",
       " {'contract': 'month-to-month', 'tenure': 7, 'monthlycharges': 66.85},\n",
       " {'contract': 'month-to-month', 'tenure': 27, 'monthlycharges': 81.3},\n",
       " {'contract': 'month-to-month', 'tenure': 10, 'monthlycharges': 55.55},\n",
       " {'contract': 'month-to-month', 'tenure': 11, 'monthlycharges': 51.1},\n",
       " {'contract': 'two_year', 'tenure': 71, 'monthlycharges': 25.45},\n",
       " {'contract': 'one_year', 'tenure': 48, 'monthlycharges': 99.0},\n",
       " {'contract': 'month-to-month', 'tenure': 4, 'monthlycharges': 19.0},\n",
       " {'contract': 'month-to-month', 'tenure': 57, 'monthlycharges': 55.0},\n",
       " {'contract': 'month-to-month', 'tenure': 1, 'monthlycharges': 20.4},\n",
       " {'contract': 'two_year', 'tenure': 49, 'monthlycharges': 20.15},\n",
       " {'contract': 'month-to-month', 'tenure': 35, 'monthlycharges': 59.45},\n",
       " {'contract': 'two_year', 'tenure': 8, 'monthlycharges': 19.7},\n",
       " {'contract': 'month-to-month', 'tenure': 2, 'monthlycharges': 20.35},\n",
       " {'contract': 'month-to-month', 'tenure': 6, 'monthlycharges': 19.85},\n",
       " {'contract': 'one_year', 'tenure': 63, 'monthlycharges': 70.8},\n",
       " {'contract': 'two_year', 'tenure': 67, 'monthlycharges': 103.15},\n",
       " {'contract': 'two_year', 'tenure': 47, 'monthlycharges': 65.0},\n",
       " {'contract': 'two_year', 'tenure': 37, 'monthlycharges': 62.8},\n",
       " {'contract': 'two_year', 'tenure': 69, 'monthlycharges': 20.3},\n",
       " {'contract': 'two_year', 'tenure': 72, 'monthlycharges': 109.75},\n",
       " {'contract': 'one_year', 'tenure': 15, 'monthlycharges': 101.9},\n",
       " {'contract': 'month-to-month', 'tenure': 33, 'monthlycharges': 91.25},\n",
       " {'contract': 'two_year', 'tenure': 67, 'monthlycharges': 92.45},\n",
       " {'contract': 'month-to-month', 'tenure': 17, 'monthlycharges': 80.5},\n",
       " {'contract': 'month-to-month', 'tenure': 15, 'monthlycharges': 76.5},\n",
       " {'contract': 'two_year', 'tenure': 54, 'monthlycharges': 19.65},\n",
       " {'contract': 'two_year', 'tenure': 67, 'monthlycharges': 111.2},\n",
       " {'contract': 'month-to-month', 'tenure': 6, 'monthlycharges': 89.5},\n",
       " {'contract': 'month-to-month', 'tenure': 9, 'monthlycharges': 84.45},\n",
       " {'contract': 'month-to-month', 'tenure': 2, 'monthlycharges': 49.95},\n",
       " {'contract': 'month-to-month', 'tenure': 17, 'monthlycharges': 70.8},\n",
       " {'contract': 'one_year', 'tenure': 48, 'monthlycharges': 78.75},\n",
       " {'contract': 'month-to-month', 'tenure': 6, 'monthlycharges': 69.8},\n",
       " {'contract': 'one_year', 'tenure': 10, 'monthlycharges': 20.1},\n",
       " {'contract': 'two_year', 'tenure': 72, 'monthlycharges': 67.8},\n",
       " {'contract': 'one_year', 'tenure': 56, 'monthlycharges': 24.3},\n",
       " {'contract': 'two_year', 'tenure': 30, 'monthlycharges': 19.4},\n",
       " {'contract': 'two_year', 'tenure': 43, 'monthlycharges': 115.05},\n",
       " {'contract': 'month-to-month', 'tenure': 50, 'monthlycharges': 70.35},\n",
       " {'contract': 'two_year', 'tenure': 47, 'monthlycharges': 21.3},\n",
       " {'contract': 'one_year', 'tenure': 33, 'monthlycharges': 58.45},\n",
       " {'contract': 'month-to-month', 'tenure': 28, 'monthlycharges': 91.0},\n",
       " {'contract': 'month-to-month', 'tenure': 1, 'monthlycharges': 70.45},\n",
       " {'contract': 'month-to-month', 'tenure': 5, 'monthlycharges': 78.75},\n",
       " {'contract': 'one_year', 'tenure': 63, 'monthlycharges': 90.45},\n",
       " {'contract': 'month-to-month', 'tenure': 1, 'monthlycharges': 69.1},\n",
       " {'contract': 'month-to-month', 'tenure': 31, 'monthlycharges': 54.35},\n",
       " {'contract': 'month-to-month', 'tenure': 21, 'monthlycharges': 86.05},\n",
       " {'contract': 'month-to-month', 'tenure': 29, 'monthlycharges': 67.45},\n",
       " {'contract': 'month-to-month', 'tenure': 27, 'monthlycharges': 104.3},\n",
       " {'contract': 'one_year', 'tenure': 41, 'monthlycharges': 51.35},\n",
       " {'contract': 'two_year', 'tenure': 65, 'monthlycharges': 108.65},\n",
       " {'contract': 'month-to-month', 'tenure': 6, 'monthlycharges': 20.0},\n",
       " {'contract': 'month-to-month', 'tenure': 53, 'monthlycharges': 108.25},\n",
       " {'contract': 'month-to-month', 'tenure': 1, 'monthlycharges': 20.05},\n",
       " {'contract': 'month-to-month', 'tenure': 8, 'monthlycharges': 73.5},\n",
       " {'contract': 'two_year', 'tenure': 60, 'monthlycharges': 19.65},\n",
       " {'contract': 'month-to-month', 'tenure': 1, 'monthlycharges': 89.9},\n",
       " {'contract': 'month-to-month', 'tenure': 1, 'monthlycharges': 90.55},\n",
       " {'contract': 'two_year', 'tenure': 63, 'monthlycharges': 63.55},\n",
       " {'contract': 'month-to-month', 'tenure': 2, 'monthlycharges': 78.55},\n",
       " {'contract': 'two_year', 'tenure': 71, 'monthlycharges': 100.5},\n",
       " {'contract': 'one_year', 'tenure': 31, 'monthlycharges': 64.0},\n",
       " {'contract': 'one_year', 'tenure': 22, 'monthlycharges': 19.6},\n",
       " {'contract': 'month-to-month', 'tenure': 63, 'monthlycharges': 105.4},\n",
       " {'contract': 'two_year', 'tenure': 72, 'monthlycharges': 115.75},\n",
       " {'contract': 'two_year', 'tenure': 66, 'monthlycharges': 80.55},\n",
       " {'contract': 'month-to-month', 'tenure': 3, 'monthlycharges': 50.5},\n",
       " {'contract': 'month-to-month', 'tenure': 15, 'monthlycharges': 51.55},\n",
       " {'contract': 'month-to-month', 'tenure': 2, 'monthlycharges': 53.85},\n",
       " {'contract': 'month-to-month', 'tenure': 7, 'monthlycharges': 76.45},\n",
       " {'contract': 'month-to-month', 'tenure': 2, 'monthlycharges': 20.65},\n",
       " {'contract': 'two_year', 'tenure': 72, 'monthlycharges': 84.5},\n",
       " {'contract': 'month-to-month', 'tenure': 6, 'monthlycharges': 56.25},\n",
       " {'contract': 'month-to-month', 'tenure': 10, 'monthlycharges': 95.2},\n",
       " {'contract': 'two_year', 'tenure': 71, 'monthlycharges': 90.3},\n",
       " {'contract': 'two_year', 'tenure': 69, 'monthlycharges': 19.95},\n",
       " {'contract': 'month-to-month', 'tenure': 24, 'monthlycharges': 70.0},\n",
       " {'contract': 'month-to-month', 'tenure': 9, 'monthlycharges': 19.05},\n",
       " {'contract': 'month-to-month', 'tenure': 7, 'monthlycharges': 89.15},\n",
       " {'contract': 'two_year', 'tenure': 72, 'monthlycharges': 88.05},\n",
       " {'contract': 'month-to-month', 'tenure': 68, 'monthlycharges': 44.95},\n",
       " {'contract': 'two_year', 'tenure': 72, 'monthlycharges': 90.15},\n",
       " {'contract': 'month-to-month', 'tenure': 1, 'monthlycharges': 20.3},\n",
       " {'contract': 'month-to-month', 'tenure': 40, 'monthlycharges': 96.35},\n",
       " {'contract': 'month-to-month', 'tenure': 16, 'monthlycharges': 90.8},\n",
       " {'contract': 'month-to-month', 'tenure': 2, 'monthlycharges': 44.45},\n",
       " {'contract': 'month-to-month', 'tenure': 6, 'monthlycharges': 93.55},\n",
       " {'contract': 'two_year', 'tenure': 20, 'monthlycharges': 20.05},\n",
       " {'contract': 'two_year', 'tenure': 36, 'monthlycharges': 53.1},\n",
       " {'contract': 'month-to-month', 'tenure': 3, 'monthlycharges': 20.0},\n",
       " {'contract': 'one_year', 'tenure': 50, 'monthlycharges': 100.65},\n",
       " {'contract': 'month-to-month', 'tenure': 30, 'monthlycharges': 48.8},\n",
       " {'contract': 'month-to-month', 'tenure': 39, 'monthlycharges': 103.45},\n",
       " {'contract': 'month-to-month', 'tenure': 42, 'monthlycharges': 74.15},\n",
       " {'contract': 'month-to-month', 'tenure': 6, 'monthlycharges': 90.75},\n",
       " {'contract': 'month-to-month', 'tenure': 2, 'monthlycharges': 20.45},\n",
       " {'contract': 'month-to-month', 'tenure': 35, 'monthlycharges': 89.65},\n",
       " {'contract': 'one_year', 'tenure': 22, 'monthlycharges': 20.25},\n",
       " {'contract': 'month-to-month', 'tenure': 15, 'monthlycharges': 20.45},\n",
       " {'contract': 'month-to-month', 'tenure': 8, 'monthlycharges': 55.75},\n",
       " {'contract': 'two_year', 'tenure': 72, 'monthlycharges': 89.55},\n",
       " {'contract': 'two_year', 'tenure': 27, 'monthlycharges': 19.6},\n",
       " {'contract': 'one_year', 'tenure': 70, 'monthlycharges': 60.35},\n",
       " {'contract': 'month-to-month', 'tenure': 16, 'monthlycharges': 74.3},\n",
       " {'contract': 'two_year', 'tenure': 71, 'monthlycharges': 105.25},\n",
       " {'contract': 'one_year', 'tenure': 65, 'monthlycharges': 89.85},\n",
       " {'contract': 'month-to-month', 'tenure': 1, 'monthlycharges': 74.35},\n",
       " {'contract': 'month-to-month', 'tenure': 1, 'monthlycharges': 54.75},\n",
       " {'contract': 'two_year', 'tenure': 23, 'monthlycharges': 40.1},\n",
       " {'contract': 'month-to-month', 'tenure': 13, 'monthlycharges': 18.8},\n",
       " {'contract': 'month-to-month', 'tenure': 11, 'monthlycharges': 64.05},\n",
       " {'contract': 'one_year', 'tenure': 32, 'monthlycharges': 19.75},\n",
       " {'contract': 'one_year', 'tenure': 53, 'monthlycharges': 94.25},\n",
       " {'contract': 'month-to-month', 'tenure': 3, 'monthlycharges': 50.65},\n",
       " {'contract': 'month-to-month', 'tenure': 33, 'monthlycharges': 90.65},\n",
       " {'contract': 'month-to-month', 'tenure': 49, 'monthlycharges': 96.2},\n",
       " {'contract': 'two_year', 'tenure': 23, 'monthlycharges': 20.9},\n",
       " {'contract': 'one_year', 'tenure': 38, 'monthlycharges': 110.7},\n",
       " {'contract': 'two_year', 'tenure': 67, 'monthlycharges': 43.9},\n",
       " {'contract': 'one_year', 'tenure': 54, 'monthlycharges': 105.4},\n",
       " {'contract': 'one_year', 'tenure': 50, 'monthlycharges': 106.8},\n",
       " {'contract': 'two_year', 'tenure': 64, 'monthlycharges': 110.5},\n",
       " {'contract': 'two_year', 'tenure': 6, 'monthlycharges': 19.55},\n",
       " {'contract': 'one_year', 'tenure': 58, 'monthlycharges': 61.05},\n",
       " {'contract': 'one_year', 'tenure': 26, 'monthlycharges': 54.55},\n",
       " {'contract': 'two_year', 'tenure': 48, 'monthlycharges': 24.0},\n",
       " {'contract': 'month-to-month', 'tenure': 24, 'monthlycharges': 85.95},\n",
       " {'contract': 'month-to-month', 'tenure': 47, 'monthlycharges': 70.55},\n",
       " {'contract': 'one_year', 'tenure': 44, 'monthlycharges': 109.8},\n",
       " {'contract': 'month-to-month', 'tenure': 22, 'monthlycharges': 80.0},\n",
       " {'contract': 'one_year', 'tenure': 23, 'monthlycharges': 19.65},\n",
       " {'contract': 'one_year', 'tenure': 68, 'monthlycharges': 73.0},\n",
       " {'contract': 'month-to-month', 'tenure': 13, 'monthlycharges': 66.4},\n",
       " {'contract': 'two_year', 'tenure': 53, 'monthlycharges': 19.4},\n",
       " {'contract': 'month-to-month', 'tenure': 1, 'monthlycharges': 45.1},\n",
       " {'contract': 'month-to-month', 'tenure': 1, 'monthlycharges': 35.9},\n",
       " {'contract': 'one_year', 'tenure': 66, 'monthlycharges': 74.25},\n",
       " {'contract': 'two_year', 'tenure': 70, 'monthlycharges': 86.45},\n",
       " {'contract': 'month-to-month', 'tenure': 47, 'monthlycharges': 99.35},\n",
       " {'contract': 'two_year', 'tenure': 65, 'monthlycharges': 59.8},\n",
       " {'contract': 'two_year', 'tenure': 36, 'monthlycharges': 19.45},\n",
       " {'contract': 'two_year', 'tenure': 68, 'monthlycharges': 19.95},\n",
       " {'contract': 'two_year', 'tenure': 70, 'monthlycharges': 19.55},\n",
       " {'contract': 'month-to-month', 'tenure': 2, 'monthlycharges': 44.3},\n",
       " {'contract': 'one_year', 'tenure': 69, 'monthlycharges': 110.55},\n",
       " {'contract': 'month-to-month', 'tenure': 34, 'monthlycharges': 70.0},\n",
       " {'contract': 'one_year', 'tenure': 14, 'monthlycharges': 51.45},\n",
       " {'contract': 'month-to-month', 'tenure': 28, 'monthlycharges': 81.05},\n",
       " {'contract': 'two_year', 'tenure': 67, 'monthlycharges': 19.65},\n",
       " {'contract': 'month-to-month', 'tenure': 5, 'monthlycharges': 96.55},\n",
       " {'contract': 'month-to-month', 'tenure': 2, 'monthlycharges': 50.95},\n",
       " {'contract': 'month-to-month', 'tenure': 41, 'monthlycharges': 83.75},\n",
       " {'contract': 'two_year', 'tenure': 69, 'monthlycharges': 59.75},\n",
       " {'contract': 'two_year', 'tenure': 64, 'monthlycharges': 24.05},\n",
       " {'contract': 'two_year', 'tenure': 33, 'monthlycharges': 24.5},\n",
       " {'contract': 'two_year', 'tenure': 67, 'monthlycharges': 108.75},\n",
       " {'contract': 'one_year', 'tenure': 53, 'monthlycharges': 20.8},\n",
       " {'contract': 'one_year', 'tenure': 48, 'monthlycharges': 83.45},\n",
       " {'contract': 'month-to-month', 'tenure': 14, 'monthlycharges': 70.2},\n",
       " {'contract': 'two_year', 'tenure': 46, 'monthlycharges': 54.35},\n",
       " {'contract': 'month-to-month', 'tenure': 49, 'monthlycharges': 52.15},\n",
       " {'contract': 'month-to-month', 'tenure': 2, 'monthlycharges': 100.2},\n",
       " {'contract': 'two_year', 'tenure': 19, 'monthlycharges': 20.5},\n",
       " {'contract': 'month-to-month', 'tenure': 1, 'monthlycharges': 25.2},\n",
       " {'contract': 'two_year', 'tenure': 72, 'monthlycharges': 84.45},\n",
       " {'contract': 'two_year', 'tenure': 72, 'monthlycharges': 84.45},\n",
       " {'contract': 'month-to-month', 'tenure': 5, 'monthlycharges': 85.4},\n",
       " {'contract': 'month-to-month', 'tenure': 29, 'monthlycharges': 98.6},\n",
       " {'contract': 'two_year', 'tenure': 46, 'monthlycharges': 108.65},\n",
       " {'contract': 'month-to-month', 'tenure': 10, 'monthlycharges': 36.25},\n",
       " {'contract': 'one_year', 'tenure': 66, 'monthlycharges': 89.0},\n",
       " {'contract': 'one_year', 'tenure': 34, 'monthlycharges': 77.2},\n",
       " {'contract': 'month-to-month', 'tenure': 1, 'monthlycharges': 45.95},\n",
       " {'contract': 'month-to-month', 'tenure': 5, 'monthlycharges': 89.8},\n",
       " {'contract': 'two_year', 'tenure': 66, 'monthlycharges': 65.7},\n",
       " {'contract': 'two_year', 'tenure': 46, 'monthlycharges': 19.95},\n",
       " {'contract': 'month-to-month', 'tenure': 1, 'monthlycharges': 19.75},\n",
       " {'contract': 'month-to-month', 'tenure': 18, 'monthlycharges': 85.45},\n",
       " {'contract': 'month-to-month', 'tenure': 9, 'monthlycharges': 55.3},\n",
       " {'contract': 'one_year', 'tenure': 34, 'monthlycharges': 64.4},\n",
       " {'contract': 'two_year', 'tenure': 72, 'monthlycharges': 89.05},\n",
       " {'contract': 'month-to-month', 'tenure': 37, 'monthlycharges': 20.35},\n",
       " {'contract': 'one_year', 'tenure': 38, 'monthlycharges': 20.1},\n",
       " {'contract': 'two_year', 'tenure': 68, 'monthlycharges': 110.2},\n",
       " {'contract': 'two_year', 'tenure': 71, 'monthlycharges': 82.0},\n",
       " {'contract': 'two_year', 'tenure': 72, 'monthlycharges': 85.15},\n",
       " {'contract': 'month-to-month', 'tenure': 49, 'monthlycharges': 95.6},\n",
       " {'contract': 'one_year', 'tenure': 65, 'monthlycharges': 100.75},\n",
       " ...]"
      ]
     },
     "execution_count": 142,
     "metadata": {},
     "output_type": "execute_result"
    }
   ],
   "source": [
    "dicts_train_small"
   ]
  },
  {
   "cell_type": "code",
   "execution_count": 143,
   "id": "b84afc87",
   "metadata": {},
   "outputs": [],
   "source": [
    "X_train_small = dv_small.transform(dicts_train_small)"
   ]
  },
  {
   "cell_type": "code",
   "execution_count": 144,
   "id": "5104c677",
   "metadata": {},
   "outputs": [
    {
     "data": {
      "text/plain": [
       "LogisticRegression()"
      ]
     },
     "execution_count": 144,
     "metadata": {},
     "output_type": "execute_result"
    }
   ],
   "source": [
    "model_small = LogisticRegression()\n",
    "model_small.fit(X_train_small, y_train)"
   ]
  },
  {
   "cell_type": "code",
   "execution_count": 145,
   "id": "4e0dbe4b",
   "metadata": {},
   "outputs": [
    {
     "data": {
      "text/plain": [
       "-2.476775658711709"
      ]
     },
     "execution_count": 145,
     "metadata": {},
     "output_type": "execute_result"
    }
   ],
   "source": [
    "w0 = model_small.intercept_[0]\n",
    "w0"
   ]
  },
  {
   "cell_type": "code",
   "execution_count": 146,
   "id": "a10c0867",
   "metadata": {},
   "outputs": [
    {
     "data": {
      "text/plain": [
       "array([ 0.97 , -0.025, -0.949,  0.027, -0.036])"
      ]
     },
     "execution_count": 146,
     "metadata": {},
     "output_type": "execute_result"
    }
   ],
   "source": [
    "w = model_small.coef_[0]\n",
    "w.round(3)"
   ]
  },
  {
   "cell_type": "code",
   "execution_count": 147,
   "id": "9e59945a",
   "metadata": {},
   "outputs": [
    {
     "data": {
      "text/plain": [
       "{'contract=month-to-month': 0.97,\n",
       " 'contract=one_year': -0.025,\n",
       " 'contract=two_year': -0.949,\n",
       " 'dependents=no': 0.027,\n",
       " 'dependents=yes': -0.036}"
      ]
     },
     "execution_count": 147,
     "metadata": {},
     "output_type": "execute_result"
    }
   ],
   "source": [
    "dict(zip(dv.get_feature_names_out() , w.round(3)))"
   ]
  },
  {
   "cell_type": "code",
   "execution_count": 148,
   "id": "44d9c8c4",
   "metadata": {},
   "outputs": [
    {
     "data": {
      "text/plain": [
       "0.08399999999999966"
      ]
     },
     "execution_count": 148,
     "metadata": {},
     "output_type": "execute_result"
    }
   ],
   "source": [
    "-2.47 +0.97+(60*0.027) +  1*(-0.036)"
   ]
  },
  {
   "cell_type": "code",
   "execution_count": 149,
   "id": "acfde3f4",
   "metadata": {},
   "outputs": [
    {
     "data": {
      "text/plain": [
       "0.5209876607065322"
      ]
     },
     "execution_count": 149,
     "metadata": {},
     "output_type": "execute_result"
    }
   ],
   "source": [
    "## _ means last output\n",
    "\n",
    "sigmoid(_)"
   ]
  },
  {
   "cell_type": "markdown",
   "id": "2de78918",
   "metadata": {},
   "source": [
    "# 3.12 Using the model"
   ]
  },
  {
   "cell_type": "code",
   "execution_count": 150,
   "id": "04adec68",
   "metadata": {},
   "outputs": [],
   "source": [
    "dicts_full_train = df_full_train[categorical + numerical].to_dict(orient = 'records')"
   ]
  },
  {
   "cell_type": "code",
   "execution_count": 153,
   "id": "83f8e113",
   "metadata": {},
   "outputs": [],
   "source": [
    "dv = DictVectorizer(sparse = False)\n",
    "X_full_train = dv.fit_transform(dicts_full_train)"
   ]
  },
  {
   "cell_type": "code",
   "execution_count": 155,
   "id": "24725904",
   "metadata": {},
   "outputs": [],
   "source": [
    "y_full_train = df_full_train.churn.values"
   ]
  },
  {
   "cell_type": "code",
   "execution_count": 156,
   "id": "ed665321",
   "metadata": {},
   "outputs": [
    {
     "data": {
      "text/plain": [
       "LogisticRegression()"
      ]
     },
     "execution_count": 156,
     "metadata": {},
     "output_type": "execute_result"
    }
   ],
   "source": [
    "model = LogisticRegression()\n",
    "model.fit(X_full_train, y_full_train)"
   ]
  },
  {
   "cell_type": "code",
   "execution_count": 158,
   "id": "cc26adc9",
   "metadata": {},
   "outputs": [],
   "source": [
    "dicts_test= df_test[categorical + numerical].to_dict(orient = 'records')"
   ]
  },
  {
   "cell_type": "code",
   "execution_count": 159,
   "id": "164c5504",
   "metadata": {},
   "outputs": [],
   "source": [
    "X_test= dv.transform(dicts_test)"
   ]
  },
  {
   "cell_type": "code",
   "execution_count": 160,
   "id": "a59ee4df",
   "metadata": {},
   "outputs": [],
   "source": [
    "y_pred = model.predict_proba(X_test)[:,1]"
   ]
  },
  {
   "cell_type": "code",
   "execution_count": 161,
   "id": "1ea60883",
   "metadata": {},
   "outputs": [],
   "source": [
    "churn_decision = (y_pred >= 0.5)"
   ]
  },
  {
   "cell_type": "code",
   "execution_count": 162,
   "id": "256950cc",
   "metadata": {},
   "outputs": [
    {
     "data": {
      "text/plain": [
       "0.815471965933286"
      ]
     },
     "execution_count": 162,
     "metadata": {},
     "output_type": "execute_result"
    }
   ],
   "source": [
    "(churn_decision == y_test).mean()"
   ]
  },
  {
   "cell_type": "code",
   "execution_count": 163,
   "id": "1b3a4381",
   "metadata": {
    "scrolled": true
   },
   "outputs": [
    {
     "data": {
      "text/plain": [
       "{'gender': 'male',\n",
       " 'seniorcitizen': 1,\n",
       " 'partner': 'yes',\n",
       " 'dependents': 'yes',\n",
       " 'phoneservice': 'yes',\n",
       " 'multiplelines': 'no',\n",
       " 'internetservice': 'fiber_optic',\n",
       " 'onlinesecurity': 'no',\n",
       " 'onlinebackup': 'yes',\n",
       " 'deviceprotection': 'no',\n",
       " 'techsupport': 'no',\n",
       " 'streamingtv': 'yes',\n",
       " 'streamingmovies': 'yes',\n",
       " 'contract': 'month-to-month',\n",
       " 'paperlessbilling': 'yes',\n",
       " 'paymentmethod': 'mailed_check',\n",
       " 'tenure': 32,\n",
       " 'monthlycharges': 93.95,\n",
       " 'totalcharges': 2861.45}"
      ]
     },
     "execution_count": 163,
     "metadata": {},
     "output_type": "execute_result"
    }
   ],
   "source": [
    "customer = dicts_test[10]\n",
    "customer"
   ]
  },
  {
   "cell_type": "code",
   "execution_count": 164,
   "id": "cabc1ca3",
   "metadata": {},
   "outputs": [],
   "source": [
    "X_small = dv.transform([customer])"
   ]
  },
  {
   "cell_type": "code",
   "execution_count": 165,
   "id": "9a810a90",
   "metadata": {},
   "outputs": [
    {
     "data": {
      "text/plain": [
       "(1, 45)"
      ]
     },
     "execution_count": 165,
     "metadata": {},
     "output_type": "execute_result"
    }
   ],
   "source": [
    "X_small.shape"
   ]
  },
  {
   "cell_type": "code",
   "execution_count": 167,
   "id": "0935eb05",
   "metadata": {},
   "outputs": [
    {
     "data": {
      "text/plain": [
       "0.40568109779885553"
      ]
     },
     "execution_count": 167,
     "metadata": {},
     "output_type": "execute_result"
    }
   ],
   "source": [
    "model.predict_proba(X_small)[0,1]"
   ]
  },
  {
   "cell_type": "code",
   "execution_count": 168,
   "id": "7d4b4726",
   "metadata": {},
   "outputs": [
    {
     "data": {
      "text/plain": [
       "0"
      ]
     },
     "execution_count": 168,
     "metadata": {},
     "output_type": "execute_result"
    }
   ],
   "source": [
    "y_test[10]"
   ]
  },
  {
   "cell_type": "code",
   "execution_count": 169,
   "id": "26692293",
   "metadata": {},
   "outputs": [
    {
     "data": {
      "text/plain": [
       "0.5968852088415657"
      ]
     },
     "execution_count": 169,
     "metadata": {},
     "output_type": "execute_result"
    }
   ],
   "source": [
    "## TRYING ANPTHER CUSTOMER\n",
    "\n",
    "customer = dicts_test[-1]\n",
    "\n",
    "X_small = dv.transform([customer])\n",
    "\n",
    "model.predict_proba(X_small)[0,1]"
   ]
  },
  {
   "cell_type": "code",
   "execution_count": 170,
   "id": "8fbfa848",
   "metadata": {},
   "outputs": [
    {
     "data": {
      "text/plain": [
       "1"
      ]
     },
     "execution_count": 170,
     "metadata": {},
     "output_type": "execute_result"
    }
   ],
   "source": [
    "y_test[-1]"
   ]
  },
  {
   "cell_type": "code",
   "execution_count": null,
   "id": "fea91645",
   "metadata": {},
   "outputs": [],
   "source": []
  }
 ],
 "metadata": {
  "kernelspec": {
   "display_name": "Python 3 (ipykernel)",
   "language": "python",
   "name": "python3"
  },
  "language_info": {
   "codemirror_mode": {
    "name": "ipython",
    "version": 3
   },
   "file_extension": ".py",
   "mimetype": "text/x-python",
   "name": "python",
   "nbconvert_exporter": "python",
   "pygments_lexer": "ipython3",
   "version": "3.8.12"
  }
 },
 "nbformat": 4,
 "nbformat_minor": 5
}
